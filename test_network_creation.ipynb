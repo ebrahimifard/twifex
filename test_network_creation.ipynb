{
 "cells": [
  {
   "cell_type": "code",
   "execution_count": 5,
   "id": "2a0bf160-8921-45b3-bb4d-e77935f5d8c2",
   "metadata": {},
   "outputs": [],
   "source": [
    "import networkx as nx\n",
    "from tqdm import tqdm\n",
    "from pprint import pprint\n",
    "import numpy as np\n",
    "import os\n",
    "import json\n",
    "import matplotlib.pyplot as plt\n",
    "import community"
   ]
  },
  {
   "cell_type": "code",
   "execution_count": 2,
   "id": "330fffc3-d519-4d66-a168-cbdbf7ac2741",
   "metadata": {},
   "outputs": [],
   "source": [
    "path = \"./tests/new_tweets/\""
   ]
  },
  {
   "cell_type": "code",
   "execution_count": 3,
   "id": "22618d22-23dc-4a74-830b-6e2d143cf53e",
   "metadata": {},
   "outputs": [],
   "source": [
    "files = [i for i in os.listdir(path) if os.path.isfile(path+i) and \".json\" in i]"
   ]
  },
  {
   "cell_type": "code",
   "execution_count": 4,
   "id": "4119436f-88a7-412c-9817-8a3830f830ad",
   "metadata": {},
   "outputs": [
    {
     "name": "stderr",
     "output_type": "stream",
     "text": [
      "100%|█████████████████████████████████████████████████████████████████████████████| 1686/1686 [00:03<00:00, 458.40it/s]\n"
     ]
    }
   ],
   "source": [
    "with_replies = []\n",
    "for file in tqdm(files):\n",
    "    \n",
    "    tweet = json.load(open(path+file))\n",
    "    if tweet[\"in_reply_to_status_id\"] != None:\n",
    "        with_replies.append(file)"
   ]
  },
  {
   "cell_type": "code",
   "execution_count": 22,
   "id": "516cdf10-59fa-4657-9d1d-74b88363f3ef",
   "metadata": {},
   "outputs": [],
   "source": [
    "# pprint(json.load(open(path+'1430024152518430720.json')))"
   ]
  },
  {
   "cell_type": "code",
   "execution_count": 23,
   "id": "ab195040-87e0-41c6-b6dc-835420ece9d9",
   "metadata": {},
   "outputs": [
    {
     "data": {
      "text/plain": [
       "899"
      ]
     },
     "execution_count": 23,
     "metadata": {},
     "output_type": "execute_result"
    }
   ],
   "source": [
    "len(with_replies)"
   ]
  },
  {
   "cell_type": "code",
   "execution_count": 24,
   "id": "4512ea83-1b8c-4413-8723-0fa6aaa40f9a",
   "metadata": {},
   "outputs": [],
   "source": [
    "# pprint(json.load(open(path+files[0])))"
   ]
  },
  {
   "cell_type": "code",
   "execution_count": null,
   "id": "e6a9c30c-73f7-4667-b45c-1b054ad48557",
   "metadata": {},
   "outputs": [],
   "source": []
  },
  {
   "cell_type": "code",
   "execution_count": 36,
   "id": "2e63ef13-cbfc-4408-8efc-f6c099f08127",
   "metadata": {},
   "outputs": [],
   "source": [
    "network = nx.DiGraph()"
   ]
  },
  {
   "cell_type": "code",
   "execution_count": 37,
   "id": "f0380a1e-53a3-48a3-af1d-4b483e4f1abe",
   "metadata": {},
   "outputs": [],
   "source": [
    "lst = [i for i in range(1,21)]"
   ]
  },
  {
   "cell_type": "code",
   "execution_count": 48,
   "id": "2a4864ef-2294-4441-8352-711f180a370d",
   "metadata": {},
   "outputs": [],
   "source": [
    "network.add_edge(1, 2, kind=\"reply\")\n",
    "network.add_edge(2, 3, kind=\"reply\")\n",
    "network.add_edge(4, 3, kind=\"reply\")\n",
    "network.add_edge(5, 6, kind=\"reply\")\n",
    "network.add_edge(3, 5, kind=\"reply\")\n",
    "network.add_edge(7, 8, kind=\"reply\")\n",
    "network.add_edge(9, 10, kind=\"reply\")\n",
    "network.add_edge(4, 9, kind=\"reply\")\n",
    "network.add_edge(3, 7, kind=\"reply\")\n",
    "network.add_edge(8, 3, kind=\"reply\")\n",
    "network.add_edge(4, 7, kind=\"reply\")\n",
    "network.add_node(11)\n",
    "network.add_node(12)\n",
    "network.add_node(13)\n",
    "network.add_node(14)\n",
    "network.add_node(3)\n",
    "network.add_node(1)\n",
    "network.add_node(7)\n",
    "network.add_node(5)\n",
    "network.add_node(2)"
   ]
  },
  {
   "cell_type": "code",
   "execution_count": null,
   "id": "47c1b5ee-7392-407d-b1c1-01395beec07c",
   "metadata": {},
   "outputs": [],
   "source": []
  },
  {
   "cell_type": "code",
   "execution_count": 49,
   "id": "48ca9630-923f-4075-8b49-ae9b7828df9c",
   "metadata": {},
   "outputs": [
    {
     "data": {
      "image/png": "[encoded data removed]",
      "text/plain": [
       "<Figure size 432x288 with 1 Axes>"
      ]
     },
     "metadata": {},
     "output_type": "display_data"
    }
   ],
   "source": [
    "nx.draw_circular(network, with_labels=True, font_weight='bold')"
   ]
  },
  {
   "cell_type": "code",
   "execution_count": 59,
   "id": "b273bd07-0481-4940-b8f4-595b0852523e",
   "metadata": {},
   "outputs": [],
   "source": [
    "partition = community.best_partition(network.to_undirected())\n",
    "for node_id in partition:\n",
    "    network.nodes[node_id][\"community\"] = partition[node_id]"
   ]
  },
  {
   "cell_type": "code",
   "execution_count": 60,
   "id": "0c7c432c-5124-4f00-83bc-6dd32a22527a",
   "metadata": {},
   "outputs": [
    {
     "data": {
      "text/plain": [
       "{1: 1,\n",
       " 2: 1,\n",
       " 3: 7,\n",
       " 4: 7,\n",
       " 5: 4,\n",
       " 6: 4,\n",
       " 7: 7,\n",
       " 8: 7,\n",
       " 9: 0,\n",
       " 10: 0,\n",
       " 11: 2,\n",
       " 12: 3,\n",
       " 13: 5,\n",
       " 14: 6}"
      ]
     },
     "execution_count": 60,
     "metadata": {},
     "output_type": "execute_result"
    }
   ],
   "source": [
    "partition"
   ]
  },
  {
   "cell_type": "code",
   "execution_count": 62,
   "id": "1820a760-513c-4c4e-aafa-917bf9897fb6",
   "metadata": {},
   "outputs": [
    {
     "data": {
      "text/plain": [
       "{'community': 0}"
      ]
     },
     "execution_count": 62,
     "metadata": {},
     "output_type": "execute_result"
    }
   ],
   "source": [
    "network.nodes[10]"
   ]
  },
  {
   "cell_type": "code",
   "execution_count": null,
   "id": "249937a8-1c79-44d7-addb-0a50d4185c1c",
   "metadata": {},
   "outputs": [],
   "source": []
  }
 ],
 "metadata": {
  "kernelspec": {
   "display_name": "Python 3 (ipykernel)",
   "language": "python",
   "name": "python3"
  },
  "language_info": {
   "codemirror_mode": {
    "name": "ipython",
    "version": 3
   },
   "file_extension": ".py",
   "mimetype": "text/x-python",
   "name": "python",
   "nbconvert_exporter": "python",
   "pygments_lexer": "ipython3",
   "version": "3.9.7"
  }
 },
 "nbformat": 4,
 "nbformat_minor": 5
}
