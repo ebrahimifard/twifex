{
 "cells": [
  {
   "cell_type": "code",
   "execution_count": 6,
   "id": "2a0bf160-8921-45b3-bb4d-e77935f5d8c2",
   "metadata": {},
   "outputs": [],
   "source": [
    "import networkx as nx\n",
    "from tqdm import tqdm\n",
    "from pprint import pprint\n",
    "import numpy as np\n",
    "import os\n",
    "import json\n",
    "import matplotlib.pyplot as plt\n",
    "import community"
   ]
  },
  {
   "cell_type": "code",
   "execution_count": 7,
   "id": "330fffc3-d519-4d66-a168-cbdbf7ac2741",
   "metadata": {},
   "outputs": [],
   "source": [
    "path = \"./tests/new_tweets/\""
   ]
  },
  {
   "cell_type": "code",
   "execution_count": 8,
   "id": "22618d22-23dc-4a74-830b-6e2d143cf53e",
   "metadata": {},
   "outputs": [],
   "source": [
    "files = [i for i in os.listdir(path) if os.path.isfile(path+i) and \".json\" in i]"
   ]
  },
  {
   "cell_type": "code",
   "execution_count": 9,
   "id": "4119436f-88a7-412c-9817-8a3830f830ad",
   "metadata": {},
   "outputs": [
    {
     "name": "stderr",
     "output_type": "stream",
     "text": [
      "100%|████████████████████████████████████████████████████████████████████████████| 1686/1686 [00:01<00:00, 1507.05it/s]\n"
     ]
    }
   ],
   "source": [
    "with_replies = []\n",
    "for file in tqdm(files):\n",
    "    \n",
    "    tweet = json.load(open(path+file))\n",
    "    if tweet[\"in_reply_to_status_id\"] != None:\n",
    "        with_replies.append(file)"
   ]
  },
  {
   "cell_type": "code",
   "execution_count": 10,
   "id": "516cdf10-59fa-4657-9d1d-74b88363f3ef",
   "metadata": {},
   "outputs": [],
   "source": [
    "# pprint(json.load(open(path+'1430024152518430720.json')))"
   ]
  },
  {
   "cell_type": "code",
   "execution_count": 11,
   "id": "ab195040-87e0-41c6-b6dc-835420ece9d9",
   "metadata": {},
   "outputs": [
    {
     "data": {
      "text/plain": [
       "901"
      ]
     },
     "execution_count": 11,
     "metadata": {},
     "output_type": "execute_result"
    }
   ],
   "source": [
    "len(with_replies)"
   ]
  },
  {
   "cell_type": "code",
   "execution_count": 12,
   "id": "4512ea83-1b8c-4413-8723-0fa6aaa40f9a",
   "metadata": {},
   "outputs": [],
   "source": [
    "# pprint(json.load(open(path+files[0])))"
   ]
  },
  {
   "cell_type": "code",
   "execution_count": null,
   "id": "e6a9c30c-73f7-4667-b45c-1b054ad48557",
   "metadata": {},
   "outputs": [],
   "source": []
  },
  {
   "cell_type": "code",
   "execution_count": 170,
   "id": "2e63ef13-cbfc-4408-8efc-f6c099f08127",
   "metadata": {},
   "outputs": [],
   "source": [
    "# network = nx.DiGraph()\n",
    "network = nx.MultiDiGraph()"
   ]
  },
  {
   "cell_type": "code",
   "execution_count": 171,
   "id": "f0380a1e-53a3-48a3-af1d-4b483e4f1abe",
   "metadata": {},
   "outputs": [],
   "source": [
    "lst = [i for i in range(1,21)]"
   ]
  },
  {
   "cell_type": "code",
   "execution_count": 172,
   "id": "416b8db5-1243-4a97-b3b8-f18105324937",
   "metadata": {},
   "outputs": [],
   "source": [
    "edge_keeper = {}"
   ]
  },
  {
   "cell_type": "code",
   "execution_count": 173,
   "id": "c1b47827-68e4-41ff-9d8e-582bc8d309bf",
   "metadata": {},
   "outputs": [
    {
     "data": {
      "text/plain": [
       "2"
      ]
     },
     "execution_count": 173,
     "metadata": {},
     "output_type": "execute_result"
    }
   ],
   "source": [
    "edge_keeper[(1,2,\"retweet\")]=0\n",
    "network.add_edge(1, 2, key=edge_keeper[(1,2,\"retweet\")] , kind=\"retweet\", weight=1)\n",
    "edge_keeper[(1,2,\"reply\")]=1\n",
    "network.add_edge(1, 2, key=edge_keeper[(1,2,\"reply\")], kind=\"reply\", weight=1)\n",
    "edge_keeper[(1,2,\"quote\")]=2\n",
    "network.add_edge(1, 2, key=edge_keeper[(1,2,\"quote\")], kind=\"quote\", weight=1)"
   ]
  },
  {
   "cell_type": "code",
   "execution_count": 182,
   "id": "e0fc1011-41db-4e8d-985e-1f236b22fafe",
   "metadata": {},
   "outputs": [],
   "source": [
    "edge_keeper[(1,2,\"javad\")]=20"
   ]
  },
  {
   "cell_type": "code",
   "execution_count": 174,
   "id": "2ff82016-72d8-43b4-a981-3b50a4816dcb",
   "metadata": {},
   "outputs": [],
   "source": [
    "network.edges[1,2,edge_keeper[(1,2,\"retweet\")]][\"weight\"] += 1"
   ]
  },
  {
   "cell_type": "code",
   "execution_count": 175,
   "id": "0bd64cb4-9a82-4c18-9071-890f84016dc8",
   "metadata": {},
   "outputs": [
    {
     "data": {
      "text/plain": [
       "2"
      ]
     },
     "execution_count": 175,
     "metadata": {},
     "output_type": "execute_result"
    }
   ],
   "source": [
    "network.edges[1,2,edge_keeper[(1,2,\"retweet\")]][\"weight\"]"
   ]
  },
  {
   "cell_type": "code",
   "execution_count": 183,
   "id": "eba00292-0983-475b-b700-40e62ca62725",
   "metadata": {},
   "outputs": [
    {
     "data": {
      "text/plain": [
       "False"
      ]
     },
     "execution_count": 183,
     "metadata": {},
     "output_type": "execute_result"
    }
   ],
   "source": [
    "network.has_edge(1,2,key=edge_keeper[(1,2,\"javad\")])"
   ]
  },
  {
   "cell_type": "code",
   "execution_count": 167,
   "id": "4b3b4999-cc02-4af5-9733-3947a49f5da6",
   "metadata": {},
   "outputs": [],
   "source": [
    "nx.write_gexf(network, path=\"./n10.gml\")"
   ]
  },
  {
   "cell_type": "code",
   "execution_count": null,
   "id": "7be7f3ef-b92c-4a6e-b9e2-5a03cd2c9fb2",
   "metadata": {},
   "outputs": [],
   "source": []
  },
  {
   "cell_type": "code",
   "execution_count": 166,
   "id": "fa6f3e55-9ae1-4d68-b0c9-83b551ab3b6b",
   "metadata": {},
   "outputs": [
    {
     "data": {
      "text/plain": [
       "OutMultiEdgeDataView([(1, 2), (1, 2), (1, 2)])"
      ]
     },
     "execution_count": 166,
     "metadata": {},
     "output_type": "execute_result"
    }
   ],
   "source": [
    "network.edges()"
   ]
  },
  {
   "cell_type": "code",
   "execution_count": null,
   "id": "44797f88-6bd6-4951-bbab-52aa7e5b3b9a",
   "metadata": {},
   "outputs": [],
   "source": []
  },
  {
   "cell_type": "code",
   "execution_count": null,
   "id": "4fd1b9e3-9864-426b-8f2c-84e772a88993",
   "metadata": {},
   "outputs": [],
   "source": []
  },
  {
   "cell_type": "code",
   "execution_count": 57,
   "id": "949d5dbd-984a-4766-a975-7810341f01f0",
   "metadata": {},
   "outputs": [
    {
     "data": {
      "image/png": "[encoded data removed]",
      "text/plain": [
       "<Figure size 432x288 with 1 Axes>"
      ]
     },
     "metadata": {},
     "output_type": "display_data"
    }
   ],
   "source": [
    "nx.draw_circular(network, with_labels=True, font_weight='bold')"
   ]
  },
  {
   "cell_type": "code",
   "execution_count": 98,
   "id": "d7a3a15b-1139-439e-beaf-4b1d67371380",
   "metadata": {},
   "outputs": [],
   "source": [
    "# G1 = nx.DiGraph()\n",
    "G2 = nx.MultiDiGraph()"
   ]
  },
  {
   "cell_type": "code",
   "execution_count": 102,
   "id": "5dbff44c-4274-4993-ba3a-2e4afd3bcb24",
   "metadata": {},
   "outputs": [],
   "source": [
    "G2.add_edge(1, 2, key=\"quote\")\n",
    "G2.add_edge(1, 2 , key=\"retweet\")\n",
    "G2.add_edge(1, 3, key=\"reply\")\n",
    "G2.add_edge(3, 1 , key=\"retweet\")\n",
    "G2.add_edge(3, 4 , key=\"reply\")\n",
    "G2.add_edge(3, 4 , key=\"quote\")\n",
    "G2.add_edge(4, 3 , key=\"quote\")\n",
    "G2.add_node(5)\n",
    "G2.add_node(6)"
   ]
  },
  {
   "cell_type": "code",
   "execution_count": 105,
   "id": "fbcdf4c6-10fc-4e29-9e57-b2d6fa2e9315",
   "metadata": {},
   "outputs": [],
   "source": [
    "G2.edges[1,2, \"quote\"][\"weight\"] = 2\n",
    "G2.edges[1,2, \"retweet\"][\"weight\"] = 1\n",
    "G2.edges[1,3, \"reply\"][\"weight\"] = 1\n",
    "G2.edges[3,1, \"retweet\"][\"weight\"] = 3\n",
    "G2.edges[3,4, \"reply\"][\"weight\"] = 1\n",
    "G2.edges[3,4, \"quote\"][\"weight\"] = 2\n",
    "G2.edges[4,3, \"quote\"][\"weight\"] = 2"
   ]
  },
  {
   "cell_type": "code",
   "execution_count": 164,
   "id": "e39912a1-705e-4a7b-aaad-ddc7799c7de8",
   "metadata": {},
   "outputs": [],
   "source": [
    "nx.write_gexf(G2, path=\"./n9.gexf\")"
   ]
  },
  {
   "cell_type": "code",
   "execution_count": null,
   "id": "389e9150-6bd0-4214-a2d9-357ca2022ebd",
   "metadata": {},
   "outputs": [],
   "source": []
  },
  {
   "cell_type": "code",
   "execution_count": 100,
   "id": "c91c31da-999a-43f9-9e43-5ceff6afa61d",
   "metadata": {},
   "outputs": [
    {
     "data": {
      "text/plain": [
       "'quote'"
      ]
     },
     "execution_count": 100,
     "metadata": {},
     "output_type": "execute_result"
    }
   ],
   "source": [
    "G2.add_edge(1, 2, key=\"quote\")"
   ]
  },
  {
   "cell_type": "code",
   "execution_count": null,
   "id": "7c733c1b-86f0-4494-a44f-b1d99a3f3b25",
   "metadata": {},
   "outputs": [],
   "source": []
  },
  {
   "cell_type": "code",
   "execution_count": 95,
   "id": "45b1adf5-13af-4507-8029-ff0c395a59cd",
   "metadata": {},
   "outputs": [],
   "source": [
    "G2.edges[1,2, \"reply\"][\"weight\"] += 1"
   ]
  },
  {
   "cell_type": "code",
   "execution_count": 96,
   "id": "709b53a7-61d8-4bd4-8a1e-3ec051dd3808",
   "metadata": {},
   "outputs": [
    {
     "data": {
      "text/plain": [
       "{'weight': 2}"
      ]
     },
     "execution_count": 96,
     "metadata": {},
     "output_type": "execute_result"
    }
   ],
   "source": [
    "G2.edges[1,2, \"reply\"]"
   ]
  },
  {
   "cell_type": "code",
   "execution_count": null,
   "id": "d9aed322-e611-497c-9c54-fad1a18b3236",
   "metadata": {},
   "outputs": [],
   "source": []
  },
  {
   "cell_type": "code",
   "execution_count": 58,
   "id": "b9cf3028-e332-4438-95fe-a74bb199dedf",
   "metadata": {},
   "outputs": [
    {
     "data": {
      "text/plain": [
       "OutMultiEdgeView([(1, 2, 0), (1, 2, 1), (1, 2, 2)])"
      ]
     },
     "execution_count": 58,
     "metadata": {},
     "output_type": "execute_result"
    }
   ],
   "source": [
    "network.edges"
   ]
  },
  {
   "cell_type": "code",
   "execution_count": 46,
   "id": "2a4864ef-2294-4441-8352-711f180a370d",
   "metadata": {},
   "outputs": [
    {
     "data": {
      "text/plain": [
       "1"
      ]
     },
     "execution_count": 46,
     "metadata": {},
     "output_type": "execute_result"
    }
   ],
   "source": [
    "network.add_edge(1, 2, kind=\"reply\")\n",
    "network.add_edge(2, 3, kind=\"reply\")\n",
    "network.add_edge(4, 3, kind=\"reply\")\n",
    "network.add_edge(5, 6, kind=\"reply\")\n",
    "network.add_edge(3, 5, kind=\"reply\")\n",
    "network.add_edge(7, 8, kind=\"reply\")\n",
    "network.add_edge(9, 10, kind=\"reply\")\n",
    "network.add_edge(4, 9, kind=\"reply\")\n",
    "network.add_edge(3, 7, kind=\"reply\")\n",
    "network.add_edge(8, 3, kind=\"reply\")\n",
    "network.add_edge(4, 7, kind=\"reply\")\n",
    "network.add_node(11)\n",
    "network.add_node(12)\n",
    "network.add_node(13)\n",
    "network.add_node(14)\n",
    "network.add_node(3)\n",
    "network.add_node(1)\n",
    "network.add_node(7)\n",
    "network.add_node(5)\n",
    "network.add_node(2)\n",
    "network.add_edge(1, 2, kind=\"retweet\")"
   ]
  },
  {
   "cell_type": "code",
   "execution_count": 47,
   "id": "48ca9630-923f-4075-8b49-ae9b7828df9c",
   "metadata": {},
   "outputs": [
    {
     "data": {
      "image/png": "[encoded data removed]",
      "text/plain": [
       "<Figure size 432x288 with 1 Axes>"
      ]
     },
     "metadata": {},
     "output_type": "display_data"
    }
   ],
   "source": [
    "nx.draw_circular(network, with_labels=True, font_weight='bold')"
   ]
  },
  {
   "cell_type": "code",
   "execution_count": 48,
   "id": "dc760b62-8207-4142-80db-62c66afc6cee",
   "metadata": {},
   "outputs": [
    {
     "data": {
      "text/plain": [
       "OutMultiEdgeView([(1, 2, 0), (1, 2, 1), (2, 3, 0), (3, 5, 0), (3, 7, 0), (4, 3, 0), (4, 9, 0), (4, 7, 0), (5, 6, 0), (7, 8, 0), (8, 3, 0), (9, 10, 0)])"
      ]
     },
     "execution_count": 48,
     "metadata": {},
     "output_type": "execute_result"
    }
   ],
   "source": [
    "network.edges"
   ]
  },
  {
   "cell_type": "code",
   "execution_count": null,
   "id": "65c2bd4a-faf4-4e43-8ad1-6effd340d510",
   "metadata": {},
   "outputs": [],
   "source": []
  },
  {
   "cell_type": "code",
   "execution_count": null,
   "id": "13a43224-ee34-4589-893f-044214f80ea6",
   "metadata": {},
   "outputs": [],
   "source": []
  },
  {
   "cell_type": "code",
   "execution_count": 59,
   "id": "b273bd07-0481-4940-b8f4-595b0852523e",
   "metadata": {},
   "outputs": [],
   "source": [
    "partition = community.best_partition(network.to_undirected())\n",
    "for node_id in partition:\n",
    "    network.nodes[node_id][\"community\"] = partition[node_id]"
   ]
  },
  {
   "cell_type": "code",
   "execution_count": 60,
   "id": "0c7c432c-5124-4f00-83bc-6dd32a22527a",
   "metadata": {},
   "outputs": [
    {
     "data": {
      "text/plain": [
       "{1: 1,\n",
       " 2: 1,\n",
       " 3: 7,\n",
       " 4: 7,\n",
       " 5: 4,\n",
       " 6: 4,\n",
       " 7: 7,\n",
       " 8: 7,\n",
       " 9: 0,\n",
       " 10: 0,\n",
       " 11: 2,\n",
       " 12: 3,\n",
       " 13: 5,\n",
       " 14: 6}"
      ]
     },
     "execution_count": 60,
     "metadata": {},
     "output_type": "execute_result"
    }
   ],
   "source": [
    "partition"
   ]
  },
  {
   "cell_type": "code",
   "execution_count": 62,
   "id": "1820a760-513c-4c4e-aafa-917bf9897fb6",
   "metadata": {},
   "outputs": [
    {
     "data": {
      "text/plain": [
       "{'community': 0}"
      ]
     },
     "execution_count": 62,
     "metadata": {},
     "output_type": "execute_result"
    }
   ],
   "source": [
    "network.nodes[10]"
   ]
  },
  {
   "cell_type": "code",
   "execution_count": null,
   "id": "249937a8-1c79-44d7-addb-0a50d4185c1c",
   "metadata": {},
   "outputs": [],
   "source": []
  }
 ],
 "metadata": {
  "kernelspec": {
   "display_name": "Python 3 (ipykernel)",
   "language": "python",
   "name": "python3"
  },
  "language_info": {
   "codemirror_mode": {
    "name": "ipython",
    "version": 3
   },
   "file_extension": ".py",
   "mimetype": "text/x-python",
   "name": "python",
   "nbconvert_exporter": "python",
   "pygments_lexer": "ipython3",
   "version": "3.9.7"
  }
 },
 "nbformat": 4,
 "nbformat_minor": 5
}
