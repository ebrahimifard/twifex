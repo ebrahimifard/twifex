{
 "cells": [
  {
   "cell_type": "code",
   "execution_count": 1,
   "id": "0b9ad956-f0e1-44d2-bd33-19d8d2de8c79",
   "metadata": {},
   "outputs": [],
   "source": [
    "# if split_unit == \"word\":\n",
    "#     return re.findall(r'\\S+', text)\n",
    "# elif split_unit == \"sentence\":\n",
    "#     return [i for i in re.split(r'[.?!]+', text) if i != '']"
   ]
  },
  {
   "cell_type": "code",
   "execution_count": 94,
   "id": "9917db8e-f5b0-47d3-aa14-07ec42b1a3b3",
   "metadata": {},
   "outputs": [],
   "source": [
    "import re\n",
    "from bs4 import BeautifulSoup"
   ]
  },
  {
   "cell_type": "code",
   "execution_count": 7,
   "id": "f0800b8e-a053-43de-8716-ed70189bcf86",
   "metadata": {},
   "outputs": [],
   "source": [
    "text = \"To the bloke who (yelled)   at me and \\\\\\ *flipped me the bird {when I beeped you  () __|  and tried to stop you in the service station, all is good, your wallet and phone aren't on the roof of your car anymore \""
   ]
  },
  {
   "cell_type": "code",
   "execution_count": null,
   "id": "c74ffe77-63b6-445c-be39-2d52accbcd59",
   "metadata": {},
   "outputs": [],
   "source": [
    "# re.findall(r'\\S+', text)"
   ]
  },
  {
   "cell_type": "code",
   "execution_count": null,
   "id": "bd2c8a60-1a59-49e5-bd7a-4129cbbd190b",
   "metadata": {},
   "outputs": [],
   "source": [
    "BeautifulSoup"
   ]
  },
  {
   "cell_type": "code",
   "execution_count": 104,
   "id": "344ae559-cc9e-490b-8208-538a2dfa0769",
   "metadata": {},
   "outputs": [],
   "source": [
    "def compute_average(p1: int =1, p2: int =4) -> float:\n",
    "    s = p1 + p2\n",
    "    s = s / 2\n",
    "    return s"
   ]
  },
  {
   "cell_type": "code",
   "execution_count": 105,
   "id": "ff4e15e9-8627-4953-b555-d28bfd82ce02",
   "metadata": {},
   "outputs": [
    {
     "data": {
      "text/plain": [
       "2.5"
      ]
     },
     "execution_count": 105,
     "metadata": {},
     "output_type": "execute_result"
    }
   ],
   "source": [
    "compute_average()"
   ]
  },
  {
   "cell_type": "code",
   "execution_count": 106,
   "id": "ce7617e4-a30b-423c-9344-aff4a5e7f746",
   "metadata": {},
   "outputs": [
    {
     "data": {
      "text/plain": [
       "6.5"
      ]
     },
     "execution_count": 106,
     "metadata": {},
     "output_type": "execute_result"
    }
   ],
   "source": [
    "compute_average(6,7)"
   ]
  },
  {
   "cell_type": "code",
   "execution_count": 107,
   "id": "0fa1e390-39e4-45c2-91b0-1cb4eab3fcc3",
   "metadata": {},
   "outputs": [
    {
     "data": {
      "text/plain": [
       "7.5"
      ]
     },
     "execution_count": 107,
     "metadata": {},
     "output_type": "execute_result"
    }
   ],
   "source": [
    "compute_average(6, 9)"
   ]
  },
  {
   "cell_type": "code",
   "execution_count": null,
   "id": "2394bd15-ce2b-4589-be8f-16077d3960b3",
   "metadata": {},
   "outputs": [],
   "source": []
  },
  {
   "cell_type": "code",
   "execution_count": null,
   "id": "18c7b6a8-a72e-4bbe-979e-b2c9d32b2a0a",
   "metadata": {},
   "outputs": [],
   "source": []
  },
  {
   "cell_type": "code",
   "execution_count": null,
   "id": "7119f1ff-e1b7-41de-91eb-63f8223f42e9",
   "metadata": {},
   "outputs": [],
   "source": []
  },
  {
   "cell_type": "code",
   "execution_count": 1,
   "id": "5f292646-4172-46ea-8646-658653b948bc",
   "metadata": {},
   "outputs": [],
   "source": [
    "import emot"
   ]
  },
  {
   "cell_type": "code",
   "execution_count": 2,
   "id": "1ca68eef-570d-4f27-9082-a10faf43ff16",
   "metadata": {},
   "outputs": [],
   "source": [
    "emot_obj = emot.core.emot() "
   ]
  },
  {
   "cell_type": "code",
   "execution_count": 3,
   "id": "2b4fb7df-77bf-4cf2-95af-3729be36009d",
   "metadata": {},
   "outputs": [],
   "source": [
    "text = \"I love python ☮ 🙂 ❤ :-) :-( :-)))\" "
   ]
  },
  {
   "cell_type": "code",
   "execution_count": 6,
   "id": "8eb8f96d-99df-4ac7-85d9-b60eb95b4d12",
   "metadata": {},
   "outputs": [],
   "source": [
    "text2 = \"Hi I am Amir\""
   ]
  },
  {
   "cell_type": "code",
   "execution_count": 5,
   "id": "8f7c9c89-2f67-403b-a268-1ce404bde5d2",
   "metadata": {},
   "outputs": [
    {
     "data": {
      "text/plain": [
       "{'value': ['☮', '🙂', '❤'],\n",
       " 'location': [[14, 15], [16, 17], [18, 19]],\n",
       " 'mean': [':peace_symbol:', ':slightly_smiling_face:', ':red_heart:'],\n",
       " 'flag': True}"
      ]
     },
     "execution_count": 5,
     "metadata": {},
     "output_type": "execute_result"
    }
   ],
   "source": [
    "emot_obj.emoji(text) "
   ]
  },
  {
   "cell_type": "code",
   "execution_count": 9,
   "id": "68b8df5c-c01d-420e-9df0-4cc9264f4e28",
   "metadata": {},
   "outputs": [],
   "source": [
    "d = emot_obj.emoticons(text)"
   ]
  },
  {
   "cell_type": "code",
   "execution_count": 10,
   "id": "2e0e7bec-dcc9-4393-8486-a769b5208492",
   "metadata": {},
   "outputs": [
    {
     "data": {
      "text/plain": [
       "{'value': [':-)', ':-(', ':-)))'],\n",
       " 'location': [[20, 23], [24, 27], [28, 33]],\n",
       " 'mean': ['Happy face smiley',\n",
       "  'Frown, sad, andry or pouting',\n",
       "  'Very very Happy face or smiley'],\n",
       " 'flag': True}"
      ]
     },
     "execution_count": 10,
     "metadata": {},
     "output_type": "execute_result"
    }
   ],
   "source": [
    "d"
   ]
  },
  {
   "cell_type": "code",
   "execution_count": 11,
   "id": "824f336b-6417-4a6f-883d-d9f0b0f49d4f",
   "metadata": {},
   "outputs": [
    {
     "data": {
      "text/plain": [
       "<zip at 0x2765d0645c0>"
      ]
     },
     "execution_count": 11,
     "metadata": {},
     "output_type": "execute_result"
    }
   ],
   "source": [
    "zip(d[\"value\"], d[\"mean\"])"
   ]
  },
  {
   "cell_type": "code",
   "execution_count": 12,
   "id": "47591816-a7fb-4003-9cd9-fc49deadc505",
   "metadata": {},
   "outputs": [
    {
     "data": {
      "text/plain": [
       "{':-)': 'Happy face smiley',\n",
       " ':-(': 'Frown, sad, andry or pouting',\n",
       " ':-)))': 'Very very Happy face or smiley'}"
      ]
     },
     "execution_count": 12,
     "metadata": {},
     "output_type": "execute_result"
    }
   ],
   "source": [
    "dict(zip(d[\"value\"], d[\"mean\"]))"
   ]
  },
  {
   "cell_type": "code",
   "execution_count": 13,
   "id": "0e9b4e94-34b1-4e94-b71e-e6993d4fcb8c",
   "metadata": {},
   "outputs": [],
   "source": [
    "import re"
   ]
  },
  {
   "cell_type": "code",
   "execution_count": 14,
   "id": "b5bb45f0-df15-404e-ae41-27a28a2deb16",
   "metadata": {},
   "outputs": [],
   "source": [
    "control_chars=r'[\\r\\t\\n]'"
   ]
  },
  {
   "cell_type": "code",
   "execution_count": 17,
   "id": "1f1a068a-5582-4787-a244-8159f8ac699c",
   "metadata": {},
   "outputs": [],
   "source": [
    "text = \"BENC2007:2022/MC/Tutoial 3/EdoardoQ\t\t\t\tasdasdasd\\nasdasdasdasd\tdasdasd\""
   ]
  },
  {
   "cell_type": "code",
   "execution_count": 18,
   "id": "2fe48e4a-94da-4e4e-add1-6b9e46b4ba74",
   "metadata": {},
   "outputs": [],
   "source": [
    "pattern = re.compile(control_chars)\n",
    "text = pattern.sub(\" \", text)"
   ]
  },
  {
   "cell_type": "code",
   "execution_count": 19,
   "id": "5afb3c91-3088-48da-97bd-58d5550068b3",
   "metadata": {},
   "outputs": [
    {
     "data": {
      "text/plain": [
       "'BENC2007:2022/MC/Tutoial 3/EdoardoQ    asdasdasd asdasdasdasd dasdasd'"
      ]
     },
     "execution_count": 19,
     "metadata": {},
     "output_type": "execute_result"
    }
   ],
   "source": [
    "text"
   ]
  },
  {
   "cell_type": "code",
   "execution_count": 20,
   "id": "21497ec0-b3db-4af8-9f6c-8c60f5784798",
   "metadata": {},
   "outputs": [],
   "source": [
    "import spacy"
   ]
  },
  {
   "cell_type": "code",
   "execution_count": 21,
   "id": "d1bfaf48-76f9-4a8a-b7a6-67ee21d4a021",
   "metadata": {},
   "outputs": [],
   "source": [
    "nlp = spacy.load(\"en_core_web_sm\")\n",
    "doc = nlp(\"Apple is looking at buying U.K. startup for $1 billion\")"
   ]
  },
  {
   "cell_type": "code",
   "execution_count": 23,
   "id": "8e504d37-a2ed-40b2-ba20-0758f0b31e27",
   "metadata": {},
   "outputs": [],
   "source": [
    "ner_text = \"\""
   ]
  },
  {
   "cell_type": "code",
   "execution_count": 24,
   "id": "abfcfb01-101d-40ee-aab2-14befc0b28b7",
   "metadata": {},
   "outputs": [],
   "source": [
    "for token in doc.ents:\n",
    "    ner_text = ner_text + \" \" + token.label_"
   ]
  },
  {
   "cell_type": "code",
   "execution_count": 25,
   "id": "5773ceef-a60d-482e-8dc0-d62fe51f37ea",
   "metadata": {},
   "outputs": [
    {
     "data": {
      "text/plain": [
       "'ORG GPE MONEY'"
      ]
     },
     "execution_count": 25,
     "metadata": {},
     "output_type": "execute_result"
    }
   ],
   "source": [
    "ner_text.strip()"
   ]
  },
  {
   "cell_type": "code",
   "execution_count": 26,
   "id": "24de203b-3c92-4cbf-b8ef-c397b833a284",
   "metadata": {},
   "outputs": [],
   "source": [
    "from datetime import datetime "
   ]
  },
  {
   "cell_type": "code",
   "execution_count": 86,
   "id": "328c8811-21c9-4059-b5f3-984b9a55d188",
   "metadata": {},
   "outputs": [],
   "source": [
    "# my_time = \"Tue Nov 23 17:26:07 +0000 2021\""
   ]
  },
  {
   "cell_type": "code",
   "execution_count": 133,
   "id": "f7f78291-bda9-4145-bc4d-82b44c6feb25",
   "metadata": {},
   "outputs": [],
   "source": [
    "date_beg = \"30-01-2000 10:30:00\""
   ]
  },
  {
   "cell_type": "code",
   "execution_count": 134,
   "id": "ca064c06-fda5-4a87-aed2-c2669a9118c3",
   "metadata": {},
   "outputs": [],
   "source": [
    "date_end = \"30-12-2022 23:45:30\""
   ]
  },
  {
   "cell_type": "code",
   "execution_count": 135,
   "id": "b8908bc2-0848-4ed5-bfef-9ce93f90f867",
   "metadata": {},
   "outputs": [],
   "source": [
    "test_time = \"Tue Nov 23 17:27:07 +0000 2021\""
   ]
  },
  {
   "cell_type": "code",
   "execution_count": 136,
   "id": "a294ca4f-69f2-4f59-8445-71737ec6aa3a",
   "metadata": {},
   "outputs": [],
   "source": [
    "dt_obj_beg = datetime.strptime(date_beg, \"%d-%m-%Y %H:%M:%S\")"
   ]
  },
  {
   "cell_type": "code",
   "execution_count": 137,
   "id": "9401ab8a-864c-4ec7-a5cd-9133342eaf63",
   "metadata": {},
   "outputs": [],
   "source": [
    "dt_obj_end = datetime.strptime(date_end, \"%d-%m-%Y %H:%M:%S\")"
   ]
  },
  {
   "cell_type": "code",
   "execution_count": 138,
   "id": "cf79905d-9199-4687-a74f-a6246cfc5bfb",
   "metadata": {},
   "outputs": [],
   "source": [
    "test_dt_obj = datetime.strptime(datetime.strftime(datetime.strptime(test_time, \"%a %b %d %H:%M:%S %z %Y\"), \"%Y %m %d %H %M %S\"), \"%Y %m %d %H %M %S\")"
   ]
  },
  {
   "cell_type": "code",
   "execution_count": 139,
   "id": "03682127-400e-49b5-b55f-cbfa517d1ca3",
   "metadata": {},
   "outputs": [
    {
     "data": {
      "text/plain": [
       "True"
      ]
     },
     "execution_count": 139,
     "metadata": {},
     "output_type": "execute_result"
    }
   ],
   "source": [
    "dt_obj_beg > test_dt_obj"
   ]
  },
  {
   "cell_type": "code",
   "execution_count": 140,
   "id": "1cf29da1-989b-4541-89f9-8064f65e049b",
   "metadata": {},
   "outputs": [
    {
     "data": {
      "text/plain": [
       "True"
      ]
     },
     "execution_count": 140,
     "metadata": {},
     "output_type": "execute_result"
    }
   ],
   "source": [
    "dt_obj_end > test_dt_obj"
   ]
  },
  {
   "cell_type": "code",
   "execution_count": null,
   "id": "b158c8b5-bca6-46de-9355-0a55a2224043",
   "metadata": {},
   "outputs": [],
   "source": []
  },
  {
   "cell_type": "code",
   "execution_count": null,
   "id": "29ba2271-807b-4c68-aee5-648f4843a7f9",
   "metadata": {},
   "outputs": [],
   "source": []
  },
  {
   "cell_type": "code",
   "execution_count": 84,
   "id": "d7212f7f-3ebb-4d97-8c6d-66b3bb158a02",
   "metadata": {},
   "outputs": [
    {
     "data": {
      "text/plain": [
       "7"
      ]
     },
     "execution_count": 84,
     "metadata": {},
     "output_type": "execute_result"
    }
   ],
   "source": [
    "dt_obj.second"
   ]
  },
  {
   "cell_type": "code",
   "execution_count": 38,
   "id": "b3b9c078-632f-4765-9263-64d27b3570c6",
   "metadata": {},
   "outputs": [
    {
     "data": {
      "text/plain": [
       "11"
      ]
     },
     "execution_count": 38,
     "metadata": {},
     "output_type": "execute_result"
    }
   ],
   "source": [
    "dt_obj.month"
   ]
  },
  {
   "cell_type": "code",
   "execution_count": 81,
   "id": "b95f149c-9dad-4f96-8690-0789092203b0",
   "metadata": {},
   "outputs": [
    {
     "data": {
      "text/plain": [
       "23"
      ]
     },
     "execution_count": 81,
     "metadata": {},
     "output_type": "execute_result"
    }
   ],
   "source": [
    "dt_obj.day"
   ]
  },
  {
   "cell_type": "code",
   "execution_count": 77,
   "id": "00f6bfcf-7bd2-4506-8e8d-de8bcda4d0da",
   "metadata": {},
   "outputs": [
    {
     "data": {
      "text/plain": [
       "datetime.IsoCalendarDate(year=2021, week=47, weekday=2)"
      ]
     },
     "execution_count": 77,
     "metadata": {},
     "output_type": "execute_result"
    }
   ],
   "source": [
    "dt_obj.date().isocalendar()"
   ]
  },
  {
   "cell_type": "code",
   "execution_count": 78,
   "id": "ad5fc73d-116f-40fe-8e8d-b3639f1469f9",
   "metadata": {},
   "outputs": [
    {
     "data": {
      "text/plain": [
       "2021"
      ]
     },
     "execution_count": 78,
     "metadata": {},
     "output_type": "execute_result"
    }
   ],
   "source": [
    "dt_obj.date().isocalendar()[0]"
   ]
  },
  {
   "cell_type": "code",
   "execution_count": 79,
   "id": "0020c13f-233b-4aab-aaa4-57b718998570",
   "metadata": {},
   "outputs": [
    {
     "data": {
      "text/plain": [
       "47"
      ]
     },
     "execution_count": 79,
     "metadata": {},
     "output_type": "execute_result"
    }
   ],
   "source": [
    "dt_obj.date().isocalendar()[1]"
   ]
  },
  {
   "cell_type": "code",
   "execution_count": 80,
   "id": "c664cca5-3637-4c8e-9c61-5a3cf474ef20",
   "metadata": {},
   "outputs": [
    {
     "data": {
      "text/plain": [
       "2"
      ]
     },
     "execution_count": 80,
     "metadata": {},
     "output_type": "execute_result"
    }
   ],
   "source": [
    "dt_obj.date().isocalendar()[2]"
   ]
  },
  {
   "cell_type": "code",
   "execution_count": null,
   "id": "920a0d6e-a32d-4405-ad40-f16891ed8f66",
   "metadata": {},
   "outputs": [],
   "source": []
  },
  {
   "cell_type": "code",
   "execution_count": 72,
   "id": "6eb90856-ac07-40e4-b524-2c1624b23f13",
   "metadata": {},
   "outputs": [],
   "source": [
    "class Myclass:\n",
    "    def sum_number(self, a,b):\n",
    "        print(a + b)\n",
    "        print(sum_number.__name__)"
   ]
  },
  {
   "cell_type": "code",
   "execution_count": 73,
   "id": "f6213521-a76e-43b5-9abd-49aa865be786",
   "metadata": {},
   "outputs": [],
   "source": [
    "objj = Myclass()"
   ]
  },
  {
   "cell_type": "code",
   "execution_count": 74,
   "id": "e19472a5-8777-42c4-8d4d-0919445af0db",
   "metadata": {},
   "outputs": [
    {
     "name": "stdout",
     "output_type": "stream",
     "text": [
      "10\n",
      "sum_number\n"
     ]
    }
   ],
   "source": [
    "objj.sum_number(1,9)"
   ]
  },
  {
   "cell_type": "code",
   "execution_count": 75,
   "id": "eacceeec-1548-4dd0-a485-a3d43b42eadc",
   "metadata": {},
   "outputs": [
    {
     "name": "stdout",
     "output_type": "stream",
     "text": [
      "10\n",
      "sum_number\n"
     ]
    }
   ],
   "source": [
    "sum_number(1,9)"
   ]
  },
  {
   "cell_type": "code",
   "execution_count": null,
   "id": "433f983a-c3e1-4e96-8888-cf976d796f6b",
   "metadata": {},
   "outputs": [],
   "source": []
  }
 ],
 "metadata": {
  "kernelspec": {
   "display_name": "Python 3 (ipykernel)",
   "language": "python",
   "name": "python3"
  },
  "language_info": {
   "codemirror_mode": {
    "name": "ipython",
    "version": 3
   },
   "file_extension": ".py",
   "mimetype": "text/x-python",
   "name": "python",
   "nbconvert_exporter": "python",
   "pygments_lexer": "ipython3",
   "version": "3.9.7"
  }
 },
 "nbformat": 4,
 "nbformat_minor": 5
}
