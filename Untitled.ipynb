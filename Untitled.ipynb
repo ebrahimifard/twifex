{
 "cells": [
  {
   "cell_type": "code",
   "execution_count": 1,
   "id": "0b9ad956-f0e1-44d2-bd33-19d8d2de8c79",
   "metadata": {},
   "outputs": [],
   "source": [
    "# if split_unit == \"word\":\n",
    "#     return re.findall(r'\\S+', text)\n",
    "# elif split_unit == \"sentence\":\n",
    "#     return [i for i in re.split(r'[.?!]+', text) if i != '']"
   ]
  },
  {
   "cell_type": "code",
   "execution_count": 94,
   "id": "9917db8e-f5b0-47d3-aa14-07ec42b1a3b3",
   "metadata": {},
   "outputs": [],
   "source": [
    "import re\n",
    "from bs4 import BeautifulSoup"
   ]
  },
  {
   "cell_type": "code",
   "execution_count": 7,
   "id": "f0800b8e-a053-43de-8716-ed70189bcf86",
   "metadata": {},
   "outputs": [],
   "source": [
    "text = \"To the bloke who (yelled)   at me and \\\\\\ *flipped me the bird {when I beeped you  () __|  and tried to stop you in the service station, all is good, your wallet and phone aren't on the roof of your car anymore \""
   ]
  },
  {
   "cell_type": "code",
   "execution_count": null,
   "id": "c74ffe77-63b6-445c-be39-2d52accbcd59",
   "metadata": {},
   "outputs": [],
   "source": [
    "# re.findall(r'\\S+', text)"
   ]
  },
  {
   "cell_type": "code",
   "execution_count": null,
   "id": "bd2c8a60-1a59-49e5-bd7a-4129cbbd190b",
   "metadata": {},
   "outputs": [],
   "source": [
    "BeautifulSoup"
   ]
  },
  {
   "cell_type": "code",
   "execution_count": 104,
   "id": "344ae559-cc9e-490b-8208-538a2dfa0769",
   "metadata": {},
   "outputs": [],
   "source": [
    "def compute_average(p1: int =1, p2: int =4) -> float:\n",
    "    s = p1 + p2\n",
    "    s = s / 2\n",
    "    return s"
   ]
  },
  {
   "cell_type": "code",
   "execution_count": 105,
   "id": "ff4e15e9-8627-4953-b555-d28bfd82ce02",
   "metadata": {},
   "outputs": [
    {
     "data": {
      "text/plain": [
       "2.5"
      ]
     },
     "execution_count": 105,
     "metadata": {},
     "output_type": "execute_result"
    }
   ],
   "source": [
    "compute_average()"
   ]
  },
  {
   "cell_type": "code",
   "execution_count": 106,
   "id": "ce7617e4-a30b-423c-9344-aff4a5e7f746",
   "metadata": {},
   "outputs": [
    {
     "data": {
      "text/plain": [
       "6.5"
      ]
     },
     "execution_count": 106,
     "metadata": {},
     "output_type": "execute_result"
    }
   ],
   "source": [
    "compute_average(6,7)"
   ]
  },
  {
   "cell_type": "code",
   "execution_count": 107,
   "id": "0fa1e390-39e4-45c2-91b0-1cb4eab3fcc3",
   "metadata": {},
   "outputs": [
    {
     "data": {
      "text/plain": [
       "7.5"
      ]
     },
     "execution_count": 107,
     "metadata": {},
     "output_type": "execute_result"
    }
   ],
   "source": [
    "compute_average(6, 9)"
   ]
  },
  {
   "cell_type": "code",
   "execution_count": null,
   "id": "2394bd15-ce2b-4589-be8f-16077d3960b3",
   "metadata": {},
   "outputs": [],
   "source": []
  },
  {
   "cell_type": "code",
   "execution_count": null,
   "id": "18c7b6a8-a72e-4bbe-979e-b2c9d32b2a0a",
   "metadata": {},
   "outputs": [],
   "source": []
  },
  {
   "cell_type": "code",
   "execution_count": null,
   "id": "7119f1ff-e1b7-41de-91eb-63f8223f42e9",
   "metadata": {},
   "outputs": [],
   "source": []
  },
  {
   "cell_type": "code",
   "execution_count": 1,
   "id": "5f292646-4172-46ea-8646-658653b948bc",
   "metadata": {},
   "outputs": [],
   "source": [
    "import emot"
   ]
  },
  {
   "cell_type": "code",
   "execution_count": 2,
   "id": "1ca68eef-570d-4f27-9082-a10faf43ff16",
   "metadata": {},
   "outputs": [],
   "source": [
    "emot_obj = emot.core.emot() "
   ]
  },
  {
   "cell_type": "code",
   "execution_count": 3,
   "id": "2b4fb7df-77bf-4cf2-95af-3729be36009d",
   "metadata": {},
   "outputs": [],
   "source": [
    "text = \"I love python ☮ 🙂 ❤ :-) :-( :-)))\" "
   ]
  },
  {
   "cell_type": "code",
   "execution_count": 6,
   "id": "8eb8f96d-99df-4ac7-85d9-b60eb95b4d12",
   "metadata": {},
   "outputs": [],
   "source": [
    "text2 = \"Hi I am Amir\""
   ]
  },
  {
   "cell_type": "code",
   "execution_count": 5,
   "id": "8f7c9c89-2f67-403b-a268-1ce404bde5d2",
   "metadata": {},
   "outputs": [
    {
     "data": {
      "text/plain": [
       "{'value': ['☮', '🙂', '❤'],\n",
       " 'location': [[14, 15], [16, 17], [18, 19]],\n",
       " 'mean': [':peace_symbol:', ':slightly_smiling_face:', ':red_heart:'],\n",
       " 'flag': True}"
      ]
     },
     "execution_count": 5,
     "metadata": {},
     "output_type": "execute_result"
    }
   ],
   "source": [
    "emot_obj.emoji(text) "
   ]
  },
  {
   "cell_type": "code",
   "execution_count": 9,
   "id": "68b8df5c-c01d-420e-9df0-4cc9264f4e28",
   "metadata": {},
   "outputs": [],
   "source": [
    "d = emot_obj.emoticons(text)"
   ]
  },
  {
   "cell_type": "code",
   "execution_count": 10,
   "id": "2e0e7bec-dcc9-4393-8486-a769b5208492",
   "metadata": {},
   "outputs": [
    {
     "data": {
      "text/plain": [
       "{'value': [':-)', ':-(', ':-)))'],\n",
       " 'location': [[20, 23], [24, 27], [28, 33]],\n",
       " 'mean': ['Happy face smiley',\n",
       "  'Frown, sad, andry or pouting',\n",
       "  'Very very Happy face or smiley'],\n",
       " 'flag': True}"
      ]
     },
     "execution_count": 10,
     "metadata": {},
     "output_type": "execute_result"
    }
   ],
   "source": [
    "d"
   ]
  },
  {
   "cell_type": "code",
   "execution_count": 11,
   "id": "824f336b-6417-4a6f-883d-d9f0b0f49d4f",
   "metadata": {},
   "outputs": [
    {
     "data": {
      "text/plain": [
       "<zip at 0x2765d0645c0>"
      ]
     },
     "execution_count": 11,
     "metadata": {},
     "output_type": "execute_result"
    }
   ],
   "source": [
    "zip(d[\"value\"], d[\"mean\"])"
   ]
  },
  {
   "cell_type": "code",
   "execution_count": 12,
   "id": "47591816-a7fb-4003-9cd9-fc49deadc505",
   "metadata": {},
   "outputs": [
    {
     "data": {
      "text/plain": [
       "{':-)': 'Happy face smiley',\n",
       " ':-(': 'Frown, sad, andry or pouting',\n",
       " ':-)))': 'Very very Happy face or smiley'}"
      ]
     },
     "execution_count": 12,
     "metadata": {},
     "output_type": "execute_result"
    }
   ],
   "source": [
    "dict(zip(d[\"value\"], d[\"mean\"]))"
   ]
  },
  {
   "cell_type": "code",
   "execution_count": 13,
   "id": "0e9b4e94-34b1-4e94-b71e-e6993d4fcb8c",
   "metadata": {},
   "outputs": [],
   "source": [
    "import re"
   ]
  },
  {
   "cell_type": "code",
   "execution_count": 14,
   "id": "b5bb45f0-df15-404e-ae41-27a28a2deb16",
   "metadata": {},
   "outputs": [],
   "source": [
    "control_chars=r'[\\r\\t\\n]'"
   ]
  },
  {
   "cell_type": "code",
   "execution_count": 17,
   "id": "1f1a068a-5582-4787-a244-8159f8ac699c",
   "metadata": {},
   "outputs": [],
   "source": [
    "text = \"BENC2007:2022/MC/Tutoial 3/EdoardoQ\t\t\t\tasdasdasd\\nasdasdasdasd\tdasdasd\""
   ]
  },
  {
   "cell_type": "code",
   "execution_count": 18,
   "id": "2fe48e4a-94da-4e4e-add1-6b9e46b4ba74",
   "metadata": {},
   "outputs": [],
   "source": [
    "pattern = re.compile(control_chars)\n",
    "text = pattern.sub(\" \", text)"
   ]
  },
  {
   "cell_type": "code",
   "execution_count": 19,
   "id": "5afb3c91-3088-48da-97bd-58d5550068b3",
   "metadata": {},
   "outputs": [
    {
     "data": {
      "text/plain": [
       "'BENC2007:2022/MC/Tutoial 3/EdoardoQ    asdasdasd asdasdasdasd dasdasd'"
      ]
     },
     "execution_count": 19,
     "metadata": {},
     "output_type": "execute_result"
    }
   ],
   "source": [
    "text"
   ]
  },
  {
   "cell_type": "code",
   "execution_count": null,
   "id": "88bb25f4-c000-4253-ac61-e3aeb027f6ca",
   "metadata": {},
   "outputs": [],
   "source": []
  },
  {
   "cell_type": "code",
   "execution_count": null,
   "id": "c783fb36-9f65-4a6a-a0ed-2af176a89d52",
   "metadata": {},
   "outputs": [],
   "source": []
  },
  {
   "cell_type": "code",
   "execution_count": 208,
   "id": "efc08acb-0ef1-4abb-af10-ddb60a04f6cc",
   "metadata": {},
   "outputs": [
    {
     "data": {
      "text/plain": [
       "'asd ad'"
      ]
     },
     "execution_count": 208,
     "metadata": {},
     "output_type": "execute_result"
    }
   ],
   "source": [
    "\" \".join([\"asd\", \"ad\"])"
   ]
  },
  {
   "cell_type": "code",
   "execution_count": null,
   "id": "1ee2e1cc-475c-4737-9f88-4b0a85e34f29",
   "metadata": {},
   "outputs": [],
   "source": []
  },
  {
   "cell_type": "code",
   "execution_count": null,
   "id": "48e7d836-0b22-4f77-b9c8-94162cee1d3f",
   "metadata": {},
   "outputs": [],
   "source": []
  },
  {
   "cell_type": "code",
   "execution_count": 223,
   "id": "c8683ca7-fe8f-4654-97de-d5e8f65b4145",
   "metadata": {},
   "outputs": [],
   "source": [
    "fr = \"I am $ Amir\""
   ]
  },
  {
   "cell_type": "code",
   "execution_count": 224,
   "id": "379c1e8f-1b99-4653-b7c0-187dbeb0c277",
   "metadata": {},
   "outputs": [
    {
     "data": {
      "text/plain": [
       "'I am  Amir'"
      ]
     },
     "execution_count": 224,
     "metadata": {},
     "output_type": "execute_result"
    }
   ],
   "source": [
    "fr.replace(\"$\", \"\")"
   ]
  },
  {
   "cell_type": "code",
   "execution_count": null,
   "id": "984bfcd6-802a-4456-b8d1-dbf097355fd9",
   "metadata": {},
   "outputs": [],
   "source": []
  },
  {
   "cell_type": "code",
   "execution_count": null,
   "id": "a001e426-b37e-46a9-9798-0d58c32e33f8",
   "metadata": {},
   "outputs": [],
   "source": []
  },
  {
   "cell_type": "code",
   "execution_count": 209,
   "id": "21497ec0-b3db-4af8-9f6c-8c60f5784798",
   "metadata": {},
   "outputs": [],
   "source": [
    "import spacy"
   ]
  },
  {
   "cell_type": "code",
   "execution_count": 220,
   "id": "d1bfaf48-76f9-4a8a-b7a6-67ee21d4a021",
   "metadata": {},
   "outputs": [],
   "source": [
    "nlp = spacy.load(\"en_core_web_sm\")\n",
    "doc = nlp(\"Bannon steals from Trump’s base. Bannon is indicted. Trump pardons him (we don’t know if they split the $ Bannon stole from Trump’s supporters). Trump then needs a favor (though), tells Bannon not to testify/incriminate him before Congress. Bannon obliges. Conspiracy complete. https://t.co/2EVwx4jGnS\")\n",
    "doc = nlp(\"bannon steals trumps base bannon indicted trump pardons we dont know split  bannon stole trumps supporters trump needs favor though tells bannon testifyincriminate congress bannon obliges conspiracy complete\")\n",
    "doc = nlp('Bannon steals Trumps base Bannon indicted Trump pardons we dont know split  Bannon stole Trumps supporters Trump needs favor though tells Bannon testifyincriminate Congress Bannon obliges Conspiracy complete')"
   ]
  },
  {
   "cell_type": "code",
   "execution_count": 221,
   "id": "8bf998a6-c61d-482c-b73a-95ed7037ecfb",
   "metadata": {},
   "outputs": [],
   "source": [
    "pos_list = []\n",
    "for token in doc:\n",
    "    pos_list.append((token.text,  token.pos_))"
   ]
  },
  {
   "cell_type": "code",
   "execution_count": 222,
   "id": "7ec894b3-307a-407d-8951-de926098c1f7",
   "metadata": {},
   "outputs": [
    {
     "data": {
      "text/plain": [
       "[('Bannon', 'PROPN'),\n",
       " ('steals', 'VERB'),\n",
       " ('Trump', 'PROPN'),\n",
       " ('’s', 'PRON'),\n",
       " ('base', 'NOUN'),\n",
       " ('.', 'PUNCT'),\n",
       " ('Bannon', 'PROPN'),\n",
       " ('indicted', 'VERB'),\n",
       " ('.', 'PUNCT'),\n",
       " ('Trump', 'NOUN'),\n",
       " ('pardons', 'NOUN'),\n",
       " ('(', 'PUNCT'),\n",
       " ('we', 'PRON'),\n",
       " ('do', 'AUX'),\n",
       " ('n’t', 'PART'),\n",
       " ('know', 'VERB'),\n",
       " ('split', 'VERB'),\n",
       " ('$', 'SYM'),\n",
       " ('Bannon', 'PROPN'),\n",
       " ('stole', 'VERB'),\n",
       " ('Trump', 'PROPN'),\n",
       " ('’s', 'NOUN'),\n",
       " ('supporters', 'NOUN'),\n",
       " (')', 'PUNCT'),\n",
       " ('.', 'PUNCT'),\n",
       " ('Trump', 'PROPN'),\n",
       " ('needs', 'VERB'),\n",
       " ('favor', 'NOUN'),\n",
       " ('(', 'PUNCT'),\n",
       " ('though', 'ADV'),\n",
       " (')', 'PUNCT'),\n",
       " (',', 'PUNCT'),\n",
       " ('tells', 'VERB'),\n",
       " ('Bannon', 'PROPN'),\n",
       " ('testify', 'NOUN'),\n",
       " ('/', 'SYM'),\n",
       " ('incriminate', 'ADJ'),\n",
       " ('Congress', 'PROPN'),\n",
       " ('.', 'PUNCT'),\n",
       " ('Bannon', 'PROPN'),\n",
       " ('obliges', 'NOUN'),\n",
       " ('.', 'PUNCT'),\n",
       " ('Conspiracy', 'NOUN'),\n",
       " ('complete', 'ADJ'),\n",
       " ('.', 'PUNCT')]"
      ]
     },
     "execution_count": 222,
     "metadata": {},
     "output_type": "execute_result"
    }
   ],
   "source": [
    "pos_list"
   ]
  },
  {
   "cell_type": "code",
   "execution_count": 23,
   "id": "8e504d37-a2ed-40b2-ba20-0758f0b31e27",
   "metadata": {},
   "outputs": [],
   "source": [
    "ner_text = \"\""
   ]
  },
  {
   "cell_type": "code",
   "execution_count": 24,
   "id": "abfcfb01-101d-40ee-aab2-14befc0b28b7",
   "metadata": {},
   "outputs": [],
   "source": [
    "for token in doc.ents:\n",
    "    ner_text = ner_text + \" \" + token.label_"
   ]
  },
  {
   "cell_type": "code",
   "execution_count": 25,
   "id": "5773ceef-a60d-482e-8dc0-d62fe51f37ea",
   "metadata": {},
   "outputs": [
    {
     "data": {
      "text/plain": [
       "'ORG GPE MONEY'"
      ]
     },
     "execution_count": 25,
     "metadata": {},
     "output_type": "execute_result"
    }
   ],
   "source": [
    "ner_text.strip()"
   ]
  },
  {
   "cell_type": "code",
   "execution_count": null,
   "id": "f683d52f-abd3-4498-b783-d9f932b5fd9f",
   "metadata": {},
   "outputs": [],
   "source": []
  },
  {
   "cell_type": "code",
   "execution_count": null,
   "id": "5543c595-fc3f-493f-a120-52b65a4f50a7",
   "metadata": {},
   "outputs": [],
   "source": []
  },
  {
   "cell_type": "code",
   "execution_count": null,
   "id": "aae42822-ec58-4875-b159-f8086faaaddd",
   "metadata": {},
   "outputs": [],
   "source": []
  },
  {
   "cell_type": "code",
   "execution_count": null,
   "id": "db2efc60-264d-4780-932d-1ab9fa0c2e14",
   "metadata": {},
   "outputs": [],
   "source": []
  },
  {
   "cell_type": "code",
   "execution_count": null,
   "id": "22a04c53-2513-4d6e-b906-f65d19e51b3a",
   "metadata": {},
   "outputs": [],
   "source": []
  },
  {
   "cell_type": "code",
   "execution_count": null,
   "id": "8d1cde1e-9a87-4322-8935-da6002ae66ad",
   "metadata": {},
   "outputs": [],
   "source": []
  },
  {
   "cell_type": "code",
   "execution_count": 26,
   "id": "24de203b-3c92-4cbf-b8ef-c397b833a284",
   "metadata": {},
   "outputs": [],
   "source": [
    "from datetime import datetime "
   ]
  },
  {
   "cell_type": "code",
   "execution_count": 86,
   "id": "328c8811-21c9-4059-b5f3-984b9a55d188",
   "metadata": {},
   "outputs": [],
   "source": [
    "# my_time = \"Tue Nov 23 17:26:07 +0000 2021\""
   ]
  },
  {
   "cell_type": "code",
   "execution_count": 133,
   "id": "f7f78291-bda9-4145-bc4d-82b44c6feb25",
   "metadata": {},
   "outputs": [],
   "source": [
    "date_beg = \"30-01-2000 10:30:00\""
   ]
  },
  {
   "cell_type": "code",
   "execution_count": 134,
   "id": "ca064c06-fda5-4a87-aed2-c2669a9118c3",
   "metadata": {},
   "outputs": [],
   "source": [
    "date_end = \"30-12-2022 23:45:30\""
   ]
  },
  {
   "cell_type": "code",
   "execution_count": 135,
   "id": "b8908bc2-0848-4ed5-bfef-9ce93f90f867",
   "metadata": {},
   "outputs": [],
   "source": [
    "test_time = \"Tue Nov 23 17:27:07 +0000 2021\""
   ]
  },
  {
   "cell_type": "code",
   "execution_count": 136,
   "id": "a294ca4f-69f2-4f59-8445-71737ec6aa3a",
   "metadata": {},
   "outputs": [],
   "source": [
    "dt_obj_beg = datetime.strptime(date_beg, \"%d-%m-%Y %H:%M:%S\")"
   ]
  },
  {
   "cell_type": "code",
   "execution_count": 137,
   "id": "9401ab8a-864c-4ec7-a5cd-9133342eaf63",
   "metadata": {},
   "outputs": [],
   "source": [
    "dt_obj_end = datetime.strptime(date_end, \"%d-%m-%Y %H:%M:%S\")"
   ]
  },
  {
   "cell_type": "code",
   "execution_count": 138,
   "id": "cf79905d-9199-4687-a74f-a6246cfc5bfb",
   "metadata": {},
   "outputs": [],
   "source": [
    "test_dt_obj = datetime.strptime(datetime.strftime(datetime.strptime(test_time, \"%a %b %d %H:%M:%S %z %Y\"), \"%Y %m %d %H %M %S\"), \"%Y %m %d %H %M %S\")"
   ]
  },
  {
   "cell_type": "code",
   "execution_count": 139,
   "id": "03682127-400e-49b5-b55f-cbfa517d1ca3",
   "metadata": {},
   "outputs": [
    {
     "data": {
      "text/plain": [
       "True"
      ]
     },
     "execution_count": 139,
     "metadata": {},
     "output_type": "execute_result"
    }
   ],
   "source": [
    "dt_obj_beg > test_dt_obj"
   ]
  },
  {
   "cell_type": "code",
   "execution_count": 140,
   "id": "1cf29da1-989b-4541-89f9-8064f65e049b",
   "metadata": {},
   "outputs": [
    {
     "data": {
      "text/plain": [
       "True"
      ]
     },
     "execution_count": 140,
     "metadata": {},
     "output_type": "execute_result"
    }
   ],
   "source": [
    "dt_obj_end > test_dt_obj"
   ]
  },
  {
   "cell_type": "code",
   "execution_count": null,
   "id": "b158c8b5-bca6-46de-9355-0a55a2224043",
   "metadata": {},
   "outputs": [],
   "source": []
  },
  {
   "cell_type": "code",
   "execution_count": null,
   "id": "29ba2271-807b-4c68-aee5-648f4843a7f9",
   "metadata": {},
   "outputs": [],
   "source": []
  },
  {
   "cell_type": "code",
   "execution_count": 84,
   "id": "d7212f7f-3ebb-4d97-8c6d-66b3bb158a02",
   "metadata": {},
   "outputs": [
    {
     "data": {
      "text/plain": [
       "7"
      ]
     },
     "execution_count": 84,
     "metadata": {},
     "output_type": "execute_result"
    }
   ],
   "source": [
    "dt_obj.second"
   ]
  },
  {
   "cell_type": "code",
   "execution_count": 38,
   "id": "b3b9c078-632f-4765-9263-64d27b3570c6",
   "metadata": {},
   "outputs": [
    {
     "data": {
      "text/plain": [
       "11"
      ]
     },
     "execution_count": 38,
     "metadata": {},
     "output_type": "execute_result"
    }
   ],
   "source": [
    "dt_obj.month"
   ]
  },
  {
   "cell_type": "code",
   "execution_count": 81,
   "id": "b95f149c-9dad-4f96-8690-0789092203b0",
   "metadata": {},
   "outputs": [
    {
     "data": {
      "text/plain": [
       "23"
      ]
     },
     "execution_count": 81,
     "metadata": {},
     "output_type": "execute_result"
    }
   ],
   "source": [
    "dt_obj.day"
   ]
  },
  {
   "cell_type": "code",
   "execution_count": 77,
   "id": "00f6bfcf-7bd2-4506-8e8d-de8bcda4d0da",
   "metadata": {},
   "outputs": [
    {
     "data": {
      "text/plain": [
       "datetime.IsoCalendarDate(year=2021, week=47, weekday=2)"
      ]
     },
     "execution_count": 77,
     "metadata": {},
     "output_type": "execute_result"
    }
   ],
   "source": [
    "dt_obj.date().isocalendar()"
   ]
  },
  {
   "cell_type": "code",
   "execution_count": 78,
   "id": "ad5fc73d-116f-40fe-8e8d-b3639f1469f9",
   "metadata": {},
   "outputs": [
    {
     "data": {
      "text/plain": [
       "2021"
      ]
     },
     "execution_count": 78,
     "metadata": {},
     "output_type": "execute_result"
    }
   ],
   "source": [
    "dt_obj.date().isocalendar()[0]"
   ]
  },
  {
   "cell_type": "code",
   "execution_count": 79,
   "id": "0020c13f-233b-4aab-aaa4-57b718998570",
   "metadata": {},
   "outputs": [
    {
     "data": {
      "text/plain": [
       "47"
      ]
     },
     "execution_count": 79,
     "metadata": {},
     "output_type": "execute_result"
    }
   ],
   "source": [
    "dt_obj.date().isocalendar()[1]"
   ]
  },
  {
   "cell_type": "code",
   "execution_count": 80,
   "id": "c664cca5-3637-4c8e-9c61-5a3cf474ef20",
   "metadata": {},
   "outputs": [
    {
     "data": {
      "text/plain": [
       "2"
      ]
     },
     "execution_count": 80,
     "metadata": {},
     "output_type": "execute_result"
    }
   ],
   "source": [
    "dt_obj.date().isocalendar()[2]"
   ]
  },
  {
   "cell_type": "code",
   "execution_count": null,
   "id": "920a0d6e-a32d-4405-ad40-f16891ed8f66",
   "metadata": {},
   "outputs": [],
   "source": []
  },
  {
   "cell_type": "code",
   "execution_count": 72,
   "id": "6eb90856-ac07-40e4-b524-2c1624b23f13",
   "metadata": {},
   "outputs": [],
   "source": [
    "class Myclass:\n",
    "    def sum_number(self, a,b):\n",
    "        print(a + b)\n",
    "        print(sum_number.__name__)"
   ]
  },
  {
   "cell_type": "code",
   "execution_count": 73,
   "id": "f6213521-a76e-43b5-9abd-49aa865be786",
   "metadata": {},
   "outputs": [],
   "source": [
    "objj = Myclass()"
   ]
  },
  {
   "cell_type": "code",
   "execution_count": 74,
   "id": "e19472a5-8777-42c4-8d4d-0919445af0db",
   "metadata": {},
   "outputs": [
    {
     "name": "stdout",
     "output_type": "stream",
     "text": [
      "10\n",
      "sum_number\n"
     ]
    }
   ],
   "source": [
    "objj.sum_number(1,9)"
   ]
  },
  {
   "cell_type": "code",
   "execution_count": 75,
   "id": "eacceeec-1548-4dd0-a485-a3d43b42eadc",
   "metadata": {},
   "outputs": [
    {
     "name": "stdout",
     "output_type": "stream",
     "text": [
      "10\n",
      "sum_number\n"
     ]
    }
   ],
   "source": [
    "sum_number(1,9)"
   ]
  },
  {
   "cell_type": "code",
   "execution_count": 1,
   "id": "433f983a-c3e1-4e96-8888-cf976d796f6b",
   "metadata": {},
   "outputs": [],
   "source": [
    "import spacy"
   ]
  },
  {
   "cell_type": "code",
   "execution_count": 3,
   "id": "662b8a83-3cb8-42f2-9093-1e89d04ab2b1",
   "metadata": {},
   "outputs": [],
   "source": [
    "nlp = spacy.load(\"en_core_web_sm\")"
   ]
  },
  {
   "cell_type": "code",
   "execution_count": 4,
   "id": "a1cc36ea-709e-4f3b-a308-4254f5c8e5cc",
   "metadata": {},
   "outputs": [],
   "source": [
    "doc = nlp(\"Apple is looking at buying U.K. startup for $1 billion\")"
   ]
  },
  {
   "cell_type": "code",
   "execution_count": 6,
   "id": "0f8b3b7c-2dd3-40d4-8987-9d36a37705f7",
   "metadata": {},
   "outputs": [
    {
     "name": "stdout",
     "output_type": "stream",
     "text": [
      "Apple Apple PROPN NNP nsubj Xxxxx True False\n",
      "is be AUX VBZ aux xx True True\n",
      "looking look VERB VBG ROOT xxxx True False\n",
      "at at ADP IN prep xx True True\n",
      "buying buy VERB VBG pcomp xxxx True False\n",
      "U.K. U.K. PROPN NNP compound X.X. False False\n",
      "startup startup NOUN NN dobj xxxx True False\n",
      "for for ADP IN prep xxx True True\n",
      "$ $ SYM $ quantmod $ False False\n",
      "1 1 NUM CD compound d False False\n",
      "billion billion NUM CD pobj xxxx True False\n"
     ]
    }
   ],
   "source": [
    "for token in doc:\n",
    "    print(token.text, token.lemma_, token.pos_, token.tag_, token.dep_,\n",
    "            token.shape_, token.is_alpha, token.is_stop)"
   ]
  },
  {
   "cell_type": "code",
   "execution_count": 7,
   "id": "6b73145f-c215-49d7-b0cd-5fc09bad342e",
   "metadata": {},
   "outputs": [
    {
     "name": "stdout",
     "output_type": "stream",
     "text": [
      "Apple PROPN\n",
      "is AUX\n",
      "looking VERB\n",
      "at ADP\n",
      "buying VERB\n",
      "U.K. PROPN\n",
      "startup NOUN\n",
      "for ADP\n",
      "$ SYM\n",
      "1 NUM\n",
      "billion NUM\n"
     ]
    }
   ],
   "source": [
    "for token in doc:\n",
    "    print(token.text, token.pos_)"
   ]
  },
  {
   "cell_type": "code",
   "execution_count": 11,
   "id": "709b6242-aa87-4b29-adbf-5d04f0c9641a",
   "metadata": {},
   "outputs": [
    {
     "data": {
      "text/plain": [
       "['CARDINAL',\n",
       " 'DATE',\n",
       " 'EVENT',\n",
       " 'FAC',\n",
       " 'GPE',\n",
       " 'LANGUAGE',\n",
       " 'LAW',\n",
       " 'LOC',\n",
       " 'MONEY',\n",
       " 'NORP',\n",
       " 'ORDINAL',\n",
       " 'ORG',\n",
       " 'PERCENT',\n",
       " 'PERSON',\n",
       " 'PRODUCT',\n",
       " 'QUANTITY',\n",
       " 'TIME',\n",
       " 'WORK_OF_ART']"
      ]
     },
     "execution_count": 11,
     "metadata": {},
     "output_type": "execute_result"
    }
   ],
   "source": [
    "nlp.pipe_labels[\"ner\"]"
   ]
  },
  {
   "cell_type": "code",
   "execution_count": null,
   "id": "0ca7b934-7232-4d64-a3a9-fe7119a20249",
   "metadata": {},
   "outputs": [],
   "source": []
  },
  {
   "cell_type": "code",
   "execution_count": 157,
   "id": "2270050b-1e11-4156-8a7d-24ad4d4c1364",
   "metadata": {},
   "outputs": [],
   "source": [
    "import re"
   ]
  },
  {
   "cell_type": "code",
   "execution_count": 158,
   "id": "18e4e085-d089-4559-8192-6fdc8041d112",
   "metadata": {},
   "outputs": [],
   "source": [
    "pat = r'[BCDFGJKLMNPQSTVXZHRWYbcdfgjklmnpqstvxzhrwy]'"
   ]
  },
  {
   "cell_type": "code",
   "execution_count": 159,
   "id": "c8985d70-b79c-48a7-8a10-e23de6a5909a",
   "metadata": {},
   "outputs": [],
   "source": [
    "# test_sentence = \"1a01mir1_1991rez0_a2345\"\n",
    "# test_sentence = \"1a01mir000qii\"\n",
    "test_sentence = \"AMIREF_1991X\""
   ]
  },
  {
   "cell_type": "code",
   "execution_count": 160,
   "id": "66b72df1-fa2c-405c-8112-36c63a63fa60",
   "metadata": {},
   "outputs": [
    {
     "data": {
      "text/plain": [
       "['M', 'R', 'F', 'X']"
      ]
     },
     "execution_count": 160,
     "metadata": {},
     "output_type": "execute_result"
    }
   ],
   "source": [
    "re.findall(pat, test_sentence)"
   ]
  },
  {
   "cell_type": "code",
   "execution_count": 161,
   "id": "a046fd9a-6275-4c6d-a349-b1d3236a7489",
   "metadata": {},
   "outputs": [
    {
     "data": {
      "text/plain": [
       "1"
      ]
     },
     "execution_count": 161,
     "metadata": {},
     "output_type": "execute_result"
    }
   ],
   "source": [
    "max([len(seq) for seq in re.findall(pat, test_sentence)])"
   ]
  },
  {
   "cell_type": "code",
   "execution_count": 162,
   "id": "f6c846e9-5987-44f6-be8e-9278ecd59ef3",
   "metadata": {},
   "outputs": [
    {
     "data": {
      "text/plain": [
       "<re.Match object; span=(1, 2), match='M'>"
      ]
     },
     "execution_count": 162,
     "metadata": {},
     "output_type": "execute_result"
    }
   ],
   "source": [
    "re.search(pat, test_sentence)"
   ]
  },
  {
   "cell_type": "code",
   "execution_count": 163,
   "id": "2e5d7e8e-497c-4772-8821-fc2ee20133d2",
   "metadata": {},
   "outputs": [],
   "source": [
    "re.fullmatch(pat, test_sentence)"
   ]
  },
  {
   "cell_type": "code",
   "execution_count": 164,
   "id": "08efc658-62a0-49db-ad75-2c652f9e9b6f",
   "metadata": {},
   "outputs": [],
   "source": [
    "occurences = [(m.start(), m.end()) for m in re.finditer(pat, test_sentence)]"
   ]
  },
  {
   "cell_type": "code",
   "execution_count": 165,
   "id": "589d7e0c-a8c2-4727-9384-2b88aea2e9aa",
   "metadata": {},
   "outputs": [
    {
     "data": {
      "text/plain": [
       "[(1, 2), (3, 4), (5, 6), (11, 12)]"
      ]
     },
     "execution_count": 165,
     "metadata": {},
     "output_type": "execute_result"
    }
   ],
   "source": [
    "occurences"
   ]
  },
  {
   "cell_type": "code",
   "execution_count": 166,
   "id": "762aabb0-06a1-4637-a0a8-23cf6cbc63f1",
   "metadata": {},
   "outputs": [
    {
     "name": "stdout",
     "output_type": "stream",
     "text": [
      "1 (1, 2)\n",
      "2 (3, 4)\n",
      "3 (5, 6)\n",
      "4 (11, 12)\n"
     ]
    }
   ],
   "source": [
    "sum = 0\n",
    "counter = 1\n",
    "for index, element in enumerate(occurences):\n",
    "    print(counter, element)\n",
    "    if counter < len(occurences):\n",
    "        diff = occurences[index+1][0] - occurences[index][1]\n",
    "        sum += diff\n",
    "        counter += 1"
   ]
  },
  {
   "cell_type": "code",
   "execution_count": 155,
   "id": "77d07a3e-e42e-4a0a-99a0-962f350a0b59",
   "metadata": {},
   "outputs": [
    {
     "name": "stdout",
     "output_type": "stream",
     "text": [
      "5\n"
     ]
    }
   ],
   "source": [
    "print(sum)"
   ]
  },
  {
   "cell_type": "code",
   "execution_count": 156,
   "id": "0c4d3cd8-4e71-46a5-a6c3-7a4b6d287afe",
   "metadata": {},
   "outputs": [
    {
     "data": {
      "text/plain": [
       "7"
      ]
     },
     "execution_count": 156,
     "metadata": {},
     "output_type": "execute_result"
    }
   ],
   "source": [
    "len(occurences)"
   ]
  },
  {
   "cell_type": "code",
   "execution_count": null,
   "id": "2faaaee2-8510-44c6-9e33-fcea3e366a42",
   "metadata": {},
   "outputs": [],
   "source": []
  },
  {
   "cell_type": "code",
   "execution_count": 52,
   "id": "8a16a0ee-7a39-4ce7-9ef4-5c053fd5b686",
   "metadata": {},
   "outputs": [
    {
     "name": "stdout",
     "output_type": "stream",
     "text": [
      "[('[a-zA-Z]', 1, 2), ('[a-zA-Z]', 4, 5), ('[a-zA-Z]', 5, 6), ('[a-zA-Z]', 6, 7), ('[a-zA-Z]', 13, 14), ('[a-zA-Z]', 14, 15), ('[a-zA-Z]', 15, 16), ('[a-zA-Z]', 18, 19)]\n"
     ]
    }
   ],
   "source": [
    "l = [(pat, m.start(), m.end()) for m in re.finditer(pat, test_sentence)]\n",
    "print(l)"
   ]
  },
  {
   "cell_type": "code",
   "execution_count": 53,
   "id": "dfb57976-e269-423f-91b1-c341fa6573f9",
   "metadata": {},
   "outputs": [
    {
     "data": {
      "text/plain": [
       "[<re.Match object; span=(1, 2), match='a'>,\n",
       " <re.Match object; span=(4, 5), match='m'>,\n",
       " <re.Match object; span=(5, 6), match='i'>,\n",
       " <re.Match object; span=(6, 7), match='r'>,\n",
       " <re.Match object; span=(13, 14), match='r'>,\n",
       " <re.Match object; span=(14, 15), match='e'>,\n",
       " <re.Match object; span=(15, 16), match='z'>,\n",
       " <re.Match object; span=(18, 19), match='a'>]"
      ]
     },
     "execution_count": 53,
     "metadata": {},
     "output_type": "execute_result"
    }
   ],
   "source": [
    "list(re.finditer(pat, test_sentence))"
   ]
  },
  {
   "cell_type": "code",
   "execution_count": 190,
   "id": "617570a9-9bbc-416b-ba73-f420f523bbef",
   "metadata": {},
   "outputs": [],
   "source": [
    "from datetime import datetime"
   ]
  },
  {
   "cell_type": "code",
   "execution_count": 191,
   "id": "a9bbec1d-b198-48da-bd72-7816e5e5d8de",
   "metadata": {},
   "outputs": [],
   "source": [
    "age_baseline = datetime.now()"
   ]
  },
  {
   "cell_type": "code",
   "execution_count": 192,
   "id": "1dbb77f3-168b-44f8-bda6-25526e5b262d",
   "metadata": {},
   "outputs": [],
   "source": [
    "account_creation_time = datetime.strptime(\"Fri Oct 15 12:57:14 +0000 2021\", \"%a %b %d %H:%M:%S %z %Y\")"
   ]
  },
  {
   "cell_type": "code",
   "execution_count": 193,
   "id": "ac5607c1-cba3-4276-9ccb-e24abf4e7983",
   "metadata": {},
   "outputs": [],
   "source": [
    "age_unit = \"seconds\""
   ]
  },
  {
   "cell_type": "code",
   "execution_count": 194,
   "id": "90c4fba8-fc64-4bfc-91e6-f129c96cf0ec",
   "metadata": {},
   "outputs": [],
   "source": [
    "account_creation_time_no_timezone = datetime.strptime(account_creation_time.strftime(\"%d-%m-%Y %H:%M:%S\"), \"%d-%m-%Y %H:%M:%S\")"
   ]
  },
  {
   "cell_type": "code",
   "execution_count": 195,
   "id": "814f5893-7b20-4cce-bcd7-23938a0eab28",
   "metadata": {},
   "outputs": [],
   "source": [
    "user_age = eval(f\"(age_baseline - account_creation_time_no_timezone).{age_unit}\")"
   ]
  },
  {
   "cell_type": "code",
   "execution_count": 196,
   "id": "77d55a19-b5a9-4c76-adb3-b8ed55959db5",
   "metadata": {},
   "outputs": [
    {
     "data": {
      "text/plain": [
       "10862"
      ]
     },
     "execution_count": 196,
     "metadata": {},
     "output_type": "execute_result"
    }
   ],
   "source": [
    "user_age"
   ]
  },
  {
   "cell_type": "code",
   "execution_count": null,
   "id": "ab757963-3bdc-462d-a48a-50bd02a099f6",
   "metadata": {},
   "outputs": [],
   "source": []
  },
  {
   "cell_type": "code",
   "execution_count": 1,
   "id": "fb50ff77-a1ff-4911-ad63-7cf43db5d98c",
   "metadata": {},
   "outputs": [],
   "source": [
    "import re"
   ]
  },
  {
   "cell_type": "code",
   "execution_count": 14,
   "id": "eebf7a28-79d8-4248-a871-82b8565ba0cf",
   "metadata": {},
   "outputs": [],
   "source": [
    "screen_name = \"asdasd\"\n",
    "pat1 = r'[0-9]'\n",
    "pat2 = r'[0-9]+'"
   ]
  },
  {
   "cell_type": "code",
   "execution_count": 15,
   "id": "c6f33f23-c3ad-4f2d-a432-48551a2b8aa7",
   "metadata": {},
   "outputs": [],
   "source": [
    "digits_count = len(re.findall(pat1, screen_name))"
   ]
  },
  {
   "cell_type": "code",
   "execution_count": 17,
   "id": "bcae44c8-48c5-4e46-ba48-6d48a492fa20",
   "metadata": {},
   "outputs": [],
   "source": [
    "l = re.findall(pat2, screen_name)"
   ]
  },
  {
   "cell_type": "code",
   "execution_count": 23,
   "id": "e956832c-5161-4f73-b8ea-7c659e165288",
   "metadata": {},
   "outputs": [],
   "source": [
    "if l:\n",
    "    print(\"asd\")"
   ]
  },
  {
   "cell_type": "code",
   "execution_count": 25,
   "id": "3f01014f-f803-452b-88a3-7dfce2d68a53",
   "metadata": {},
   "outputs": [
    {
     "data": {
      "text/plain": [
       "True"
      ]
     },
     "execution_count": 25,
     "metadata": {},
     "output_type": "execute_result"
    }
   ],
   "source": [
    "True if not l else False"
   ]
  },
  {
   "cell_type": "code",
   "execution_count": null,
   "id": "949d6d23-7124-43bd-913f-65c0f6aa79ee",
   "metadata": {},
   "outputs": [],
   "source": []
  },
  {
   "cell_type": "code",
   "execution_count": 5,
   "id": "bbdc005c-d5bf-42f8-a238-490dda201ad1",
   "metadata": {},
   "outputs": [
    {
     "data": {
      "text/plain": [
       "[]"
      ]
     },
     "execution_count": 5,
     "metadata": {},
     "output_type": "execute_result"
    }
   ],
   "source": [
    "[len(sequence) for sequence in re.findall(pat2, screen_name)]"
   ]
  },
  {
   "cell_type": "code",
   "execution_count": 4,
   "id": "dde84de3-84fb-4b9e-8a71-4344cd7f22fa",
   "metadata": {},
   "outputs": [
    {
     "ename": "ValueError",
     "evalue": "max() arg is an empty sequence",
     "output_type": "error",
     "traceback": [
      "\u001b[1;31m---------------------------------------------------------------------------\u001b[0m",
      "\u001b[1;31mValueError\u001b[0m                                Traceback (most recent call last)",
      "\u001b[1;32mC:\\Users\\P70076~1\\AppData\\Local\\Temp/ipykernel_22392/4239908650.py\u001b[0m in \u001b[0;36m<module>\u001b[1;34m\u001b[0m\n\u001b[1;32m----> 1\u001b[1;33m \u001b[0mmax_adjacent_digits\u001b[0m \u001b[1;33m=\u001b[0m \u001b[0mmax\u001b[0m\u001b[1;33m(\u001b[0m\u001b[1;33m[\u001b[0m\u001b[0mlen\u001b[0m\u001b[1;33m(\u001b[0m\u001b[0msequence\u001b[0m\u001b[1;33m)\u001b[0m \u001b[1;32mfor\u001b[0m \u001b[0msequence\u001b[0m \u001b[1;32min\u001b[0m \u001b[0mre\u001b[0m\u001b[1;33m.\u001b[0m\u001b[0mfindall\u001b[0m\u001b[1;33m(\u001b[0m\u001b[0mpat2\u001b[0m\u001b[1;33m,\u001b[0m \u001b[0mscreen_name\u001b[0m\u001b[1;33m)\u001b[0m\u001b[1;33m]\u001b[0m\u001b[1;33m)\u001b[0m\u001b[1;33m\u001b[0m\u001b[1;33m\u001b[0m\u001b[0m\n\u001b[0m",
      "\u001b[1;31mValueError\u001b[0m: max() arg is an empty sequence"
     ]
    }
   ],
   "source": [
    "max_adjacent_digits = max([len(sequence) for sequence in re.findall(pat2, screen_name)])"
   ]
  },
  {
   "cell_type": "code",
   "execution_count": 13,
   "id": "486c4976-44ac-420d-be56-30a1c1cdfa59",
   "metadata": {},
   "outputs": [
    {
     "data": {
      "text/plain": [
       "'11'"
      ]
     },
     "execution_count": 13,
     "metadata": {},
     "output_type": "execute_result"
    }
   ],
   "source": [
    "max([\"100\", \"11\"])"
   ]
  },
  {
   "cell_type": "code",
   "execution_count": 34,
   "id": "46eafc5e-0191-480e-98b2-1beb3aa0c5f5",
   "metadata": {},
   "outputs": [],
   "source": [
    "def remove_punctuation(input_text=None, flag=None):\n",
    "    def remove_whitespace(input_text=None):\n",
    "        modified_text = input_text\n",
    "        while modified_text.count(\"  \") > 0:\n",
    "            modified_text = modified_text.replace(\"  \", \" \")\n",
    "        return modified_text\n",
    "    \n",
    "    def remove_exclamations(input_text=None):\n",
    "        modified_text = input_text\n",
    "        while modified_text.count(\"!\") > 0:\n",
    "            modified_text = modified_text.replace(\"!\", \"\")\n",
    "        return modified_text\n",
    "            \n",
    "    if input_text is not None:\n",
    "        text = input_text\n",
    "        return remove_whitespace(text)\n",
    "    elif input_text is None:\n",
    "        if flag is not None:\n",
    "            new_text = \"hi hi hi aaaaa     aa a aaaa   a\" + \"!@!\"\n",
    "            return remove_exclamations(new_text)\n",
    "        elif flag is None:\n",
    "            return"
   ]
  },
  {
   "cell_type": "code",
   "execution_count": 35,
   "id": "5f64b208-95fc-49d5-b89b-b3c1409ecb96",
   "metadata": {},
   "outputs": [
    {
     "data": {
      "text/plain": [
       "'Helooo oo o o'"
      ]
     },
     "execution_count": 35,
     "metadata": {},
     "output_type": "execute_result"
    }
   ],
   "source": [
    "remove_punctuation(input_text=\"Helooo    oo  o o\")"
   ]
  },
  {
   "cell_type": "code",
   "execution_count": 36,
   "id": "ed2ad7bb-2337-4a7d-a3e3-88eff1446710",
   "metadata": {},
   "outputs": [
    {
     "data": {
      "text/plain": [
       "'hi hi hi aaaaa     aa a aaaa   a@'"
      ]
     },
     "execution_count": 36,
     "metadata": {},
     "output_type": "execute_result"
    }
   ],
   "source": [
    "remove_punctuation(flag=True)"
   ]
  },
  {
   "cell_type": "code",
   "execution_count": null,
   "id": "15ec597e-0707-42c2-97a3-8bed194c5d2b",
   "metadata": {},
   "outputs": [],
   "source": []
  },
  {
   "cell_type": "code",
   "execution_count": null,
   "id": "d870e27f-0e5c-4a13-8e2a-b9968c85bc40",
   "metadata": {},
   "outputs": [],
   "source": []
  },
  {
   "cell_type": "code",
   "execution_count": null,
   "id": "93db1068-ca2d-470d-88d2-6e141ea2131d",
   "metadata": {},
   "outputs": [],
   "source": []
  },
  {
   "cell_type": "code",
   "execution_count": 212,
   "id": "6e323073-3eb3-4532-8d38-7709bba93c56",
   "metadata": {},
   "outputs": [],
   "source": [
    "import re\n",
    "import wordninja"
   ]
  },
  {
   "cell_type": "code",
   "execution_count": 213,
   "id": "c534e4f3-c442-4553-9cf7-9c9e6b771db8",
   "metadata": {},
   "outputs": [],
   "source": [
    "pattern = r'#(\\w+)'"
   ]
  },
  {
   "cell_type": "code",
   "execution_count": 223,
   "id": "d767ba2a-a8a7-471b-8dbb-4ff214bdd3f1",
   "metadata": {},
   "outputs": [],
   "source": [
    "text_str = \"Stay tuned! Santa should have this #cuttingedge #thisishuge #whatisthis remix ready for you by Christmas Eve##a12_1_ ###stackoverflòw ##12_1,-equalsign #army #jhope #this-is-not-a-hashtag #nufsaid ##_asdd  #$ASDsad #asdasd%dsf ##asddd#sadasd#asdasd #سشیشسی_شسیasd🎁\""
   ]
  },
  {
   "cell_type": "code",
   "execution_count": 224,
   "id": "4a1c6c59-3a3b-4cae-a386-b04108ade56b",
   "metadata": {},
   "outputs": [],
   "source": [
    "# re.findall(pattern, text_str, flags= re.UNICODE)"
   ]
  },
  {
   "cell_type": "code",
   "execution_count": 225,
   "id": "9f8f4383-cf62-490b-95b5-dc8c8c8b5b7f",
   "metadata": {},
   "outputs": [],
   "source": [
    "# [potential_hashtag for potential_hashtag in re.findall(pattern, text_str, flags= re.UNICODE) if potential_hashtag[0] not in [str(u) for u in range(0,10)]]"
   ]
  },
  {
   "cell_type": "code",
   "execution_count": 226,
   "id": "9cf603a2-b415-4f30-ab11-2b4cc44d7ec5",
   "metadata": {},
   "outputs": [],
   "source": [
    "# re.findall(r'#\\w+#', text_str, flags= re.UNICODE)"
   ]
  },
  {
   "cell_type": "code",
   "execution_count": 227,
   "id": "6b51367e-954f-4ea6-9a5f-31384ed3523f",
   "metadata": {},
   "outputs": [],
   "source": [
    "pattern = r'#(\\w+)'\n",
    "string_numbers = [str(u) for u in range(0,10)]\n",
    "ht_list = []\n",
    "matches = list(re.finditer(pattern, text_str, flags= re.UNICODE))\n",
    "for match_index, match_ht in enumerate(matches):\n",
    "    # print(match_index, match_ht)\n",
    "    flag = True\n",
    "    start_index = match_ht.start()\n",
    "    end_index = match_ht.end()\n",
    "    \n",
    "    if match_index != 0:\n",
    "        if start_index == matches[match_index-1].end():\n",
    "            flag = False\n",
    "    if match_index != len(matches)-1:\n",
    "        if end_index == matches[match_index+1].start():\n",
    "            flag = False\n",
    "    \n",
    "    if flag:\n",
    "        if text_str[start_index+1] not in string_numbers:\n",
    "            ht_list.append(text_str[start_index:end_index])"
   ]
  },
  {
   "cell_type": "code",
   "execution_count": 228,
   "id": "e9f6d651-91bd-4c30-8751-d4db37f9fe73",
   "metadata": {},
   "outputs": [
    {
     "data": {
      "text/plain": [
       "['#cuttingedge',\n",
       " '#thisishuge',\n",
       " '#whatisthis',\n",
       " '#a12_1_',\n",
       " '#stackoverflòw',\n",
       " '#army',\n",
       " '#jhope',\n",
       " '#this',\n",
       " '#nufsaid',\n",
       " '#_asdd',\n",
       " '#asdasd',\n",
       " '#سشیشسی_شسیasd']"
      ]
     },
     "execution_count": 228,
     "metadata": {},
     "output_type": "execute_result"
    }
   ],
   "source": [
    "ht_list"
   ]
  },
  {
   "cell_type": "code",
   "execution_count": 229,
   "id": "725e9fef-5609-4c57-9824-55765409f958",
   "metadata": {},
   "outputs": [],
   "source": [
    "hashtags = ht_list"
   ]
  },
  {
   "cell_type": "code",
   "execution_count": 230,
   "id": "cf28ed59-eba6-487b-94a9-922453fbe7d4",
   "metadata": {},
   "outputs": [],
   "source": [
    "for hashtag in hashtags:\n",
    "    for ht in list(re.finditer(hashtag, text_str)):\n",
    "        hashtag_text = hashtag[1:]\n",
    "        hashtag_first_index, hashtag_last_index = ht.start(), ht.end()\n",
    "        text_str = text_str.replace(text_str[hashtag_first_index + 1:hashtag_last_index],\" #\".join(wordninja.split(hashtag_text)))"
   ]
  },
  {
   "cell_type": "code",
   "execution_count": 231,
   "id": "e5e4c460-3dc1-4443-afe9-1c8c649c1608",
   "metadata": {},
   "outputs": [
    {
     "data": {
      "text/plain": [
       "'Stay tuned! Santa should have this #cutting #edge #this #is #huge #what #is #this remix ready for you by Christmas Eve##a #12 #1 ###stack #over #fl #w ##12_1,-equalsign #army #j #hope #this-is-not-a-hashtag #nuf #said ##as #dd  #$ASDsad #as #das #d%dsf ##asddd#sadas #das #d #das #d #as #d🎁'"
      ]
     },
     "execution_count": 231,
     "metadata": {},
     "output_type": "execute_result"
    }
   ],
   "source": [
    "text_str"
   ]
  },
  {
   "cell_type": "code",
   "execution_count": null,
   "id": "6c088aca-719c-4144-92a0-22437f4d952f",
   "metadata": {},
   "outputs": [],
   "source": []
  },
  {
   "cell_type": "code",
   "execution_count": null,
   "id": "5b174384-d0ea-4969-80f8-b320ce4306e9",
   "metadata": {},
   "outputs": [],
   "source": []
  },
  {
   "cell_type": "code",
   "execution_count": 1,
   "id": "1d8e4663-c8f8-4412-bf3e-c28143850ce9",
   "metadata": {},
   "outputs": [],
   "source": [
    "import textstat"
   ]
  },
  {
   "cell_type": "code",
   "execution_count": 2,
   "id": "f5462c12-0818-421e-af4b-ce2e47a850a3",
   "metadata": {},
   "outputs": [],
   "source": [
    "test_data = (\n",
    "    \"Playing games has always been thought to be important to \"\n",
    "    \"the development of well-balanced and creative children; \"\n",
    "    \"however, what part, if any, they should play in the lives \"\n",
    "    \"of adults has never been researched that deeply. I believe \"\n",
    "    \"that playing games is every bit as important for adults \"\n",
    "    \"as for children. Not only is taking time out to play games \"\n",
    "    \"with our children and other adults valuable to building \"\n",
    "    \"interpersonal relationships but is also a wonderful way \"\n",
    "    \"to release built up tension.\"\n",
    ")"
   ]
  },
  {
   "cell_type": "code",
   "execution_count": 3,
   "id": "7de0b3d9-c21a-4347-ad9f-0d0b9e8a4e48",
   "metadata": {},
   "outputs": [
    {
     "data": {
      "text/plain": [
       "52.23"
      ]
     },
     "execution_count": 3,
     "metadata": {},
     "output_type": "execute_result"
    }
   ],
   "source": [
    "textstat.flesch_reading_ease(test_data)"
   ]
  },
  {
   "cell_type": "code",
   "execution_count": 5,
   "id": "2c33ffb9-4132-43a8-93d5-1e64de05aefd",
   "metadata": {},
   "outputs": [
    {
     "data": {
      "text/plain": [
       "12.8"
      ]
     },
     "execution_count": 5,
     "metadata": {},
     "output_type": "execute_result"
    }
   ],
   "source": [
    "textstat.flesch_kincaid_grade(test_data)"
   ]
  },
  {
   "cell_type": "code",
   "execution_count": 6,
   "id": "710c1117-66ca-4c28-a275-c0a9f8fd111c",
   "metadata": {},
   "outputs": [
    {
     "data": {
      "text/plain": [
       "12.5"
      ]
     },
     "execution_count": 6,
     "metadata": {},
     "output_type": "execute_result"
    }
   ],
   "source": [
    "textstat.smog_index(test_data)"
   ]
  },
  {
   "cell_type": "code",
   "execution_count": 7,
   "id": "d4c6a1ac-5aa7-4445-bc85-d10f9532afef",
   "metadata": {},
   "outputs": [
    {
     "data": {
      "text/plain": [
       "11.03"
      ]
     },
     "execution_count": 7,
     "metadata": {},
     "output_type": "execute_result"
    }
   ],
   "source": [
    "textstat.coleman_liau_index(test_data)"
   ]
  },
  {
   "cell_type": "code",
   "execution_count": 8,
   "id": "e78d147d-6cef-43c8-8dc0-c9de823ab6c0",
   "metadata": {},
   "outputs": [
    {
     "data": {
      "text/plain": [
       "15.5"
      ]
     },
     "execution_count": 8,
     "metadata": {},
     "output_type": "execute_result"
    }
   ],
   "source": [
    "textstat.automated_readability_index(test_data)"
   ]
  },
  {
   "cell_type": "code",
   "execution_count": 9,
   "id": "e63997c3-9ada-4006-9d30-2c35e9d6adfe",
   "metadata": {},
   "outputs": [
    {
     "data": {
      "text/plain": [
       "7.3"
      ]
     },
     "execution_count": 9,
     "metadata": {},
     "output_type": "execute_result"
    }
   ],
   "source": [
    "textstat.dale_chall_readability_score(test_data)"
   ]
  },
  {
   "cell_type": "code",
   "execution_count": 11,
   "id": "fae884cb-a33b-47d3-883c-69fb9f3d8033",
   "metadata": {},
   "outputs": [
    {
     "data": {
      "text/plain": [
       "9"
      ]
     },
     "execution_count": 11,
     "metadata": {},
     "output_type": "execute_result"
    }
   ],
   "source": [
    "textstat.difficult_words(test_data)"
   ]
  },
  {
   "cell_type": "code",
   "execution_count": 12,
   "id": "7219218f-8d0c-4a37-ba52-424cb94bc3f9",
   "metadata": {},
   "outputs": [
    {
     "data": {
      "text/plain": [
       "16.333333333333332"
      ]
     },
     "execution_count": 12,
     "metadata": {},
     "output_type": "execute_result"
    }
   ],
   "source": [
    "textstat.linsear_write_formula(test_data)"
   ]
  },
  {
   "cell_type": "code",
   "execution_count": 13,
   "id": "81b2bd03-8dc0-45b5-b1be-40e0bd9ef527",
   "metadata": {},
   "outputs": [
    {
     "data": {
      "text/plain": [
       "12.38"
      ]
     },
     "execution_count": 13,
     "metadata": {},
     "output_type": "execute_result"
    }
   ],
   "source": [
    "textstat.gunning_fog(test_data)"
   ]
  },
  {
   "cell_type": "code",
   "execution_count": 22,
   "id": "ae818eb2-7390-40c8-a2c5-4dae9f3c73df",
   "metadata": {},
   "outputs": [
    {
     "data": {
      "text/plain": [
       "13.0"
      ]
     },
     "execution_count": 22,
     "metadata": {},
     "output_type": "execute_result"
    }
   ],
   "source": [
    "textstat.text_standard(test_data, float_output=True)"
   ]
  },
  {
   "cell_type": "code",
   "execution_count": 15,
   "id": "473efed5-e44f-4f37-a0ef-618cbc00d239",
   "metadata": {},
   "outputs": [
    {
     "data": {
      "text/plain": [
       "89.0"
      ]
     },
     "execution_count": 15,
     "metadata": {},
     "output_type": "execute_result"
    }
   ],
   "source": [
    "textstat.fernandez_huerta(test_data)"
   ]
  },
  {
   "cell_type": "code",
   "execution_count": 16,
   "id": "ce2bf30b-cf78-486a-8a99-d311c4c85bb4",
   "metadata": {},
   "outputs": [
    {
     "data": {
      "text/plain": [
       "87.57"
      ]
     },
     "execution_count": 16,
     "metadata": {},
     "output_type": "execute_result"
    }
   ],
   "source": [
    "textstat.szigriszt_pazos(test_data)"
   ]
  },
  {
   "cell_type": "code",
   "execution_count": 17,
   "id": "5b34aa9d-3975-4318-920d-90051dddbd87",
   "metadata": {},
   "outputs": [
    {
     "data": {
      "text/plain": [
       "38.79"
      ]
     },
     "execution_count": 17,
     "metadata": {},
     "output_type": "execute_result"
    }
   ],
   "source": [
    "textstat.gutierrez_polini(test_data)"
   ]
  },
  {
   "cell_type": "code",
   "execution_count": 18,
   "id": "f124c7ed-8d46-42ef-9aed-47419e36f50d",
   "metadata": {},
   "outputs": [
    {
     "data": {
      "text/plain": [
       "3.1"
      ]
     },
     "execution_count": 18,
     "metadata": {},
     "output_type": "execute_result"
    }
   ],
   "source": [
    "textstat.crawford(test_data)\n"
   ]
  },
  {
   "cell_type": "code",
   "execution_count": 19,
   "id": "2de317db-a5fc-4e54-b94e-cafbd2f9574e",
   "metadata": {},
   "outputs": [
    {
     "data": {
      "text/plain": [
       "50.707317073170735"
      ]
     },
     "execution_count": 19,
     "metadata": {},
     "output_type": "execute_result"
    }
   ],
   "source": [
    "textstat.gulpease_index(test_data)\n"
   ]
  },
  {
   "cell_type": "code",
   "execution_count": 20,
   "id": "e4389c4f-3c64-4060-bde7-31b85f27f6e9",
   "metadata": {},
   "outputs": [
    {
     "data": {
      "text/plain": [
       "48.01"
      ]
     },
     "execution_count": 20,
     "metadata": {},
     "output_type": "execute_result"
    }
   ],
   "source": [
    "textstat.osman(test_data)\n"
   ]
  },
  {
   "cell_type": "code",
   "execution_count": null,
   "id": "58941a9b-7596-4f5d-8e16-f7d8b220c3b5",
   "metadata": {},
   "outputs": [],
   "source": []
  }
 ],
 "metadata": {
  "kernelspec": {
   "display_name": "Python 3 (ipykernel)",
   "language": "python",
   "name": "python3"
  },
  "language_info": {
   "codemirror_mode": {
    "name": "ipython",
    "version": 3
   },
   "file_extension": ".py",
   "mimetype": "text/x-python",
   "name": "python",
   "nbconvert_exporter": "python",
   "pygments_lexer": "ipython3",
   "version": "3.9.7"
  }
 },
 "nbformat": 4,
 "nbformat_minor": 5
}
