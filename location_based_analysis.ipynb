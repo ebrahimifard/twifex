{
 "cells": [
  {
   "cell_type": "code",
   "execution_count": 10,
   "id": "a40020fc-0cd2-4055-a308-c6ab502573fd",
   "metadata": {},
   "outputs": [],
   "source": [
    "from twifex import *\n",
    "from tqdm import tqdm\n",
    "from pprint import pprint\n",
    "import numpy as np\n",
    "import os\n",
    "import networkx as nx\n",
    "import matplotlib.pyplot as plt"
   ]
  },
  {
   "cell_type": "code",
   "execution_count": 11,
   "id": "da77bc3c-f12e-4d74-9692-f18160c872ae",
   "metadata": {},
   "outputs": [],
   "source": [
    "twifex = Twifex()"
   ]
  },
  {
   "cell_type": "code",
   "execution_count": 12,
   "id": "61af7d5f-c95e-4668-8fe8-c04879fa86d9",
   "metadata": {},
   "outputs": [],
   "source": [
    "new_sample = twifex.single_tweet(\"./tests/new_tweets/1430039919179837446.json\")"
   ]
  },
  {
   "cell_type": "code",
   "execution_count": null,
   "id": "2cc32187-2c52-4a56-8ee9-d9e90784fe19",
   "metadata": {},
   "outputs": [],
   "source": []
  },
  {
   "cell_type": "code",
   "execution_count": 13,
   "id": "96e2a9cf-ad68-4325-b56f-3131b23df654",
   "metadata": {},
   "outputs": [],
   "source": [
    "path1 = \"./tests/new_tweets/\"\n",
    "path2 = \"./tests/people_timeline/\"\n",
    "path3 = \"./tests/modified_tweets/\""
   ]
  },
  {
   "cell_type": "code",
   "execution_count": 14,
   "id": "0f29493f-df6d-4efc-a4fb-2497dff89bda",
   "metadata": {},
   "outputs": [
    {
     "name": "stderr",
     "output_type": "stream",
     "text": [
      "100%|████████████████████████████████████████████████████████████████████████████| 1687/1687 [00:00<00:00, 2358.78it/s]\n",
      "100%|██████████████████████████████████████████████████████████████████████████████| 305/305 [00:00<00:00, 2016.85it/s]\n",
      "100%|██████████████████████████████████████████████████████████████████████████████████| 7/7 [00:00<00:00, 1655.21it/s]\n"
     ]
    }
   ],
   "source": [
    "new_tweets = []\n",
    "for file in tqdm([i for i in os.listdir(path1) if os.path.isfile(path1+i)]):\n",
    "    if \".json\" in file:\n",
    "        new_tweets.append(twifex.single_tweet(path1+file))\n",
    "    else:\n",
    "        pass\n",
    "\n",
    "timeline_tweets = []\n",
    "for file in tqdm([i for i in os.listdir(path2) if os.path.isfile(path2+i)]):\n",
    "    if \".json\" in file:\n",
    "        timeline_tweets.append(twifex.single_tweet(path2+file))\n",
    "    else:\n",
    "        pass\n",
    "\n",
    "modified_tweets = []\n",
    "for file in tqdm([i for i in os.listdir(path3) if os.path.isfile(path3+i)]):\n",
    "    if \".json\" in file:\n",
    "        modified_tweets.append(twifex.single_tweet(path3+file))\n",
    "    else:\n",
    "        pass"
   ]
  },
  {
   "cell_type": "code",
   "execution_count": 15,
   "id": "9276cdfe-3d36-4417-bbf1-5d5e020e3ade",
   "metadata": {},
   "outputs": [],
   "source": [
    "_tweets = timeline_tweets"
   ]
  },
  {
   "cell_type": "markdown",
   "id": "4eed6d0b-569a-40f1-be7a-08bde92e9eb6",
   "metadata": {
    "tags": []
   },
   "source": [
    "# Tweets with geo locations"
   ]
  },
  {
   "cell_type": "code",
   "execution_count": 7,
   "id": "01dd68c1-95a5-432c-b357-b5f005db828a",
   "metadata": {},
   "outputs": [
    {
     "name": "stderr",
     "output_type": "stream",
     "text": [
      "100%|██████████████████████████████████████████████████████████████████████████| 1686/1686 [00:00<00:00, 748396.29it/s]\n"
     ]
    }
   ],
   "source": [
    "geos = []\n",
    "for t in tqdm(new_tweets):\n",
    "    if t.get_place() is not None:\n",
    "        geos.append(t.get_tweet())\n",
    "    elif t.get_coordinates() is not None:\n",
    "        geos.append(t.get_tweet())"
   ]
  },
  {
   "cell_type": "code",
   "execution_count": 8,
   "id": "b62c6e06-929d-40b7-a928-269a4b2b2d2b",
   "metadata": {},
   "outputs": [
    {
     "data": {
      "text/plain": [
       "32"
      ]
     },
     "execution_count": 8,
     "metadata": {},
     "output_type": "execute_result"
    }
   ],
   "source": [
    "len(geos)"
   ]
  },
  {
   "cell_type": "code",
   "execution_count": 9,
   "id": "5274d910-cf1c-4c97-9191-cdac966ca2aa",
   "metadata": {},
   "outputs": [],
   "source": [
    "# geos[0]"
   ]
  },
  {
   "cell_type": "markdown",
   "id": "64522191-debb-4353-895e-81a456046e1e",
   "metadata": {},
   "source": [
    "# Single tweet features"
   ]
  },
  {
   "cell_type": "code",
   "execution_count": 10,
   "id": "02be7b0d-95ed-4329-b9a1-21f030f0873f",
   "metadata": {},
   "outputs": [
    {
     "name": "stderr",
     "output_type": "stream",
     "text": [
      "100%|██████████████████████████████████████████████████████████████████████████| 1686/1686 [00:00<00:00, 300637.55it/s]\n"
     ]
    }
   ],
   "source": [
    "ent = []\n",
    "for tweet in tqdm(new_tweets):\n",
    "    ent.append(tweet.get_text())"
   ]
  },
  {
   "cell_type": "code",
   "execution_count": null,
   "id": "fc9dbb19-e2f4-428c-b86d-9b762145fc07",
   "metadata": {},
   "outputs": [],
   "source": []
  },
  {
   "cell_type": "code",
   "execution_count": 11,
   "id": "4d1c1d0b-8711-4efe-a724-c4ff39e1c0f3",
   "metadata": {},
   "outputs": [
    {
     "data": {
      "text/plain": [
       "'Her: where you from\\nMe: Gambia\\nHer: I from Somalia\\nMe: Whats yo name?\\nHer: Faiser\\nMe: Faiser?? Like the vaccine Pfizer?\\nHer: Fuck you🖕🏾\\nMe: https://t.co/coz1K9r3Hl'"
      ]
     },
     "execution_count": 11,
     "metadata": {},
     "output_type": "execute_result"
    }
   ],
   "source": [
    "ent[1200]"
   ]
  },
  {
   "cell_type": "code",
   "execution_count": 10,
   "id": "9a858427-6837-4985-b9f3-d5a7750e04f9",
   "metadata": {},
   "outputs": [],
   "source": [
    "y = \"amir\""
   ]
  },
  {
   "cell_type": "code",
   "execution_count": 11,
   "id": "a4e28717-dbdc-4cec-9431-7010afed581e",
   "metadata": {},
   "outputs": [
    {
     "data": {
      "text/plain": [
       "'Pmir'"
      ]
     },
     "execution_count": 11,
     "metadata": {},
     "output_type": "execute_result"
    }
   ],
   "source": [
    "y.replace(\"a\", \"p\").capitalize()"
   ]
  },
  {
   "cell_type": "markdown",
   "id": "2c2868c3-158f-4fd2-8374-64bc7f31dcd1",
   "metadata": {
    "tags": []
   },
   "source": [
    "# Network features"
   ]
  },
  {
   "cell_type": "code",
   "execution_count": 16,
   "id": "2e18c77e-eea3-436f-b893-1243dfeccccb",
   "metadata": {
    "tags": []
   },
   "outputs": [],
   "source": [
    "p = twifex.collective_tweets(_tweets).topology_based_features().time_independent_features().time_independent_location_independent_network_features().tweet_features()\n",
    "q = twifex.collective_tweets(_tweets).topology_based_features().time_independent_features().time_independent_location_independent_network_features().user_features()"
   ]
  },
  {
   "cell_type": "code",
   "execution_count": 13,
   "id": "ff4b94b3-4ac7-4b7d-aaeb-3d87b612ca12",
   "metadata": {},
   "outputs": [],
   "source": [
    "p.network_building(network_type=\"retweet\")\n",
    "p.network_building(network_type=\"quote\")\n",
    "p.network_building(network_type=\"reply\")\n",
    "p.network_building(network_type=\"quote-reply\")\n",
    "p.network_building(network_type=\"retweet-reply\")\n",
    "p.network_building(network_type=\"retweet-quote\")\n",
    "p.network_building(network_type=\"retweet-quote-reply\")"
   ]
  },
  {
   "cell_type": "code",
   "execution_count": 9,
   "id": "ccabeda7-e2f0-4904-8eb3-77ec5215fc29",
   "metadata": {},
   "outputs": [],
   "source": [
    "rt_net = p.get_network(network_type=\"retweet\") \n",
    "qt_net = p.get_network(network_type=\"quote\") \n",
    "rp_net = p.get_network(network_type=\"reply\") "
   ]
  },
  {
   "cell_type": "code",
   "execution_count": 10,
   "id": "3682c66c-5107-42bb-89d5-a1c96be4a2e1",
   "metadata": {},
   "outputs": [
    {
     "name": "stdout",
     "output_type": "stream",
     "text": [
      "retweet_network:  1711  quote_network:  1832  reply_network:  2504\n"
     ]
    }
   ],
   "source": [
    "print(\"retweet_network: \", len(rt_net.nodes), \" quote_network: \", len(qt_net.nodes), \" reply_network: \", len(rp_net.nodes))"
   ]
  },
  {
   "cell_type": "code",
   "execution_count": 11,
   "id": "2e0a2aa6-dcc6-457d-8e14-32d723f6f181",
   "metadata": {},
   "outputs": [],
   "source": [
    "p.centrality_measures(network_type=\"retweet\", metric=\"degree\")\n",
    "p.centrality_measures(network_type=\"quote\", metric=\"degree\")\n",
    "p.centrality_measures(network_type=\"reply\", metric=\"degree\")"
   ]
  },
  {
   "cell_type": "code",
   "execution_count": 12,
   "id": "f3ff7b32-aa48-423a-8cf2-86552f8bebb7",
   "metadata": {},
   "outputs": [],
   "source": [
    "p.community_detection(network_type=\"retweet\")\n",
    "p.community_detection(network_type=\"quote\")\n",
    "p.community_detection(network_type=\"reply\")"
   ]
  },
  {
   "cell_type": "code",
   "execution_count": 13,
   "id": "e719fd8e-b7c0-49b7-bc5d-504a821b9c96",
   "metadata": {},
   "outputs": [],
   "source": [
    "p.tweet_length_layer(network_type=\"retweet\")\n",
    "p.tweet_length_layer(network_type=\"quote\")\n",
    "p.tweet_length_layer(network_type=\"reply\")"
   ]
  },
  {
   "cell_type": "code",
   "execution_count": 14,
   "id": "990401e6-edb7-495a-b3a8-0696c07f2c1e",
   "metadata": {},
   "outputs": [],
   "source": [
    "p.tweet_complexity_layer(network_type=\"retweet\")\n",
    "p.tweet_complexity_layer(network_type=\"quote\")\n",
    "p.tweet_complexity_layer(network_type=\"reply\")"
   ]
  },
  {
   "cell_type": "code",
   "execution_count": 15,
   "id": "ed085388-d6b4-45d5-b147-a25e44223426",
   "metadata": {},
   "outputs": [],
   "source": [
    "p.tweet_readability_layer(network_type=\"retweet\")\n",
    "p.tweet_readability_layer(network_type=\"quote\")\n",
    "p.tweet_readability_layer(network_type=\"reply\")"
   ]
  },
  {
   "cell_type": "code",
   "execution_count": 16,
   "id": "83adbe82-1d69-4429-9d29-4f5ae03bc82e",
   "metadata": {},
   "outputs": [],
   "source": [
    "p.tweet_sentiment_layer(network_type=\"retweet\")\n",
    "p.tweet_sentiment_layer(network_type=\"quote\")\n",
    "p.tweet_sentiment_layer(network_type=\"reply\")"
   ]
  },
  {
   "cell_type": "code",
   "execution_count": 15,
   "id": "f38c8226-876c-42e6-8b6b-26f7ee1d2bc2",
   "metadata": {},
   "outputs": [],
   "source": [
    "p.download_network(network_type=\"retweet\", path=\"./n1.gexf\")\n",
    "p.download_network(network_type=\"quote\", path=\"./n2.gexf\")\n",
    "p.download_network(network_type=\"reply\", path=\"./n3.gexf\")\n",
    "p.download_network(network_type=\"quote-reply\", path=\"./n4.gexf\")\n",
    "p.download_network(network_type=\"retweet-reply\", path=\"./n5.gexf\")\n",
    "p.download_network(network_type=\"retweet-quote\", path=\"./n6.gexf\")\n",
    "p.download_network(network_type=\"retweet-quote-reply\", path=\"./n7.gexf\")"
   ]
  },
  {
   "cell_type": "code",
   "execution_count": null,
   "id": "aab5ad71-f3d9-4193-b5f9-426c97de84ee",
   "metadata": {},
   "outputs": [],
   "source": []
  },
  {
   "cell_type": "code",
   "execution_count": null,
   "id": "2cbae48d-9404-4b55-9df5-df4ce3a14986",
   "metadata": {},
   "outputs": [],
   "source": []
  },
  {
   "cell_type": "code",
   "execution_count": 17,
   "id": "bdd3628b-0a66-43ec-b1b8-157789be382d",
   "metadata": {},
   "outputs": [],
   "source": [
    "a = None\n",
    "for twt in _tweets:\n",
    "    if twt.get_id() == 1166355178674642953:\n",
    "        a = twt"
   ]
  },
  {
   "cell_type": "code",
   "execution_count": 20,
   "id": "c614eb30-7293-4bb2-8814-deb65c435311",
   "metadata": {},
   "outputs": [
    {
     "data": {
      "text/plain": [
       "1166354335741222913"
      ]
     },
     "execution_count": 20,
     "metadata": {},
     "output_type": "execute_result"
    }
   ],
   "source": [
    "a.get_quote().get_quote_status_id()"
   ]
  },
  {
   "cell_type": "code",
   "execution_count": null,
   "id": "c16b59de-e8a5-4630-b59c-83c00c29c8c7",
   "metadata": {},
   "outputs": [],
   "source": []
  },
  {
   "cell_type": "markdown",
   "id": "09da0244-b39c-417a-8cd1-98919253b365",
   "metadata": {},
   "source": [
    "# Other dataset (older one)"
   ]
  },
  {
   "cell_type": "code",
   "execution_count": null,
   "id": "32eddc5a-0898-43f3-8040-5abd4aa67ab4",
   "metadata": {},
   "outputs": [],
   "source": []
  },
  {
   "cell_type": "code",
   "execution_count": null,
   "id": "fadf62e8-cc17-45c2-b7d5-d574822dc038",
   "metadata": {},
   "outputs": [],
   "source": []
  },
  {
   "cell_type": "code",
   "execution_count": 9,
   "id": "32a6ed92-0bd1-48b3-a83b-a891559e22c1",
   "metadata": {},
   "outputs": [
    {
     "name": "stderr",
     "output_type": "stream",
     "text": [
      "100%|█████████████████████████████████████████████████████████████████████████████| 8089/8089 [00:21<00:00, 383.46it/s]\n"
     ]
    }
   ],
   "source": [
    "tweets = []\n",
    "for file in tqdm([i for i in os.listdir(\"./tests/test_case/\") if os.path.isfile(\"./tests/test_case/\"+i)]):\n",
    "    tweets.append(twix.single_tweet(\"./tests/test_case/\"+file))"
   ]
  },
  {
   "cell_type": "code",
   "execution_count": 10,
   "id": "e48fed88-e140-43d1-a467-7dd3abad9f90",
   "metadata": {},
   "outputs": [],
   "source": [
    "# u = twix.collective_tweets(tweets).mass_based_features().time_dependent_features().time_dependent_location_independent_mass_features()"
   ]
  },
  {
   "cell_type": "code",
   "execution_count": 11,
   "id": "a4adc908-22fa-401b-96b2-66e97201d461",
   "metadata": {},
   "outputs": [],
   "source": [
    "# v = u.tweet_features()"
   ]
  },
  {
   "cell_type": "code",
   "execution_count": 12,
   "id": "c0aa85ee-ff7c-44fe-a566-eef144a38080",
   "metadata": {},
   "outputs": [],
   "source": [
    "# nodes = v.tweets_in_periods()"
   ]
  },
  {
   "cell_type": "code",
   "execution_count": 13,
   "id": "29449347-c64a-4382-bccc-619cc437a0ec",
   "metadata": {},
   "outputs": [],
   "source": [
    "# v.tweet_complexity_change(nodes)"
   ]
  },
  {
   "cell_type": "code",
   "execution_count": 14,
   "id": "d5019724-1f04-4713-8c50-595468e802c1",
   "metadata": {},
   "outputs": [],
   "source": [
    "u = twix.collective_tweets(tweets).mass_based_features().time_independent_features().time_independent_location_dependent_mass_features().tweet_features()"
   ]
  },
  {
   "cell_type": "code",
   "execution_count": 15,
   "id": "ba714d10-713d-434e-b21b-cb778008f735",
   "metadata": {},
   "outputs": [],
   "source": [
    "w = twix.collective_tweets(tweets).mass_based_features().time_independent_features().time_independent_location_dependent_mass_features().user_features()"
   ]
  },
  {
   "cell_type": "code",
   "execution_count": 16,
   "id": "59af4d1f-f5f5-44b7-b43f-9e8f5e39fa93",
   "metadata": {},
   "outputs": [],
   "source": [
    "# pprint(w.spatial_status_count())"
   ]
  },
  {
   "cell_type": "code",
   "execution_count": 17,
   "id": "62c75c9e-82e2-436c-b8d0-e4bb8e1f4fb2",
   "metadata": {},
   "outputs": [],
   "source": [
    "p = twix.collective_tweets(tweets).mass_based_features().time_dependent_features().time_dependent_location_dependent_mass_features().tweet_features()"
   ]
  },
  {
   "cell_type": "code",
   "execution_count": 18,
   "id": "05348969-e18a-4b2d-909f-ceec0dfc322a",
   "metadata": {},
   "outputs": [],
   "source": [
    "# pprint(p.temporal_spatial_tweet_complexity())"
   ]
  },
  {
   "cell_type": "code",
   "execution_count": 19,
   "id": "d2756636-21be-4eed-9e81-1dad2fd16d30",
   "metadata": {},
   "outputs": [],
   "source": [
    "# pprint(p.temporal_spatial_tweet_language(order='temporal-spatial', temporal_resolution='minute', spatial_resolution='country', temporal_frequency=2))"
   ]
  }
 ],
 "metadata": {
  "kernelspec": {
   "display_name": "Python 3 (ipykernel)",
   "language": "python",
   "name": "python3"
  },
  "language_info": {
   "codemirror_mode": {
    "name": "ipython",
    "version": 3
   },
   "file_extension": ".py",
   "mimetype": "text/x-python",
   "name": "python",
   "nbconvert_exporter": "python",
   "pygments_lexer": "ipython3",
   "version": "3.9.7"
  }
 },
 "nbformat": 4,
 "nbformat_minor": 5
}
