{
 "cells": [
  {
   "cell_type": "code",
   "execution_count": 1,
   "id": "a40020fc-0cd2-4055-a308-c6ab502573fd",
   "metadata": {},
   "outputs": [],
   "source": [
    "from twifex import *\n",
    "from tqdm import tqdm\n",
    "from pprint import pprint"
   ]
  },
  {
   "cell_type": "code",
   "execution_count": 2,
   "id": "da77bc3c-f12e-4d74-9692-f18160c872ae",
   "metadata": {},
   "outputs": [],
   "source": [
    "twix = Twix()"
   ]
  },
  {
   "cell_type": "code",
   "execution_count": 3,
   "id": "61af7d5f-c95e-4668-8fe8-c04879fa86d9",
   "metadata": {},
   "outputs": [],
   "source": [
    "new_sample = twix.single_tweet(\"./tests/new_tweets/1430039919179837446.json\")"
   ]
  },
  {
   "cell_type": "code",
   "execution_count": 4,
   "id": "0c2755c2-941b-40fe-8dd1-adf813316444",
   "metadata": {},
   "outputs": [
    {
     "name": "stderr",
     "output_type": "stream",
     "text": [
      "100%|██████████████████████████████████████████████████████████████████████████████| 831/831 [00:00<00:00, 4886.46it/s]\n"
     ]
    }
   ],
   "source": [
    "new_tweets = []\n",
    "for file in tqdm([i for i in os.listdir(\"./tests/new_tweets/\") if os.path.isfile(\"./tests/new_tweets/\"+i)]):\n",
    "    if \".json\" in file:\n",
    "        new_tweets.append(twix.single_tweet(\"./tests/new_tweets/\"+file)) \n",
    "    else:\n",
    "        pass"
   ]
  },
  {
   "cell_type": "code",
   "execution_count": 5,
   "id": "4ab88fc8-936c-4bad-9822-0f828bd2083f",
   "metadata": {},
   "outputs": [
    {
     "data": {
      "text/plain": [
       "830"
      ]
     },
     "execution_count": 5,
     "metadata": {},
     "output_type": "execute_result"
    }
   ],
   "source": [
    "len(new_tweets)"
   ]
  },
  {
   "cell_type": "code",
   "execution_count": 6,
   "id": "54af2344-65a6-49b8-b466-1e8776bf888e",
   "metadata": {},
   "outputs": [],
   "source": [
    "p = twix.collective_tweets(new_tweets).mass_based_features().time_dependent_features().time_dependent_location_dependent_mass_features().tweet_features()"
   ]
  },
  {
   "cell_type": "code",
   "execution_count": 7,
   "id": "35c02ef8-f196-4576-9180-50b33f04ae13",
   "metadata": {},
   "outputs": [
    {
     "name": "stdout",
     "output_type": "stream",
     "text": [
      "{datetime.datetime(2021, 8, 24, 5, 31, 5): [<twifex.singleTweet object at 0x000001ED7DA0CF40>,\n",
      "                                            <twifex.singleTweet object at 0x000001ED7D9A5F70>]}\n"
     ]
    }
   ],
   "source": [
    "pprint(p.temporal_spatial_tweets(temporal_resolution=\"day\")[\"Canada\"])"
   ]
  },
  {
   "cell_type": "code",
   "execution_count": 8,
   "id": "8e240ca2-2ee0-4585-91ed-f2059623d4e6",
   "metadata": {},
   "outputs": [
    {
     "name": "stdout",
     "output_type": "stream",
     "text": [
      "{datetime.datetime(2021, 8, 24, 5, 30, 51): {'Canada': [<twifex.singleTweet object at 0x000001ED7DA0CF40>],\n",
      "                                             'United States': [<twifex.singleTweet object at 0x000001ED7DA071C0>]},\n",
      " datetime.datetime(2021, 8, 24, 5, 31, 51): {'United States': [<twifex.singleTweet object at 0x000001ED7D9EA070>,\n",
      "                                                               <twifex.singleTweet object at 0x000001ED7D9D1C70>]},\n",
      " datetime.datetime(2021, 8, 24, 5, 32, 51): {'Australia': [<twifex.singleTweet object at 0x000001ED7D9AFA30>],\n",
      "                                             'United States': [<twifex.singleTweet object at 0x000001ED7D9B4CA0>]},\n",
      " datetime.datetime(2021, 8, 24, 5, 33, 51): {'Australia': [<twifex.singleTweet object at 0x000001ED7D996A90>],\n",
      "                                             'Canada': [<twifex.singleTweet object at 0x000001ED7D9A5F70>],\n",
      "                                             'United States': [<twifex.singleTweet object at 0x000001ED7D9A07F0>,\n",
      "                                                               <twifex.singleTweet object at 0x000001ED7D993700>]},\n",
      " datetime.datetime(2021, 8, 24, 5, 34, 51): {'South Africa': [<twifex.singleTweet object at 0x000001ED7D966C70>],\n",
      "                                             'Thailand': [<twifex.singleTweet object at 0x000001ED7D96B970>]},\n",
      " datetime.datetime(2021, 8, 24, 5, 35, 51): {'India': [<twifex.singleTweet object at 0x000001ED7D952A30>],\n",
      "                                             'United States': [<twifex.singleTweet object at 0x000001ED7DA48EE0>]},\n",
      " datetime.datetime(2021, 8, 24, 5, 36, 51): {'Australia': [<twifex.singleTweet object at 0x000001ED7DA22B50>]},\n",
      " datetime.datetime(2021, 8, 24, 5, 37, 51): {'Malaysia': [<twifex.singleTweet object at 0x000001ED7E67E670>]}}\n"
     ]
    }
   ],
   "source": [
    "pprint(p.temporal_spatial_tweets(order='temporal-spatial', temporal_resolution='minute'))"
   ]
  },
  {
   "cell_type": "code",
   "execution_count": 9,
   "id": "1298748c-6cef-464d-8a7d-737cb5ec74f5",
   "metadata": {},
   "outputs": [
    {
     "name": "stdout",
     "output_type": "stream",
     "text": [
      "{'Australia': {datetime.datetime(2021, 8, 24, 5, 33, 44): {'average': 5.993006993006993,\n",
      "                                                           'count': 2,\n",
      "                                                           'max': 6.076923076923077,\n",
      "                                                           'median': 5.993006993006993,\n",
      "                                                           'min': 5.909090909090909,\n",
      "                                                           'stdev': 0.08391608391608374,\n",
      "                                                           'sum': 11.986013986013987},\n",
      "               datetime.datetime(2021, 8, 24, 5, 34, 44): {'average': nan,\n",
      "                                                           'count': 0,\n",
      "                                                           'max': nan,\n",
      "                                                           'median': nan,\n",
      "                                                           'min': nan,\n",
      "                                                           'stdev': nan,\n",
      "                                                           'sum': nan},\n",
      "               datetime.datetime(2021, 8, 24, 5, 35, 44): {'average': nan,\n",
      "                                                           'count': 0,\n",
      "                                                           'max': nan,\n",
      "                                                           'median': nan,\n",
      "                                                           'min': nan,\n",
      "                                                           'stdev': nan,\n",
      "                                                           'sum': nan},\n",
      "               datetime.datetime(2021, 8, 24, 5, 36, 44): {'average': 5.4222222222222225,\n",
      "                                                           'count': 1,\n",
      "                                                           'max': 5.4222222222222225,\n",
      "                                                           'median': 5.4222222222222225,\n",
      "                                                           'min': 5.4222222222222225,\n",
      "                                                           'stdev': 0.0,\n",
      "                                                           'sum': 5.4222222222222225}},\n",
      " 'Canada': {datetime.datetime(2021, 8, 24, 5, 31, 5): {'average': 9.81159420289855,\n",
      "                                                       'count': 1,\n",
      "                                                       'max': 9.81159420289855,\n",
      "                                                       'median': 9.81159420289855,\n",
      "                                                       'min': 9.81159420289855,\n",
      "                                                       'stdev': 0.0,\n",
      "                                                       'sum': 9.81159420289855},\n",
      "            datetime.datetime(2021, 8, 24, 5, 32, 5): {'average': nan,\n",
      "                                                       'count': 0,\n",
      "                                                       'max': nan,\n",
      "                                                       'median': nan,\n",
      "                                                       'min': nan,\n",
      "                                                       'stdev': nan,\n",
      "                                                       'sum': nan},\n",
      "            datetime.datetime(2021, 8, 24, 5, 33, 5): {'average': 7.0,\n",
      "                                                       'count': 1,\n",
      "                                                       'max': 7.0,\n",
      "                                                       'median': 7.0,\n",
      "                                                       'min': 7.0,\n",
      "                                                       'stdev': 0.0,\n",
      "                                                       'sum': 7.0}},\n",
      " 'India': {datetime.datetime(2021, 8, 24, 5, 36): {'average': 6.238095238095238,\n",
      "                                                   'count': 1,\n",
      "                                                   'max': 6.238095238095238,\n",
      "                                                   'median': 6.238095238095238,\n",
      "                                                   'min': 6.238095238095238,\n",
      "                                                   'stdev': 0.0,\n",
      "                                                   'sum': 6.238095238095238}},\n",
      " 'Malaysia': {datetime.datetime(2021, 8, 24, 5, 38, 14): {'average': 5.333333333333333,\n",
      "                                                          'count': 1,\n",
      "                                                          'max': 5.333333333333333,\n",
      "                                                          'median': 5.333333333333333,\n",
      "                                                          'min': 5.333333333333333,\n",
      "                                                          'stdev': 0.0,\n",
      "                                                          'sum': 5.333333333333333}},\n",
      " 'South Africa': {datetime.datetime(2021, 8, 24, 5, 35, 35): {'average': 5.357142857142857,\n",
      "                                                              'count': 1,\n",
      "                                                              'max': 5.357142857142857,\n",
      "                                                              'median': 5.357142857142857,\n",
      "                                                              'min': 5.357142857142857,\n",
      "                                                              'stdev': 0.0,\n",
      "                                                              'sum': 5.357142857142857}},\n",
      " 'Thailand': {datetime.datetime(2021, 8, 24, 5, 35, 28): {'average': 5.9375,\n",
      "                                                          'count': 1,\n",
      "                                                          'max': 5.9375,\n",
      "                                                          'median': 5.9375,\n",
      "                                                          'min': 5.9375,\n",
      "                                                          'stdev': 0.0,\n",
      "                                                          'sum': 5.9375}},\n",
      " 'United States': {datetime.datetime(2021, 8, 24, 5, 31, 14): {'average': 5.0636363636363635,\n",
      "                                                               'count': 2,\n",
      "                                                               'max': 5.733333333333333,\n",
      "                                                               'median': 5.0636363636363635,\n",
      "                                                               'min': 4.393939393939394,\n",
      "                                                               'stdev': 0.6696969696969699,\n",
      "                                                               'sum': 10.127272727272727},\n",
      "                   datetime.datetime(2021, 8, 24, 5, 32, 14): {'average': 3.909090909090909,\n",
      "                                                               'count': 1,\n",
      "                                                               'max': 3.909090909090909,\n",
      "                                                               'median': 3.909090909090909,\n",
      "                                                               'min': 3.909090909090909,\n",
      "                                                               'stdev': 0.0,\n",
      "                                                               'sum': 3.909090909090909},\n",
      "                   datetime.datetime(2021, 8, 24, 5, 33, 14): {'average': 4.40952380952381,\n",
      "                                                               'count': 2,\n",
      "                                                               'max': 5.119047619047619,\n",
      "                                                               'median': 4.40952380952381,\n",
      "                                                               'min': 3.7,\n",
      "                                                               'stdev': 0.7095238095238092,\n",
      "                                                               'sum': 8.81904761904762},\n",
      "                   datetime.datetime(2021, 8, 24, 5, 34, 14): {'average': 4.041666666666667,\n",
      "                                                               'count': 1,\n",
      "                                                               'max': 4.041666666666667,\n",
      "                                                               'median': 4.041666666666667,\n",
      "                                                               'min': 4.041666666666667,\n",
      "                                                               'stdev': 0.0,\n",
      "                                                               'sum': 4.041666666666667},\n",
      "                   datetime.datetime(2021, 8, 24, 5, 35, 14): {'average': 4.52,\n",
      "                                                               'count': 1,\n",
      "                                                               'max': 4.52,\n",
      "                                                               'median': 4.52,\n",
      "                                                               'min': 4.52,\n",
      "                                                               'stdev': 0.0,\n",
      "                                                               'sum': 4.52}}}\n"
     ]
    }
   ],
   "source": [
    "pprint(p.temporal_spatial_tweet_complexity(temporal_resolution='minute'))"
   ]
  },
  {
   "cell_type": "code",
   "execution_count": 19,
   "id": "4347986e-ed3e-46fc-a11d-93b53c984c21",
   "metadata": {},
   "outputs": [
    {
     "name": "stdout",
     "output_type": "stream",
     "text": [
      "{datetime.datetime(2021, 8, 24, 5, 30, 51): {'Australia': 2,\n",
      "                                             'Canada': 2,\n",
      "                                             'South Africa': 1,\n",
      "                                             'Thailand': 1,\n",
      "                                             'United States': 6},\n",
      " datetime.datetime(2021, 8, 24, 5, 35, 51): {'Australia': 1,\n",
      "                                             'India': 1,\n",
      "                                             'Malaysia': 1,\n",
      "                                             'United States': 1}}\n"
     ]
    }
   ],
   "source": [
    "pprint(p.temporal_spatial_tweet_count(order='temporal-spatial', temporal_resolution='minute', spatial_resolution='country', temporal_frequency=5 ))"
   ]
  },
  {
   "cell_type": "code",
   "execution_count": 22,
   "id": "10e98e0f-8b6a-4dc9-a708-4986f33ac64e",
   "metadata": {},
   "outputs": [
    {
     "ename": "AssertionError",
     "evalue": "The temporal frequency has to be a positive integer",
     "output_type": "error",
     "traceback": [
      "\u001b[1;31m---------------------------------------------------------------------------\u001b[0m",
      "\u001b[1;31mAssertionError\u001b[0m                            Traceback (most recent call last)",
      "\u001b[1;32mC:\\Users\\P70076~1\\AppData\\Local\\Temp/ipykernel_21740/1890309017.py\u001b[0m in \u001b[0;36m<module>\u001b[1;34m\u001b[0m\n\u001b[1;32m----> 1\u001b[1;33m \u001b[0mpprint\u001b[0m\u001b[1;33m(\u001b[0m\u001b[0mp\u001b[0m\u001b[1;33m.\u001b[0m\u001b[0mtemporal_spatial_tweet_length\u001b[0m\u001b[1;33m(\u001b[0m\u001b[0morder\u001b[0m\u001b[1;33m=\u001b[0m\u001b[1;34m'temporal-spatial'\u001b[0m\u001b[1;33m,\u001b[0m \u001b[0mtemporal_resolution\u001b[0m\u001b[1;33m=\u001b[0m\u001b[1;34m'minute'\u001b[0m\u001b[1;33m,\u001b[0m \u001b[0mspatial_resolution\u001b[0m\u001b[1;33m=\u001b[0m\u001b[1;34m'country'\u001b[0m\u001b[1;33m,\u001b[0m \u001b[0mtemporal_frequency\u001b[0m\u001b[1;33m=\u001b[0m\u001b[1;36m0\u001b[0m\u001b[1;33m)\u001b[0m\u001b[1;33m)\u001b[0m\u001b[1;33m\u001b[0m\u001b[1;33m\u001b[0m\u001b[0m\n\u001b[0m",
      "\u001b[1;32m~\\Documents\\Projects\\twifex\\twifex.py\u001b[0m in \u001b[0;36mtemporal_spatial_tweet_length\u001b[1;34m(self, order, temporal_resolution, temporal_frequency, spatial_resolution, length_unit)\u001b[0m\n\u001b[0;32m    918\u001b[0m                                                                                              \u001b[1;34m\"week, day, hour, minute,\"\u001b[0m\u001b[0;31m \u001b[0m\u001b[0;31m\\\u001b[0m\u001b[1;33m\u001b[0m\u001b[1;33m\u001b[0m\u001b[0m\n\u001b[0;32m    919\u001b[0m                                                                                              \u001b[1;34m\" or second\"\u001b[0m\u001b[1;33m\u001b[0m\u001b[1;33m\u001b[0m\u001b[0m\n\u001b[1;32m--> 920\u001b[1;33m         \u001b[1;32massert\u001b[0m \u001b[1;33m(\u001b[0m\u001b[0misinstance\u001b[0m\u001b[1;33m(\u001b[0m\u001b[0mtemporal_frequency\u001b[0m\u001b[1;33m,\u001b[0m \u001b[0mint\u001b[0m\u001b[1;33m)\u001b[0m \u001b[1;32mand\u001b[0m \u001b[0mtemporal_frequency\u001b[0m\u001b[1;33m>\u001b[0m\u001b[1;36m0\u001b[0m\u001b[1;33m)\u001b[0m\u001b[1;33m,\u001b[0m \u001b[1;34m\"The temporal frequency has to be a positive integer\"\u001b[0m\u001b[1;33m\u001b[0m\u001b[1;33m\u001b[0m\u001b[0m\n\u001b[0m\u001b[0;32m    921\u001b[0m         \u001b[1;32massert\u001b[0m \u001b[1;33m(\u001b[0m\u001b[0mspatial_resolution\u001b[0m \u001b[1;32min\u001b[0m \u001b[1;33m[\u001b[0m\u001b[1;34m\"country\"\u001b[0m\u001b[1;33m,\u001b[0m \u001b[1;34m\"place\"\u001b[0m\u001b[1;33m]\u001b[0m\u001b[1;33m)\u001b[0m\u001b[1;33m,\u001b[0m \u001b[1;34m\"The spatial unit of analysis has to be country or place\"\u001b[0m\u001b[1;33m\u001b[0m\u001b[1;33m\u001b[0m\u001b[0m\n\u001b[0;32m    922\u001b[0m         \u001b[1;32massert\u001b[0m \u001b[1;33m(\u001b[0m\u001b[0mlength_unit\u001b[0m \u001b[1;32min\u001b[0m \u001b[1;33m[\u001b[0m\u001b[1;34m\"character\"\u001b[0m\u001b[1;33m,\u001b[0m \u001b[1;34m\"word\"\u001b[0m\u001b[1;33m,\u001b[0m \u001b[1;34m\"sentence\"\u001b[0m\u001b[1;33m]\u001b[0m\u001b[1;33m)\u001b[0m\u001b[1;33m,\u001b[0m \u001b[1;34m\"The unit has to be character, word, or sentence\"\u001b[0m\u001b[1;33m\u001b[0m\u001b[1;33m\u001b[0m\u001b[0m\n",
      "\u001b[1;31mAssertionError\u001b[0m: The temporal frequency has to be a positive integer"
     ]
    }
   ],
   "source": [
    "pprint(p.temporal_spatial_tweet_length(order='temporal-spatial', temporal_resolution='minute', spatial_resolution='country', temporal_frequency=0))"
   ]
  },
  {
   "cell_type": "code",
   "execution_count": null,
   "id": "2263e0b4-0ad3-4e58-9112-0751e0cf422e",
   "metadata": {},
   "outputs": [],
   "source": []
  },
  {
   "cell_type": "code",
   "execution_count": null,
   "id": "315b472b-de38-4b13-95f6-e1a490f28ef0",
   "metadata": {},
   "outputs": [],
   "source": []
  },
  {
   "cell_type": "code",
   "execution_count": null,
   "id": "dfdccf02-bc9b-4e02-a910-3fc670248359",
   "metadata": {},
   "outputs": [],
   "source": []
  },
  {
   "cell_type": "code",
   "execution_count": null,
   "id": "f4c8c654-4f25-42d3-ada9-4d91d3672277",
   "metadata": {},
   "outputs": [],
   "source": []
  },
  {
   "cell_type": "code",
   "execution_count": null,
   "id": "e27cbbdb-4cc2-4e07-917e-5e0152f3192a",
   "metadata": {},
   "outputs": [],
   "source": []
  },
  {
   "cell_type": "code",
   "execution_count": 6,
   "id": "fe001124-ed65-459f-a060-2746e1327ef5",
   "metadata": {},
   "outputs": [],
   "source": [
    "v = twix.collective_tweets(new_tweets).mass_based_features().time_independent_features().time_independent_location_dependent_mass_features().tweet_features()"
   ]
  },
  {
   "cell_type": "code",
   "execution_count": 7,
   "id": "4462a071-9ecd-4a7f-adf6-6800fc31aeee",
   "metadata": {},
   "outputs": [],
   "source": [
    "w = twix.collective_tweets(new_tweets).mass_based_features().time_independent_features().time_independent_location_dependent_mass_features().user_features()"
   ]
  },
  {
   "cell_type": "code",
   "execution_count": 8,
   "id": "46c5fe7e-cba4-416a-9546-046c7a186642",
   "metadata": {},
   "outputs": [
    {
     "data": {
      "text/plain": [
       "7"
      ]
     },
     "execution_count": 8,
     "metadata": {},
     "output_type": "execute_result"
    }
   ],
   "source": [
    "len(v.tweets_with_location())"
   ]
  },
  {
   "cell_type": "code",
   "execution_count": 9,
   "id": "216f8ff7-e6a3-4ddd-ab9e-bd6ff6987bc2",
   "metadata": {},
   "outputs": [
    {
     "name": "stdout",
     "output_type": "stream",
     "text": [
      "{'Australia': 3,\n",
      " 'Canada': 2,\n",
      " 'India': 1,\n",
      " 'Malaysia': 1,\n",
      " 'South Africa': 1,\n",
      " 'Thailand': 1,\n",
      " 'United States': 7}\n"
     ]
    }
   ],
   "source": [
    "pprint(v.spatial_tweet_count())"
   ]
  },
  {
   "cell_type": "code",
   "execution_count": 20,
   "id": "ed1000d3-6b9d-4732-bdc2-b74dd2f1c268",
   "metadata": {},
   "outputs": [
    {
     "name": "stdout",
     "output_type": "stream",
     "text": [
      "{'Alor Star, Kedah': {'average': 458411.0,\n",
      "                      'max': 458411.0,\n",
      "                      'median': 458411.0,\n",
      "                      'min': 458411.0,\n",
      "                      'stdev': 0.0},\n",
      " 'Asheville, NC': {'average': 9249.0,\n",
      "                   'max': 9249.0,\n",
      "                   'median': 9249.0,\n",
      "                   'min': 9249.0,\n",
      "                   'stdev': 0.0},\n",
      " 'Azusa, CA': {'average': 81156.0,\n",
      "               'max': 81156.0,\n",
      "               'median': 81156.0,\n",
      "               'min': 81156.0,\n",
      "               'stdev': 0.0},\n",
      " 'Bukkhalo, Thailand': {'average': 10156.0,\n",
      "                        'max': 10156.0,\n",
      "                        'median': 10156.0,\n",
      "                        'min': 10156.0,\n",
      "                        'stdev': 0.0},\n",
      " 'Cleveland, OH': {'average': 265162.0,\n",
      "                   'max': 265162.0,\n",
      "                   'median': 265162.0,\n",
      "                   'min': 265162.0,\n",
      "                   'stdev': 0.0},\n",
      " 'Eagle Point, OR': {'average': 14516.0,\n",
      "                     'max': 14516.0,\n",
      "                     'median': 14516.0,\n",
      "                     'min': 14516.0,\n",
      "                     'stdev': 0.0},\n",
      " 'Fresno, CA': {'average': 7107.0,\n",
      "                'max': 7107.0,\n",
      "                'median': 7107.0,\n",
      "                'min': 7107.0,\n",
      "                'stdev': 0.0},\n",
      " 'Melbourne, Victoria': {'average': 114158.0,\n",
      "                         'max': 114158.0,\n",
      "                         'median': 114158.0,\n",
      "                         'min': 114158.0,\n",
      "                         'stdev': 0.0},\n",
      " 'Mumbai, India': {'average': 232327.0,\n",
      "                   'max': 232327.0,\n",
      "                   'median': 232327.0,\n",
      "                   'min': 232327.0,\n",
      "                   'stdev': 0.0},\n",
      " 'Port Pirie, South Australia': {'average': 13284.0,\n",
      "                                 'max': 13284.0,\n",
      "                                 'median': 13284.0,\n",
      "                                 'min': 13284.0,\n",
      "                                 'stdev': 0.0},\n",
      " 'Roodepoort, South Africa': {'average': 231.0,\n",
      "                              'max': 231.0,\n",
      "                              'median': 231.0,\n",
      "                              'min': 231.0,\n",
      "                              'stdev': 0.0},\n",
      " 'Surrey, British Columbia': {'average': 156595.0,\n",
      "                              'max': 156595.0,\n",
      "                              'median': 156595.0,\n",
      "                              'min': 156595.0,\n",
      "                              'stdev': 0.0},\n",
      " 'Sydney, New South Wales': {'average': 760.0,\n",
      "                             'max': 760.0,\n",
      "                             'median': 760.0,\n",
      "                             'min': 760.0,\n",
      "                             'stdev': 0.0},\n",
      " 'Vancouver, British Columbia': {'average': 21082.0,\n",
      "                                 'max': 21082.0,\n",
      "                                 'median': 21082.0,\n",
      "                                 'min': 21082.0,\n",
      "                                 'stdev': 0.0}}\n"
     ]
    }
   ],
   "source": [
    "pprint(w.spatial_status_count(spatial_resolution=\"place\"))"
   ]
  },
  {
   "cell_type": "code",
   "execution_count": 8,
   "id": "70f20191-7ff9-4e53-968e-3487639d165e",
   "metadata": {},
   "outputs": [
    {
     "data": {
      "text/plain": [
       "{'Surrey, British Columbia': 1,\n",
       " 'Azusa, CA': 3,\n",
       " 'Eagle Point, OR': 1,\n",
       " 'Fresno, CA': 1,\n",
       " 'Port Pirie, South Australia': 1,\n",
       " 'Vancouver, British Columbia': 1,\n",
       " 'Cleveland, OH': 1,\n",
       " 'Sydney, New South Wales': 1,\n",
       " 'Asheville, NC': 1,\n",
       " 'Bukkhalo, Thailand': 1,\n",
       " 'Roodepoort, South Africa': 1,\n",
       " 'Mumbai, India': 1,\n",
       " 'Melbourne, Victoria': 1,\n",
       " 'Alor Star, Kedah': 1}"
      ]
     },
     "execution_count": 8,
     "metadata": {},
     "output_type": "execute_result"
    }
   ],
   "source": [
    "v.spatial_tweet_count(resolution=\"place\")"
   ]
  },
  {
   "cell_type": "code",
   "execution_count": 15,
   "id": "db9aa923-d8bf-4648-87db-5cc96470afd9",
   "metadata": {},
   "outputs": [
    {
     "data": {
      "text/plain": [
       "{'Surrey, British Columbia': [<twifex.singleTweet at 0x131647d1f40>],\n",
       " 'Azusa, CA': [<twifex.singleTweet at 0x131647cc1c0>,\n",
       "  <twifex.singleTweet at 0x13164796c40>,\n",
       "  <twifex.singleTweet at 0x1316480eeb0>],\n",
       " 'Eagle Point, OR': [<twifex.singleTweet at 0x131647a9e50>],\n",
       " 'Fresno, CA': [<twifex.singleTweet at 0x13164779c70>],\n",
       " 'Port Pirie, South Australia': [<twifex.singleTweet at 0x13164774a00>],\n",
       " 'Vancouver, British Columbia': [<twifex.singleTweet at 0x1316476aaf0>],\n",
       " 'Cleveland, OH': [<twifex.singleTweet at 0x131647667c0>],\n",
       " 'Sydney, New South Wales': [<twifex.singleTweet at 0x1316475cbb0>],\n",
       " 'Asheville, NC': [<twifex.singleTweet at 0x131647576d0>],\n",
       " 'Bukkhalo, Thailand': [<twifex.singleTweet at 0x13164730a90>],\n",
       " 'Roodepoort, South Africa': [<twifex.singleTweet at 0x1316472ac40>],\n",
       " 'Mumbai, India': [<twifex.singleTweet at 0x13164817a00>],\n",
       " 'Melbourne, Victoria': [<twifex.singleTweet at 0x131647e7b20>],\n",
       " 'Alor Star, Kedah': [<twifex.singleTweet at 0x13165554430>]}"
      ]
     },
     "execution_count": 15,
     "metadata": {},
     "output_type": "execute_result"
    }
   ],
   "source": [
    "v.places_with_tweets()"
   ]
  },
  {
   "cell_type": "code",
   "execution_count": null,
   "id": "ef729776-5d57-4510-854f-3e11b2a81c6a",
   "metadata": {},
   "outputs": [],
   "source": []
  },
  {
   "cell_type": "code",
   "execution_count": null,
   "id": "b002383a-79b8-4685-9701-b075ec7a6e09",
   "metadata": {},
   "outputs": [],
   "source": []
  },
  {
   "cell_type": "code",
   "execution_count": null,
   "id": "e0b61e1e-12f8-472b-b62f-acb6f15730ca",
   "metadata": {},
   "outputs": [],
   "source": []
  },
  {
   "cell_type": "code",
   "execution_count": null,
   "id": "32eddc5a-0898-43f3-8040-5abd4aa67ab4",
   "metadata": {},
   "outputs": [],
   "source": []
  },
  {
   "cell_type": "code",
   "execution_count": null,
   "id": "fadf62e8-cc17-45c2-b7d5-d574822dc038",
   "metadata": {},
   "outputs": [],
   "source": []
  },
  {
   "cell_type": "code",
   "execution_count": 11,
   "id": "32a6ed92-0bd1-48b3-a83b-a891559e22c1",
   "metadata": {},
   "outputs": [
    {
     "name": "stderr",
     "output_type": "stream",
     "text": [
      "100%|██████████████████████████████████████████████████████████████████████████████| 8089/8089 [01:39<00:00, 81.29it/s]\n"
     ]
    }
   ],
   "source": [
    "tweets = []\n",
    "for file in tqdm([i for i in os.listdir(\"./tests/test_case/\") if os.path.isfile(\"./tests/test_case/\"+i)]):\n",
    "    tweets.append(twix.single_tweet(\"./tests/test_case/\"+file))"
   ]
  },
  {
   "cell_type": "code",
   "execution_count": 12,
   "id": "e48fed88-e140-43d1-a467-7dd3abad9f90",
   "metadata": {},
   "outputs": [],
   "source": [
    "# u = twix.collective_tweets(tweets).mass_based_features().time_dependent_features().time_dependent_location_independent_mass_features()"
   ]
  },
  {
   "cell_type": "code",
   "execution_count": 13,
   "id": "a4adc908-22fa-401b-96b2-66e97201d461",
   "metadata": {},
   "outputs": [],
   "source": [
    "# v = u.tweet_features()"
   ]
  },
  {
   "cell_type": "code",
   "execution_count": 14,
   "id": "c0aa85ee-ff7c-44fe-a566-eef144a38080",
   "metadata": {},
   "outputs": [],
   "source": [
    "# nodes = v.tweets_in_periods()"
   ]
  },
  {
   "cell_type": "code",
   "execution_count": 15,
   "id": "29449347-c64a-4382-bccc-619cc437a0ec",
   "metadata": {},
   "outputs": [],
   "source": [
    "# v.tweet_complexity_change(nodes)"
   ]
  },
  {
   "cell_type": "code",
   "execution_count": 16,
   "id": "d5019724-1f04-4713-8c50-595468e802c1",
   "metadata": {},
   "outputs": [],
   "source": [
    "u = twix.collective_tweets(tweets).mass_based_features().time_independent_features().time_independent_location_dependent_mass_features().tweet_features()"
   ]
  },
  {
   "cell_type": "code",
   "execution_count": 17,
   "id": "ba714d10-713d-434e-b21b-cb778008f735",
   "metadata": {},
   "outputs": [],
   "source": [
    "w = twix.collective_tweets(tweets).mass_based_features().time_independent_features().time_independent_location_dependent_mass_features().user_features()"
   ]
  },
  {
   "cell_type": "code",
   "execution_count": 18,
   "id": "59af4d1f-f5f5-44b7-b43f-9e8f5e39fa93",
   "metadata": {},
   "outputs": [
    {
     "name": "stdout",
     "output_type": "stream",
     "text": [
      "{'Australia': {'average': 2102.0,\n",
      "               'max': 2102.0,\n",
      "               'median': 2102.0,\n",
      "               'min': 2102.0,\n",
      "               'stdev': 0.0},\n",
      " 'Canada': {'average': 8195.75,\n",
      "            'max': 20135.0,\n",
      "            'median': 5251.0,\n",
      "            'min': 2146.0,\n",
      "            'stdev': 7008.898607306286},\n",
      " 'United Kingdom': {'average': 6849.0,\n",
      "                    'max': 14980.0,\n",
      "                    'median': 4958.0,\n",
      "                    'min': 609.0,\n",
      "                    'stdev': 6017.38154571128},\n",
      " 'United States': {'average': 20765.86111111111,\n",
      "                   'max': 177543.0,\n",
      "                   'median': 9291.5,\n",
      "                   'min': 69.0,\n",
      "                   'stdev': 34000.1982234032},\n",
      " 'Virgin Islands, U.S.': {'average': 14545.0,\n",
      "                          'max': 14545.0,\n",
      "                          'median': 14545.0,\n",
      "                          'min': 14545.0,\n",
      "                          'stdev': 0.0}}\n"
     ]
    }
   ],
   "source": [
    "pprint(w.spatial_status_count())"
   ]
  },
  {
   "cell_type": "code",
   "execution_count": 19,
   "id": "62c75c9e-82e2-436c-b8d0-e4bb8e1f4fb2",
   "metadata": {},
   "outputs": [],
   "source": [
    "p = twix.collective_tweets(tweets).mass_based_features().time_dependent_features().time_dependent_location_dependent_mass_features().tweet_features()"
   ]
  },
  {
   "cell_type": "code",
   "execution_count": 20,
   "id": "05348969-e18a-4b2d-909f-ceec0dfc322a",
   "metadata": {},
   "outputs": [
    {
     "name": "stdout",
     "output_type": "stream",
     "text": [
      "{'Australia': {datetime.datetime(2018, 9, 19, 8, 32, 26): {'average': 6.285714285714286,\n",
      "                                                           'max': 6.285714285714286,\n",
      "                                                           'median': 6.285714285714286,\n",
      "                                                           'min': 6.285714285714286,\n",
      "                                                           'stdev': 0.0}},\n",
      " 'Canada': {datetime.datetime(2018, 9, 12, 16, 15, 37): {'average': 5.368191721132898,\n",
      "                                                         'max': 6.222222222222222,\n",
      "                                                         'median': 5.0,\n",
      "                                                         'min': 4.882352941176471,\n",
      "                                                         'stdev': 0.6057977001197781},\n",
      "            datetime.datetime(2018, 9, 13, 16, 15, 37): {'average': nan,\n",
      "                                                         'max': nan,\n",
      "                                                         'median': nan,\n",
      "                                                         'min': nan,\n",
      "                                                         'stdev': nan},\n",
      "            datetime.datetime(2018, 9, 14, 16, 15, 37): {'average': nan,\n",
      "                                                         'max': nan,\n",
      "                                                         'median': nan,\n",
      "                                                         'min': nan,\n",
      "                                                         'stdev': nan},\n",
      "            datetime.datetime(2018, 9, 15, 16, 15, 37): {'average': nan,\n",
      "                                                         'max': nan,\n",
      "                                                         'median': nan,\n",
      "                                                         'min': nan,\n",
      "                                                         'stdev': nan},\n",
      "            datetime.datetime(2018, 9, 16, 16, 15, 37): {'average': nan,\n",
      "                                                         'max': nan,\n",
      "                                                         'median': nan,\n",
      "                                                         'min': nan,\n",
      "                                                         'stdev': nan},\n",
      "            datetime.datetime(2018, 9, 17, 16, 15, 37): {'average': nan,\n",
      "                                                         'max': nan,\n",
      "                                                         'median': nan,\n",
      "                                                         'min': nan,\n",
      "                                                         'stdev': nan},\n",
      "            datetime.datetime(2018, 9, 18, 16, 15, 37): {'average': nan,\n",
      "                                                         'max': nan,\n",
      "                                                         'median': nan,\n",
      "                                                         'min': nan,\n",
      "                                                         'stdev': nan},\n",
      "            datetime.datetime(2018, 9, 19, 16, 15, 37): {'average': nan,\n",
      "                                                         'max': nan,\n",
      "                                                         'median': nan,\n",
      "                                                         'min': nan,\n",
      "                                                         'stdev': nan},\n",
      "            datetime.datetime(2018, 9, 20, 16, 15, 37): {'average': nan,\n",
      "                                                         'max': nan,\n",
      "                                                         'median': nan,\n",
      "                                                         'min': nan,\n",
      "                                                         'stdev': nan},\n",
      "            datetime.datetime(2018, 9, 21, 16, 15, 37): {'average': nan,\n",
      "                                                         'max': nan,\n",
      "                                                         'median': nan,\n",
      "                                                         'min': nan,\n",
      "                                                         'stdev': nan},\n",
      "            datetime.datetime(2018, 9, 22, 16, 15, 37): {'average': 8.928571428571429,\n",
      "                                                         'max': 8.928571428571429,\n",
      "                                                         'median': 8.928571428571429,\n",
      "                                                         'min': 8.928571428571429,\n",
      "                                                         'stdev': 0.0}},\n",
      " 'United Kingdom': {datetime.datetime(2018, 9, 12, 14, 16, 13): {'average': 4.557359307359307,\n",
      "                                                                 'max': 5.636363636363637,\n",
      "                                                                 'median': 5.035714285714286,\n",
      "                                                                 'min': 3.0,\n",
      "                                                                 'stdev': 1.1281905630323474}},\n",
      " 'United States': {datetime.datetime(2018, 9, 12, 12, 18, 19): {'average': 5.2379634528508205,\n",
      "                                                                'max': 8.5,\n",
      "                                                                'median': 5.161290322580645,\n",
      "                                                                'min': 3.473684210526316,\n",
      "                                                                'stdev': 0.8945106333132403},\n",
      "                   datetime.datetime(2018, 9, 13, 12, 18, 19): {'average': 4.97412840120655,\n",
      "                                                                'max': 5.333333333333333,\n",
      "                                                                'median': 4.975609756097561,\n",
      "                                                                'min': 4.461538461538462,\n",
      "                                                                'stdev': 0.2768025809106455},\n",
      "                   datetime.datetime(2018, 9, 14, 12, 18, 19): {'average': 5.444444444444445,\n",
      "                                                                'max': 5.444444444444445,\n",
      "                                                                'median': 5.444444444444445,\n",
      "                                                                'min': 5.444444444444445,\n",
      "                                                                'stdev': 0.0},\n",
      "                   datetime.datetime(2018, 9, 15, 12, 18, 19): {'average': 5.108333333333333,\n",
      "                                                                'max': 5.416666666666667,\n",
      "                                                                'median': 5.108333333333333,\n",
      "                                                                'min': 4.8,\n",
      "                                                                'stdev': 0.30833333333333357},\n",
      "                   datetime.datetime(2018, 9, 16, 12, 18, 19): {'average': 5.6,\n",
      "                                                                'max': 5.6,\n",
      "                                                                'median': 5.6,\n",
      "                                                                'min': 5.6,\n",
      "                                                                'stdev': 0.0},\n",
      "                   datetime.datetime(2018, 9, 17, 12, 18, 19): {'average': 7.607142857142858,\n",
      "                                                                'max': 9.5,\n",
      "                                                                'median': 7.607142857142858,\n",
      "                                                                'min': 5.714285714285714,\n",
      "                                                                'stdev': 1.8928571428571428},\n",
      "                   datetime.datetime(2018, 9, 18, 12, 18, 19): {'average': 4.981052631578947,\n",
      "                                                                'max': 5.842105263157895,\n",
      "                                                                'median': 4.981052631578947,\n",
      "                                                                'min': 4.12,\n",
      "                                                                'stdev': 0.8610526315789473},\n",
      "                   datetime.datetime(2018, 9, 19, 12, 18, 19): {'average': 7.016839916839917,\n",
      "                                                                'max': 9.8,\n",
      "                                                                'median': 6.876923076923077,\n",
      "                                                                'min': 4.513513513513513,\n",
      "                                                                'stdev': 1.8844859614319545},\n",
      "                   datetime.datetime(2018, 9, 20, 12, 18, 19): {'average': nan,\n",
      "                                                                'max': nan,\n",
      "                                                                'median': nan,\n",
      "                                                                'min': nan,\n",
      "                                                                'stdev': nan},\n",
      "                   datetime.datetime(2018, 9, 21, 12, 18, 19): {'average': 5.549090909090909,\n",
      "                                                                'max': 5.818181818181818,\n",
      "                                                                'median': 5.549090909090909,\n",
      "                                                                'min': 5.28,\n",
      "                                                                'stdev': 0.26909090909090905}},\n",
      " 'Virgin Islands, U.S.': {datetime.datetime(2018, 9, 12, 15, 44, 13): {'average': 5.40625,\n",
      "                                                                       'max': 5.40625,\n",
      "                                                                       'median': 5.40625,\n",
      "                                                                       'min': 5.40625,\n",
      "                                                                       'stdev': 0.0}}}\n"
     ]
    }
   ],
   "source": [
    "pprint(p.temporal_spatial_tweet_complexity())"
   ]
  },
  {
   "cell_type": "code",
   "execution_count": 21,
   "id": "0a4d0634-414d-4cb2-9ff0-597d037c1a59",
   "metadata": {},
   "outputs": [
    {
     "ename": "SyntaxError",
     "evalue": "invalid syntax (Temp/ipykernel_23144/3213000540.py, line 1)",
     "output_type": "error",
     "traceback": [
      "\u001b[1;36m  File \u001b[1;32m\"C:\\Users\\P70076~1\\AppData\\Local\\Temp/ipykernel_23144/3213000540.py\"\u001b[1;36m, line \u001b[1;32m1\u001b[0m\n\u001b[1;33m    1.is_integer()\u001b[0m\n\u001b[1;37m      ^\u001b[0m\n\u001b[1;31mSyntaxError\u001b[0m\u001b[1;31m:\u001b[0m invalid syntax\n"
     ]
    }
   ],
   "source": [
    "1.is_integer()"
   ]
  },
  {
   "cell_type": "code",
   "execution_count": 28,
   "id": "8ef90087-a1b9-4aac-84b0-9bc08dae200c",
   "metadata": {},
   "outputs": [],
   "source": [
    "x = 0"
   ]
  },
  {
   "cell_type": "code",
   "execution_count": 29,
   "id": "9adb3561-7d81-4e4d-8bed-cf4c99fd4ca7",
   "metadata": {},
   "outputs": [
    {
     "name": "stdout",
     "output_type": "stream",
     "text": [
      "False\n"
     ]
    }
   ],
   "source": [
    "pprint(isinstance(x, int) and x>0)"
   ]
  },
  {
   "cell_type": "code",
   "execution_count": null,
   "id": "d2756636-21be-4eed-9e81-1dad2fd16d30",
   "metadata": {},
   "outputs": [],
   "source": []
  }
 ],
 "metadata": {
  "kernelspec": {
   "display_name": "Python 3 (ipykernel)",
   "language": "python",
   "name": "python3"
  },
  "language_info": {
   "codemirror_mode": {
    "name": "ipython",
    "version": 3
   },
   "file_extension": ".py",
   "mimetype": "text/x-python",
   "name": "python",
   "nbconvert_exporter": "python",
   "pygments_lexer": "ipython3",
   "version": "3.9.7"
  }
 },
 "nbformat": 4,
 "nbformat_minor": 5
}
