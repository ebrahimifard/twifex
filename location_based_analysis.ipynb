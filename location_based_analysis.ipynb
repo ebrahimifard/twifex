{
 "cells": [
  {
   "cell_type": "code",
   "execution_count": 1,
   "id": "a40020fc-0cd2-4055-a308-c6ab502573fd",
   "metadata": {},
   "outputs": [],
   "source": [
    "from twifex import *\n",
    "from tqdm import tqdm\n",
    "from pprint import pprint\n",
    "import numpy as np\n",
    "import os\n",
    "import networkx as nx\n",
    "import matplotlib.pyplot as plt"
   ]
  },
  {
   "cell_type": "code",
   "execution_count": 2,
   "id": "da77bc3c-f12e-4d74-9692-f18160c872ae",
   "metadata": {},
   "outputs": [],
   "source": [
    "twifex = Twifex()"
   ]
  },
  {
   "cell_type": "code",
   "execution_count": 3,
   "id": "61af7d5f-c95e-4668-8fe8-c04879fa86d9",
   "metadata": {},
   "outputs": [],
   "source": [
    "new_sample = twifex.single_tweet(\"./tests/new_tweets/1430039919179837446.json\")"
   ]
  },
  {
   "cell_type": "code",
   "execution_count": 4,
   "id": "96e2a9cf-ad68-4325-b56f-3131b23df654",
   "metadata": {},
   "outputs": [],
   "source": [
    "path1 = \"./tests/new_tweets/\"\n",
    "path2 = \"./tests/people_timeline/\""
   ]
  },
  {
   "cell_type": "code",
   "execution_count": 5,
   "id": "0c2755c2-941b-40fe-8dd1-adf813316444",
   "metadata": {},
   "outputs": [
    {
     "name": "stderr",
     "output_type": "stream",
     "text": [
      "100%|████████████████████████████████████████████████████████████████████████████| 1687/1687 [00:00<00:00, 1966.45it/s]\n",
      "100%|███████████████████████████████████████████████████████████████████████████████| 220/220 [00:00<00:00, 491.89it/s]\n"
     ]
    }
   ],
   "source": [
    "new_tweets = []\n",
    "for file in tqdm([i for i in os.listdir(path1) if os.path.isfile(path1+i)]):\n",
    "    if \".json\" in file:\n",
    "        new_tweets.append(twifex.single_tweet(path1+file)) \n",
    "    else:\n",
    "        pass\n",
    "    \n",
    "    \n",
    "timeline_tweets = []\n",
    "for file in tqdm([i for i in os.listdir(path2) if os.path.isfile(path2+i)]):\n",
    "    if \".json\" in file:\n",
    "        new_tweets.append(twifex.single_tweet(path2+file)) \n",
    "    else:\n",
    "        pass"
   ]
  },
  {
   "cell_type": "code",
   "execution_count": 6,
   "id": "4ab88fc8-936c-4bad-9822-0f828bd2083f",
   "metadata": {},
   "outputs": [
    {
     "data": {
      "text/plain": [
       "1906"
      ]
     },
     "execution_count": 6,
     "metadata": {},
     "output_type": "execute_result"
    }
   ],
   "source": [
    "len(new_tweets)"
   ]
  },
  {
   "cell_type": "markdown",
   "id": "64522191-debb-4353-895e-81a456046e1e",
   "metadata": {},
   "source": [
    "# Single tweet features"
   ]
  },
  {
   "cell_type": "code",
   "execution_count": null,
   "id": "02be7b0d-95ed-4329-b9a1-21f030f0873f",
   "metadata": {},
   "outputs": [],
   "source": [
    "e\n",
    "for tweet in new_tweets:\n",
    "    "
   ]
  },
  {
   "cell_type": "code",
   "execution_count": null,
   "id": "4d1c1d0b-8711-4efe-a724-c4ff39e1c0f3",
   "metadata": {},
   "outputs": [],
   "source": []
  },
  {
   "cell_type": "markdown",
   "id": "2c2868c3-158f-4fd2-8374-64bc7f31dcd1",
   "metadata": {},
   "source": [
    "# Network features"
   ]
  },
  {
   "cell_type": "code",
   "execution_count": 44,
   "id": "2e18c77e-eea3-436f-b893-1243dfeccccb",
   "metadata": {},
   "outputs": [],
   "source": [
    "p = twifex.collective_tweets(new_tweets).topology_based_features().time_independent_features().time_independent_location_independent_network_features().tweet_features()"
   ]
  },
  {
   "cell_type": "code",
   "execution_count": 45,
   "id": "21a9ef8e-0922-4428-8404-3f0a71c41e93",
   "metadata": {},
   "outputs": [],
   "source": [
    "p.network_building(network_type=\"quote\")"
   ]
  },
  {
   "cell_type": "code",
   "execution_count": 46,
   "id": "4ee57299-131d-45c9-8b08-fc552061e234",
   "metadata": {},
   "outputs": [],
   "source": [
    "# p.make_reply_network()"
   ]
  },
  {
   "cell_type": "code",
   "execution_count": 47,
   "id": "aa4f34b8-4736-4e3b-8271-f1fc80790e51",
   "metadata": {},
   "outputs": [],
   "source": [
    "# p.make_retweet_network()"
   ]
  },
  {
   "cell_type": "code",
   "execution_count": 48,
   "id": "f32847fd-53ba-4500-b48d-177172d9dc02",
   "metadata": {},
   "outputs": [],
   "source": [
    "# p.make_quote_network()"
   ]
  },
  {
   "cell_type": "code",
   "execution_count": 49,
   "id": "50a5aafa-a3ab-489d-a3f2-529e2997628e",
   "metadata": {},
   "outputs": [],
   "source": [
    "# nx.draw(rt, with_labels=True, font_weight='bold')"
   ]
  },
  {
   "cell_type": "code",
   "execution_count": 50,
   "id": "dfa3efb9-825f-48db-a648-22595bad06d1",
   "metadata": {},
   "outputs": [],
   "source": [
    "# nx.draw(rt)"
   ]
  },
  {
   "cell_type": "code",
   "execution_count": 51,
   "id": "c23fee0e-369b-41d4-a6c9-26111a6489ee",
   "metadata": {},
   "outputs": [
    {
     "data": {
      "text/plain": [
       "'quote'"
      ]
     },
     "execution_count": 51,
     "metadata": {},
     "output_type": "execute_result"
    }
   ],
   "source": [
    "p.network_type"
   ]
  },
  {
   "cell_type": "code",
   "execution_count": 53,
   "id": "b378c1e7-4b0e-4fb3-b955-c44b54501ee2",
   "metadata": {},
   "outputs": [],
   "source": [
    "# p.tweet_length_layer()"
   ]
  },
  {
   "cell_type": "code",
   "execution_count": null,
   "id": "a32f5186-6716-4395-baf1-78c977613a5d",
   "metadata": {},
   "outputs": [],
   "source": []
  },
  {
   "cell_type": "code",
   "execution_count": null,
   "id": "6f94a98d-8b7b-4ad8-a3bd-6660d79ccf92",
   "metadata": {},
   "outputs": [],
   "source": []
  },
  {
   "cell_type": "code",
   "execution_count": 54,
   "id": "fcaa1096-08e6-4c1c-b4ed-279049694ab4",
   "metadata": {},
   "outputs": [],
   "source": [
    "q = []\n",
    "for e in timeline_tweets:\n",
    "    if e.is_retweeted():\n",
    "        q.append(e)    "
   ]
  },
  {
   "cell_type": "code",
   "execution_count": 59,
   "id": "c6acc7bf-d8ad-43d8-bf57-20fae64f537a",
   "metadata": {},
   "outputs": [],
   "source": [
    "j = json.load(open(path2+\"1291486329256239105\"+\".json\"))"
   ]
  },
  {
   "cell_type": "code",
   "execution_count": 60,
   "id": "7c5f9500-14e8-47e7-8c18-59da25e03018",
   "metadata": {},
   "outputs": [
    {
     "name": "stdout",
     "output_type": "stream",
     "text": [
      "{'contributors': None,\n",
      " 'coordinates': None,\n",
      " 'created_at': 'Thu Aug 06 21:28:30 +0000 2020',\n",
      " 'entities': {'hashtags': [],\n",
      "              'symbols': [],\n",
      "              'urls': [],\n",
      "              'user_mentions': [{'id': 65494780,\n",
      "                                 'id_str': '65494780',\n",
      "                                 'indices': [3, 12],\n",
      "                                 'name': 'Shayan Sardarizadeh',\n",
      "                                 'screen_name': 'Shayan86'}]},\n",
      " 'favorite_count': 0,\n",
      " 'favorited': True,\n",
      " 'geo': None,\n",
      " 'id': 1291486329256239105,\n",
      " 'id_str': '1291486329256239105',\n",
      " 'in_reply_to_screen_name': None,\n",
      " 'in_reply_to_status_id': None,\n",
      " 'in_reply_to_status_id_str': None,\n",
      " 'in_reply_to_user_id': None,\n",
      " 'in_reply_to_user_id_str': None,\n",
      " 'is_quote_status': False,\n",
      " 'lang': 'en',\n",
      " 'place': None,\n",
      " 'retweet_count': 3157,\n",
      " 'retweeted': True,\n",
      " 'retweeted_status': {'contributors': None,\n",
      "                      'coordinates': None,\n",
      "                      'created_at': 'Thu Aug 06 16:13:43 +0000 2020',\n",
      "                      'entities': {'hashtags': [],\n",
      "                                   'symbols': [],\n",
      "                                   'urls': [{'display_url': 'twitter.com/i/web/status/1…',\n",
      "                                             'expanded_url': 'https://twitter.com/i/web/status/1291407114691325953',\n",
      "                                             'indices': [117, 140],\n",
      "                                             'url': 'https://t.co/7OPqLjWuut'}],\n",
      "                                   'user_mentions': []},\n",
      "                      'favorite_count': 8545,\n",
      "                      'favorited': True,\n",
      "                      'geo': None,\n",
      "                      'id': 1291407114691325953,\n",
      "                      'id_str': '1291407114691325953',\n",
      "                      'in_reply_to_screen_name': None,\n",
      "                      'in_reply_to_status_id': None,\n",
      "                      'in_reply_to_status_id_str': None,\n",
      "                      'in_reply_to_user_id': None,\n",
      "                      'in_reply_to_user_id_str': None,\n",
      "                      'is_quote_status': False,\n",
      "                      'lang': 'en',\n",
      "                      'place': None,\n",
      "                      'possibly_sensitive': False,\n",
      "                      'retweet_count': 3157,\n",
      "                      'retweeted': True,\n",
      "                      'source': '<a href=\"https://mobile.twitter.com\" '\n",
      "                                'rel=\"nofollow\">Twitter Web App</a>',\n",
      "                      'text': 'BREAKING: Starting today, Twitter is labelling '\n",
      "                              'accounts \"belonging to state-affiliated media '\n",
      "                              'entities, their editor… https://t.co/7OPqLjWuut',\n",
      "                      'truncated': True,\n",
      "                      'user': {'contributors_enabled': False,\n",
      "                               'created_at': 'Thu Aug 13 23:03:55 +0000 2009',\n",
      "                               'default_profile': False,\n",
      "                               'default_profile_image': False,\n",
      "                               'description': 'Journalist investigating online '\n",
      "                                              'disinformation, conspiracy '\n",
      "                                              'theories and extremism for '\n",
      "                                              '@BBCMonitoring @BBCWorld | DMs '\n",
      "                                              'open | '\n",
      "                                              'shayan.sardarizadeh@bbc.co.uk',\n",
      "                               'entities': {'description': {'urls': []},\n",
      "                                            'url': {'urls': [{'display_url': 'bbc.co.uk/news/topics/cj…',\n",
      "                                                              'expanded_url': 'http://bbc.co.uk/news/topics/cjxv13v27dyt/fake-news',\n",
      "                                                              'indices': [0,\n",
      "                                                                          23],\n",
      "                                                              'url': 'https://t.co/aEvmO6anaD'}]}},\n",
      "                               'favourites_count': 56407,\n",
      "                               'follow_request_sent': False,\n",
      "                               'followers_count': 28879,\n",
      "                               'following': True,\n",
      "                               'friends_count': 6927,\n",
      "                               'geo_enabled': False,\n",
      "                               'has_extended_profile': False,\n",
      "                               'id': 65494780,\n",
      "                               'id_str': '65494780',\n",
      "                               'is_translation_enabled': False,\n",
      "                               'is_translator': False,\n",
      "                               'lang': None,\n",
      "                               'listed_count': 0,\n",
      "                               'location': 'United Kingdom',\n",
      "                               'name': 'Shayan Sardarizadeh',\n",
      "                               'notifications': False,\n",
      "                               'profile_background_color': 'C0DEED',\n",
      "                               'profile_background_image_url': 'http://abs.twimg.com/images/themes/theme1/bg.png',\n",
      "                               'profile_background_image_url_https': 'https://abs.twimg.com/images/themes/theme1/bg.png',\n",
      "                               'profile_background_tile': False,\n",
      "                               'profile_banner_url': 'https://pbs.twimg.com/profile_banners/65494780/1616529607',\n",
      "                               'profile_image_url': 'http://pbs.twimg.com/profile_images/1386004376293105665/AAhz4VLN_normal.jpg',\n",
      "                               'profile_image_url_https': 'https://pbs.twimg.com/profile_images/1386004376293105665/AAhz4VLN_normal.jpg',\n",
      "                               'profile_link_color': '1B95E0',\n",
      "                               'profile_sidebar_border_color': 'C0DEED',\n",
      "                               'profile_sidebar_fill_color': 'DDEEF6',\n",
      "                               'profile_text_color': '333333',\n",
      "                               'profile_use_background_image': True,\n",
      "                               'protected': False,\n",
      "                               'screen_name': 'Shayan86',\n",
      "                               'statuses_count': 18524,\n",
      "                               'time_zone': None,\n",
      "                               'translator_type': 'regular',\n",
      "                               'url': 'https://t.co/aEvmO6anaD',\n",
      "                               'utc_offset': None,\n",
      "                               'verified': True,\n",
      "                               'withheld_in_countries': []}},\n",
      " 'source': '<a href=\"https://mobile.twitter.com\" rel=\"nofollow\">Twitter Web '\n",
      "           'App</a>',\n",
      " 'text': 'RT @Shayan86: BREAKING: Starting today, Twitter is labelling '\n",
      "         'accounts \"belonging to state-affiliated media entities, their '\n",
      "         'editors-in-chief…',\n",
      " 'truncated': False,\n",
      " 'user': {'contributors_enabled': False,\n",
      "          'created_at': 'Mon Jun 22 15:39:24 +0000 2015',\n",
      "          'default_profile': False,\n",
      "          'default_profile_image': False,\n",
      "          'description': 'Postdoc researcher on XAI and NLP. Studied rumour '\n",
      "                         'confrontation in social media. TU Delft PhD '\n",
      "                         'graduate.',\n",
      "          'entities': {'description': {'urls': []}},\n",
      "          'favourites_count': 3332,\n",
      "          'follow_request_sent': False,\n",
      "          'followers_count': 324,\n",
      "          'following': False,\n",
      "          'friends_count': 1916,\n",
      "          'geo_enabled': False,\n",
      "          'has_extended_profile': False,\n",
      "          'id': 3341529021,\n",
      "          'id_str': '3341529021',\n",
      "          'is_translation_enabled': False,\n",
      "          'is_translator': False,\n",
      "          'lang': None,\n",
      "          'listed_count': 0,\n",
      "          'location': 'Maastricht',\n",
      "          'name': 'Amir',\n",
      "          'notifications': False,\n",
      "          'profile_background_color': '000000',\n",
      "          'profile_background_image_url': 'http://abs.twimg.com/images/themes/theme1/bg.png',\n",
      "          'profile_background_image_url_https': 'https://abs.twimg.com/images/themes/theme1/bg.png',\n",
      "          'profile_background_tile': False,\n",
      "          'profile_banner_url': 'https://pbs.twimg.com/profile_banners/3341529021/1465235333',\n",
      "          'profile_image_url': 'http://pbs.twimg.com/profile_images/1441350603947618305/9Fughm7u_normal.jpg',\n",
      "          'profile_image_url_https': 'https://pbs.twimg.com/profile_images/1441350603947618305/9Fughm7u_normal.jpg',\n",
      "          'profile_link_color': '19CF86',\n",
      "          'profile_sidebar_border_color': '000000',\n",
      "          'profile_sidebar_fill_color': '000000',\n",
      "          'profile_text_color': '000000',\n",
      "          'profile_use_background_image': False,\n",
      "          'protected': False,\n",
      "          'screen_name': 'amiref_1991',\n",
      "          'statuses_count': 553,\n",
      "          'time_zone': None,\n",
      "          'translator_type': 'none',\n",
      "          'url': None,\n",
      "          'utc_offset': None,\n",
      "          'verified': False,\n",
      "          'withheld_in_countries': []}}\n"
     ]
    }
   ],
   "source": [
    "pprint(j)"
   ]
  },
  {
   "cell_type": "code",
   "execution_count": 39,
   "id": "bafec20b-2fa2-4b12-9148-9613805e7f9d",
   "metadata": {},
   "outputs": [],
   "source": [
    "# pprint(j[\"truncated\"])"
   ]
  },
  {
   "cell_type": "code",
   "execution_count": 55,
   "id": "4bd54443-6ed4-4396-a95f-a09e8239c697",
   "metadata": {},
   "outputs": [],
   "source": [
    "for t in q:\n",
    "    print(t.get_id())"
   ]
  },
  {
   "cell_type": "code",
   "execution_count": null,
   "id": "21a1e61e-b2b9-4284-a1fe-b8a9bd38f0b3",
   "metadata": {},
   "outputs": [],
   "source": []
  },
  {
   "cell_type": "code",
   "execution_count": null,
   "id": "6f23d478-97ef-4f27-be37-d4b3e02e0641",
   "metadata": {},
   "outputs": [],
   "source": []
  },
  {
   "cell_type": "code",
   "execution_count": 18,
   "id": "195a1f96-6229-4272-8273-09e8a474949e",
   "metadata": {},
   "outputs": [],
   "source": [
    "d=CollectiveTweets.collective_tweets_to_dictionary(new_tweets)"
   ]
  },
  {
   "cell_type": "code",
   "execution_count": 21,
   "id": "f5044c4e-b0cf-4398-848c-c95b9342e118",
   "metadata": {},
   "outputs": [
    {
     "ename": "KeyError",
     "evalue": "'1429842329133883396'",
     "output_type": "error",
     "traceback": [
      "\u001b[1;31m---------------------------------------------------------------------------\u001b[0m",
      "\u001b[1;31mKeyError\u001b[0m                                  Traceback (most recent call last)",
      "\u001b[1;32mC:\\Users\\P70076~1\\AppData\\Local\\Temp/ipykernel_2160/107231085.py\u001b[0m in \u001b[0;36m<module>\u001b[1;34m\u001b[0m\n\u001b[1;32m----> 1\u001b[1;33m \u001b[0md\u001b[0m\u001b[1;33m[\u001b[0m\u001b[1;34m\"1429842329133883396\"\u001b[0m\u001b[1;33m]\u001b[0m\u001b[1;33m\u001b[0m\u001b[1;33m\u001b[0m\u001b[0m\n\u001b[0m",
      "\u001b[1;31mKeyError\u001b[0m: '1429842329133883396'"
     ]
    }
   ],
   "source": []
  },
  {
   "cell_type": "code",
   "execution_count": null,
   "id": "7e52a7fa-4c18-42c8-9ad8-c51994e6c995",
   "metadata": {},
   "outputs": [],
   "source": []
  },
  {
   "cell_type": "code",
   "execution_count": 56,
   "id": "6979c7e1-ebd6-4752-bbd7-7855146d1384",
   "metadata": {},
   "outputs": [],
   "source": [
    "for node in rp.nodes():\n",
    "    rp.nodes[node][\"id\"] = 1"
   ]
  },
  {
   "cell_type": "code",
   "execution_count": 18,
   "id": "f3cb535f-d64c-4951-9006-80dfb2684c3f",
   "metadata": {},
   "outputs": [],
   "source": [
    "s = p.centrality_measures(rp)"
   ]
  },
  {
   "cell_type": "code",
   "execution_count": 20,
   "id": "694b726d-f742-4696-9510-43181a935bd2",
   "metadata": {},
   "outputs": [
    {
     "data": {
      "text/plain": [
       "{'degree_centrality': 0.0,\n",
       " 'in_degree_centrality': 0.0,\n",
       " 'out_degree_centrality': 0.0}"
      ]
     },
     "execution_count": 20,
     "metadata": {},
     "output_type": "execute_result"
    }
   ],
   "source": [
    "s.nodes[1430024151889113089]"
   ]
  },
  {
   "cell_type": "code",
   "execution_count": 22,
   "id": "0648e21e-a358-4c58-8cce-4fb1380fc7eb",
   "metadata": {},
   "outputs": [
    {
     "data": {
      "text/plain": [
       "919"
      ]
     },
     "execution_count": 22,
     "metadata": {},
     "output_type": "execute_result"
    }
   ],
   "source": [
    "s."
   ]
  },
  {
   "cell_type": "code",
   "execution_count": 44,
   "id": "09aec35b-6762-4b4c-bef5-9cfadb5457ac",
   "metadata": {},
   "outputs": [],
   "source": [
    "twts = CollectiveTweets.collective_tweets_to_dictionary(timeline_tweets)"
   ]
  },
  {
   "cell_type": "code",
   "execution_count": 45,
   "id": "9959d4d7-613f-4f30-aaa0-99de513820d9",
   "metadata": {},
   "outputs": [],
   "source": [
    "retweets = []\n",
    "for tweet_id, tweet in twts.items():\n",
    "    if tweet.is_retweeted():\n",
    "        retweets.append(tweet)"
   ]
  },
  {
   "cell_type": "code",
   "execution_count": 46,
   "id": "75d25a8f-7fbd-4e6c-9315-653ffe001271",
   "metadata": {},
   "outputs": [],
   "source": [
    "replies = []\n",
    "for tweet_id, tweet in twts.items():\n",
    "    if tweet.is_this_a_reply():\n",
    "        replies.append(tweet)"
   ]
  },
  {
   "cell_type": "code",
   "execution_count": 47,
   "id": "516189ef-bb0b-41ea-9f5d-8ec08dc8d973",
   "metadata": {},
   "outputs": [],
   "source": [
    "quotes = []\n",
    "for tweet_id, tweet in twts.items():\n",
    "    if tweet.is_quoted():\n",
    "        quotes.append(tweet)"
   ]
  },
  {
   "cell_type": "code",
   "execution_count": 48,
   "id": "47f5102f-c28e-4f93-9225-70bd05062b27",
   "metadata": {},
   "outputs": [
    {
     "data": {
      "text/plain": [
       "0"
      ]
     },
     "execution_count": 48,
     "metadata": {},
     "output_type": "execute_result"
    }
   ],
   "source": [
    "len(retweets)"
   ]
  },
  {
   "cell_type": "code",
   "execution_count": 49,
   "id": "67a24154-b365-4220-9f3d-629314a34d70",
   "metadata": {
    "tags": []
   },
   "outputs": [
    {
     "data": {
      "text/plain": [
       "0"
      ]
     },
     "execution_count": 49,
     "metadata": {},
     "output_type": "execute_result"
    }
   ],
   "source": [
    "len(replies)"
   ]
  },
  {
   "cell_type": "code",
   "execution_count": 50,
   "id": "dca27720-943e-43e0-9543-2260f5b22622",
   "metadata": {},
   "outputs": [
    {
     "data": {
      "text/plain": [
       "0"
      ]
     },
     "execution_count": 50,
     "metadata": {},
     "output_type": "execute_result"
    }
   ],
   "source": [
    "len(quotes)"
   ]
  },
  {
   "cell_type": "code",
   "execution_count": 34,
   "id": "76a66426-5282-4b62-af60-916fcc26ed4c",
   "metadata": {},
   "outputs": [
    {
     "data": {
      "text/plain": [
       "1430024217727098882"
      ]
     },
     "execution_count": 34,
     "metadata": {},
     "output_type": "execute_result"
    }
   ],
   "source": [
    "quotes[0].get_id()"
   ]
  },
  {
   "cell_type": "code",
   "execution_count": null,
   "id": "9c7f7786-8a69-4005-b760-bb5e364d4f8d",
   "metadata": {},
   "outputs": [],
   "source": [
    "network = nx.DiGraph()\n",
    "for tweet_id, tweet in twts.items():\n",
    "    retweet_condition = tweet.is_retweeted()\n",
    "    print(retweet_condition)\n",
    "    if retweet_condition is True:\n",
    "        network.add_edge(tweet.get_retweeted().get_id(), tweet.get_id(), kind=\"retweet\")\n",
    "    elif retweet_condition is False:\n",
    "        network.add_node(tweet.get_id())"
   ]
  },
  {
   "cell_type": "code",
   "execution_count": 35,
   "id": "447904ba-bd57-4f77-9b3a-8b3bbd599b59",
   "metadata": {},
   "outputs": [],
   "source": [
    "#Sample of a quote tweet\n",
    "# pprint(json.load(open(\"./tests/new_tweets/1430024217727098882.json\")))"
   ]
  },
  {
   "cell_type": "code",
   "execution_count": null,
   "id": "3c504b43-196e-4562-9fe0-de94aa94d747",
   "metadata": {},
   "outputs": [],
   "source": []
  },
  {
   "cell_type": "code",
   "execution_count": null,
   "id": "533a55cb-57f0-46e6-b6c8-ce00457681b3",
   "metadata": {},
   "outputs": [],
   "source": []
  },
  {
   "cell_type": "code",
   "execution_count": null,
   "id": "b49d98e4-2fcb-4392-9df8-61201d704da3",
   "metadata": {},
   "outputs": [],
   "source": []
  },
  {
   "cell_type": "code",
   "execution_count": null,
   "id": "8ffcea9d-3b2f-41f7-bf4d-279c935a108e",
   "metadata": {},
   "outputs": [],
   "source": []
  },
  {
   "cell_type": "code",
   "execution_count": null,
   "id": "f1e238b7-6b75-4956-ad8f-0ea0d018a523",
   "metadata": {},
   "outputs": [],
   "source": []
  },
  {
   "cell_type": "code",
   "execution_count": null,
   "id": "0c3bde7d-f2c1-441a-93a2-cd591785334c",
   "metadata": {},
   "outputs": [],
   "source": []
  },
  {
   "cell_type": "code",
   "execution_count": null,
   "id": "9e21eefb-0250-4a92-a8c2-284ecf444d90",
   "metadata": {},
   "outputs": [],
   "source": []
  },
  {
   "cell_type": "code",
   "execution_count": null,
   "id": "ed956445-8730-4c6f-9e8e-8b5020da51a5",
   "metadata": {},
   "outputs": [],
   "source": []
  },
  {
   "cell_type": "code",
   "execution_count": null,
   "id": "87174290-94a0-4dd0-b880-dfb1625eb6c7",
   "metadata": {},
   "outputs": [],
   "source": []
  },
  {
   "cell_type": "code",
   "execution_count": null,
   "id": "7701f8a2-37d7-4645-aa6c-64467ddde0d0",
   "metadata": {},
   "outputs": [],
   "source": []
  },
  {
   "cell_type": "code",
   "execution_count": 6,
   "id": "54af2344-65a6-49b8-b466-1e8776bf888e",
   "metadata": {},
   "outputs": [],
   "source": [
    "p = twix.collective_tweets(new_tweets).mass_based_features().time_dependent_features().time_dependent_location_dependent_mass_features().tweet_features()\n",
    "q = twix.collective_tweets(new_tweets).mass_based_features().time_dependent_features().time_dependent_location_dependent_mass_features().user_features()"
   ]
  },
  {
   "cell_type": "code",
   "execution_count": 7,
   "id": "35c02ef8-f196-4576-9180-50b33f04ae13",
   "metadata": {},
   "outputs": [],
   "source": [
    "# pprint(p.temporal_spatial_tweets(temporal_resolution=\"day\")[\"Canada\"])"
   ]
  },
  {
   "cell_type": "code",
   "execution_count": 8,
   "id": "8e240ca2-2ee0-4585-91ed-f2059623d4e6",
   "metadata": {},
   "outputs": [],
   "source": [
    "# pprint(p.temporal_spatial_tweets(order='temporal-spatial', temporal_resolution='minute'))"
   ]
  },
  {
   "cell_type": "code",
   "execution_count": 9,
   "id": "1298748c-6cef-464d-8a7d-737cb5ec74f5",
   "metadata": {},
   "outputs": [],
   "source": [
    "# pprint(p.temporal_spatial_tweet_complexity(temporal_resolution='minute'))"
   ]
  },
  {
   "cell_type": "code",
   "execution_count": 10,
   "id": "4347986e-ed3e-46fc-a11d-93b53c984c21",
   "metadata": {},
   "outputs": [],
   "source": [
    "# pprint(p.temporal_spatial_tweet_count(order='temporal-spatial', temporal_resolution='minute', spatial_resolution='country', temporal_frequency=5 ))"
   ]
  },
  {
   "cell_type": "code",
   "execution_count": 11,
   "id": "10e98e0f-8b6a-4dc9-a708-4986f33ac64e",
   "metadata": {},
   "outputs": [],
   "source": [
    "# pprint(p.temporal_spatial_tweet_length(order='temporal-spatial', temporal_resolution='minute', spatial_resolution='country', temporal_frequency=2))"
   ]
  },
  {
   "cell_type": "code",
   "execution_count": 12,
   "id": "7a69b914-f874-4722-8b08-278337ccf81f",
   "metadata": {},
   "outputs": [],
   "source": [
    "# pprint(p.temporal_spatial_tweet_count(order='temporal-spatial', temporal_resolution='minute', spatial_resolution='country', temporal_frequency=2))"
   ]
  },
  {
   "cell_type": "code",
   "execution_count": 13,
   "id": "2263e0b4-0ad3-4e58-9112-0751e0cf422e",
   "metadata": {},
   "outputs": [],
   "source": [
    "# pprint(p.temporal_spatial_tweet_sentiment(order='temporal-spatial', temporal_resolution='minute', spatial_resolution='country', temporal_frequency=2, sentiment_engine=\"textblob\"))"
   ]
  },
  {
   "cell_type": "code",
   "execution_count": 14,
   "id": "315b472b-de38-4b13-95f6-e1a490f28ef0",
   "metadata": {},
   "outputs": [],
   "source": [
    "# pprint(p.temporal_spatial_tweet_likes_count(order='temporal-spatial', temporal_resolution='minute', spatial_resolution='country', temporal_frequency=2))"
   ]
  },
  {
   "cell_type": "code",
   "execution_count": 15,
   "id": "dfdccf02-bc9b-4e02-a910-3fc670248359",
   "metadata": {},
   "outputs": [],
   "source": [
    "# pprint(p.temporal_spatial_tweet_retweet_count(order='temporal-spatial', temporal_resolution='minute', spatial_resolution='country', temporal_frequency=2))"
   ]
  },
  {
   "cell_type": "code",
   "execution_count": 16,
   "id": "f4c8c654-4f25-42d3-ada9-4d91d3672277",
   "metadata": {},
   "outputs": [],
   "source": [
    "# pprint(p.temporal_spatial_tweet_language(order='temporal-spatial', temporal_resolution='minute', spatial_resolution='country', temporal_frequency=2))"
   ]
  },
  {
   "cell_type": "code",
   "execution_count": 17,
   "id": "45b2b107-5f59-4bff-a4af-bb0a3b8d4563",
   "metadata": {},
   "outputs": [],
   "source": [
    "# pprint(p.temporal_spatial_tweet_language())"
   ]
  },
  {
   "cell_type": "code",
   "execution_count": 18,
   "id": "2d389c0b-2985-4045-a1ed-5f113bb20a67",
   "metadata": {},
   "outputs": [],
   "source": [
    "# for i in new_tweets:\n",
    "#     pprint(i.get_emojis(count=False))"
   ]
  },
  {
   "cell_type": "code",
   "execution_count": 19,
   "id": "05438499-39bf-4e38-8fe4-13368eeab1cf",
   "metadata": {},
   "outputs": [],
   "source": [
    "# pprint(p.temporal_spatial_tweet_case_analysis(order='temporal-spatial', temporal_resolution='hour', spatial_resolution='country', temporal_frequency=2, unit_of_analysis=\"word\"))"
   ]
  },
  {
   "cell_type": "code",
   "execution_count": 20,
   "id": "14565e57-e645-4b99-96b0-c7ad2826638e",
   "metadata": {},
   "outputs": [],
   "source": [
    "# pprint(q.temporal_spatial_user_friends(order='spatial-temporal', temporal_resolution='day', spatial_resolution='country', temporal_frequency=3))"
   ]
  },
  {
   "cell_type": "code",
   "execution_count": 21,
   "id": "df490109-42e1-4a51-98d3-60c77ec04963",
   "metadata": {},
   "outputs": [],
   "source": [
    "# pprint(q.temporal_spatial_user_reputation(order='temporal-spatial', temporal_resolution='minute', spatial_resolution='place', temporal_frequency=3))"
   ]
  },
  {
   "cell_type": "code",
   "execution_count": 22,
   "id": "0b6d5c36-c041-400b-88cc-3c79d624d152",
   "metadata": {},
   "outputs": [],
   "source": [
    "# pprint(q.temporal_spatial_user_account_age(order='temporal-spatial', temporal_resolution='day', spatial_resolution='country', temporal_frequency=3))"
   ]
  },
  {
   "cell_type": "code",
   "execution_count": 23,
   "id": "5c44d2f5-83bd-41ac-acca-dfa8e727a35d",
   "metadata": {},
   "outputs": [],
   "source": [
    "# pprint(q.temporal_spatial_user_total_likes_count(order='temporal-spatial', temporal_resolution='day', spatial_resolution='country', temporal_frequency=3))"
   ]
  },
  {
   "cell_type": "code",
   "execution_count": 24,
   "id": "191f3acf-8f91-47b3-8ae4-5aabe7ee687b",
   "metadata": {},
   "outputs": [],
   "source": [
    "# pprint(q.temporal_spatial_user_friends())"
   ]
  },
  {
   "cell_type": "code",
   "execution_count": 25,
   "id": "abff47b9-7d1a-4125-91da-0879a1fb6b70",
   "metadata": {},
   "outputs": [],
   "source": [
    "# pprint(q.test(functionality=\"friend_count\"))"
   ]
  },
  {
   "cell_type": "code",
   "execution_count": 27,
   "id": "47759fb7-bff8-4207-83db-89320f12337a",
   "metadata": {},
   "outputs": [
    {
     "name": "stdout",
     "output_type": "stream",
     "text": [
      "{datetime.datetime(2021, 8, 24, 5, 30, 51): {'Australia': {'average': 42734.0,\n",
      "                                                           'count': 3,\n",
      "                                                           'max': 114158.0,\n",
      "                                                           'median': 13284.0,\n",
      "                                                           'min': 760.0,\n",
      "                                                           'stdev': 50762.54180659856,\n",
      "                                                           'sum': 128202.0},\n",
      "                                             'Canada': {'average': 88838.5,\n",
      "                                                        'count': 2,\n",
      "                                                        'max': 156595.0,\n",
      "                                                        'median': 88838.5,\n",
      "                                                        'min': 21082.0,\n",
      "                                                        'stdev': 67756.5,\n",
      "                                                        'sum': 177677.0},\n",
      "                                             'India': {'average': 232327.0,\n",
      "                                                       'count': 1,\n",
      "                                                       'max': 232327.0,\n",
      "                                                       'median': 232327.0,\n",
      "                                                       'min': 232327.0,\n",
      "                                                       'stdev': 0.0,\n",
      "                                                       'sum': 232327.0},\n",
      "                                             'Malaysia': {'average': 458411.0,\n",
      "                                                          'count': 1,\n",
      "                                                          'max': 458411.0,\n",
      "                                                          'median': 458411.0,\n",
      "                                                          'min': 458411.0,\n",
      "                                                          'stdev': 0.0,\n",
      "                                                          'sum': 458411.0},\n",
      "                                             'South Africa': {'average': 231.0,\n",
      "                                                              'count': 1,\n",
      "                                                              'max': 231.0,\n",
      "                                                              'median': 231.0,\n",
      "                                                              'min': 231.0,\n",
      "                                                              'stdev': 0.0,\n",
      "                                                              'sum': 231.0},\n",
      "                                             'Thailand': {'average': 10156.0,\n",
      "                                                          'count': 1,\n",
      "                                                          'max': 10156.0,\n",
      "                                                          'median': 10156.0,\n",
      "                                                          'min': 10156.0,\n",
      "                                                          'stdev': 0.0,\n",
      "                                                          'sum': 10156.0},\n",
      "                                             'United States': {'average': 77071.71428571429,\n",
      "                                                               'count': 7,\n",
      "                                                               'max': 265162.0,\n",
      "                                                               'median': 81156.0,\n",
      "                                                               'min': 7107.0,\n",
      "                                                               'stdev': 83526.04295105344,\n",
      "                                                               'sum': 539502.0}}}\n"
     ]
    }
   ],
   "source": [
    "pprint(q.temporal_spatial_user_status_count(order='temporal-spatial', temporal_resolution='day', spatial_resolution='country', temporal_frequency=3))"
   ]
  },
  {
   "cell_type": "code",
   "execution_count": 28,
   "id": "7fa08c08-9fbd-45c9-87f2-d7dce18155fc",
   "metadata": {},
   "outputs": [
    {
     "name": "stdout",
     "output_type": "stream",
     "text": [
      "{datetime.datetime(2021, 8, 24, 5, 30, 51): {'Australia': {'average': 42734.0,\n",
      "                                                           'count': 3,\n",
      "                                                           'max': 114158.0,\n",
      "                                                           'median': 13284.0,\n",
      "                                                           'min': 760.0,\n",
      "                                                           'stdev': 50762.54180659856,\n",
      "                                                           'sum': 128202.0},\n",
      "                                             'Canada': {'average': 88838.5,\n",
      "                                                        'count': 2,\n",
      "                                                        'max': 156595.0,\n",
      "                                                        'median': 88838.5,\n",
      "                                                        'min': 21082.0,\n",
      "                                                        'stdev': 67756.5,\n",
      "                                                        'sum': 177677.0},\n",
      "                                             'India': {'average': 232327.0,\n",
      "                                                       'count': 1,\n",
      "                                                       'max': 232327.0,\n",
      "                                                       'median': 232327.0,\n",
      "                                                       'min': 232327.0,\n",
      "                                                       'stdev': 0.0,\n",
      "                                                       'sum': 232327.0},\n",
      "                                             'Malaysia': {'average': 458411.0,\n",
      "                                                          'count': 1,\n",
      "                                                          'max': 458411.0,\n",
      "                                                          'median': 458411.0,\n",
      "                                                          'min': 458411.0,\n",
      "                                                          'stdev': 0.0,\n",
      "                                                          'sum': 458411.0},\n",
      "                                             'South Africa': {'average': 231.0,\n",
      "                                                              'count': 1,\n",
      "                                                              'max': 231.0,\n",
      "                                                              'median': 231.0,\n",
      "                                                              'min': 231.0,\n",
      "                                                              'stdev': 0.0,\n",
      "                                                              'sum': 231.0},\n",
      "                                             'Thailand': {'average': 10156.0,\n",
      "                                                          'count': 1,\n",
      "                                                          'max': 10156.0,\n",
      "                                                          'median': 10156.0,\n",
      "                                                          'min': 10156.0,\n",
      "                                                          'stdev': 0.0,\n",
      "                                                          'sum': 10156.0},\n",
      "                                             'United States': {'average': 77071.71428571429,\n",
      "                                                               'count': 7,\n",
      "                                                               'max': 265162.0,\n",
      "                                                               'median': 81156.0,\n",
      "                                                               'min': 7107.0,\n",
      "                                                               'stdev': 83526.04295105344,\n",
      "                                                               'sum': 539502.0}}}\n"
     ]
    }
   ],
   "source": [
    "pprint(q.temporal_spatial_user_analysis(analysis_type=\"users_status_count\", order='temporal-spatial', temporal_resolution='day', spatial_resolution='country', temporal_frequency=3))"
   ]
  },
  {
   "cell_type": "code",
   "execution_count": null,
   "id": "b8d6fd83-a8b1-4868-a299-6cd41bcc43c6",
   "metadata": {},
   "outputs": [],
   "source": []
  },
  {
   "cell_type": "code",
   "execution_count": null,
   "id": "21554c5d-9e71-433e-929d-9b95c0bcb33d",
   "metadata": {},
   "outputs": [],
   "source": []
  },
  {
   "cell_type": "code",
   "execution_count": null,
   "id": "d1d325fc-a8ec-462d-9c8d-da6ec63f90d1",
   "metadata": {},
   "outputs": [],
   "source": []
  },
  {
   "cell_type": "code",
   "execution_count": 54,
   "id": "d99c63c8-7c5c-4783-80e5-17a477634b67",
   "metadata": {},
   "outputs": [],
   "source": [
    "x = \"pop()\""
   ]
  },
  {
   "cell_type": "code",
   "execution_count": 55,
   "id": "038544ec-4fe9-40a9-83f0-edb4e8a88ecd",
   "metadata": {},
   "outputs": [
    {
     "ename": "AttributeError",
     "evalue": "'list' object has no attribute 'x'",
     "output_type": "error",
     "traceback": [
      "\u001b[1;31m---------------------------------------------------------------------------\u001b[0m",
      "\u001b[1;31mAttributeError\u001b[0m                            Traceback (most recent call last)",
      "\u001b[1;32mC:\\Users\\P70076~1\\AppData\\Local\\Temp/ipykernel_1880/572093146.py\u001b[0m in \u001b[0;36m<module>\u001b[1;34m\u001b[0m\n\u001b[1;32m----> 1\u001b[1;33m \u001b[0meval\u001b[0m\u001b[1;33m(\u001b[0m\u001b[1;34m'[1,2,3].x'\u001b[0m\u001b[1;33m)\u001b[0m\u001b[1;33m\u001b[0m\u001b[1;33m\u001b[0m\u001b[0m\n\u001b[0m",
      "\u001b[1;32m<string>\u001b[0m in \u001b[0;36m<module>\u001b[1;34m\u001b[0m\n",
      "\u001b[1;31mAttributeError\u001b[0m: 'list' object has no attribute 'x'"
     ]
    }
   ],
   "source": [
    "eval('[1,2,3].x')"
   ]
  },
  {
   "cell_type": "code",
   "execution_count": null,
   "id": "bdd3628b-0a66-43ec-b1b8-157789be382d",
   "metadata": {},
   "outputs": [],
   "source": []
  },
  {
   "cell_type": "code",
   "execution_count": null,
   "id": "0c6e40b9-aba6-463c-9f7a-e1629e8db009",
   "metadata": {},
   "outputs": [],
   "source": []
  },
  {
   "cell_type": "code",
   "execution_count": 60,
   "id": "f5ed7364-f313-4444-b97d-7bfa63463094",
   "metadata": {},
   "outputs": [],
   "source": []
  },
  {
   "cell_type": "code",
   "execution_count": null,
   "id": "68829146-c836-4cc6-8d92-ced559f196c9",
   "metadata": {},
   "outputs": [],
   "source": []
  },
  {
   "cell_type": "code",
   "execution_count": null,
   "id": "7a29827d-2048-43d3-b2d1-45a8591753ff",
   "metadata": {},
   "outputs": [],
   "source": []
  },
  {
   "cell_type": "code",
   "execution_count": null,
   "id": "ce18179b-9652-4bcb-bb79-524f567a0aab",
   "metadata": {},
   "outputs": [],
   "source": []
  },
  {
   "cell_type": "code",
   "execution_count": 14,
   "id": "fe001124-ed65-459f-a060-2746e1327ef5",
   "metadata": {},
   "outputs": [],
   "source": [
    "v = twix.collective_tweets(new_tweets).mass_based_features().time_independent_features().time_independent_location_dependent_mass_features().tweet_features()"
   ]
  },
  {
   "cell_type": "code",
   "execution_count": 15,
   "id": "4462a071-9ecd-4a7f-adf6-6800fc31aeee",
   "metadata": {},
   "outputs": [],
   "source": [
    "w = twix.collective_tweets(new_tweets).mass_based_features().time_independent_features().time_independent_location_dependent_mass_features().user_features()"
   ]
  },
  {
   "cell_type": "code",
   "execution_count": 16,
   "id": "46c5fe7e-cba4-416a-9546-046c7a186642",
   "metadata": {},
   "outputs": [
    {
     "data": {
      "text/plain": [
       "7"
      ]
     },
     "execution_count": 16,
     "metadata": {},
     "output_type": "execute_result"
    }
   ],
   "source": [
    "len(v.tweets_with_location())"
   ]
  },
  {
   "cell_type": "code",
   "execution_count": 17,
   "id": "216f8ff7-e6a3-4ddd-ab9e-bd6ff6987bc2",
   "metadata": {},
   "outputs": [
    {
     "name": "stdout",
     "output_type": "stream",
     "text": [
      "{'Australia': 3,\n",
      " 'Canada': 2,\n",
      " 'India': 1,\n",
      " 'Malaysia': 1,\n",
      " 'South Africa': 1,\n",
      " 'Thailand': 1,\n",
      " 'United States': 7}\n"
     ]
    }
   ],
   "source": [
    "pprint(v.spatial_tweet_count())"
   ]
  },
  {
   "cell_type": "code",
   "execution_count": 40,
   "id": "ed1000d3-6b9d-4732-bdc2-b74dd2f1c268",
   "metadata": {},
   "outputs": [],
   "source": [
    "# pprint(v.spatial_sentiment())"
   ]
  },
  {
   "cell_type": "code",
   "execution_count": 8,
   "id": "70f20191-7ff9-4e53-968e-3487639d165e",
   "metadata": {},
   "outputs": [
    {
     "data": {
      "text/plain": [
       "{'Surrey, British Columbia': 1,\n",
       " 'Azusa, CA': 3,\n",
       " 'Eagle Point, OR': 1,\n",
       " 'Fresno, CA': 1,\n",
       " 'Port Pirie, South Australia': 1,\n",
       " 'Vancouver, British Columbia': 1,\n",
       " 'Cleveland, OH': 1,\n",
       " 'Sydney, New South Wales': 1,\n",
       " 'Asheville, NC': 1,\n",
       " 'Bukkhalo, Thailand': 1,\n",
       " 'Roodepoort, South Africa': 1,\n",
       " 'Mumbai, India': 1,\n",
       " 'Melbourne, Victoria': 1,\n",
       " 'Alor Star, Kedah': 1}"
      ]
     },
     "execution_count": 8,
     "metadata": {},
     "output_type": "execute_result"
    }
   ],
   "source": [
    "v.spatial_tweet_count(resolution=\"place\")"
   ]
  },
  {
   "cell_type": "code",
   "execution_count": 15,
   "id": "db9aa923-d8bf-4648-87db-5cc96470afd9",
   "metadata": {},
   "outputs": [
    {
     "data": {
      "text/plain": [
       "{'Surrey, British Columbia': [<twifex.singleTweet at 0x131647d1f40>],\n",
       " 'Azusa, CA': [<twifex.singleTweet at 0x131647cc1c0>,\n",
       "  <twifex.singleTweet at 0x13164796c40>,\n",
       "  <twifex.singleTweet at 0x1316480eeb0>],\n",
       " 'Eagle Point, OR': [<twifex.singleTweet at 0x131647a9e50>],\n",
       " 'Fresno, CA': [<twifex.singleTweet at 0x13164779c70>],\n",
       " 'Port Pirie, South Australia': [<twifex.singleTweet at 0x13164774a00>],\n",
       " 'Vancouver, British Columbia': [<twifex.singleTweet at 0x1316476aaf0>],\n",
       " 'Cleveland, OH': [<twifex.singleTweet at 0x131647667c0>],\n",
       " 'Sydney, New South Wales': [<twifex.singleTweet at 0x1316475cbb0>],\n",
       " 'Asheville, NC': [<twifex.singleTweet at 0x131647576d0>],\n",
       " 'Bukkhalo, Thailand': [<twifex.singleTweet at 0x13164730a90>],\n",
       " 'Roodepoort, South Africa': [<twifex.singleTweet at 0x1316472ac40>],\n",
       " 'Mumbai, India': [<twifex.singleTweet at 0x13164817a00>],\n",
       " 'Melbourne, Victoria': [<twifex.singleTweet at 0x131647e7b20>],\n",
       " 'Alor Star, Kedah': [<twifex.singleTweet at 0x13165554430>]}"
      ]
     },
     "execution_count": 15,
     "metadata": {},
     "output_type": "execute_result"
    }
   ],
   "source": [
    "v.places_with_tweets()"
   ]
  },
  {
   "cell_type": "code",
   "execution_count": null,
   "id": "ef729776-5d57-4510-854f-3e11b2a81c6a",
   "metadata": {},
   "outputs": [],
   "source": []
  },
  {
   "cell_type": "code",
   "execution_count": null,
   "id": "b002383a-79b8-4685-9701-b075ec7a6e09",
   "metadata": {},
   "outputs": [],
   "source": []
  },
  {
   "cell_type": "markdown",
   "id": "09da0244-b39c-417a-8cd1-98919253b365",
   "metadata": {},
   "source": [
    "# Other dataset (older one)"
   ]
  },
  {
   "cell_type": "code",
   "execution_count": null,
   "id": "32eddc5a-0898-43f3-8040-5abd4aa67ab4",
   "metadata": {},
   "outputs": [],
   "source": []
  },
  {
   "cell_type": "code",
   "execution_count": null,
   "id": "fadf62e8-cc17-45c2-b7d5-d574822dc038",
   "metadata": {},
   "outputs": [],
   "source": []
  },
  {
   "cell_type": "code",
   "execution_count": 9,
   "id": "32a6ed92-0bd1-48b3-a83b-a891559e22c1",
   "metadata": {},
   "outputs": [
    {
     "name": "stderr",
     "output_type": "stream",
     "text": [
      "100%|█████████████████████████████████████████████████████████████████████████████| 8089/8089 [00:21<00:00, 383.46it/s]\n"
     ]
    }
   ],
   "source": [
    "tweets = []\n",
    "for file in tqdm([i for i in os.listdir(\"./tests/test_case/\") if os.path.isfile(\"./tests/test_case/\"+i)]):\n",
    "    tweets.append(twix.single_tweet(\"./tests/test_case/\"+file))"
   ]
  },
  {
   "cell_type": "code",
   "execution_count": 10,
   "id": "e48fed88-e140-43d1-a467-7dd3abad9f90",
   "metadata": {},
   "outputs": [],
   "source": [
    "# u = twix.collective_tweets(tweets).mass_based_features().time_dependent_features().time_dependent_location_independent_mass_features()"
   ]
  },
  {
   "cell_type": "code",
   "execution_count": 11,
   "id": "a4adc908-22fa-401b-96b2-66e97201d461",
   "metadata": {},
   "outputs": [],
   "source": [
    "# v = u.tweet_features()"
   ]
  },
  {
   "cell_type": "code",
   "execution_count": 12,
   "id": "c0aa85ee-ff7c-44fe-a566-eef144a38080",
   "metadata": {},
   "outputs": [],
   "source": [
    "# nodes = v.tweets_in_periods()"
   ]
  },
  {
   "cell_type": "code",
   "execution_count": 13,
   "id": "29449347-c64a-4382-bccc-619cc437a0ec",
   "metadata": {},
   "outputs": [],
   "source": [
    "# v.tweet_complexity_change(nodes)"
   ]
  },
  {
   "cell_type": "code",
   "execution_count": 14,
   "id": "d5019724-1f04-4713-8c50-595468e802c1",
   "metadata": {},
   "outputs": [],
   "source": [
    "u = twix.collective_tweets(tweets).mass_based_features().time_independent_features().time_independent_location_dependent_mass_features().tweet_features()"
   ]
  },
  {
   "cell_type": "code",
   "execution_count": 15,
   "id": "ba714d10-713d-434e-b21b-cb778008f735",
   "metadata": {},
   "outputs": [],
   "source": [
    "w = twix.collective_tweets(tweets).mass_based_features().time_independent_features().time_independent_location_dependent_mass_features().user_features()"
   ]
  },
  {
   "cell_type": "code",
   "execution_count": 16,
   "id": "59af4d1f-f5f5-44b7-b43f-9e8f5e39fa93",
   "metadata": {},
   "outputs": [],
   "source": [
    "# pprint(w.spatial_status_count())"
   ]
  },
  {
   "cell_type": "code",
   "execution_count": 17,
   "id": "62c75c9e-82e2-436c-b8d0-e4bb8e1f4fb2",
   "metadata": {},
   "outputs": [],
   "source": [
    "p = twix.collective_tweets(tweets).mass_based_features().time_dependent_features().time_dependent_location_dependent_mass_features().tweet_features()"
   ]
  },
  {
   "cell_type": "code",
   "execution_count": 18,
   "id": "05348969-e18a-4b2d-909f-ceec0dfc322a",
   "metadata": {},
   "outputs": [],
   "source": [
    "# pprint(p.temporal_spatial_tweet_complexity())"
   ]
  },
  {
   "cell_type": "code",
   "execution_count": 19,
   "id": "d2756636-21be-4eed-9e81-1dad2fd16d30",
   "metadata": {},
   "outputs": [],
   "source": [
    "# pprint(p.temporal_spatial_tweet_language(order='temporal-spatial', temporal_resolution='minute', spatial_resolution='country', temporal_frequency=2))"
   ]
  },
  {
   "cell_type": "code",
   "execution_count": 20,
   "id": "85d3163f-dd66-4907-92c3-b71aad7cf46e",
   "metadata": {},
   "outputs": [
    {
     "name": "stdout",
     "output_type": "stream",
     "text": [
      "{'Australia': {datetime.datetime(2018, 9, 19, 8, 32, 26): {}},\n",
      " 'Canada': {datetime.datetime(2018, 9, 12, 16, 15, 37): {},\n",
      "            datetime.datetime(2018, 9, 13, 16, 15, 37): {},\n",
      "            datetime.datetime(2018, 9, 14, 16, 15, 37): {},\n",
      "            datetime.datetime(2018, 9, 15, 16, 15, 37): {},\n",
      "            datetime.datetime(2018, 9, 16, 16, 15, 37): {},\n",
      "            datetime.datetime(2018, 9, 17, 16, 15, 37): {},\n",
      "            datetime.datetime(2018, 9, 18, 16, 15, 37): {},\n",
      "            datetime.datetime(2018, 9, 19, 16, 15, 37): {},\n",
      "            datetime.datetime(2018, 9, 20, 16, 15, 37): {},\n",
      "            datetime.datetime(2018, 9, 21, 16, 15, 37): {},\n",
      "            datetime.datetime(2018, 9, 22, 16, 15, 37): {}},\n",
      " 'United Kingdom': {datetime.datetime(2018, 9, 12, 14, 16, 13): {'🙄': 4}},\n",
      " 'United States': {datetime.datetime(2018, 9, 12, 12, 18, 19): {'❤': 1,\n",
      "                                                                '👉': 1,\n",
      "                                                                '👊': 1,\n",
      "                                                                '💯': 1,\n",
      "                                                                '😂': 1,\n",
      "                                                                '😫': 1,\n",
      "                                                                '🤔': 1},\n",
      "                   datetime.datetime(2018, 9, 13, 12, 18, 19): {},\n",
      "                   datetime.datetime(2018, 9, 14, 12, 18, 19): {},\n",
      "                   datetime.datetime(2018, 9, 15, 12, 18, 19): {'👏': 3},\n",
      "                   datetime.datetime(2018, 9, 16, 12, 18, 19): {},\n",
      "                   datetime.datetime(2018, 9, 17, 12, 18, 19): {},\n",
      "                   datetime.datetime(2018, 9, 18, 12, 18, 19): {},\n",
      "                   datetime.datetime(2018, 9, 19, 12, 18, 19): {},\n",
      "                   datetime.datetime(2018, 9, 20, 12, 18, 19): {},\n",
      "                   datetime.datetime(2018, 9, 21, 12, 18, 19): {'🇸': 1,\n",
      "                                                                '🇺': 1,\n",
      "                                                                '🏽': 1,\n",
      "                                                                '👎': 1}},\n",
      " 'Virgin Islands, U.S.': {datetime.datetime(2018, 9, 12, 15, 44, 13): {}}}\n"
     ]
    }
   ],
   "source": [
    "pprint(p.temporal_spatial_tweet_emojis())"
   ]
  },
  {
   "cell_type": "code",
   "execution_count": 24,
   "id": "57b905c1-0060-42a4-81d7-c64a0ef6e480",
   "metadata": {},
   "outputs": [],
   "source": [
    "dc = {1:\"a\", 2:\"b\", 3:\"c\", 4:\"c\", 5:\"d\", 6:\"b\", 7:\"c\", 8:\"c\", 9:\"a\", 10:\"b\", 11:\"a\", 12:\"a\", 13:\"d\", 14:\"b\", 15:\"b\", 16:\"d\"}"
   ]
  },
  {
   "cell_type": "code",
   "execution_count": 28,
   "id": "382d75aa-6111-4b9c-bcc6-e87178813f1d",
   "metadata": {},
   "outputs": [],
   "source": [
    "dcc = {}\n",
    "# val = set(dc.values())\n",
    "for k,v in dc.items():\n",
    "    dcc[v] = dcc.get(v, []) + [k]"
   ]
  },
  {
   "cell_type": "code",
   "execution_count": 30,
   "id": "0d3fccc3-7356-444e-9d2e-51cb5d5a2184",
   "metadata": {},
   "outputs": [
    {
     "data": {
      "text/plain": [
       "{1: 'a',\n",
       " 2: 'b',\n",
       " 3: 'c',\n",
       " 4: 'c',\n",
       " 5: 'd',\n",
       " 6: 'b',\n",
       " 7: 'c',\n",
       " 8: 'c',\n",
       " 9: 'a',\n",
       " 10: 'b',\n",
       " 11: 'a',\n",
       " 12: 'a',\n",
       " 13: 'd',\n",
       " 14: 'b',\n",
       " 15: 'b',\n",
       " 16: 'd'}"
      ]
     },
     "execution_count": 30,
     "metadata": {},
     "output_type": "execute_result"
    }
   ],
   "source": [
    "dc"
   ]
  },
  {
   "cell_type": "code",
   "execution_count": 29,
   "id": "385c625e-fdbe-4353-9e44-4b6c939d9eea",
   "metadata": {},
   "outputs": [
    {
     "data": {
      "text/plain": [
       "{'a': [1, 9, 11, 12],\n",
       " 'b': [2, 6, 10, 14, 15],\n",
       " 'c': [3, 4, 7, 8],\n",
       " 'd': [5, 13, 16]}"
      ]
     },
     "execution_count": 29,
     "metadata": {},
     "output_type": "execute_result"
    }
   ],
   "source": [
    "dcc"
   ]
  },
  {
   "cell_type": "code",
   "execution_count": null,
   "id": "9c34d93e-4524-4e12-a0ca-6d6c4a943539",
   "metadata": {},
   "outputs": [],
   "source": []
  },
  {
   "cell_type": "code",
   "execution_count": 37,
   "id": "5afd182b-3bda-4d6f-8519-f7edf26a0277",
   "metadata": {},
   "outputs": [],
   "source": [
    "class Test:\n",
    "    def __init__(self):\n",
    "        self.a = 1\n",
    "        self.b = 2\n",
    "\n",
    "    def get_a(self):\n",
    "        return self.a\n",
    "    \n",
    "    def get_b(self):\n",
    "        return self.b\n",
    "    \n",
    "    def set_a(x=2):\n",
    "        self.a=x\n",
    "        \n",
    "    def set_b(x=3):\n",
    "        self.b=x\n",
    "        \n",
    "        "
   ]
  },
  {
   "cell_type": "code",
   "execution_count": 38,
   "id": "969f405a-adda-41eb-a1d1-da9ae2c1fb67",
   "metadata": {},
   "outputs": [],
   "source": [
    "c = Test()"
   ]
  },
  {
   "cell_type": "code",
   "execution_count": 39,
   "id": "7c5a80ee-e1c0-4899-9d81-005b1e6ef8e4",
   "metadata": {},
   "outputs": [
    {
     "data": {
      "text/plain": [
       "1"
      ]
     },
     "execution_count": 39,
     "metadata": {},
     "output_type": "execute_result"
    }
   ],
   "source": [
    "c.get_a()"
   ]
  },
  {
   "cell_type": "code",
   "execution_count": null,
   "id": "df14cda6-1847-4ea9-9000-9bd92bcd1788",
   "metadata": {},
   "outputs": [],
   "source": []
  }
 ],
 "metadata": {
  "kernelspec": {
   "display_name": "Python 3 (ipykernel)",
   "language": "python",
   "name": "python3"
  },
  "language_info": {
   "codemirror_mode": {
    "name": "ipython",
    "version": 3
   },
   "file_extension": ".py",
   "mimetype": "text/x-python",
   "name": "python",
   "nbconvert_exporter": "python",
   "pygments_lexer": "ipython3",
   "version": "3.9.7"
  }
 },
 "nbformat": 4,
 "nbformat_minor": 5
}
