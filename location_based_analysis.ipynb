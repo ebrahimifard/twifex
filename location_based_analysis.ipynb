{
 "cells": [
  {
   "cell_type": "code",
   "execution_count": 1,
   "id": "a40020fc-0cd2-4055-a308-c6ab502573fd",
   "metadata": {},
   "outputs": [],
   "source": [
    "from twifex import *\n",
    "from tqdm import tqdm\n",
    "from pprint import pprint\n",
    "import numpy as np\n",
    "import os"
   ]
  },
  {
   "cell_type": "code",
   "execution_count": 2,
   "id": "da77bc3c-f12e-4d74-9692-f18160c872ae",
   "metadata": {},
   "outputs": [],
   "source": [
    "twix = Twix()"
   ]
  },
  {
   "cell_type": "code",
   "execution_count": 3,
   "id": "61af7d5f-c95e-4668-8fe8-c04879fa86d9",
   "metadata": {},
   "outputs": [],
   "source": [
    "new_sample = twix.single_tweet(\"./tests/new_tweets/1430039919179837446.json\")"
   ]
  },
  {
   "cell_type": "code",
   "execution_count": 4,
   "id": "0c2755c2-941b-40fe-8dd1-adf813316444",
   "metadata": {},
   "outputs": [
    {
     "name": "stderr",
     "output_type": "stream",
     "text": [
      "100%|██████████████████████████████████████████████████████████████████████████████| 831/831 [00:00<00:00, 1401.36it/s]\n"
     ]
    }
   ],
   "source": [
    "new_tweets = []\n",
    "for file in tqdm([i for i in os.listdir(\"./tests/new_tweets/\") if os.path.isfile(\"./tests/new_tweets/\"+i)]):\n",
    "    if \".json\" in file:\n",
    "        new_tweets.append(twix.single_tweet(\"./tests/new_tweets/\"+file)) \n",
    "    else:\n",
    "        pass"
   ]
  },
  {
   "cell_type": "code",
   "execution_count": 5,
   "id": "4ab88fc8-936c-4bad-9822-0f828bd2083f",
   "metadata": {},
   "outputs": [
    {
     "data": {
      "text/plain": [
       "830"
      ]
     },
     "execution_count": 5,
     "metadata": {},
     "output_type": "execute_result"
    }
   ],
   "source": [
    "len(new_tweets)"
   ]
  },
  {
   "cell_type": "code",
   "execution_count": 6,
   "id": "54af2344-65a6-49b8-b466-1e8776bf888e",
   "metadata": {},
   "outputs": [],
   "source": [
    "p = twix.collective_tweets(new_tweets).mass_based_features().time_dependent_features().time_dependent_location_dependent_mass_features().tweet_features()\n",
    "q = twix.collective_tweets(new_tweets).mass_based_features().time_dependent_features().time_dependent_location_dependent_mass_features().user_features()"
   ]
  },
  {
   "cell_type": "code",
   "execution_count": 7,
   "id": "35c02ef8-f196-4576-9180-50b33f04ae13",
   "metadata": {},
   "outputs": [],
   "source": [
    "# pprint(p.temporal_spatial_tweets(temporal_resolution=\"day\")[\"Canada\"])"
   ]
  },
  {
   "cell_type": "code",
   "execution_count": 8,
   "id": "8e240ca2-2ee0-4585-91ed-f2059623d4e6",
   "metadata": {},
   "outputs": [],
   "source": [
    "# pprint(p.temporal_spatial_tweets(order='temporal-spatial', temporal_resolution='minute'))"
   ]
  },
  {
   "cell_type": "code",
   "execution_count": 9,
   "id": "1298748c-6cef-464d-8a7d-737cb5ec74f5",
   "metadata": {},
   "outputs": [],
   "source": [
    "# pprint(p.temporal_spatial_tweet_complexity(temporal_resolution='minute'))"
   ]
  },
  {
   "cell_type": "code",
   "execution_count": 10,
   "id": "4347986e-ed3e-46fc-a11d-93b53c984c21",
   "metadata": {},
   "outputs": [],
   "source": [
    "# pprint(p.temporal_spatial_tweet_count(order='temporal-spatial', temporal_resolution='minute', spatial_resolution='country', temporal_frequency=5 ))"
   ]
  },
  {
   "cell_type": "code",
   "execution_count": 11,
   "id": "10e98e0f-8b6a-4dc9-a708-4986f33ac64e",
   "metadata": {},
   "outputs": [],
   "source": [
    "# pprint(p.temporal_spatial_tweet_length(order='temporal-spatial', temporal_resolution='minute', spatial_resolution='country', temporal_frequency=2))"
   ]
  },
  {
   "cell_type": "code",
   "execution_count": 12,
   "id": "7a69b914-f874-4722-8b08-278337ccf81f",
   "metadata": {},
   "outputs": [],
   "source": [
    "# pprint(p.temporal_spatial_tweet_count(order='temporal-spatial', temporal_resolution='minute', spatial_resolution='country', temporal_frequency=2))"
   ]
  },
  {
   "cell_type": "code",
   "execution_count": 13,
   "id": "2263e0b4-0ad3-4e58-9112-0751e0cf422e",
   "metadata": {},
   "outputs": [],
   "source": [
    "# pprint(p.temporal_spatial_tweet_sentiment(order='temporal-spatial', temporal_resolution='minute', spatial_resolution='country', temporal_frequency=2, sentiment_engine=\"textblob\"))"
   ]
  },
  {
   "cell_type": "code",
   "execution_count": 14,
   "id": "315b472b-de38-4b13-95f6-e1a490f28ef0",
   "metadata": {},
   "outputs": [],
   "source": [
    "# pprint(p.temporal_spatial_tweet_likes_count(order='temporal-spatial', temporal_resolution='minute', spatial_resolution='country', temporal_frequency=2))"
   ]
  },
  {
   "cell_type": "code",
   "execution_count": 15,
   "id": "dfdccf02-bc9b-4e02-a910-3fc670248359",
   "metadata": {},
   "outputs": [],
   "source": [
    "# pprint(p.temporal_spatial_tweet_retweet_count(order='temporal-spatial', temporal_resolution='minute', spatial_resolution='country', temporal_frequency=2))"
   ]
  },
  {
   "cell_type": "code",
   "execution_count": 16,
   "id": "f4c8c654-4f25-42d3-ada9-4d91d3672277",
   "metadata": {},
   "outputs": [],
   "source": [
    "# pprint(p.temporal_spatial_tweet_language(order='temporal-spatial', temporal_resolution='minute', spatial_resolution='country', temporal_frequency=2))"
   ]
  },
  {
   "cell_type": "code",
   "execution_count": 17,
   "id": "45b2b107-5f59-4bff-a4af-bb0a3b8d4563",
   "metadata": {},
   "outputs": [],
   "source": [
    "# pprint(p.temporal_spatial_tweet_language())"
   ]
  },
  {
   "cell_type": "code",
   "execution_count": 18,
   "id": "2d389c0b-2985-4045-a1ed-5f113bb20a67",
   "metadata": {},
   "outputs": [],
   "source": [
    "# for i in new_tweets:\n",
    "#     pprint(i.get_emojis(count=False))"
   ]
  },
  {
   "cell_type": "code",
   "execution_count": 19,
   "id": "05438499-39bf-4e38-8fe4-13368eeab1cf",
   "metadata": {},
   "outputs": [],
   "source": [
    "# pprint(p.temporal_spatial_tweet_case_analysis(order='temporal-spatial', temporal_resolution='hour', spatial_resolution='country', temporal_frequency=2, unit_of_analysis=\"word\"))"
   ]
  },
  {
   "cell_type": "code",
   "execution_count": 20,
   "id": "14565e57-e645-4b99-96b0-c7ad2826638e",
   "metadata": {},
   "outputs": [],
   "source": [
    "# pprint(q.temporal_spatial_user_friends(order='spatial-temporal', temporal_resolution='day', spatial_resolution='country', temporal_frequency=3))"
   ]
  },
  {
   "cell_type": "code",
   "execution_count": 21,
   "id": "df490109-42e1-4a51-98d3-60c77ec04963",
   "metadata": {},
   "outputs": [],
   "source": [
    "# pprint(q.temporal_spatial_user_reputation(order='temporal-spatial', temporal_resolution='minute', spatial_resolution='place', temporal_frequency=3))"
   ]
  },
  {
   "cell_type": "code",
   "execution_count": 22,
   "id": "0b6d5c36-c041-400b-88cc-3c79d624d152",
   "metadata": {},
   "outputs": [],
   "source": [
    "# pprint(q.temporal_spatial_user_account_age(order='temporal-spatial', temporal_resolution='day', spatial_resolution='country', temporal_frequency=3))"
   ]
  },
  {
   "cell_type": "code",
   "execution_count": 23,
   "id": "5c44d2f5-83bd-41ac-acca-dfa8e727a35d",
   "metadata": {},
   "outputs": [],
   "source": [
    "# pprint(q.temporal_spatial_user_total_likes_count(order='temporal-spatial', temporal_resolution='day', spatial_resolution='country', temporal_frequency=3))"
   ]
  },
  {
   "cell_type": "code",
   "execution_count": 24,
   "id": "191f3acf-8f91-47b3-8ae4-5aabe7ee687b",
   "metadata": {},
   "outputs": [],
   "source": [
    "# pprint(q.temporal_spatial_user_friends())"
   ]
  },
  {
   "cell_type": "code",
   "execution_count": 25,
   "id": "abff47b9-7d1a-4125-91da-0879a1fb6b70",
   "metadata": {},
   "outputs": [],
   "source": [
    "# pprint(q.test(functionality=\"friend_count\"))"
   ]
  },
  {
   "cell_type": "code",
   "execution_count": 27,
   "id": "47759fb7-bff8-4207-83db-89320f12337a",
   "metadata": {},
   "outputs": [
    {
     "name": "stdout",
     "output_type": "stream",
     "text": [
      "{datetime.datetime(2021, 8, 24, 5, 30, 51): {'Australia': {'average': 42734.0,\n",
      "                                                           'count': 3,\n",
      "                                                           'max': 114158.0,\n",
      "                                                           'median': 13284.0,\n",
      "                                                           'min': 760.0,\n",
      "                                                           'stdev': 50762.54180659856,\n",
      "                                                           'sum': 128202.0},\n",
      "                                             'Canada': {'average': 88838.5,\n",
      "                                                        'count': 2,\n",
      "                                                        'max': 156595.0,\n",
      "                                                        'median': 88838.5,\n",
      "                                                        'min': 21082.0,\n",
      "                                                        'stdev': 67756.5,\n",
      "                                                        'sum': 177677.0},\n",
      "                                             'India': {'average': 232327.0,\n",
      "                                                       'count': 1,\n",
      "                                                       'max': 232327.0,\n",
      "                                                       'median': 232327.0,\n",
      "                                                       'min': 232327.0,\n",
      "                                                       'stdev': 0.0,\n",
      "                                                       'sum': 232327.0},\n",
      "                                             'Malaysia': {'average': 458411.0,\n",
      "                                                          'count': 1,\n",
      "                                                          'max': 458411.0,\n",
      "                                                          'median': 458411.0,\n",
      "                                                          'min': 458411.0,\n",
      "                                                          'stdev': 0.0,\n",
      "                                                          'sum': 458411.0},\n",
      "                                             'South Africa': {'average': 231.0,\n",
      "                                                              'count': 1,\n",
      "                                                              'max': 231.0,\n",
      "                                                              'median': 231.0,\n",
      "                                                              'min': 231.0,\n",
      "                                                              'stdev': 0.0,\n",
      "                                                              'sum': 231.0},\n",
      "                                             'Thailand': {'average': 10156.0,\n",
      "                                                          'count': 1,\n",
      "                                                          'max': 10156.0,\n",
      "                                                          'median': 10156.0,\n",
      "                                                          'min': 10156.0,\n",
      "                                                          'stdev': 0.0,\n",
      "                                                          'sum': 10156.0},\n",
      "                                             'United States': {'average': 77071.71428571429,\n",
      "                                                               'count': 7,\n",
      "                                                               'max': 265162.0,\n",
      "                                                               'median': 81156.0,\n",
      "                                                               'min': 7107.0,\n",
      "                                                               'stdev': 83526.04295105344,\n",
      "                                                               'sum': 539502.0}}}\n"
     ]
    }
   ],
   "source": [
    "pprint(q.temporal_spatial_user_status_count(order='temporal-spatial', temporal_resolution='day', spatial_resolution='country', temporal_frequency=3))"
   ]
  },
  {
   "cell_type": "code",
   "execution_count": 28,
   "id": "7fa08c08-9fbd-45c9-87f2-d7dce18155fc",
   "metadata": {},
   "outputs": [
    {
     "name": "stdout",
     "output_type": "stream",
     "text": [
      "{datetime.datetime(2021, 8, 24, 5, 30, 51): {'Australia': {'average': 42734.0,\n",
      "                                                           'count': 3,\n",
      "                                                           'max': 114158.0,\n",
      "                                                           'median': 13284.0,\n",
      "                                                           'min': 760.0,\n",
      "                                                           'stdev': 50762.54180659856,\n",
      "                                                           'sum': 128202.0},\n",
      "                                             'Canada': {'average': 88838.5,\n",
      "                                                        'count': 2,\n",
      "                                                        'max': 156595.0,\n",
      "                                                        'median': 88838.5,\n",
      "                                                        'min': 21082.0,\n",
      "                                                        'stdev': 67756.5,\n",
      "                                                        'sum': 177677.0},\n",
      "                                             'India': {'average': 232327.0,\n",
      "                                                       'count': 1,\n",
      "                                                       'max': 232327.0,\n",
      "                                                       'median': 232327.0,\n",
      "                                                       'min': 232327.0,\n",
      "                                                       'stdev': 0.0,\n",
      "                                                       'sum': 232327.0},\n",
      "                                             'Malaysia': {'average': 458411.0,\n",
      "                                                          'count': 1,\n",
      "                                                          'max': 458411.0,\n",
      "                                                          'median': 458411.0,\n",
      "                                                          'min': 458411.0,\n",
      "                                                          'stdev': 0.0,\n",
      "                                                          'sum': 458411.0},\n",
      "                                             'South Africa': {'average': 231.0,\n",
      "                                                              'count': 1,\n",
      "                                                              'max': 231.0,\n",
      "                                                              'median': 231.0,\n",
      "                                                              'min': 231.0,\n",
      "                                                              'stdev': 0.0,\n",
      "                                                              'sum': 231.0},\n",
      "                                             'Thailand': {'average': 10156.0,\n",
      "                                                          'count': 1,\n",
      "                                                          'max': 10156.0,\n",
      "                                                          'median': 10156.0,\n",
      "                                                          'min': 10156.0,\n",
      "                                                          'stdev': 0.0,\n",
      "                                                          'sum': 10156.0},\n",
      "                                             'United States': {'average': 77071.71428571429,\n",
      "                                                               'count': 7,\n",
      "                                                               'max': 265162.0,\n",
      "                                                               'median': 81156.0,\n",
      "                                                               'min': 7107.0,\n",
      "                                                               'stdev': 83526.04295105344,\n",
      "                                                               'sum': 539502.0}}}\n"
     ]
    }
   ],
   "source": [
    "pprint(q.temporal_spatial_user_analysis(analysis_type=\"users_status_count\", order='temporal-spatial', temporal_resolution='day', spatial_resolution='country', temporal_frequency=3))"
   ]
  },
  {
   "cell_type": "code",
   "execution_count": null,
   "id": "b8d6fd83-a8b1-4868-a299-6cd41bcc43c6",
   "metadata": {},
   "outputs": [],
   "source": []
  },
  {
   "cell_type": "code",
   "execution_count": null,
   "id": "21554c5d-9e71-433e-929d-9b95c0bcb33d",
   "metadata": {},
   "outputs": [],
   "source": []
  },
  {
   "cell_type": "code",
   "execution_count": null,
   "id": "d1d325fc-a8ec-462d-9c8d-da6ec63f90d1",
   "metadata": {},
   "outputs": [],
   "source": []
  },
  {
   "cell_type": "code",
   "execution_count": 54,
   "id": "d99c63c8-7c5c-4783-80e5-17a477634b67",
   "metadata": {},
   "outputs": [],
   "source": [
    "x = \"pop()\""
   ]
  },
  {
   "cell_type": "code",
   "execution_count": 55,
   "id": "038544ec-4fe9-40a9-83f0-edb4e8a88ecd",
   "metadata": {},
   "outputs": [
    {
     "ename": "AttributeError",
     "evalue": "'list' object has no attribute 'x'",
     "output_type": "error",
     "traceback": [
      "\u001b[1;31m---------------------------------------------------------------------------\u001b[0m",
      "\u001b[1;31mAttributeError\u001b[0m                            Traceback (most recent call last)",
      "\u001b[1;32mC:\\Users\\P70076~1\\AppData\\Local\\Temp/ipykernel_1880/572093146.py\u001b[0m in \u001b[0;36m<module>\u001b[1;34m\u001b[0m\n\u001b[1;32m----> 1\u001b[1;33m \u001b[0meval\u001b[0m\u001b[1;33m(\u001b[0m\u001b[1;34m'[1,2,3].x'\u001b[0m\u001b[1;33m)\u001b[0m\u001b[1;33m\u001b[0m\u001b[1;33m\u001b[0m\u001b[0m\n\u001b[0m",
      "\u001b[1;32m<string>\u001b[0m in \u001b[0;36m<module>\u001b[1;34m\u001b[0m\n",
      "\u001b[1;31mAttributeError\u001b[0m: 'list' object has no attribute 'x'"
     ]
    }
   ],
   "source": [
    "eval('[1,2,3].x')"
   ]
  },
  {
   "cell_type": "code",
   "execution_count": null,
   "id": "bdd3628b-0a66-43ec-b1b8-157789be382d",
   "metadata": {},
   "outputs": [],
   "source": []
  },
  {
   "cell_type": "code",
   "execution_count": null,
   "id": "0c6e40b9-aba6-463c-9f7a-e1629e8db009",
   "metadata": {},
   "outputs": [],
   "source": []
  },
  {
   "cell_type": "code",
   "execution_count": 60,
   "id": "f5ed7364-f313-4444-b97d-7bfa63463094",
   "metadata": {},
   "outputs": [],
   "source": []
  },
  {
   "cell_type": "code",
   "execution_count": null,
   "id": "68829146-c836-4cc6-8d92-ced559f196c9",
   "metadata": {},
   "outputs": [],
   "source": []
  },
  {
   "cell_type": "code",
   "execution_count": null,
   "id": "7a29827d-2048-43d3-b2d1-45a8591753ff",
   "metadata": {},
   "outputs": [],
   "source": []
  },
  {
   "cell_type": "code",
   "execution_count": null,
   "id": "ce18179b-9652-4bcb-bb79-524f567a0aab",
   "metadata": {},
   "outputs": [],
   "source": []
  },
  {
   "cell_type": "code",
   "execution_count": 14,
   "id": "fe001124-ed65-459f-a060-2746e1327ef5",
   "metadata": {},
   "outputs": [],
   "source": [
    "v = twix.collective_tweets(new_tweets).mass_based_features().time_independent_features().time_independent_location_dependent_mass_features().tweet_features()"
   ]
  },
  {
   "cell_type": "code",
   "execution_count": 15,
   "id": "4462a071-9ecd-4a7f-adf6-6800fc31aeee",
   "metadata": {},
   "outputs": [],
   "source": [
    "w = twix.collective_tweets(new_tweets).mass_based_features().time_independent_features().time_independent_location_dependent_mass_features().user_features()"
   ]
  },
  {
   "cell_type": "code",
   "execution_count": 16,
   "id": "46c5fe7e-cba4-416a-9546-046c7a186642",
   "metadata": {},
   "outputs": [
    {
     "data": {
      "text/plain": [
       "7"
      ]
     },
     "execution_count": 16,
     "metadata": {},
     "output_type": "execute_result"
    }
   ],
   "source": [
    "len(v.tweets_with_location())"
   ]
  },
  {
   "cell_type": "code",
   "execution_count": 17,
   "id": "216f8ff7-e6a3-4ddd-ab9e-bd6ff6987bc2",
   "metadata": {},
   "outputs": [
    {
     "name": "stdout",
     "output_type": "stream",
     "text": [
      "{'Australia': 3,\n",
      " 'Canada': 2,\n",
      " 'India': 1,\n",
      " 'Malaysia': 1,\n",
      " 'South Africa': 1,\n",
      " 'Thailand': 1,\n",
      " 'United States': 7}\n"
     ]
    }
   ],
   "source": [
    "pprint(v.spatial_tweet_count())"
   ]
  },
  {
   "cell_type": "code",
   "execution_count": 40,
   "id": "ed1000d3-6b9d-4732-bdc2-b74dd2f1c268",
   "metadata": {},
   "outputs": [],
   "source": [
    "# pprint(v.spatial_sentiment())"
   ]
  },
  {
   "cell_type": "code",
   "execution_count": 8,
   "id": "70f20191-7ff9-4e53-968e-3487639d165e",
   "metadata": {},
   "outputs": [
    {
     "data": {
      "text/plain": [
       "{'Surrey, British Columbia': 1,\n",
       " 'Azusa, CA': 3,\n",
       " 'Eagle Point, OR': 1,\n",
       " 'Fresno, CA': 1,\n",
       " 'Port Pirie, South Australia': 1,\n",
       " 'Vancouver, British Columbia': 1,\n",
       " 'Cleveland, OH': 1,\n",
       " 'Sydney, New South Wales': 1,\n",
       " 'Asheville, NC': 1,\n",
       " 'Bukkhalo, Thailand': 1,\n",
       " 'Roodepoort, South Africa': 1,\n",
       " 'Mumbai, India': 1,\n",
       " 'Melbourne, Victoria': 1,\n",
       " 'Alor Star, Kedah': 1}"
      ]
     },
     "execution_count": 8,
     "metadata": {},
     "output_type": "execute_result"
    }
   ],
   "source": [
    "v.spatial_tweet_count(resolution=\"place\")"
   ]
  },
  {
   "cell_type": "code",
   "execution_count": 15,
   "id": "db9aa923-d8bf-4648-87db-5cc96470afd9",
   "metadata": {},
   "outputs": [
    {
     "data": {
      "text/plain": [
       "{'Surrey, British Columbia': [<twifex.singleTweet at 0x131647d1f40>],\n",
       " 'Azusa, CA': [<twifex.singleTweet at 0x131647cc1c0>,\n",
       "  <twifex.singleTweet at 0x13164796c40>,\n",
       "  <twifex.singleTweet at 0x1316480eeb0>],\n",
       " 'Eagle Point, OR': [<twifex.singleTweet at 0x131647a9e50>],\n",
       " 'Fresno, CA': [<twifex.singleTweet at 0x13164779c70>],\n",
       " 'Port Pirie, South Australia': [<twifex.singleTweet at 0x13164774a00>],\n",
       " 'Vancouver, British Columbia': [<twifex.singleTweet at 0x1316476aaf0>],\n",
       " 'Cleveland, OH': [<twifex.singleTweet at 0x131647667c0>],\n",
       " 'Sydney, New South Wales': [<twifex.singleTweet at 0x1316475cbb0>],\n",
       " 'Asheville, NC': [<twifex.singleTweet at 0x131647576d0>],\n",
       " 'Bukkhalo, Thailand': [<twifex.singleTweet at 0x13164730a90>],\n",
       " 'Roodepoort, South Africa': [<twifex.singleTweet at 0x1316472ac40>],\n",
       " 'Mumbai, India': [<twifex.singleTweet at 0x13164817a00>],\n",
       " 'Melbourne, Victoria': [<twifex.singleTweet at 0x131647e7b20>],\n",
       " 'Alor Star, Kedah': [<twifex.singleTweet at 0x13165554430>]}"
      ]
     },
     "execution_count": 15,
     "metadata": {},
     "output_type": "execute_result"
    }
   ],
   "source": [
    "v.places_with_tweets()"
   ]
  },
  {
   "cell_type": "code",
   "execution_count": null,
   "id": "ef729776-5d57-4510-854f-3e11b2a81c6a",
   "metadata": {},
   "outputs": [],
   "source": []
  },
  {
   "cell_type": "code",
   "execution_count": null,
   "id": "b002383a-79b8-4685-9701-b075ec7a6e09",
   "metadata": {},
   "outputs": [],
   "source": []
  },
  {
   "cell_type": "markdown",
   "id": "09da0244-b39c-417a-8cd1-98919253b365",
   "metadata": {},
   "source": [
    "# Other dataset (older one)"
   ]
  },
  {
   "cell_type": "code",
   "execution_count": null,
   "id": "32eddc5a-0898-43f3-8040-5abd4aa67ab4",
   "metadata": {},
   "outputs": [],
   "source": []
  },
  {
   "cell_type": "code",
   "execution_count": null,
   "id": "fadf62e8-cc17-45c2-b7d5-d574822dc038",
   "metadata": {},
   "outputs": [],
   "source": []
  },
  {
   "cell_type": "code",
   "execution_count": 9,
   "id": "32a6ed92-0bd1-48b3-a83b-a891559e22c1",
   "metadata": {},
   "outputs": [
    {
     "name": "stderr",
     "output_type": "stream",
     "text": [
      "100%|█████████████████████████████████████████████████████████████████████████████| 8089/8089 [00:21<00:00, 383.46it/s]\n"
     ]
    }
   ],
   "source": [
    "tweets = []\n",
    "for file in tqdm([i for i in os.listdir(\"./tests/test_case/\") if os.path.isfile(\"./tests/test_case/\"+i)]):\n",
    "    tweets.append(twix.single_tweet(\"./tests/test_case/\"+file))"
   ]
  },
  {
   "cell_type": "code",
   "execution_count": 10,
   "id": "e48fed88-e140-43d1-a467-7dd3abad9f90",
   "metadata": {},
   "outputs": [],
   "source": [
    "# u = twix.collective_tweets(tweets).mass_based_features().time_dependent_features().time_dependent_location_independent_mass_features()"
   ]
  },
  {
   "cell_type": "code",
   "execution_count": 11,
   "id": "a4adc908-22fa-401b-96b2-66e97201d461",
   "metadata": {},
   "outputs": [],
   "source": [
    "# v = u.tweet_features()"
   ]
  },
  {
   "cell_type": "code",
   "execution_count": 12,
   "id": "c0aa85ee-ff7c-44fe-a566-eef144a38080",
   "metadata": {},
   "outputs": [],
   "source": [
    "# nodes = v.tweets_in_periods()"
   ]
  },
  {
   "cell_type": "code",
   "execution_count": 13,
   "id": "29449347-c64a-4382-bccc-619cc437a0ec",
   "metadata": {},
   "outputs": [],
   "source": [
    "# v.tweet_complexity_change(nodes)"
   ]
  },
  {
   "cell_type": "code",
   "execution_count": 14,
   "id": "d5019724-1f04-4713-8c50-595468e802c1",
   "metadata": {},
   "outputs": [],
   "source": [
    "u = twix.collective_tweets(tweets).mass_based_features().time_independent_features().time_independent_location_dependent_mass_features().tweet_features()"
   ]
  },
  {
   "cell_type": "code",
   "execution_count": 15,
   "id": "ba714d10-713d-434e-b21b-cb778008f735",
   "metadata": {},
   "outputs": [],
   "source": [
    "w = twix.collective_tweets(tweets).mass_based_features().time_independent_features().time_independent_location_dependent_mass_features().user_features()"
   ]
  },
  {
   "cell_type": "code",
   "execution_count": 16,
   "id": "59af4d1f-f5f5-44b7-b43f-9e8f5e39fa93",
   "metadata": {},
   "outputs": [],
   "source": [
    "# pprint(w.spatial_status_count())"
   ]
  },
  {
   "cell_type": "code",
   "execution_count": 17,
   "id": "62c75c9e-82e2-436c-b8d0-e4bb8e1f4fb2",
   "metadata": {},
   "outputs": [],
   "source": [
    "p = twix.collective_tweets(tweets).mass_based_features().time_dependent_features().time_dependent_location_dependent_mass_features().tweet_features()"
   ]
  },
  {
   "cell_type": "code",
   "execution_count": 18,
   "id": "05348969-e18a-4b2d-909f-ceec0dfc322a",
   "metadata": {},
   "outputs": [],
   "source": [
    "# pprint(p.temporal_spatial_tweet_complexity())"
   ]
  },
  {
   "cell_type": "code",
   "execution_count": 19,
   "id": "d2756636-21be-4eed-9e81-1dad2fd16d30",
   "metadata": {},
   "outputs": [],
   "source": [
    "# pprint(p.temporal_spatial_tweet_language(order='temporal-spatial', temporal_resolution='minute', spatial_resolution='country', temporal_frequency=2))"
   ]
  },
  {
   "cell_type": "code",
   "execution_count": 20,
   "id": "85d3163f-dd66-4907-92c3-b71aad7cf46e",
   "metadata": {},
   "outputs": [
    {
     "name": "stdout",
     "output_type": "stream",
     "text": [
      "{'Australia': {datetime.datetime(2018, 9, 19, 8, 32, 26): {}},\n",
      " 'Canada': {datetime.datetime(2018, 9, 12, 16, 15, 37): {},\n",
      "            datetime.datetime(2018, 9, 13, 16, 15, 37): {},\n",
      "            datetime.datetime(2018, 9, 14, 16, 15, 37): {},\n",
      "            datetime.datetime(2018, 9, 15, 16, 15, 37): {},\n",
      "            datetime.datetime(2018, 9, 16, 16, 15, 37): {},\n",
      "            datetime.datetime(2018, 9, 17, 16, 15, 37): {},\n",
      "            datetime.datetime(2018, 9, 18, 16, 15, 37): {},\n",
      "            datetime.datetime(2018, 9, 19, 16, 15, 37): {},\n",
      "            datetime.datetime(2018, 9, 20, 16, 15, 37): {},\n",
      "            datetime.datetime(2018, 9, 21, 16, 15, 37): {},\n",
      "            datetime.datetime(2018, 9, 22, 16, 15, 37): {}},\n",
      " 'United Kingdom': {datetime.datetime(2018, 9, 12, 14, 16, 13): {'🙄': 4}},\n",
      " 'United States': {datetime.datetime(2018, 9, 12, 12, 18, 19): {'❤': 1,\n",
      "                                                                '👉': 1,\n",
      "                                                                '👊': 1,\n",
      "                                                                '💯': 1,\n",
      "                                                                '😂': 1,\n",
      "                                                                '😫': 1,\n",
      "                                                                '🤔': 1},\n",
      "                   datetime.datetime(2018, 9, 13, 12, 18, 19): {},\n",
      "                   datetime.datetime(2018, 9, 14, 12, 18, 19): {},\n",
      "                   datetime.datetime(2018, 9, 15, 12, 18, 19): {'👏': 3},\n",
      "                   datetime.datetime(2018, 9, 16, 12, 18, 19): {},\n",
      "                   datetime.datetime(2018, 9, 17, 12, 18, 19): {},\n",
      "                   datetime.datetime(2018, 9, 18, 12, 18, 19): {},\n",
      "                   datetime.datetime(2018, 9, 19, 12, 18, 19): {},\n",
      "                   datetime.datetime(2018, 9, 20, 12, 18, 19): {},\n",
      "                   datetime.datetime(2018, 9, 21, 12, 18, 19): {'🇸': 1,\n",
      "                                                                '🇺': 1,\n",
      "                                                                '🏽': 1,\n",
      "                                                                '👎': 1}},\n",
      " 'Virgin Islands, U.S.': {datetime.datetime(2018, 9, 12, 15, 44, 13): {}}}\n"
     ]
    }
   ],
   "source": [
    "pprint(p.temporal_spatial_tweet_emojis())"
   ]
  },
  {
   "cell_type": "code",
   "execution_count": null,
   "id": "57b905c1-0060-42a4-81d7-c64a0ef6e480",
   "metadata": {},
   "outputs": [],
   "source": []
  }
 ],
 "metadata": {
  "kernelspec": {
   "display_name": "Python 3 (ipykernel)",
   "language": "python",
   "name": "python3"
  },
  "language_info": {
   "codemirror_mode": {
    "name": "ipython",
    "version": 3
   },
   "file_extension": ".py",
   "mimetype": "text/x-python",
   "name": "python",
   "nbconvert_exporter": "python",
   "pygments_lexer": "ipython3",
   "version": "3.9.7"
  }
 },
 "nbformat": 4,
 "nbformat_minor": 5
}
