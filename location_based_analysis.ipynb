{
 "cells": [
  {
   "cell_type": "code",
   "execution_count": 9,
   "id": "a40020fc-0cd2-4055-a308-c6ab502573fd",
   "metadata": {},
   "outputs": [],
   "source": [
    "from twifex import *\n",
    "from tqdm import tqdm\n",
    "from pprint import pprint"
   ]
  },
  {
   "cell_type": "code",
   "execution_count": 2,
   "id": "da77bc3c-f12e-4d74-9692-f18160c872ae",
   "metadata": {},
   "outputs": [],
   "source": [
    "twix = Twix()"
   ]
  },
  {
   "cell_type": "code",
   "execution_count": 3,
   "id": "61af7d5f-c95e-4668-8fe8-c04879fa86d9",
   "metadata": {},
   "outputs": [],
   "source": [
    "new_sample = twix.single_tweet(\"./tests/new_tweets/1430039919179837446.json\")"
   ]
  },
  {
   "cell_type": "code",
   "execution_count": 4,
   "id": "0c2755c2-941b-40fe-8dd1-adf813316444",
   "metadata": {},
   "outputs": [
    {
     "name": "stderr",
     "output_type": "stream",
     "text": [
      "100%|██████████████████████████████████████████████████████████████████████████████| 831/831 [00:00<00:00, 2063.54it/s]\n"
     ]
    }
   ],
   "source": [
    "new_tweets = []\n",
    "for file in tqdm([i for i in os.listdir(\"./tests/new_tweets/\") if os.path.isfile(\"./tests/new_tweets/\"+i)]):\n",
    "    if \".json\" in file:\n",
    "        new_tweets.append(twix.single_tweet(\"./tests/new_tweets/\"+file)) \n",
    "    else:\n",
    "        pass"
   ]
  },
  {
   "cell_type": "code",
   "execution_count": 5,
   "id": "4ab88fc8-936c-4bad-9822-0f828bd2083f",
   "metadata": {},
   "outputs": [
    {
     "data": {
      "text/plain": [
       "830"
      ]
     },
     "execution_count": 5,
     "metadata": {},
     "output_type": "execute_result"
    }
   ],
   "source": [
    "len(new_tweets)"
   ]
  },
  {
   "cell_type": "code",
   "execution_count": 6,
   "id": "fe001124-ed65-459f-a060-2746e1327ef5",
   "metadata": {},
   "outputs": [],
   "source": [
    "v = twix.collective_tweets(new_tweets).mass_based_features().time_independent_features().time_independent_location_dependent_mass_features().tweet_features()"
   ]
  },
  {
   "cell_type": "code",
   "execution_count": 7,
   "id": "46c5fe7e-cba4-416a-9546-046c7a186642",
   "metadata": {},
   "outputs": [
    {
     "data": {
      "text/plain": [
       "16"
      ]
     },
     "execution_count": 7,
     "metadata": {},
     "output_type": "execute_result"
    }
   ],
   "source": [
    "len(v.tweets_with_place())"
   ]
  },
  {
   "cell_type": "code",
   "execution_count": 10,
   "id": "ed1000d3-6b9d-4732-bdc2-b74dd2f1c268",
   "metadata": {},
   "outputs": [
    {
     "name": "stdout",
     "output_type": "stream",
     "text": [
      "{'Australia': {'composite_score': {'average': 0.22519999999999998,\n",
      "                                   'max': 0.8436,\n",
      "                                   'median': 0.0,\n",
      "                                   'min': -0.168,\n",
      "                                   'stdev': 0.44262092133110925},\n",
      "               'negativity_score': {'average': 0.05266666666666666,\n",
      "                                    'max': 0.087,\n",
      "                                    'median': 0.071,\n",
      "                                    'min': 0.0,\n",
      "                                    'stdev': 0.03780946383586463},\n",
      "               'neutrality_score': {'average': 0.839,\n",
      "                                    'max': 1.0,\n",
      "                                    'median': 0.806,\n",
      "                                    'min': 0.711,\n",
      "                                    'stdev': 0.12026914262048544},\n",
      "               'positivity_score': {'average': 0.10833333333333334,\n",
      "                                    'max': 0.218,\n",
      "                                    'median': 0.107,\n",
      "                                    'min': 0.0,\n",
      "                                    'stdev': 0.08900312104390247}},\n",
      " 'Canada': {'composite_score': {'average': -0.60985,\n",
      "                                'max': -0.34,\n",
      "                                'median': -0.60985,\n",
      "                                'min': -0.8797,\n",
      "                                'stdev': 0.26985},\n",
      "            'negativity_score': {'average': 0.1645,\n",
      "                                 'max': 0.167,\n",
      "                                 'median': 0.1645,\n",
      "                                 'min': 0.162,\n",
      "                                 'stdev': 0.0025000000000000022},\n",
      "            'neutrality_score': {'average': 0.827,\n",
      "                                 'max': 0.833,\n",
      "                                 'median': 0.827,\n",
      "                                 'min': 0.821,\n",
      "                                 'stdev': 0.006000000000000005},\n",
      "            'positivity_score': {'average': 0.0085,\n",
      "                                 'max': 0.017,\n",
      "                                 'median': 0.0085,\n",
      "                                 'min': 0.0,\n",
      "                                 'stdev': 0.0085}},\n",
      " 'India': {'composite_score': {'average': 0.0,\n",
      "                               'max': 0.0,\n",
      "                               'median': 0.0,\n",
      "                               'min': 0.0,\n",
      "                               'stdev': 0.0},\n",
      "           'negativity_score': {'average': 0.0,\n",
      "                                'max': 0.0,\n",
      "                                'median': 0.0,\n",
      "                                'min': 0.0,\n",
      "                                'stdev': 0.0},\n",
      "           'neutrality_score': {'average': 1.0,\n",
      "                                'max': 1.0,\n",
      "                                'median': 1.0,\n",
      "                                'min': 1.0,\n",
      "                                'stdev': 0.0},\n",
      "           'positivity_score': {'average': 0.0,\n",
      "                                'max': 0.0,\n",
      "                                'median': 0.0,\n",
      "                                'min': 0.0,\n",
      "                                'stdev': 0.0}},\n",
      " 'Malaysia': {'composite_score': {'average': -0.4767,\n",
      "                                  'max': -0.4767,\n",
      "                                  'median': -0.4767,\n",
      "                                  'min': -0.4767,\n",
      "                                  'stdev': 0.0},\n",
      "              'negativity_score': {'average': 0.237,\n",
      "                                   'max': 0.237,\n",
      "                                   'median': 0.237,\n",
      "                                   'min': 0.237,\n",
      "                                   'stdev': 0.0},\n",
      "              'neutrality_score': {'average': 0.763,\n",
      "                                   'max': 0.763,\n",
      "                                   'median': 0.763,\n",
      "                                   'min': 0.763,\n",
      "                                   'stdev': 0.0},\n",
      "              'positivity_score': {'average': 0.0,\n",
      "                                   'max': 0.0,\n",
      "                                   'median': 0.0,\n",
      "                                   'min': 0.0,\n",
      "                                   'stdev': 0.0}},\n",
      " 'South Africa': {'composite_score': {'average': -0.7096,\n",
      "                                      'max': -0.7096,\n",
      "                                      'median': -0.7096,\n",
      "                                      'min': -0.7096,\n",
      "                                      'stdev': 0.0},\n",
      "                  'negativity_score': {'average': 0.141,\n",
      "                                       'max': 0.141,\n",
      "                                       'median': 0.141,\n",
      "                                       'min': 0.141,\n",
      "                                       'stdev': 0.0},\n",
      "                  'neutrality_score': {'average': 0.821,\n",
      "                                       'max': 0.821,\n",
      "                                       'median': 0.821,\n",
      "                                       'min': 0.821,\n",
      "                                       'stdev': 0.0},\n",
      "                  'positivity_score': {'average': 0.038,\n",
      "                                       'max': 0.038,\n",
      "                                       'median': 0.038,\n",
      "                                       'min': 0.038,\n",
      "                                       'stdev': 0.0}},\n",
      " 'Thailand': {'composite_score': {'average': 0.0,\n",
      "                                  'max': 0.0,\n",
      "                                  'median': 0.0,\n",
      "                                  'min': 0.0,\n",
      "                                  'stdev': 0.0},\n",
      "              'negativity_score': {'average': 0.0,\n",
      "                                   'max': 0.0,\n",
      "                                   'median': 0.0,\n",
      "                                   'min': 0.0,\n",
      "                                   'stdev': 0.0},\n",
      "              'neutrality_score': {'average': 1.0,\n",
      "                                   'max': 1.0,\n",
      "                                   'median': 1.0,\n",
      "                                   'min': 1.0,\n",
      "                                   'stdev': 0.0},\n",
      "              'positivity_score': {'average': 0.0,\n",
      "                                   'max': 0.0,\n",
      "                                   'median': 0.0,\n",
      "                                   'min': 0.0,\n",
      "                                   'stdev': 0.0}},\n",
      " 'United States': {'composite_score': {'average': 0.03607142857142857,\n",
      "                                       'max': 0.7783,\n",
      "                                       'median': 0.0,\n",
      "                                       'min': -0.631,\n",
      "                                       'stdev': 0.5323048098714165},\n",
      "                   'negativity_score': {'average': 0.04914285714285714,\n",
      "                                        'max': 0.123,\n",
      "                                        'median': 0.056,\n",
      "                                        'min': 0.0,\n",
      "                                        'stdev': 0.04729369807438429},\n",
      "                   'neutrality_score': {'average': 0.863857142857143,\n",
      "                                        'max': 1.0,\n",
      "                                        'median': 0.881,\n",
      "                                        'min': 0.735,\n",
      "                                        'stdev': 0.0863786160234259},\n",
      "                   'positivity_score': {'average': 0.087,\n",
      "                                        'max': 0.231,\n",
      "                                        'median': 0.05,\n",
      "                                        'min': 0.0,\n",
      "                                        'stdev': 0.09313584548542905}}}\n"
     ]
    }
   ],
   "source": [
    "pprint(v.spatial_sentiment())"
   ]
  },
  {
   "cell_type": "code",
   "execution_count": 8,
   "id": "70f20191-7ff9-4e53-968e-3487639d165e",
   "metadata": {},
   "outputs": [
    {
     "data": {
      "text/plain": [
       "{'Surrey, British Columbia': 1,\n",
       " 'Azusa, CA': 3,\n",
       " 'Eagle Point, OR': 1,\n",
       " 'Fresno, CA': 1,\n",
       " 'Port Pirie, South Australia': 1,\n",
       " 'Vancouver, British Columbia': 1,\n",
       " 'Cleveland, OH': 1,\n",
       " 'Sydney, New South Wales': 1,\n",
       " 'Asheville, NC': 1,\n",
       " 'Bukkhalo, Thailand': 1,\n",
       " 'Roodepoort, South Africa': 1,\n",
       " 'Mumbai, India': 1,\n",
       " 'Melbourne, Victoria': 1,\n",
       " 'Alor Star, Kedah': 1}"
      ]
     },
     "execution_count": 8,
     "metadata": {},
     "output_type": "execute_result"
    }
   ],
   "source": [
    "v.spatial_tweet_count(resolution=\"place\")"
   ]
  },
  {
   "cell_type": "code",
   "execution_count": 15,
   "id": "db9aa923-d8bf-4648-87db-5cc96470afd9",
   "metadata": {},
   "outputs": [
    {
     "data": {
      "text/plain": [
       "{'Surrey, British Columbia': [<twifex.singleTweet at 0x131647d1f40>],\n",
       " 'Azusa, CA': [<twifex.singleTweet at 0x131647cc1c0>,\n",
       "  <twifex.singleTweet at 0x13164796c40>,\n",
       "  <twifex.singleTweet at 0x1316480eeb0>],\n",
       " 'Eagle Point, OR': [<twifex.singleTweet at 0x131647a9e50>],\n",
       " 'Fresno, CA': [<twifex.singleTweet at 0x13164779c70>],\n",
       " 'Port Pirie, South Australia': [<twifex.singleTweet at 0x13164774a00>],\n",
       " 'Vancouver, British Columbia': [<twifex.singleTweet at 0x1316476aaf0>],\n",
       " 'Cleveland, OH': [<twifex.singleTweet at 0x131647667c0>],\n",
       " 'Sydney, New South Wales': [<twifex.singleTweet at 0x1316475cbb0>],\n",
       " 'Asheville, NC': [<twifex.singleTweet at 0x131647576d0>],\n",
       " 'Bukkhalo, Thailand': [<twifex.singleTweet at 0x13164730a90>],\n",
       " 'Roodepoort, South Africa': [<twifex.singleTweet at 0x1316472ac40>],\n",
       " 'Mumbai, India': [<twifex.singleTweet at 0x13164817a00>],\n",
       " 'Melbourne, Victoria': [<twifex.singleTweet at 0x131647e7b20>],\n",
       " 'Alor Star, Kedah': [<twifex.singleTweet at 0x13165554430>]}"
      ]
     },
     "execution_count": 15,
     "metadata": {},
     "output_type": "execute_result"
    }
   ],
   "source": [
    "v.places_with_tweets()"
   ]
  },
  {
   "cell_type": "code",
   "execution_count": null,
   "id": "ef729776-5d57-4510-854f-3e11b2a81c6a",
   "metadata": {},
   "outputs": [],
   "source": []
  },
  {
   "cell_type": "code",
   "execution_count": null,
   "id": "b002383a-79b8-4685-9701-b075ec7a6e09",
   "metadata": {},
   "outputs": [],
   "source": []
  },
  {
   "cell_type": "code",
   "execution_count": null,
   "id": "e0b61e1e-12f8-472b-b62f-acb6f15730ca",
   "metadata": {},
   "outputs": [],
   "source": []
  },
  {
   "cell_type": "code",
   "execution_count": null,
   "id": "32eddc5a-0898-43f3-8040-5abd4aa67ab4",
   "metadata": {},
   "outputs": [],
   "source": []
  },
  {
   "cell_type": "code",
   "execution_count": null,
   "id": "fadf62e8-cc17-45c2-b7d5-d574822dc038",
   "metadata": {},
   "outputs": [],
   "source": []
  },
  {
   "cell_type": "code",
   "execution_count": 11,
   "id": "32a6ed92-0bd1-48b3-a83b-a891559e22c1",
   "metadata": {},
   "outputs": [
    {
     "name": "stderr",
     "output_type": "stream",
     "text": [
      "100%|█████████████████████████████████████████████████████████████████████████████| 8089/8089 [00:15<00:00, 530.54it/s]\n"
     ]
    }
   ],
   "source": [
    "tweets = []\n",
    "for file in tqdm([i for i in os.listdir(\"./tests/test_case/\") if os.path.isfile(\"./tests/test_case/\"+i)]):\n",
    "    tweets.append(twix.single_tweet(\"./tests/test_case/\"+file))"
   ]
  },
  {
   "cell_type": "code",
   "execution_count": 12,
   "id": "e48fed88-e140-43d1-a467-7dd3abad9f90",
   "metadata": {},
   "outputs": [],
   "source": [
    "# u = twix.collective_tweets(tweets).mass_based_features().time_dependent_features().time_dependent_location_independent_mass_features()"
   ]
  },
  {
   "cell_type": "code",
   "execution_count": 13,
   "id": "a4adc908-22fa-401b-96b2-66e97201d461",
   "metadata": {},
   "outputs": [],
   "source": [
    "# v = u.tweet_features()"
   ]
  },
  {
   "cell_type": "code",
   "execution_count": 14,
   "id": "c0aa85ee-ff7c-44fe-a566-eef144a38080",
   "metadata": {},
   "outputs": [],
   "source": [
    "# nodes = v.tweets_in_periods()"
   ]
  },
  {
   "cell_type": "code",
   "execution_count": 15,
   "id": "29449347-c64a-4382-bccc-619cc437a0ec",
   "metadata": {},
   "outputs": [],
   "source": [
    "# v.tweet_complexity_change(nodes)"
   ]
  },
  {
   "cell_type": "code",
   "execution_count": 16,
   "id": "d5019724-1f04-4713-8c50-595468e802c1",
   "metadata": {},
   "outputs": [],
   "source": [
    "u = twix.collective_tweets(tweets).mass_based_features().time_independent_features().time_independent_location_dependent_mass_features().tweet_features()"
   ]
  },
  {
   "cell_type": "code",
   "execution_count": 17,
   "id": "59af4d1f-f5f5-44b7-b43f-9e8f5e39fa93",
   "metadata": {},
   "outputs": [
    {
     "data": {
      "text/plain": [
       "{'Virgin Islands, U.S.': {'positivity_score': {'average': 0.08,\n",
       "   'max': 0.08,\n",
       "   'min': 0.08,\n",
       "   'stdev': 0.0,\n",
       "   'median': 0.08},\n",
       "  'negativity_score': {'average': 0.0,\n",
       "   'max': 0.0,\n",
       "   'min': 0.0,\n",
       "   'stdev': 0.0,\n",
       "   'median': 0.0},\n",
       "  'neutrality_score': {'average': 0.92,\n",
       "   'max': 0.92,\n",
       "   'min': 0.92,\n",
       "   'stdev': 0.0,\n",
       "   'median': 0.92},\n",
       "  'composite_score': {'average': 0.4019,\n",
       "   'max': 0.4019,\n",
       "   'min': 0.4019,\n",
       "   'stdev': 0.0,\n",
       "   'median': 0.4019}},\n",
       " 'United States': {'positivity_score': {'average': 0.08381944444444445,\n",
       "   'max': 0.39,\n",
       "   'min': 0.0,\n",
       "   'stdev': 0.10064946409153692,\n",
       "   'median': 0.06},\n",
       "  'negativity_score': {'average': 0.13069444444444445,\n",
       "   'max': 0.615,\n",
       "   'min': 0.0,\n",
       "   'stdev': 0.13754803594147763,\n",
       "   'median': 0.10500000000000001},\n",
       "  'neutrality_score': {'average': 0.785486111111111,\n",
       "   'max': 1.0,\n",
       "   'min': 0.385,\n",
       "   'stdev': 0.1443960596045508,\n",
       "   'median': 0.799},\n",
       "  'composite_score': {'average': -0.1163138888888889,\n",
       "   'max': 0.8555,\n",
       "   'min': -0.9509,\n",
       "   'stdev': 0.5266841213630686,\n",
       "   'median': -0.2021}},\n",
       " 'Canada': {'positivity_score': {'average': 0.14,\n",
       "   'max': 0.181,\n",
       "   'min': 0.114,\n",
       "   'stdev': 0.025049950099750695,\n",
       "   'median': 0.1325},\n",
       "  'negativity_score': {'average': 0.17325000000000002,\n",
       "   'max': 0.292,\n",
       "   'min': 0.0,\n",
       "   'stdev': 0.10892973652772689,\n",
       "   'median': 0.2005},\n",
       "  'neutrality_score': {'average': 0.68675,\n",
       "   'max': 0.863,\n",
       "   'min': 0.594,\n",
       "   'stdev': 0.10390470393586616,\n",
       "   'median': 0.645},\n",
       "  'composite_score': {'average': -0.11762500000000004,\n",
       "   'max': 0.4019,\n",
       "   'min': -0.6351,\n",
       "   'stdev': 0.39864782311584235,\n",
       "   'median': -0.11865}},\n",
       " 'United Kingdom': {'positivity_score': {'average': 0.13033333333333333,\n",
       "   'max': 0.224,\n",
       "   'min': 0.0,\n",
       "   'stdev': 0.095052032534233,\n",
       "   'median': 0.167},\n",
       "  'negativity_score': {'average': 0.08066666666666666,\n",
       "   'max': 0.154,\n",
       "   'min': 0.0,\n",
       "   'stdev': 0.06308371862497926,\n",
       "   'median': 0.088},\n",
       "  'neutrality_score': {'average': 0.789,\n",
       "   'max': 0.912,\n",
       "   'min': 0.622,\n",
       "   'stdev': 0.12241187306248798,\n",
       "   'median': 0.833},\n",
       "  'composite_score': {'average': 0.2539,\n",
       "   'max': 0.7185,\n",
       "   'min': -0.34,\n",
       "   'stdev': 0.441697053042769,\n",
       "   'median': 0.3832}},\n",
       " 'Australia': {'positivity_score': {'average': 0.0,\n",
       "   'max': 0.0,\n",
       "   'min': 0.0,\n",
       "   'stdev': 0.0,\n",
       "   'median': 0.0},\n",
       "  'negativity_score': {'average': 0.397,\n",
       "   'max': 0.397,\n",
       "   'min': 0.397,\n",
       "   'stdev': 0.0,\n",
       "   'median': 0.397},\n",
       "  'neutrality_score': {'average': 0.603,\n",
       "   'max': 0.603,\n",
       "   'min': 0.603,\n",
       "   'stdev': 0.0,\n",
       "   'median': 0.603},\n",
       "  'composite_score': {'average': -0.8356,\n",
       "   'max': -0.8356,\n",
       "   'min': -0.8356,\n",
       "   'stdev': 0.0,\n",
       "   'median': -0.8356}}}"
      ]
     },
     "execution_count": 17,
     "metadata": {},
     "output_type": "execute_result"
    }
   ],
   "source": [
    "u.spatial_sentiment()"
   ]
  },
  {
   "cell_type": "code",
   "execution_count": null,
   "id": "62c75c9e-82e2-436c-b8d0-e4bb8e1f4fb2",
   "metadata": {},
   "outputs": [],
   "source": []
  },
  {
   "cell_type": "code",
   "execution_count": null,
   "id": "05348969-e18a-4b2d-909f-ceec0dfc322a",
   "metadata": {},
   "outputs": [],
   "source": []
  },
  {
   "cell_type": "code",
   "execution_count": null,
   "id": "0a4d0634-414d-4cb2-9ff0-597d037c1a59",
   "metadata": {},
   "outputs": [],
   "source": []
  }
 ],
 "metadata": {
  "kernelspec": {
   "display_name": "Python 3 (ipykernel)",
   "language": "python",
   "name": "python3"
  },
  "language_info": {
   "codemirror_mode": {
    "name": "ipython",
    "version": 3
   },
   "file_extension": ".py",
   "mimetype": "text/x-python",
   "name": "python",
   "nbconvert_exporter": "python",
   "pygments_lexer": "ipython3",
   "version": "3.9.7"
  }
 },
 "nbformat": 4,
 "nbformat_minor": 5
}
