{
 "cells": [
  {
   "cell_type": "code",
   "execution_count": 1,
   "id": "890b17ef-ab63-4120-9adf-0bf9778c653f",
   "metadata": {},
   "outputs": [],
   "source": [
    "import tweepy\n",
    "import json\n",
    "import random\n",
    "import os\n",
    "import pandas as pd"
   ]
  },
  {
   "cell_type": "code",
   "execution_count": 9,
   "id": "e83b069d-4ecb-48f1-a26e-7795e2e78fbc",
   "metadata": {},
   "outputs": [],
   "source": [
    "consumer_key = \"aPp14u2pIZo1nzwbNIHRTgsMR\"\n",
    "consumer_secret = \"R20ioXz0eY2wsiShdgnamAjeZ0pzl6kMCptLcCgRvbIAw5SdnB\"\n",
    "access_token = \"3341529021-f9xFmfjPrY2ETpkt8MFE1mYVth7EVJyLOoRpJ73\"\n",
    "access_token_secret = \"KFKUjpEmydy3gi6vYNB9PZr0gAwALwDbegV6EW2xyVpAA\""
   ]
  },
  {
   "cell_type": "code",
   "execution_count": 10,
   "id": "beaaa694-f7aa-49b4-85ef-e97de184a414",
   "metadata": {},
   "outputs": [],
   "source": [
    "path = \"./tests/new_tweets/\""
   ]
  },
  {
   "cell_type": "code",
   "execution_count": 11,
   "id": "64211d0e-fd22-4f4f-b2fa-1a4843da83bf",
   "metadata": {},
   "outputs": [],
   "source": [
    "auth = tweepy.OAuthHandler(consumer_key, consumer_secret)\n",
    "auth.set_access_token(access_token, access_token_secret)\n",
    "\n",
    "api = tweepy.API(auth)"
   ]
  },
  {
   "cell_type": "code",
   "execution_count": 31,
   "id": "83cc9275-e169-4511-9b9e-0b3e5eee50a5",
   "metadata": {},
   "outputs": [],
   "source": [
    "public_tweets = api.home_timeline()\n",
    "for tweet in public_tweets:\n",
    "    tweet_obj = tweet._json\n",
    "    json.dump(tweet_obj, open(path + tweet_obj['id_str'] + \".json\", \"w\"))"
   ]
  },
  {
   "cell_type": "code",
   "execution_count": 1,
   "id": "8e625b13-84e9-476f-b18b-2c6e96aa2445",
   "metadata": {},
   "outputs": [],
   "source": [
    "# os.listdir(path)"
   ]
  },
  {
   "cell_type": "code",
   "execution_count": null,
   "id": "41af8ded-77dc-40a3-81a4-31c9857343e4",
   "metadata": {},
   "outputs": [],
   "source": [
    "tweet_object = api.get_status(\"1442477575633182721\", tweet_mode='extended')"
   ]
  },
  {
   "cell_type": "code",
   "execution_count": null,
   "id": "22270e93-40df-4c22-92b1-5154a53ec561",
   "metadata": {},
   "outputs": [],
   "source": [
    "for i in pd.read_csv(\"./tests/new_tweets/vaccine_tweet_data.csv\")[\"id\"]:\n",
    "    try:\n",
    "        tweet_obj = api.get_status(i, tweet_mode='extended')._json\n",
    "        json.dump(tweet_obj, open(path + tweet_obj['id_str'] + \".json\", \"w\"))\n",
    "    except:\n",
    "        print(str(i)+\" does not exist\")"
   ]
  }
 ],
 "metadata": {
  "kernelspec": {
   "display_name": "Python 3 (ipykernel)",
   "language": "python",
   "name": "python3"
  },
  "language_info": {
   "codemirror_mode": {
    "name": "ipython",
    "version": 3
   },
   "file_extension": ".py",
   "mimetype": "text/x-python",
   "name": "python",
   "nbconvert_exporter": "python",
   "pygments_lexer": "ipython3",
   "version": "3.9.7"
  }
 },
 "nbformat": 4,
 "nbformat_minor": 5
}
