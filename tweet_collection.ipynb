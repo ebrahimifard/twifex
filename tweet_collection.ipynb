{
 "cells": [
  {
   "cell_type": "code",
   "execution_count": 162,
   "id": "8d3ea179-ca7a-4c30-bec4-a36d7c4ad3fe",
   "metadata": {},
   "outputs": [],
   "source": [
    "import tweepy\n",
    "import json\n",
    "import random\n",
    "import os\n",
    "import pandas as pd\n",
    "import time\n",
    "from tqdm import tqdm\n",
    "from pprint import pprint\n",
    "import matplotlib.pyplot as plt\n",
    "import re\n",
    "from bs4 import BeautifulSoup"
   ]
  },
  {
   "cell_type": "code",
   "execution_count": 163,
   "id": "4755b347-ecc8-4533-a424-787d7f6804e8",
   "metadata": {},
   "outputs": [],
   "source": [
    "consumer_key = \"aPp14u2pIZo1nzwbNIHRTgsMR\"\n",
    "consumer_secret = \"R20ioXz0eY2wsiShdgnamAjeZ0pzl6kMCptLcCgRvbIAw5SdnB\"\n",
    "access_token = \"3341529021-f9xFmfjPrY2ETpkt8MFE1mYVth7EVJyLOoRpJ73\"\n",
    "access_token_secret = \"KFKUjpEmydy3gi6vYNB9PZr0gAwALwDbegV6EW2xyVpAA\""
   ]
  },
  {
   "cell_type": "code",
   "execution_count": 164,
   "id": "64211d0e-fd22-4f4f-b2fa-1a4843da83bf",
   "metadata": {},
   "outputs": [],
   "source": [
    "auth = tweepy.OAuthHandler(consumer_key, consumer_secret)\n",
    "auth.set_access_token(access_token, access_token_secret)\n",
    "\n",
    "api = tweepy.API(auth)"
   ]
  },
  {
   "cell_type": "code",
   "execution_count": 165,
   "id": "beaaa694-f7aa-49b4-85ef-e97de184a414",
   "metadata": {},
   "outputs": [],
   "source": [
    "path1 = \"./tests/new_tweets/\""
   ]
  },
  {
   "cell_type": "code",
   "execution_count": 166,
   "id": "5325d183-6ca5-4277-ae4e-3a1f65382d7a",
   "metadata": {},
   "outputs": [],
   "source": [
    "path2 = \"./tests/people_timeline/\""
   ]
  },
  {
   "cell_type": "code",
   "execution_count": 17,
   "id": "a877e4bb-9efa-4a23-bd24-4bf13a3cef52",
   "metadata": {},
   "outputs": [],
   "source": [
    "df = pd.read_csv(\"./tests/new_tweets/vaccine_tweet_data.csv\").sort_index(ascending=False)"
   ]
  },
  {
   "cell_type": "code",
   "execution_count": 19,
   "id": "41316880-fde6-4112-8972-fe78e593e408",
   "metadata": {},
   "outputs": [],
   "source": [
    "# pd.read_csv(\"./tests/new_tweets/vaccine_tweet_data.csv\")"
   ]
  },
  {
   "cell_type": "code",
   "execution_count": null,
   "id": "73d5881d-ebc3-4639-b234-8263ea2248a4",
   "metadata": {},
   "outputs": [],
   "source": [
    "for i in df[\"id\"]:\n",
    "    try:\n",
    "        tweet_obj = api.get_status(i, tweet_mode='extended')._json\n",
    "        json.dump(tweet_obj, open(path1 + tweet_obj['id_str'] + \".json\", \"w\"))\n",
    "    except:\n",
    "        print(str(i)+\" does not exist\")"
   ]
  },
  {
   "cell_type": "code",
   "execution_count": null,
   "id": "630f6d02-99ee-4498-97cf-5435085f9dec",
   "metadata": {},
   "outputs": [],
   "source": []
  },
  {
   "cell_type": "code",
   "execution_count": null,
   "id": "22211dd0-cded-4cd8-9008-fabeea71b38d",
   "metadata": {},
   "outputs": [],
   "source": []
  },
  {
   "cell_type": "code",
   "execution_count": 14,
   "id": "ab4979f7-fb52-405d-aaef-316df8e2f67e",
   "metadata": {},
   "outputs": [],
   "source": []
  },
  {
   "cell_type": "code",
   "execution_count": 15,
   "id": "83cc9275-e169-4511-9b9e-0b3e5eee50a5",
   "metadata": {},
   "outputs": [],
   "source": []
  },
  {
   "cell_type": "code",
   "execution_count": null,
   "id": "cfaa24aa-2e31-459d-b464-b3d9ac79fa0c",
   "metadata": {},
   "outputs": [],
   "source": []
  },
  {
   "cell_type": "code",
   "execution_count": null,
   "id": "76ea7d23-bea1-40c2-b258-f2357d9b6093",
   "metadata": {},
   "outputs": [],
   "source": []
  },
  {
   "cell_type": "code",
   "execution_count": 1,
   "id": "8e625b13-84e9-476f-b18b-2c6e96aa2445",
   "metadata": {},
   "outputs": [],
   "source": [
    "# os.listdir(path)"
   ]
  },
  {
   "cell_type": "markdown",
   "id": "90a535ab-1681-4d88-8710-c1a615bb4441",
   "metadata": {},
   "source": [
    "# Collecting my timeline tweets"
   ]
  },
  {
   "cell_type": "code",
   "execution_count": 6,
   "id": "223183e7-7bc1-484e-b246-1c290810a00f",
   "metadata": {},
   "outputs": [],
   "source": []
  },
  {
   "cell_type": "code",
   "execution_count": 178,
   "id": "8dacbdd5-2c1f-45f6-acb4-eda0228e9411",
   "metadata": {},
   "outputs": [],
   "source": [
    "public_tweets = api.user_timeline(screen_name=\"Elinor_Carmi\", tweet_mode='extended')\n",
    "for tweet in public_tweets:\n",
    "    tweet_obj = tweet._json\n",
    "    json.dump(tweet_obj, open(path2 + tweet_obj['id_str'] + \".json\", \"w\"))"
   ]
  },
  {
   "cell_type": "code",
   "execution_count": 179,
   "id": "73a9caf2-beed-4afa-a84f-0d59e43c6b35",
   "metadata": {},
   "outputs": [],
   "source": [
    "for e in public_tweets:\n",
    "    if e._json[\"retweeted\"]:\n",
    "        print(\"hi\")"
   ]
  },
  {
   "cell_type": "code",
   "execution_count": null,
   "id": "75aca2ec-2979-4872-8925-b748c6ee4d1a",
   "metadata": {},
   "outputs": [],
   "source": []
  },
  {
   "cell_type": "code",
   "execution_count": null,
   "id": "4d53298d-30d1-44f6-b8af-de1f950094cd",
   "metadata": {},
   "outputs": [],
   "source": []
  },
  {
   "cell_type": "markdown",
   "id": "5dcd8f98-5fa9-4801-9268-baba3266ccfe",
   "metadata": {},
   "source": [
    "# Collecting a single tweet"
   ]
  },
  {
   "cell_type": "code",
   "execution_count": 224,
   "id": "41af8ded-77dc-40a3-81a4-31c9857343e4",
   "metadata": {},
   "outputs": [],
   "source": [
    "tweet_object = api.get_status(\"1450108026262806533\", tweet_mode='extended')"
   ]
  },
  {
   "cell_type": "code",
   "execution_count": 225,
   "id": "6f46a245-2d06-4604-b2c1-43fcf0226f87",
   "metadata": {},
   "outputs": [
    {
     "name": "stdout",
     "output_type": "stream",
     "text": [
      "{'contributors': None,\n",
      " 'coordinates': None,\n",
      " 'created_at': 'Mon Oct 18 14:34:29 +0000 2021',\n",
      " 'display_text_range': [0, 271],\n",
      " 'entities': {'hashtags': [],\n",
      "              'media': [{'display_url': 'pic.twitter.com/OuRrnONJpH',\n",
      "                         'expanded_url': 'https://twitter.com/wihbey/status/1450108026262806533/photo/1',\n",
      "                         'id': 1450107672695607296,\n",
      "                         'id_str': '1450107672695607296',\n",
      "                         'indices': [272, 295],\n",
      "                         'media_url': 'http://pbs.twimg.com/media/FB_RPs0XEAAy93t.jpg',\n",
      "                         'media_url_https': 'https://pbs.twimg.com/media/FB_RPs0XEAAy93t.jpg',\n",
      "                         'sizes': {'large': {'h': 830,\n",
      "                                             'resize': 'fit',\n",
      "                                             'w': 1300},\n",
      "                                   'medium': {'h': 766,\n",
      "                                              'resize': 'fit',\n",
      "                                              'w': 1200},\n",
      "                                   'small': {'h': 434,\n",
      "                                             'resize': 'fit',\n",
      "                                             'w': 680},\n",
      "                                   'thumb': {'h': 150,\n",
      "                                             'resize': 'crop',\n",
      "                                             'w': 150}},\n",
      "                         'type': 'photo',\n",
      "                         'url': 'https://t.co/OuRrnONJpH'}],\n",
      "              'symbols': [],\n",
      "              'urls': [{'display_url': 'twitter.com/daphnehk/statu…',\n",
      "                        'expanded_url': 'https://twitter.com/daphnehk/status/1449957747399684101',\n",
      "                        'indices': [248, 271],\n",
      "                        'url': 'https://t.co/LxsSPfLrh4'}],\n",
      "              'user_mentions': []},\n",
      " 'extended_entities': {'media': [{'display_url': 'pic.twitter.com/OuRrnONJpH',\n",
      "                                  'expanded_url': 'https://twitter.com/wihbey/status/1450108026262806533/photo/1',\n",
      "                                  'id': 1450107672695607296,\n",
      "                                  'id_str': '1450107672695607296',\n",
      "                                  'indices': [272, 295],\n",
      "                                  'media_url': 'http://pbs.twimg.com/media/FB_RPs0XEAAy93t.jpg',\n",
      "                                  'media_url_https': 'https://pbs.twimg.com/media/FB_RPs0XEAAy93t.jpg',\n",
      "                                  'sizes': {'large': {'h': 830,\n",
      "                                                      'resize': 'fit',\n",
      "                                                      'w': 1300},\n",
      "                                            'medium': {'h': 766,\n",
      "                                                       'resize': 'fit',\n",
      "                                                       'w': 1200},\n",
      "                                            'small': {'h': 434,\n",
      "                                                      'resize': 'fit',\n",
      "                                                      'w': 680},\n",
      "                                            'thumb': {'h': 150,\n",
      "                                                      'resize': 'crop',\n",
      "                                                      'w': 150}},\n",
      "                                  'type': 'photo',\n",
      "                                  'url': 'https://t.co/OuRrnONJpH'}]},\n",
      " 'favorite_count': 7,\n",
      " 'favorited': False,\n",
      " 'full_text': 'Hate speech &amp; AI classifier problem has me thinking. FB '\n",
      "              'estimates prevalence 1/2000 posts seen (internal sampling '\n",
      "              'method). Our survey research suggests US public sees a LOT of '\n",
      "              'hate speech. I wondered if public overestimates, but maybe not? '\n",
      "              '1/3 https://t.co/LxsSPfLrh4 https://t.co/OuRrnONJpH',\n",
      " 'geo': None,\n",
      " 'id': 1450108026262806533,\n",
      " 'id_str': '1450108026262806533',\n",
      " 'in_reply_to_screen_name': None,\n",
      " 'in_reply_to_status_id': None,\n",
      " 'in_reply_to_status_id_str': None,\n",
      " 'in_reply_to_user_id': None,\n",
      " 'in_reply_to_user_id_str': None,\n",
      " 'is_quote_status': True,\n",
      " 'lang': 'en',\n",
      " 'place': None,\n",
      " 'possibly_sensitive': False,\n",
      " 'possibly_sensitive_appealable': False,\n",
      " 'quoted_status': {'contributors': None,\n",
      "                   'coordinates': None,\n",
      "                   'created_at': 'Mon Oct 18 04:37:20 +0000 2021',\n",
      "                   'display_text_range': [0, 285],\n",
      "                   'entities': {'hashtags': [],\n",
      "                                'symbols': [],\n",
      "                                'urls': [{'display_url': 'twitter.com/WSJ/status/144…',\n",
      "                                          'expanded_url': 'https://twitter.com/WSJ/status/1449729323406069763',\n",
      "                                          'indices': [286, 309],\n",
      "                                          'url': 'https://t.co/Z6wECfEGK7'}],\n",
      "                                'user_mentions': []},\n",
      "                   'favorite_count': 204,\n",
      "                   'favorited': False,\n",
      "                   'full_text': 'Govts &amp; media: If you don’t do magic '\n",
      "                                'content moderation, you’re bad and will be '\n",
      "                                'punished.\\n'\n",
      "                                'Platforms: We’re doing it!\\n'\n",
      "                                'Govts &amp; media: You lied about doing magic '\n",
      "                                'content moderation, you’re bad and will be '\n",
      "                                'punished.\\n'\n",
      "                                '\\n'\n",
      "                                'I’m not even sure who’s the bad guy in this '\n",
      "                                'story. But it’s bad. https://t.co/Z6wECfEGK7',\n",
      "                   'geo': None,\n",
      "                   'id': 1449957747399684101,\n",
      "                   'id_str': '1449957747399684101',\n",
      "                   'in_reply_to_screen_name': None,\n",
      "                   'in_reply_to_status_id': None,\n",
      "                   'in_reply_to_status_id_str': None,\n",
      "                   'in_reply_to_user_id': None,\n",
      "                   'in_reply_to_user_id_str': None,\n",
      "                   'is_quote_status': True,\n",
      "                   'lang': 'en',\n",
      "                   'place': None,\n",
      "                   'possibly_sensitive': False,\n",
      "                   'possibly_sensitive_appealable': False,\n",
      "                   'quoted_status_id': 1449729323406069763,\n",
      "                   'quoted_status_id_str': '1449729323406069763',\n",
      "                   'quoted_status_permalink': {'display': 'twitter.com/WSJ/status/144…',\n",
      "                                               'expanded': 'https://twitter.com/WSJ/status/1449729323406069763',\n",
      "                                               'url': 'https://t.co/Z6wECfEGK7'},\n",
      "                   'retweet_count': 55,\n",
      "                   'retweeted': False,\n",
      "                   'source': '<a href=\"http://twitter.com/download/iphone\" '\n",
      "                             'rel=\"nofollow\">Twitter for iPhone</a>',\n",
      "                   'truncated': False,\n",
      "                   'user': {'contributors_enabled': False,\n",
      "                            'created_at': 'Thu Oct 15 04:52:25 +0000 2009',\n",
      "                            'default_profile': True,\n",
      "                            'default_profile_image': False,\n",
      "                            'description': 'Platform Regulation Director, '\n",
      "                                           'Stanford Cyber Policy Center. '\n",
      "                                           'Former Google AGC. Been around '\n",
      "                                           'this particular block a few times.',\n",
      "                            'entities': {'description': {'urls': []},\n",
      "                                         'url': {'urls': [{'display_url': 'cyberlaw.stanford.edu/about/people/d…',\n",
      "                                                           'expanded_url': 'http://cyberlaw.stanford.edu/about/people/daphne-keller',\n",
      "                                                           'indices': [0, 22],\n",
      "                                                           'url': 'http://t.co/xSR3Joj4cl'}]}},\n",
      "                            'favourites_count': 16806,\n",
      "                            'follow_request_sent': False,\n",
      "                            'followers_count': 17469,\n",
      "                            'following': False,\n",
      "                            'friends_count': 269,\n",
      "                            'geo_enabled': True,\n",
      "                            'has_extended_profile': False,\n",
      "                            'id': 82542317,\n",
      "                            'id_str': '82542317',\n",
      "                            'is_translation_enabled': False,\n",
      "                            'is_translator': False,\n",
      "                            'lang': None,\n",
      "                            'listed_count': 478,\n",
      "                            'location': 'San Francisco, CA',\n",
      "                            'name': 'Daphne Keller',\n",
      "                            'notifications': False,\n",
      "                            'profile_background_color': 'C0DEED',\n",
      "                            'profile_background_image_url': 'http://abs.twimg.com/images/themes/theme1/bg.png',\n",
      "                            'profile_background_image_url_https': 'https://abs.twimg.com/images/themes/theme1/bg.png',\n",
      "                            'profile_background_tile': False,\n",
      "                            'profile_banner_url': 'https://pbs.twimg.com/profile_banners/82542317/1578075756',\n",
      "                            'profile_image_url': 'http://pbs.twimg.com/profile_images/1213163761919377408/nmEC8wkS_normal.jpg',\n",
      "                            'profile_image_url_https': 'https://pbs.twimg.com/profile_images/1213163761919377408/nmEC8wkS_normal.jpg',\n",
      "                            'profile_link_color': '1DA1F2',\n",
      "                            'profile_sidebar_border_color': 'C0DEED',\n",
      "                            'profile_sidebar_fill_color': 'DDEEF6',\n",
      "                            'profile_text_color': '333333',\n",
      "                            'profile_use_background_image': True,\n",
      "                            'protected': False,\n",
      "                            'screen_name': 'daphnehk',\n",
      "                            'statuses_count': 14241,\n",
      "                            'time_zone': None,\n",
      "                            'translator_type': 'none',\n",
      "                            'url': 'http://t.co/xSR3Joj4cl',\n",
      "                            'utc_offset': None,\n",
      "                            'verified': True,\n",
      "                            'withheld_in_countries': []}},\n",
      " 'quoted_status_id': 1449957747399684101,\n",
      " 'quoted_status_id_str': '1449957747399684101',\n",
      " 'quoted_status_permalink': {'display': 'twitter.com/daphnehk/statu…',\n",
      "                             'expanded': 'https://twitter.com/daphnehk/status/1449957747399684101',\n",
      "                             'url': 'https://t.co/LxsSPfLrh4'},\n",
      " 'retweet_count': 2,\n",
      " 'retweeted': False,\n",
      " 'source': '<a href=\"https://mobile.twitter.com\" rel=\"nofollow\">Twitter Web '\n",
      "           'App</a>',\n",
      " 'truncated': False,\n",
      " 'user': {'contributors_enabled': False,\n",
      "          'created_at': 'Fri Feb 27 00:27:27 +0000 2009',\n",
      "          'default_profile': False,\n",
      "          'default_profile_image': False,\n",
      "          'description': 'prof, consultant, dad, all things media & tech '\n",
      "                         '@Northeastern @NUJournalism @NU_PolicySchool '\n",
      "                         'researching media, innovation, policy',\n",
      "          'entities': {'description': {'urls': []},\n",
      "                       'url': {'urls': [{'display_url': 'northeastern.edu/camd/journalis…',\n",
      "                                         'expanded_url': 'http://www.northeastern.edu/camd/journalism/people/john-wihbey/',\n",
      "                                         'indices': [0, 23],\n",
      "                                         'url': 'https://t.co/QBtGtG3xEG'}]}},\n",
      "          'favourites_count': 6316,\n",
      "          'follow_request_sent': False,\n",
      "          'followers_count': 2672,\n",
      "          'following': False,\n",
      "          'friends_count': 3017,\n",
      "          'geo_enabled': True,\n",
      "          'has_extended_profile': False,\n",
      "          'id': 22085323,\n",
      "          'id_str': '22085323',\n",
      "          'is_translation_enabled': False,\n",
      "          'is_translator': False,\n",
      "          'lang': None,\n",
      "          'listed_count': 157,\n",
      "          'location': 'Boston',\n",
      "          'name': 'John Wihbey',\n",
      "          'notifications': False,\n",
      "          'profile_background_color': '131516',\n",
      "          'profile_background_image_url': 'http://abs.twimg.com/images/themes/theme14/bg.gif',\n",
      "          'profile_background_image_url_https': 'https://abs.twimg.com/images/themes/theme14/bg.gif',\n",
      "          'profile_background_tile': True,\n",
      "          'profile_banner_url': 'https://pbs.twimg.com/profile_banners/22085323/1629226927',\n",
      "          'profile_image_url': 'http://pbs.twimg.com/profile_images/1449393162070462465/GSoSMimQ_normal.jpg',\n",
      "          'profile_image_url_https': 'https://pbs.twimg.com/profile_images/1449393162070462465/GSoSMimQ_normal.jpg',\n",
      "          'profile_link_color': '000099',\n",
      "          'profile_sidebar_border_color': 'EEEEEE',\n",
      "          'profile_sidebar_fill_color': 'EFEFEF',\n",
      "          'profile_text_color': '333333',\n",
      "          'profile_use_background_image': True,\n",
      "          'protected': False,\n",
      "          'screen_name': 'wihbey',\n",
      "          'statuses_count': 4972,\n",
      "          'time_zone': None,\n",
      "          'translator_type': 'none',\n",
      "          'url': 'https://t.co/QBtGtG3xEG',\n",
      "          'utc_offset': None,\n",
      "          'verified': False,\n",
      "          'withheld_in_countries': []}}\n"
     ]
    }
   ],
   "source": [
    "pprint(tweet_object._json)"
   ]
  },
  {
   "cell_type": "code",
   "execution_count": 22,
   "id": "b2d82f2c-a2d6-4d64-98df-babf4d27990a",
   "metadata": {},
   "outputs": [],
   "source": [
    "# tweet_object._json"
   ]
  },
  {
   "cell_type": "code",
   "execution_count": null,
   "id": "e1b3af06-f4ef-41ee-8395-5db416ac9013",
   "metadata": {},
   "outputs": [],
   "source": []
  },
  {
   "cell_type": "code",
   "execution_count": null,
   "id": "1d5ee0d5-17ff-4faa-9c1b-1a826c142063",
   "metadata": {},
   "outputs": [],
   "source": []
  },
  {
   "cell_type": "code",
   "execution_count": null,
   "id": "24f80c07-1384-4cb1-bf8c-e1b28088c5ec",
   "metadata": {},
   "outputs": [],
   "source": []
  },
  {
   "cell_type": "markdown",
   "id": "0d53b7ad-643d-4fe9-8223-4bd10f02d550",
   "metadata": {},
   "source": [
    "# Tweet collection using search function"
   ]
  },
  {
   "cell_type": "code",
   "execution_count": 111,
   "id": "ae00a433-c03f-45eb-808a-398f076666f7",
   "metadata": {},
   "outputs": [],
   "source": [
    "tweet_obj = []\n",
    "tweet_repo = []"
   ]
  },
  {
   "cell_type": "code",
   "execution_count": null,
   "id": "24d6d109-4a63-4df9-bb99-ebffbb2ec3e9",
   "metadata": {},
   "outputs": [],
   "source": []
  },
  {
   "cell_type": "code",
   "execution_count": 127,
   "id": "ce98a40d-c0cb-4b60-bb77-dd605e018e73",
   "metadata": {},
   "outputs": [],
   "source": [
    "path3 = \"./tests/searched_tweets/\""
   ]
  },
  {
   "cell_type": "code",
   "execution_count": 113,
   "id": "612c312a-869d-4798-8d6a-41e54ca0b306",
   "metadata": {},
   "outputs": [],
   "source": [
    "query=\"crisis\""
   ]
  },
  {
   "cell_type": "code",
   "execution_count": 115,
   "id": "1bfd6dc3-ebda-4d87-b3a6-908e2b49f23a",
   "metadata": {},
   "outputs": [],
   "source": [
    "counter = 0\n",
    "while(True):\n",
    "    try:\n",
    "        tweet_obj = api.search(query, tweet_mode='extended')\n",
    "        counter += 1\n",
    "        for tweet in tweet_obj:\n",
    "            tweet = tweet._json\n",
    "            json.dump(tweet, open(path3 + tweet['id_str'] + \".json\", \"w\"))\n",
    "            tweet_repo.append(tweet)\n",
    "        if counter == 450:\n",
    "            time.sleep(900)\n",
    "            counter = 0\n",
    "    except:\n",
    "        break"
   ]
  },
  {
   "cell_type": "code",
   "execution_count": 116,
   "id": "082a924c-bb73-4e0b-bcef-4ddee91aeadf",
   "metadata": {},
   "outputs": [],
   "source": [
    "files = [i for i in os.listdir(path3) if os.path.isfile(path3+i)]\n",
    "retweets = []\n",
    "\n",
    "\n",
    "for file in files:\n",
    "    tw = json.load(open(path3+file))\n",
    "    if tw[\"retweeted\"]:\n",
    "        retweets.append(tw)"
   ]
  },
  {
   "cell_type": "code",
   "execution_count": 117,
   "id": "15a2ffe1-ce22-4e2d-afe6-9c1df17b627c",
   "metadata": {},
   "outputs": [
    {
     "data": {
      "text/plain": [
       "0"
      ]
     },
     "execution_count": 117,
     "metadata": {},
     "output_type": "execute_result"
    }
   ],
   "source": [
    "len(retweets)"
   ]
  },
  {
   "cell_type": "markdown",
   "id": "94b49539-c472-4002-bfbc-3263431b8e72",
   "metadata": {},
   "source": [
    "# Testing collected tweets"
   ]
  },
  {
   "cell_type": "code",
   "execution_count": 180,
   "id": "07a0d15a-5321-4773-baf8-b5d7ca55a562",
   "metadata": {},
   "outputs": [],
   "source": [
    "Q = []\n",
    "for file in os.listdir(path2):\n",
    "    Q.append(json.load(open(path2+file)))"
   ]
  },
  {
   "cell_type": "code",
   "execution_count": 181,
   "id": "ffd08a43-ab7f-4294-a21f-09ec05c801ba",
   "metadata": {},
   "outputs": [],
   "source": [
    "f1, f2, f3, f4 = [], [], [], []"
   ]
  },
  {
   "cell_type": "code",
   "execution_count": 182,
   "id": "eb6145da-6fde-467a-bff4-c0deac2c6044",
   "metadata": {},
   "outputs": [
    {
     "name": "stderr",
     "output_type": "stream",
     "text": [
      "100%|████████████████████████████████████████████████████████████████████████████| 220/220 [00:00<00:00, 109498.86it/s]\n"
     ]
    }
   ],
   "source": [
    "for tweet in tqdm(Q):\n",
    "    if 'retweeted_status' in tweet.keys():\n",
    "        if 'quoted_status' in tweet['retweeted_status'].keys():\n",
    "            f4.append(tweet)\n",
    "        else:\n",
    "            f2.append(tweet)\n",
    "    elif 'quoted_status' in tweet.keys():\n",
    "        f3.append(tweet)\n",
    "    else:\n",
    "        f1.append(tweet)"
   ]
  },
  {
   "cell_type": "code",
   "execution_count": 183,
   "id": "fa151293-ce42-4ad9-a562-2b8317d211b1",
   "metadata": {},
   "outputs": [
    {
     "name": "stdout",
     "output_type": "stream",
     "text": [
      "76 99 19 26\n"
     ]
    }
   ],
   "source": [
    "print(len(f1), len(f2), len(f3), len(f4))"
   ]
  },
  {
   "cell_type": "code",
   "execution_count": 184,
   "id": "298cbe1f-518c-40f4-8c57-43f027958b3d",
   "metadata": {},
   "outputs": [],
   "source": [
    "f1_dict = {}\n",
    "for item in f1:\n",
    "    for key in item.keys():\n",
    "        f1_dict[key] = f1_dict.get(key, 0) + 1\n",
    "f1_set = set(f1_dict.keys())\n",
    "        \n",
    "        \n",
    "f2_dict = {}\n",
    "for item in f2:\n",
    "    for key in item.keys():\n",
    "        f2_dict[key] = f2_dict.get(key, 0) + 1\n",
    "f2_set = set(f2_dict.keys())\n",
    "        \n",
    "        \n",
    "f3_dict = {}\n",
    "for item in f3:\n",
    "    for key in item.keys():\n",
    "        f3_dict[key] = f3_dict.get(key, 0) + 1\n",
    "f3_set = set(f3_dict.keys())\n",
    "        \n",
    "\n",
    "f4_dict = {}\n",
    "for item in f4:\n",
    "    for key in item.keys():\n",
    "        f4_dict[key] = f4_dict.get(key, 0) + 1\n",
    "f4_set = set(f4_dict.keys())"
   ]
  },
  {
   "cell_type": "code",
   "execution_count": 185,
   "id": "90a46ebe-ea0b-4f68-b5e3-0468b904a9ab",
   "metadata": {},
   "outputs": [],
   "source": [
    "key_union = f1_set.union(f2_set, f3_set, f4_set)\n",
    "key_list = list(key_union)"
   ]
  },
  {
   "cell_type": "code",
   "execution_count": 186,
   "id": "2b3aa5bf-2fd3-497e-82bc-9654a9b92f8d",
   "metadata": {},
   "outputs": [],
   "source": [
    "grand_list = {}\n",
    "for i in key_list:\n",
    "    if i in f1_dict.keys():\n",
    "        grand_list[i] = grand_list.get(i, []) + [f1_dict[i]]\n",
    "    else:\n",
    "        grand_list[i] = grand_list.get(i, []) + [0]\n",
    "        \n",
    "    if i in f2_dict.keys():\n",
    "        grand_list[i] = grand_list.get(i, []) + [f2_dict[i]]\n",
    "    else:\n",
    "        grand_list[i] = grand_list.get(i, []) + [0]    \n",
    "        \n",
    "    if i in f3_dict.keys():\n",
    "        grand_list[i] = grand_list.get(i, []) + [f3_dict[i]]\n",
    "    else:\n",
    "        grand_list[i] = grand_list.get(i, []) + [0]   \n",
    "        \n",
    "    if i in f4_dict.keys():\n",
    "        grand_list[i] = grand_list.get(i, []) + [f4_dict[i]]\n",
    "    else:\n",
    "        grand_list[i] = grand_list.get(i, []) + [0]"
   ]
  },
  {
   "cell_type": "code",
   "execution_count": 187,
   "id": "7fc68502-7870-4e31-8c40-25cfbcaed40b",
   "metadata": {},
   "outputs": [
    {
     "name": "stdout",
     "output_type": "stream",
     "text": [
      "29 27 29 29\n"
     ]
    }
   ],
   "source": [
    "print(len(f1_dict.keys()), len(f2_dict.keys()), len(f3_dict.keys()), len(f4_dict.keys()))"
   ]
  },
  {
   "cell_type": "code",
   "execution_count": 188,
   "id": "f7f9944a-ef37-47a0-af83-19e0f996cd34",
   "metadata": {},
   "outputs": [
    {
     "data": {
      "text/plain": [
       "{'quoted_status_id': [2, 0, 19, 26],\n",
       " 'quoted_status_permalink': [2, 0, 19, 26],\n",
       " 'favorited': [76, 99, 19, 26],\n",
       " 'user': [76, 99, 19, 26],\n",
       " 'display_text_range': [76, 99, 19, 26],\n",
       " 'possibly_sensitive': [39, 18, 19, 2],\n",
       " 'retweet_count': [76, 99, 19, 26],\n",
       " 'geo': [76, 99, 19, 26],\n",
       " 'quoted_status_id_str': [2, 0, 19, 26],\n",
       " 'retweeted_status': [0, 99, 0, 26],\n",
       " 'in_reply_to_status_id_str': [76, 99, 19, 26],\n",
       " 'entities': [76, 99, 19, 26],\n",
       " 'in_reply_to_user_id': [76, 99, 19, 26],\n",
       " 'contributors': [76, 99, 19, 26],\n",
       " 'id': [76, 99, 19, 26],\n",
       " 'place': [76, 99, 19, 26],\n",
       " 'coordinates': [76, 99, 19, 26],\n",
       " 'quoted_status': [0, 0, 19, 0],\n",
       " 'extended_entities': [20, 6, 0, 0],\n",
       " 'is_quote_status': [76, 99, 19, 26],\n",
       " 'truncated': [76, 99, 19, 26],\n",
       " 'id_str': [76, 99, 19, 26],\n",
       " 'retweeted': [76, 99, 19, 26],\n",
       " 'full_text': [76, 99, 19, 26],\n",
       " 'lang': [76, 99, 19, 26],\n",
       " 'created_at': [76, 99, 19, 26],\n",
       " 'in_reply_to_user_id_str': [76, 99, 19, 26],\n",
       " 'in_reply_to_status_id': [76, 99, 19, 26],\n",
       " 'in_reply_to_screen_name': [76, 99, 19, 26],\n",
       " 'favorite_count': [76, 99, 19, 26],\n",
       " 'source': [76, 99, 19, 26]}"
      ]
     },
     "execution_count": 188,
     "metadata": {},
     "output_type": "execute_result"
    }
   ],
   "source": [
    "grand_list"
   ]
  },
  {
   "cell_type": "code",
   "execution_count": 189,
   "id": "62dd2b85-3df4-4391-9166-56cb9f0efe13",
   "metadata": {},
   "outputs": [],
   "source": [
    "df = pd.DataFrame.from_dict(grand_list, orient='index')"
   ]
  },
  {
   "cell_type": "code",
   "execution_count": 190,
   "id": "5fa18ad3-5fa3-435f-b0c1-74c6a34df70c",
   "metadata": {},
   "outputs": [
    {
     "data": {
      "text/plain": [
       "<AxesSubplot:>"
      ]
     },
     "execution_count": 190,
     "metadata": {},
     "output_type": "execute_result"
    },
    {
     "data": {
      "image/png": "[encoded data removed]",
      "text/plain": [
       "<Figure size 1728x432 with 1 Axes>"
      ]
     },
     "metadata": {
      "needs_background": "light"
     },
     "output_type": "display_data"
    }
   ],
   "source": [
    "df.plot(kind='bar', figsize=(24,6))"
   ]
  },
  {
   "cell_type": "code",
   "execution_count": 235,
   "id": "dd9fd100-b4fe-4664-beec-289eaaf7c68e",
   "metadata": {},
   "outputs": [],
   "source": [
    "for i in f3:\n",
    "    if not (\"full_text\" in i[\"quoted_status\"]):\n",
    "            print(i)"
   ]
  },
  {
   "cell_type": "code",
   "execution_count": 236,
   "id": "ca543b76-ec6a-4222-811a-1ee314c550d1",
   "metadata": {},
   "outputs": [
    {
     "data": {
      "text/plain": [
       "{'created_at': 'Wed Sep 30 00:00:55 +0000 2020',\n",
       " 'id': 1311093630866731009,\n",
       " 'id_str': '1311093630866731009',\n",
       " 'full_text': 'After ad-hoc fact-checking in the early 20 century, and post-hoc fact-checking in the late 80s, this is for sure a revolution in the history of journalism. https://t.co/sU5a58zLro',\n",
       " 'truncated': False,\n",
       " 'display_text_range': [0, 155],\n",
       " 'entities': {'hashtags': [],\n",
       "  'symbols': [],\n",
       "  'user_mentions': [],\n",
       "  'urls': [{'url': 'https://t.co/sU5a58zLro',\n",
       "    'expanded_url': 'https://twitter.com/danmacg/status/1311082050364076033',\n",
       "    'display_url': 'twitter.com/danmacg/status…',\n",
       "    'indices': [156, 179]}]},\n",
       " 'source': '<a href=\"https://mobile.twitter.com\" rel=\"nofollow\">Twitter Web App</a>',\n",
       " 'in_reply_to_status_id': None,\n",
       " 'in_reply_to_status_id_str': None,\n",
       " 'in_reply_to_user_id': None,\n",
       " 'in_reply_to_user_id_str': None,\n",
       " 'in_reply_to_screen_name': None,\n",
       " 'user': {'id': 3341529021,\n",
       "  'id_str': '3341529021',\n",
       "  'name': 'Amir',\n",
       "  'screen_name': 'amiref_1991',\n",
       "  'location': 'Maastricht',\n",
       "  'description': 'Postdoc researcher on XAI and NLP. Studied rumour confrontation in social media. TU Delft PhD graduate.',\n",
       "  'url': None,\n",
       "  'entities': {'description': {'urls': []}},\n",
       "  'protected': False,\n",
       "  'followers_count': 325,\n",
       "  'friends_count': 1917,\n",
       "  'listed_count': 0,\n",
       "  'created_at': 'Mon Jun 22 15:39:24 +0000 2015',\n",
       "  'favourites_count': 3332,\n",
       "  'utc_offset': None,\n",
       "  'time_zone': None,\n",
       "  'geo_enabled': False,\n",
       "  'verified': False,\n",
       "  'statuses_count': 553,\n",
       "  'lang': None,\n",
       "  'contributors_enabled': False,\n",
       "  'is_translator': False,\n",
       "  'is_translation_enabled': False,\n",
       "  'profile_background_color': '000000',\n",
       "  'profile_background_image_url': 'http://abs.twimg.com/images/themes/theme1/bg.png',\n",
       "  'profile_background_image_url_https': 'https://abs.twimg.com/images/themes/theme1/bg.png',\n",
       "  'profile_background_tile': False,\n",
       "  'profile_image_url': 'http://pbs.twimg.com/profile_images/1441350603947618305/9Fughm7u_normal.jpg',\n",
       "  'profile_image_url_https': 'https://pbs.twimg.com/profile_images/1441350603947618305/9Fughm7u_normal.jpg',\n",
       "  'profile_banner_url': 'https://pbs.twimg.com/profile_banners/3341529021/1465235333',\n",
       "  'profile_link_color': '19CF86',\n",
       "  'profile_sidebar_border_color': '000000',\n",
       "  'profile_sidebar_fill_color': '000000',\n",
       "  'profile_text_color': '000000',\n",
       "  'profile_use_background_image': False,\n",
       "  'has_extended_profile': False,\n",
       "  'default_profile': False,\n",
       "  'default_profile_image': False,\n",
       "  'following': False,\n",
       "  'follow_request_sent': False,\n",
       "  'notifications': False,\n",
       "  'translator_type': 'none',\n",
       "  'withheld_in_countries': []},\n",
       " 'geo': None,\n",
       " 'coordinates': None,\n",
       " 'place': None,\n",
       " 'contributors': None,\n",
       " 'is_quote_status': True,\n",
       " 'quoted_status_id': 1311082050364076033,\n",
       " 'quoted_status_id_str': '1311082050364076033',\n",
       " 'quoted_status_permalink': {'url': 'https://t.co/sU5a58zLro',\n",
       "  'expanded': 'https://twitter.com/danmacg/status/1311082050364076033',\n",
       "  'display': 'twitter.com/danmacg/status…'},\n",
       " 'quoted_status': {'created_at': 'Tue Sep 29 23:14:54 +0000 2020',\n",
       "  'id': 1311082050364076033,\n",
       "  'id_str': '1311082050364076033',\n",
       "  'full_text': \"For the first time ever, @Snopes is fact-checking presidential debates in real time.\\xa0Starting tonight.\\xa0\\n\\nJessica Lee will be focusing on Biden's claims, and I'll be focusing on Trump's.\\n\\nIf you don't already, follow\\xa0@byjlee, and get on to\\xa0https://t.co/T0fRpvVw8o \\n\\n*Deep breath*\",\n",
       "  'truncated': False,\n",
       "  'display_text_range': [0, 278],\n",
       "  'entities': {'hashtags': [],\n",
       "   'symbols': [],\n",
       "   'user_mentions': [{'screen_name': 'snopes',\n",
       "     'name': 'snopes.com',\n",
       "     'id': 14294848,\n",
       "     'id_str': '14294848',\n",
       "     'indices': [25, 32]},\n",
       "    {'screen_name': 'byjlee',\n",
       "     'name': 'Jessica Lee',\n",
       "     'id': 777353864,\n",
       "     'id_str': '777353864',\n",
       "     'indices': [216, 223]}],\n",
       "   'urls': [{'url': 'https://t.co/T0fRpvVw8o',\n",
       "     'expanded_url': 'https://www.snopes.com/',\n",
       "     'display_url': 'snopes.com',\n",
       "     'indices': [239, 262]}]},\n",
       "  'source': '<a href=\"https://mobile.twitter.com\" rel=\"nofollow\">Twitter Web App</a>',\n",
       "  'in_reply_to_status_id': None,\n",
       "  'in_reply_to_status_id_str': None,\n",
       "  'in_reply_to_user_id': None,\n",
       "  'in_reply_to_user_id_str': None,\n",
       "  'in_reply_to_screen_name': None,\n",
       "  'user': {'id': 46140767,\n",
       "   'id_str': '46140767',\n",
       "   'name': 'Dan Mac Guill',\n",
       "   'screen_name': 'danmacg',\n",
       "   'location': 'Northeastern PA',\n",
       "   'description': 'Writer @snopes. Irish. Fact-checker. Formerly @TJ_FactCheck @thejournal_ie. Views my own',\n",
       "   'url': 'https://t.co/vMSZudU2wP',\n",
       "   'entities': {'url': {'urls': [{'url': 'https://t.co/vMSZudU2wP',\n",
       "       'expanded_url': 'https://www.snopes.com/author/danmacguill/',\n",
       "       'display_url': 'snopes.com/author/danmacg…',\n",
       "       'indices': [0, 23]}]},\n",
       "    'description': {'urls': []}},\n",
       "   'protected': False,\n",
       "   'followers_count': 2522,\n",
       "   'friends_count': 2718,\n",
       "   'listed_count': 68,\n",
       "   'created_at': 'Wed Jun 10 15:39:54 +0000 2009',\n",
       "   'favourites_count': 564,\n",
       "   'utc_offset': None,\n",
       "   'time_zone': None,\n",
       "   'geo_enabled': True,\n",
       "   'verified': False,\n",
       "   'statuses_count': 3602,\n",
       "   'lang': None,\n",
       "   'contributors_enabled': False,\n",
       "   'is_translator': False,\n",
       "   'is_translation_enabled': False,\n",
       "   'profile_background_color': 'C0DEED',\n",
       "   'profile_background_image_url': 'http://abs.twimg.com/images/themes/theme1/bg.png',\n",
       "   'profile_background_image_url_https': 'https://abs.twimg.com/images/themes/theme1/bg.png',\n",
       "   'profile_background_tile': False,\n",
       "   'profile_image_url': 'http://pbs.twimg.com/profile_images/775351925688655872/Ve6vMm0y_normal.jpg',\n",
       "   'profile_image_url_https': 'https://pbs.twimg.com/profile_images/775351925688655872/Ve6vMm0y_normal.jpg',\n",
       "   'profile_banner_url': 'https://pbs.twimg.com/profile_banners/46140767/1405546614',\n",
       "   'profile_link_color': '0084B4',\n",
       "   'profile_sidebar_border_color': 'C0DEED',\n",
       "   'profile_sidebar_fill_color': 'DDEEF6',\n",
       "   'profile_text_color': '333333',\n",
       "   'profile_use_background_image': True,\n",
       "   'has_extended_profile': True,\n",
       "   'default_profile': False,\n",
       "   'default_profile_image': False,\n",
       "   'following': True,\n",
       "   'follow_request_sent': False,\n",
       "   'notifications': False,\n",
       "   'translator_type': 'none',\n",
       "   'withheld_in_countries': []},\n",
       "  'geo': None,\n",
       "  'coordinates': None,\n",
       "  'place': None,\n",
       "  'contributors': None,\n",
       "  'is_quote_status': False,\n",
       "  'retweet_count': 289,\n",
       "  'favorite_count': 473,\n",
       "  'favorited': False,\n",
       "  'retweeted': False,\n",
       "  'possibly_sensitive': False,\n",
       "  'lang': 'en'},\n",
       " 'retweet_count': 0,\n",
       " 'favorite_count': 0,\n",
       " 'favorited': False,\n",
       " 'retweeted': False,\n",
       " 'possibly_sensitive': False,\n",
       " 'lang': 'en'}"
      ]
     },
     "execution_count": 236,
     "metadata": {},
     "output_type": "execute_result"
    }
   ],
   "source": []
  },
  {
   "cell_type": "code",
   "execution_count": null,
   "id": "8dd1faea-e9ac-48d7-9eb4-07bf9bd11e4d",
   "metadata": {},
   "outputs": [],
   "source": []
  }
 ],
 "metadata": {
  "kernelspec": {
   "display_name": "Python 3 (ipykernel)",
   "language": "python",
   "name": "python3"
  },
  "language_info": {
   "codemirror_mode": {
    "name": "ipython",
    "version": 3
   },
   "file_extension": ".py",
   "mimetype": "text/x-python",
   "name": "python",
   "nbconvert_exporter": "python",
   "pygments_lexer": "ipython3",
   "version": "3.9.7"
  }
 },
 "nbformat": 4,
 "nbformat_minor": 5
}
