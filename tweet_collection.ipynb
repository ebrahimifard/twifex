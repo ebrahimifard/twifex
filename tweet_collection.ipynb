{
 "cells": [
  {
   "cell_type": "code",
   "execution_count": 1,
   "id": "8d3ea179-ca7a-4c30-bec4-a36d7c4ad3fe",
   "metadata": {},
   "outputs": [],
   "source": [
    "import tweepy\n",
    "import json\n",
    "import random\n",
    "import os\n",
    "import pandas as pd\n",
    "import time\n",
    "from tqdm import tqdm\n",
    "from pprint import pprint\n",
    "import matplotlib.pyplot as plt\n",
    "import re\n",
    "from bs4 import BeautifulSoup\n",
    "import pickle as pk"
   ]
  },
  {
   "cell_type": "code",
   "execution_count": 2,
   "id": "60246d3f-5d07-474f-b58d-785bd062445d",
   "metadata": {},
   "outputs": [],
   "source": [
    "from twifex import *"
   ]
  },
  {
   "cell_type": "code",
   "execution_count": 3,
   "id": "1c0190c4-087d-4f56-8cd3-1a1037383da8",
   "metadata": {},
   "outputs": [],
   "source": [
    "twifex = Twifex()"
   ]
  },
  {
   "cell_type": "code",
   "execution_count": 2,
   "id": "4755b347-ecc8-4533-a424-787d7f6804e8",
   "metadata": {},
   "outputs": [],
   "source": [
    "consumer_key = \"aPp14u2pIZo1nzwbNIHRTgsMR\"\n",
    "consumer_secret = \"R20ioXz0eY2wsiShdgnamAjeZ0pzl6kMCptLcCgRvbIAw5SdnB\"\n",
    "access_token = \"3341529021-f9xFmfjPrY2ETpkt8MFE1mYVth7EVJyLOoRpJ73\"\n",
    "access_token_secret = \"KFKUjpEmydy3gi6vYNB9PZr0gAwALwDbegV6EW2xyVpAA\""
   ]
  },
  {
   "cell_type": "code",
   "execution_count": 3,
   "id": "64211d0e-fd22-4f4f-b2fa-1a4843da83bf",
   "metadata": {},
   "outputs": [],
   "source": [
    "auth = tweepy.OAuthHandler(consumer_key, consumer_secret)\n",
    "auth.set_access_token(access_token, access_token_secret)"
   ]
  },
  {
   "cell_type": "code",
   "execution_count": 6,
   "id": "749e13b4-a2e3-4ecc-8f93-acaba130e57b",
   "metadata": {},
   "outputs": [],
   "source": [
    "api = tweepy.API(auth)"
   ]
  },
  {
   "cell_type": "code",
   "execution_count": 11,
   "id": "beaaa694-f7aa-49b4-85ef-e97de184a414",
   "metadata": {},
   "outputs": [],
   "source": [
    "path1 = \"./tests/new_tweets/\"\n",
    "path2 = \"./tests/people_timeline/\"\n",
    "path3 = \"./tests/modified_tweets/\"\n",
    "path4 = \"./tests/my_test/\""
   ]
  },
  {
   "cell_type": "code",
   "execution_count": 8,
   "id": "86a814f0-ad5f-4677-929b-27023c221850",
   "metadata": {},
   "outputs": [
    {
     "name": "stderr",
     "output_type": "stream",
     "text": [
      "100%|██████████████████████████████████████████████████████████████████████████████| 1687/1687 [01:27<00:00, 19.24it/s]\n",
      "100%|████████████████████████████████████████████████████████████████████████████████| 308/308 [00:16<00:00, 18.49it/s]\n",
      "100%|████████████████████████████████████████████████████████████████████████████████████| 7/7 [00:00<00:00, 20.70it/s]\n"
     ]
    }
   ],
   "source": [
    "new_tweets = []\n",
    "for file in tqdm([i for i in os.listdir(path1) if os.path.isfile(path1+i)]):\n",
    "    if \".json\" in file:\n",
    "        new_tweets.append(twifex.single_tweet(path1+file))\n",
    "    else:\n",
    "        pass\n",
    "\n",
    "timeline_tweets = []\n",
    "for file in tqdm([i for i in os.listdir(path2) if os.path.isfile(path2+i)]):\n",
    "    if \".json\" in file:\n",
    "        timeline_tweets.append(twifex.single_tweet(path2+file))\n",
    "    else:\n",
    "        pass\n",
    "\n",
    "modified_tweets = []\n",
    "for file in tqdm([i for i in os.listdir(path3) if os.path.isfile(path3+i)]):\n",
    "    if \".json\" in file:\n",
    "        modified_tweets.append(twifex.single_tweet(path3+file))\n",
    "    else:\n",
    "        pass"
   ]
  },
  {
   "cell_type": "code",
   "execution_count": 9,
   "id": "14f8f948-c16d-43d2-8ec5-846f58488599",
   "metadata": {},
   "outputs": [],
   "source": [
    "_tweets = timeline_tweets"
   ]
  },
  {
   "cell_type": "code",
   "execution_count": null,
   "id": "a877e4bb-9efa-4a23-bd24-4bf13a3cef52",
   "metadata": {},
   "outputs": [],
   "source": [
    "# df = pd.read_csv(\"./tests/new_tweets/vaccine_tweet_data.csv\").sort_index(ascending=False)"
   ]
  },
  {
   "cell_type": "code",
   "execution_count": null,
   "id": "41316880-fde6-4112-8972-fe78e593e408",
   "metadata": {},
   "outputs": [],
   "source": [
    "# pd.read_csv(\"./tests/new_tweets/vaccine_tweet_data.csv\")"
   ]
  },
  {
   "cell_type": "code",
   "execution_count": null,
   "id": "73d5881d-ebc3-4639-b234-8263ea2248a4",
   "metadata": {},
   "outputs": [],
   "source": [
    "# for i in df[\"id\"]:\n",
    "#     try:\n",
    "#         tweet_obj = api.get_status(i, tweet_mode='extended')._json\n",
    "#         json.dump(tweet_obj, open(path1 + tweet_obj['id_str'] + \".json\", \"w\"))\n",
    "#     except:\n",
    "#         print(str(i)+\" does not exist\")"
   ]
  },
  {
   "cell_type": "markdown",
   "id": "90a535ab-1681-4d88-8710-c1a615bb4441",
   "metadata": {},
   "source": [
    "# Collecting my timeline tweets"
   ]
  },
  {
   "cell_type": "code",
   "execution_count": null,
   "id": "8dacbdd5-2c1f-45f6-acb4-eda0228e9411",
   "metadata": {},
   "outputs": [],
   "source": [
    "jsons = []\n",
    "public_tweets = api.user_timeline(screen_name=\"ginasue\", tweet_mode='extended')\n",
    "for tweet in public_tweets:\n",
    "    tweet_obj = tweet._json\n",
    "    jsons.append(tweet._json)\n",
    "    json.dump(tweet_obj, open(path2 + tweet_obj['id_str'] + \".json\", \"w\"))"
   ]
  },
  {
   "cell_type": "code",
   "execution_count": null,
   "id": "d82fbc44-729b-49cb-b1c8-c8a424abdc35",
   "metadata": {},
   "outputs": [],
   "source": []
  },
  {
   "cell_type": "code",
   "execution_count": null,
   "id": "6f8274fa-f5c9-420b-8fa6-70ece15470e5",
   "metadata": {},
   "outputs": [],
   "source": []
  },
  {
   "cell_type": "code",
   "execution_count": null,
   "id": "4d53298d-30d1-44f6-b8af-de1f950094cd",
   "metadata": {},
   "outputs": [],
   "source": [
    " # jsons[5]"
   ]
  },
  {
   "cell_type": "markdown",
   "id": "5dcd8f98-5fa9-4801-9268-baba3266ccfe",
   "metadata": {},
   "source": [
    "# Collecting a single tweet"
   ]
  },
  {
   "cell_type": "code",
   "execution_count": null,
   "id": "41af8ded-77dc-40a3-81a4-31c9857343e4",
   "metadata": {},
   "outputs": [],
   "source": [
    "# tweet_object = api.get_status(\"1452563241981329414\", tweet_mode='extended')"
   ]
  },
  {
   "cell_type": "code",
   "execution_count": null,
   "id": "71801d84-bcbf-489a-9bad-8abcc33a3cd2",
   "metadata": {},
   "outputs": [],
   "source": [
    "# tweet_obj = tweet_object._json\n",
    "# json.dump(tweet_obj, open(path2 + tweet_obj['id_str'] + \".json\", \"w\"))"
   ]
  },
  {
   "cell_type": "code",
   "execution_count": 4,
   "id": "15385508-704e-4eab-b5d5-e8fa25b60c1c",
   "metadata": {},
   "outputs": [],
   "source": [
    "api = tweepy.API(auth, wait_on_rate_limit_notify=True, wait_on_rate_limit=True)"
   ]
  },
  {
   "cell_type": "code",
   "execution_count": 9,
   "id": "00362161-26b7-4436-a343-0b1bc707f756",
   "metadata": {},
   "outputs": [],
   "source": [
    "path_to_tweet_ids = \"C:/Users/P70076367/Documents/Projects/viewpoint_diversity/twitter_conversations_viewpoint_diversity/pickles/IMMIGRATION_tweet_ids_for retreival.list\"\n",
    "path_to_pickle = \"C:/Users/P70076367/Documents/Projects/viewpoint_diversity/twitter_conversations_viewpoint_diversity/pickles/\"\n",
    "path_to_save = \"C:/Users/P70076367/Documents/Projects/viewpoint_diversity/data/IMMIGRATION_retrieved_tweets/\""
   ]
  },
  {
   "cell_type": "code",
   "execution_count": 6,
   "id": "5ec4519f-8a53-480a-8280-1d22527dd554",
   "metadata": {},
   "outputs": [],
   "source": [
    "tweet_ids = pk.load(open(path_to_tweet_ids, \"rb\"))"
   ]
  },
  {
   "cell_type": "code",
   "execution_count": 7,
   "id": "acef13e6-8c8c-4709-b3f5-e549af2c2e86",
   "metadata": {},
   "outputs": [
    {
     "name": "stderr",
     "output_type": "stream",
     "text": [
      " 15%|███████████▋                                                                   | 900/6067 [03:12<18:27,  4.66it/s]Rate limit reached. Sleeping for: 707\n",
      " 30%|███████████████████████▏                                                      | 1800/6067 [18:12<15:13,  4.67it/s]Rate limit reached. Sleeping for: 712\n",
      " 45%|██████████████████████████████████▋                                           | 2700/6067 [33:19<12:29,  4.49it/s]Rate limit reached. Sleeping for: 711\n",
      " 59%|██████████████████████████████████████████████▎                               | 3600/6067 [48:25<08:05,  5.08it/s]Rate limit reached. Sleeping for: 709\n",
      " 74%|████████████████████████████████████████████████████████▎                   | 4500/6067 [1:03:29<05:36,  4.66it/s]Rate limit reached. Sleeping for: 711\n",
      "100%|████████████████████████████████████████████████████████████████████████████| 6067/6067 [1:17:43<00:00,  1.30it/s]\n"
     ]
    }
   ],
   "source": [
    "tweet_objects = []\n",
    "not_retrieved_tweets = []\n",
    "# count = 0\n",
    "for tweet_id in tqdm(tweet_ids):\n",
    "    try:\n",
    "        tweet_object = api.get_status(tweet_id, tweet_mode='extended')\n",
    "        tweet_object = tweet_object._json\n",
    "        tweet_objects.append(tweet_object)\n",
    "        json.dump(tweet_object, open(path_to_save + tweet_object['id_str'] + \".json\", \"w\"))\n",
    "        # count+=1\n",
    "        # if count == 900:\n",
    "        #     count = 0\n",
    "        #     time.sleep(900)\n",
    "    except:\n",
    "        not_retrieved_tweets.append(tweet_id)"
   ]
  },
  {
   "cell_type": "code",
   "execution_count": 10,
   "id": "54aa127f-1fb5-403c-a0ef-7481eaded78d",
   "metadata": {},
   "outputs": [],
   "source": [
    "pk.dump(tweet_objects, open(path_to_pickle+\"IMMIGRATION_retrieved_tweets.list\", \"wb\"))\n",
    "pk.dump(not_retrieved_tweets, open(path_to_pickle+\"IMMIGRATION_not_retrieved_tweets.list\", \"wb\"))"
   ]
  },
  {
   "cell_type": "code",
   "execution_count": null,
   "id": "a9bf95cd-a9ee-4cea-af02-48f079e314ac",
   "metadata": {},
   "outputs": [],
   "source": []
  },
  {
   "cell_type": "code",
   "execution_count": null,
   "id": "cb78174a-5f21-4057-849f-f38906f9d04b",
   "metadata": {},
   "outputs": [],
   "source": [
    "# pprint(tweet_object._json)"
   ]
  },
  {
   "cell_type": "markdown",
   "id": "0d53b7ad-643d-4fe9-8223-4bd10f02d550",
   "metadata": {},
   "source": [
    "# Tweet collection using search function"
   ]
  },
  {
   "cell_type": "code",
   "execution_count": null,
   "id": "ae00a433-c03f-45eb-808a-398f076666f7",
   "metadata": {},
   "outputs": [],
   "source": [
    "tweet_obj = []\n",
    "tweet_repo = []"
   ]
  },
  {
   "cell_type": "code",
   "execution_count": null,
   "id": "ce98a40d-c0cb-4b60-bb77-dd605e018e73",
   "metadata": {},
   "outputs": [],
   "source": [
    "path3 = \"./tests/searched_tweets/\""
   ]
  },
  {
   "cell_type": "code",
   "execution_count": null,
   "id": "612c312a-869d-4798-8d6a-41e54ca0b306",
   "metadata": {},
   "outputs": [],
   "source": [
    "query=\"crisis\""
   ]
  },
  {
   "cell_type": "code",
   "execution_count": null,
   "id": "1bfd6dc3-ebda-4d87-b3a6-908e2b49f23a",
   "metadata": {},
   "outputs": [],
   "source": [
    "counter = 0\n",
    "while(True):\n",
    "    try:\n",
    "        tweet_obj = api.search(query, tweet_mode='extended')\n",
    "        counter += 1\n",
    "        for tweet in tweet_obj:\n",
    "            tweet = tweet._json\n",
    "            json.dump(tweet, open(path3 + tweet['id_str'] + \".json\", \"w\"))\n",
    "            tweet_repo.append(tweet)\n",
    "        if counter == 450:\n",
    "            time.sleep(900)\n",
    "            counter = 0\n",
    "    except:\n",
    "        break"
   ]
  },
  {
   "cell_type": "code",
   "execution_count": null,
   "id": "082a924c-bb73-4e0b-bcef-4ddee91aeadf",
   "metadata": {},
   "outputs": [],
   "source": [
    "files = [i for i in os.listdir(path3) if os.path.isfile(path3+i)]\n",
    "retweets = []\n",
    "\n",
    "\n",
    "for file in files:\n",
    "    tw = json.load(open(path3+file))\n",
    "    if tw[\"retweeted\"]:\n",
    "        retweets.append(tw)"
   ]
  },
  {
   "cell_type": "code",
   "execution_count": null,
   "id": "ca1ae197-9eaa-4745-becc-4a61b0e5f735",
   "metadata": {},
   "outputs": [],
   "source": [
    "len(timeline_tweets)"
   ]
  },
  {
   "cell_type": "code",
   "execution_count": null,
   "id": "24591e49-4644-4bc1-87de-24863ff64aab",
   "metadata": {},
   "outputs": [],
   "source": [
    "a = None\n",
    "b = None\n",
    "c = None\n",
    "d = None\n",
    "e = None\n",
    "\n",
    "for tweet in timeline_tweets:\n",
    "    if tweet.get_id() == 1452564443154550788:\n",
    "        a=tweet\n",
    "    if tweet.get_id() == 1452563398940631045:\n",
    "        b=tweet\n",
    "    if tweet.get_id() == 1449095358471094277:\n",
    "        c=tweet\n",
    "    if tweet.get_id() == 1449094959202775041:\n",
    "        d=tweet  \n",
    "    if tweet.get_id() == 1449077444007321605:\n",
    "        e=tweet          "
   ]
  },
  {
   "cell_type": "code",
   "execution_count": null,
   "id": "25a1b118-13e9-4a2c-9683-41e72c026a83",
   "metadata": {},
   "outputs": [],
   "source": [
    "# import re"
   ]
  },
  {
   "cell_type": "code",
   "execution_count": null,
   "id": "9d63fef3-2d14-4305-b979-559b6ebb8ed4",
   "metadata": {},
   "outputs": [],
   "source": [
    "# a.get_tweet()[\"quoted_status\"][\"quoted_status_permalink\"][\"expanded\"]"
   ]
  },
  {
   "cell_type": "code",
   "execution_count": null,
   "id": "4c720b76-e87b-4590-9cf2-28f54383a5b5",
   "metadata": {},
   "outputs": [],
   "source": [
    "# re.findall(\"status.*\", a.get_tweet()[\"quoted_status\"][\"quoted_status_permalink\"][\"expanded\"])[0].replace(\"status/\",\"\")"
   ]
  },
  {
   "cell_type": "code",
   "execution_count": null,
   "id": "5b43fd05-cb2e-48ee-b398-e152174a3431",
   "metadata": {},
   "outputs": [],
   "source": [
    "pprint(a.get_tweet())"
   ]
  },
  {
   "cell_type": "code",
   "execution_count": null,
   "id": "59ea5b2e-09e1-4c09-8a21-974beae42ba1",
   "metadata": {},
   "outputs": [],
   "source": [
    "# pprint(a.get_tweet())"
   ]
  },
  {
   "cell_type": "code",
   "execution_count": null,
   "id": "a3ac5af5-e41e-4d04-b728-aca4081a26a7",
   "metadata": {},
   "outputs": [],
   "source": [
    "# pprint(c.get_tweet())"
   ]
  },
  {
   "cell_type": "code",
   "execution_count": null,
   "id": "1f221b03-b029-408e-ace2-5b12cc8fbc27",
   "metadata": {},
   "outputs": [],
   "source": [
    "# pprint(e.get_tweet())"
   ]
  },
  {
   "cell_type": "markdown",
   "id": "94b49539-c472-4002-bfbc-3263431b8e72",
   "metadata": {
    "tags": []
   },
   "source": [
    "# Testing collected tweets"
   ]
  },
  {
   "cell_type": "code",
   "execution_count": null,
   "id": "41da93cd-fd9f-47d6-8134-8ad32621718b",
   "metadata": {},
   "outputs": [],
   "source": [
    "twifex = Twifex()"
   ]
  },
  {
   "cell_type": "code",
   "execution_count": null,
   "id": "07a0d15a-5321-4773-baf8-b5d7ca55a562",
   "metadata": {},
   "outputs": [],
   "source": [
    "Q = []\n",
    "twf = []\n",
    "for file in os.listdir(path2):\n",
    "    Q.append(json.load(open(path2+file)))\n",
    "    twf.append(twifex.single_tweet(path2+file))"
   ]
  },
  {
   "cell_type": "code",
   "execution_count": null,
   "id": "ffd08a43-ab7f-4294-a21f-09ec05c801ba",
   "metadata": {},
   "outputs": [],
   "source": [
    "f1, f2, f3, f4 = [], [], [], []\n",
    "twf1, twf2, twf3, twf4 = [], [], [], []"
   ]
  },
  {
   "cell_type": "code",
   "execution_count": null,
   "id": "0c8a9d7f-2f20-4a8b-905e-7881bc0b7716",
   "metadata": {},
   "outputs": [],
   "source": [
    "len(Q)"
   ]
  },
  {
   "cell_type": "code",
   "execution_count": null,
   "id": "eb6145da-6fde-467a-bff4-c0deac2c6044",
   "metadata": {},
   "outputs": [],
   "source": [
    "for tweet in tqdm(Q):\n",
    "    if 'retweeted_status' in tweet.keys():\n",
    "        if 'quoted_status' in tweet['retweeted_status'].keys():\n",
    "            f4.append(tweet)\n",
    "        else:\n",
    "            f2.append(tweet)\n",
    "    elif 'quoted_status' in tweet.keys():\n",
    "        f3.append(tweet)\n",
    "    else:\n",
    "        f1.append(tweet)\n",
    "        \n",
    "        \n",
    "        \n",
    "for tweet in tqdm(twf):\n",
    "    if tweet.is_retweeted():\n",
    "        if tweet.get_retweeted().is_quoted():\n",
    "            twf4.append(tweet)\n",
    "        else:\n",
    "            twf2.append(tweet)\n",
    "    elif tweet.is_quoted():\n",
    "        twf3.append(tweet)\n",
    "    else:\n",
    "        twf1.append(tweet)"
   ]
  },
  {
   "cell_type": "code",
   "execution_count": null,
   "id": "fa151293-ce42-4ad9-a562-2b8317d211b1",
   "metadata": {},
   "outputs": [],
   "source": [
    "print(len(f1), len(f2), len(f3), len(f4))"
   ]
  },
  {
   "cell_type": "code",
   "execution_count": null,
   "id": "d61f4583-6b3e-4a59-bcec-f3d7148e815b",
   "metadata": {},
   "outputs": [],
   "source": [
    "len(_tweets)"
   ]
  },
  {
   "cell_type": "code",
   "execution_count": null,
   "id": "82153d2e-bd14-42d2-b0ac-c31798b912f2",
   "metadata": {},
   "outputs": [],
   "source": []
  },
  {
   "cell_type": "code",
   "execution_count": null,
   "id": "298cbe1f-518c-40f4-8c57-43f027958b3d",
   "metadata": {},
   "outputs": [],
   "source": [
    "f1_dict = {}\n",
    "for item in f1:\n",
    "    for key in item.keys():\n",
    "        f1_dict[key] = f1_dict.get(key, 0) + 1\n",
    "f1_set = set(f1_dict.keys())\n",
    "        \n",
    "        \n",
    "f2_dict = {}\n",
    "for item in f2:\n",
    "    for key in item.keys():\n",
    "        f2_dict[key] = f2_dict.get(key, 0) + 1\n",
    "f2_set = set(f2_dict.keys())\n",
    "        \n",
    "        \n",
    "f3_dict = {}\n",
    "for item in f3:\n",
    "    for key in item.keys():\n",
    "        f3_dict[key] = f3_dict.get(key, 0) + 1\n",
    "f3_set = set(f3_dict.keys())\n",
    "        \n",
    "\n",
    "f4_dict = {}\n",
    "for item in f4:\n",
    "    for key in item.keys():\n",
    "        f4_dict[key] = f4_dict.get(key, 0) + 1\n",
    "f4_set = set(f4_dict.keys())"
   ]
  },
  {
   "cell_type": "code",
   "execution_count": null,
   "id": "90a46ebe-ea0b-4f68-b5e3-0468b904a9ab",
   "metadata": {},
   "outputs": [],
   "source": [
    "key_union = f1_set.union(f2_set, f3_set, f4_set)\n",
    "key_list = list(key_union)"
   ]
  },
  {
   "cell_type": "code",
   "execution_count": null,
   "id": "2b3aa5bf-2fd3-497e-82bc-9654a9b92f8d",
   "metadata": {},
   "outputs": [],
   "source": [
    "grand_list = {}\n",
    "for i in key_list:\n",
    "    if i in f1_dict.keys():\n",
    "        grand_list[i] = grand_list.get(i, []) + [f1_dict[i]]\n",
    "    else:\n",
    "        grand_list[i] = grand_list.get(i, []) + [0]\n",
    "        \n",
    "    if i in f2_dict.keys():\n",
    "        grand_list[i] = grand_list.get(i, []) + [f2_dict[i]]\n",
    "    else:\n",
    "        grand_list[i] = grand_list.get(i, []) + [0]    \n",
    "        \n",
    "    if i in f3_dict.keys():\n",
    "        grand_list[i] = grand_list.get(i, []) + [f3_dict[i]]\n",
    "    else:\n",
    "        grand_list[i] = grand_list.get(i, []) + [0]   \n",
    "        \n",
    "    if i in f4_dict.keys():\n",
    "        grand_list[i] = grand_list.get(i, []) + [f4_dict[i]]\n",
    "    else:\n",
    "        grand_list[i] = grand_list.get(i, []) + [0]"
   ]
  },
  {
   "cell_type": "code",
   "execution_count": null,
   "id": "7fc68502-7870-4e31-8c40-25cfbcaed40b",
   "metadata": {},
   "outputs": [],
   "source": [
    "print(len(f1_dict.keys()), len(f2_dict.keys()), len(f3_dict.keys()), len(f4_dict.keys()))"
   ]
  },
  {
   "cell_type": "code",
   "execution_count": null,
   "id": "f7f9944a-ef37-47a0-af83-19e0f996cd34",
   "metadata": {},
   "outputs": [],
   "source": [
    "grand_list"
   ]
  },
  {
   "cell_type": "code",
   "execution_count": null,
   "id": "62dd2b85-3df4-4391-9166-56cb9f0efe13",
   "metadata": {},
   "outputs": [],
   "source": [
    "df = pd.DataFrame.from_dict(grand_list, orient='index')"
   ]
  },
  {
   "cell_type": "code",
   "execution_count": null,
   "id": "4552783a-efab-4734-b091-37a8ca71b955",
   "metadata": {},
   "outputs": [],
   "source": []
  },
  {
   "cell_type": "code",
   "execution_count": null,
   "id": "5fa18ad3-5fa3-435f-b0c1-74c6a34df70c",
   "metadata": {},
   "outputs": [],
   "source": [
    "df.plot(kind='bar', figsize=(24,6))"
   ]
  },
  {
   "cell_type": "code",
   "execution_count": null,
   "id": "9e925091-3d72-4dea-aa39-a6f1b10dce98",
   "metadata": {},
   "outputs": [],
   "source": [
    "len(twf3)"
   ]
  },
  {
   "cell_type": "code",
   "execution_count": null,
   "id": "0b66c980-47f9-458f-ad11-684ff381c715",
   "metadata": {},
   "outputs": [],
   "source": [
    "len(Q)"
   ]
  },
  {
   "cell_type": "code",
   "execution_count": null,
   "id": "0d2bec1a-44c2-4198-b2ff-518105d2f915",
   "metadata": {},
   "outputs": [],
   "source": [
    "t = []"
   ]
  },
  {
   "cell_type": "code",
   "execution_count": null,
   "id": "c5221d34-ab77-478e-9f0a-f84415e262e8",
   "metadata": {},
   "outputs": [],
   "source": [
    "for i in twf:\n",
    "    if i.get_id() == 1308539697711415296:\n",
    "        t.append(i)"
   ]
  },
  {
   "cell_type": "code",
   "execution_count": null,
   "id": "54fba082-304e-4f58-b219-74b1c848b377",
   "metadata": {},
   "outputs": [],
   "source": [
    "t[0].is_quoted()"
   ]
  },
  {
   "cell_type": "code",
   "execution_count": null,
   "id": "51faa25a-5051-4823-b78c-a59f31937d4d",
   "metadata": {},
   "outputs": [],
   "source": [
    "s= t[0].get_text()"
   ]
  },
  {
   "cell_type": "code",
   "execution_count": null,
   "id": "ac622438-7c5e-4f0d-bb27-6921ed6aac0d",
   "metadata": {},
   "outputs": [],
   "source": [
    "s"
   ]
  },
  {
   "cell_type": "code",
   "execution_count": null,
   "id": "0ce58da6-e32f-42d8-8300-748904373b4a",
   "metadata": {},
   "outputs": [],
   "source": [
    "t[0].get_tweet()[\"is_quote_status\"]"
   ]
  },
  {
   "cell_type": "code",
   "execution_count": null,
   "id": "ec40951e-fd7b-4d7e-b647-cf965c700834",
   "metadata": {},
   "outputs": [],
   "source": [
    "t[0].is_quoted()"
   ]
  },
  {
   "cell_type": "code",
   "execution_count": null,
   "id": "ba5523ae-40c6-42bc-8f43-878f6aca64ad",
   "metadata": {},
   "outputs": [],
   "source": [
    "t[0].is_quote_available()"
   ]
  },
  {
   "cell_type": "code",
   "execution_count": null,
   "id": "2c4bcef1-3ff9-4b6b-a017-e289be17dc69",
   "metadata": {},
   "outputs": [],
   "source": [
    "pprint(t[0].get_tweet())"
   ]
  },
  {
   "cell_type": "code",
   "execution_count": null,
   "id": "c1b7045a-ad25-4e2b-a82d-91d8991b3cd9",
   "metadata": {},
   "outputs": [],
   "source": []
  },
  {
   "cell_type": "code",
   "execution_count": 30,
   "id": "47a99b14-6ffb-4adb-88b1-5b2e0ef9afaa",
   "metadata": {},
   "outputs": [
    {
     "data": {
      "text/plain": [
       "True"
      ]
     },
     "execution_count": 30,
     "metadata": {},
     "output_type": "execute_result"
    }
   ],
   "source": [
    "4 not in [1,2,3]"
   ]
  },
  {
   "cell_type": "code",
   "execution_count": 14,
   "id": "b67b1aa8-1806-42cf-82ac-f4d8e139f5b9",
   "metadata": {},
   "outputs": [],
   "source": [
    "tweet_object = api.get_status(1452957522164322315, tweet_mode='extended')"
   ]
  },
  {
   "cell_type": "code",
   "execution_count": 12,
   "id": "c33ccd8d-7b43-489c-aca6-b7c6677f82c1",
   "metadata": {},
   "outputs": [],
   "source": [
    "jsons = []\n",
    "public_tweets = api.user_timeline(screen_name=\"amiref_1991\", tweet_mode='extended')\n",
    "for tweet in public_tweets:\n",
    "    tweet_obj = tweet._json\n",
    "    jsons.append(tweet._json)\n",
    "    # json.dump(tweet_obj, open(path2 + tweet_obj['id_str'] + \".json\", \"w\"))"
   ]
  },
  {
   "cell_type": "code",
   "execution_count": 15,
   "id": "14364776-b072-47a7-b9ad-0e3f139b826d",
   "metadata": {},
   "outputs": [],
   "source": [
    "JJ = jsons[0]"
   ]
  },
  {
   "cell_type": "code",
   "execution_count": 27,
   "id": "41b5766c-f755-409e-828d-0f660819f60c",
   "metadata": {},
   "outputs": [
    {
     "data": {
      "text/plain": [
       "True"
      ]
     },
     "execution_count": 27,
     "metadata": {},
     "output_type": "execute_result"
    }
   ],
   "source": [
    "tweet_object._json[\"id_str\"] == JJ[\"retweeted_status\"][\"id_str\"]"
   ]
  },
  {
   "cell_type": "code",
   "execution_count": 21,
   "id": "8a5a69e2-6cf5-4c3b-a0ce-c87bc2a820eb",
   "metadata": {},
   "outputs": [
    {
     "data": {
      "text/plain": [
       "'1452957522164322315'"
      ]
     },
     "execution_count": 21,
     "metadata": {},
     "output_type": "execute_result"
    }
   ],
   "source": [
    "JJ[\"retweeted_status\"][\"id_str\"]"
   ]
  },
  {
   "cell_type": "code",
   "execution_count": null,
   "id": "9b4c3f8b-dd2a-4143-a4a3-91a943014127",
   "metadata": {},
   "outputs": [],
   "source": []
  }
 ],
 "metadata": {
  "kernelspec": {
   "display_name": "Python 3 (ipykernel)",
   "language": "python",
   "name": "python3"
  },
  "language_info": {
   "codemirror_mode": {
    "name": "ipython",
    "version": 3
   },
   "file_extension": ".py",
   "mimetype": "text/x-python",
   "name": "python",
   "nbconvert_exporter": "python",
   "pygments_lexer": "ipython3",
   "version": "3.9.7"
  }
 },
 "nbformat": 4,
 "nbformat_minor": 5
}
