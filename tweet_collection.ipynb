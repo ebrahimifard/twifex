{
 "cells": [
  {
   "cell_type": "code",
   "execution_count": 1,
   "id": "8d3ea179-ca7a-4c30-bec4-a36d7c4ad3fe",
   "metadata": {},
   "outputs": [],
   "source": [
    "import tweepy\n",
    "import json\n",
    "import random\n",
    "import os\n",
    "import pandas as pd\n",
    "import time\n",
    "from tqdm import tqdm\n",
    "from pprint import pprint\n",
    "import matplotlib.pyplot as plt\n",
    "import re\n",
    "from bs4 import BeautifulSoup\n",
    "from twifex import *"
   ]
  },
  {
   "cell_type": "code",
   "execution_count": 2,
   "id": "1c0190c4-087d-4f56-8cd3-1a1037383da8",
   "metadata": {},
   "outputs": [],
   "source": [
    "twifex = Twifex()"
   ]
  },
  {
   "cell_type": "code",
   "execution_count": 3,
   "id": "4755b347-ecc8-4533-a424-787d7f6804e8",
   "metadata": {},
   "outputs": [],
   "source": [
    "consumer_key = \"aPp14u2pIZo1nzwbNIHRTgsMR\"\n",
    "consumer_secret = \"R20ioXz0eY2wsiShdgnamAjeZ0pzl6kMCptLcCgRvbIAw5SdnB\"\n",
    "access_token = \"3341529021-f9xFmfjPrY2ETpkt8MFE1mYVth7EVJyLOoRpJ73\"\n",
    "access_token_secret = \"KFKUjpEmydy3gi6vYNB9PZr0gAwALwDbegV6EW2xyVpAA\""
   ]
  },
  {
   "cell_type": "code",
   "execution_count": 4,
   "id": "64211d0e-fd22-4f4f-b2fa-1a4843da83bf",
   "metadata": {},
   "outputs": [],
   "source": [
    "auth = tweepy.OAuthHandler(consumer_key, consumer_secret)\n",
    "auth.set_access_token(access_token, access_token_secret)\n",
    "\n",
    "api = tweepy.API(auth)"
   ]
  },
  {
   "cell_type": "code",
   "execution_count": 5,
   "id": "beaaa694-f7aa-49b4-85ef-e97de184a414",
   "metadata": {},
   "outputs": [],
   "source": [
    "path1 = \"./tests/new_tweets/\"\n",
    "path2 = \"./tests/people_timeline/\"\n",
    "path3 = \"./tests/modified_tweets/\""
   ]
  },
  {
   "cell_type": "code",
   "execution_count": 6,
   "id": "86a814f0-ad5f-4677-929b-27023c221850",
   "metadata": {},
   "outputs": [
    {
     "name": "stderr",
     "output_type": "stream",
     "text": [
      "100%|██████████████████████████████████████████████████████████████████████████████| 1687/1687 [00:22<00:00, 75.08it/s]\n",
      "100%|████████████████████████████████████████████████████████████████████████████████| 305/305 [00:04<00:00, 72.98it/s]\n",
      "100%|████████████████████████████████████████████████████████████████████████████████████| 7/7 [00:00<00:00, 83.54it/s]\n"
     ]
    }
   ],
   "source": [
    "new_tweets = []\n",
    "for file in tqdm([i for i in os.listdir(path1) if os.path.isfile(path1+i)]):\n",
    "    if \".json\" in file:\n",
    "        new_tweets.append(twifex.single_tweet(path1+file))\n",
    "    else:\n",
    "        pass\n",
    "\n",
    "timeline_tweets = []\n",
    "for file in tqdm([i for i in os.listdir(path2) if os.path.isfile(path2+i)]):\n",
    "    if \".json\" in file:\n",
    "        timeline_tweets.append(twifex.single_tweet(path2+file))\n",
    "    else:\n",
    "        pass\n",
    "\n",
    "modified_tweets = []\n",
    "for file in tqdm([i for i in os.listdir(path3) if os.path.isfile(path3+i)]):\n",
    "    if \".json\" in file:\n",
    "        modified_tweets.append(twifex.single_tweet(path3+file))\n",
    "    else:\n",
    "        pass"
   ]
  },
  {
   "cell_type": "code",
   "execution_count": 7,
   "id": "14f8f948-c16d-43d2-8ec5-846f58488599",
   "metadata": {},
   "outputs": [],
   "source": [
    "_tweets = timeline_tweets"
   ]
  },
  {
   "cell_type": "code",
   "execution_count": 8,
   "id": "a877e4bb-9efa-4a23-bd24-4bf13a3cef52",
   "metadata": {},
   "outputs": [],
   "source": [
    "# df = pd.read_csv(\"./tests/new_tweets/vaccine_tweet_data.csv\").sort_index(ascending=False)"
   ]
  },
  {
   "cell_type": "code",
   "execution_count": 9,
   "id": "41316880-fde6-4112-8972-fe78e593e408",
   "metadata": {},
   "outputs": [],
   "source": [
    "# pd.read_csv(\"./tests/new_tweets/vaccine_tweet_data.csv\")"
   ]
  },
  {
   "cell_type": "code",
   "execution_count": 10,
   "id": "73d5881d-ebc3-4639-b234-8263ea2248a4",
   "metadata": {},
   "outputs": [],
   "source": [
    "# for i in df[\"id\"]:\n",
    "#     try:\n",
    "#         tweet_obj = api.get_status(i, tweet_mode='extended')._json\n",
    "#         json.dump(tweet_obj, open(path1 + tweet_obj['id_str'] + \".json\", \"w\"))\n",
    "#     except:\n",
    "#         print(str(i)+\" does not exist\")"
   ]
  },
  {
   "cell_type": "markdown",
   "id": "90a535ab-1681-4d88-8710-c1a615bb4441",
   "metadata": {},
   "source": [
    "# Collecting my timeline tweets"
   ]
  },
  {
   "cell_type": "code",
   "execution_count": 53,
   "id": "8dacbdd5-2c1f-45f6-acb4-eda0228e9411",
   "metadata": {},
   "outputs": [],
   "source": [
    "jsons = []\n",
    "public_tweets = api.user_timeline(screen_name=\"ginasue\", tweet_mode='extended')\n",
    "for tweet in public_tweets:\n",
    "    tweet_obj = tweet._json\n",
    "    jsons.append(tweet._json)\n",
    "    json.dump(tweet_obj, open(path2 + tweet_obj['id_str'] + \".json\", \"w\"))"
   ]
  },
  {
   "cell_type": "code",
   "execution_count": null,
   "id": "d82fbc44-729b-49cb-b1c8-c8a424abdc35",
   "metadata": {},
   "outputs": [],
   "source": []
  },
  {
   "cell_type": "code",
   "execution_count": null,
   "id": "6f8274fa-f5c9-420b-8fa6-70ece15470e5",
   "metadata": {},
   "outputs": [],
   "source": []
  },
  {
   "cell_type": "code",
   "execution_count": 65,
   "id": "4d53298d-30d1-44f6-b8af-de1f950094cd",
   "metadata": {},
   "outputs": [],
   "source": [
    " # jsons[5]"
   ]
  },
  {
   "cell_type": "markdown",
   "id": "5dcd8f98-5fa9-4801-9268-baba3266ccfe",
   "metadata": {},
   "source": [
    "# Collecting a single tweet"
   ]
  },
  {
   "cell_type": "code",
   "execution_count": 49,
   "id": "41af8ded-77dc-40a3-81a4-31c9857343e4",
   "metadata": {},
   "outputs": [],
   "source": [
    "tweet_object = api.get_status(\"1451544265444708357\", tweet_mode='extended')"
   ]
  },
  {
   "cell_type": "code",
   "execution_count": 43,
   "id": "71801d84-bcbf-489a-9bad-8abcc33a3cd2",
   "metadata": {},
   "outputs": [],
   "source": [
    "tweet_obj = tweet_object._json\n",
    "json.dump(tweet_obj, open(path2 + tweet_obj['id_str'] + \".json\", \"w\"))"
   ]
  },
  {
   "cell_type": "code",
   "execution_count": 47,
   "id": "ab110416-d27c-42c9-9f89-9e20e917a51d",
   "metadata": {},
   "outputs": [],
   "source": [
    "a = []"
   ]
  },
  {
   "cell_type": "code",
   "execution_count": 50,
   "id": "bfdd724f-d0a8-4b75-a853-06b0d32b8dc3",
   "metadata": {},
   "outputs": [],
   "source": [
    "a.append(tweet_object)"
   ]
  },
  {
   "cell_type": "code",
   "execution_count": null,
   "id": "8cd41b08-68da-4308-bffc-32bd18c778bc",
   "metadata": {},
   "outputs": [],
   "source": []
  },
  {
   "cell_type": "code",
   "execution_count": 66,
   "id": "6f46a245-2d06-4604-b2c1-43fcf0226f87",
   "metadata": {},
   "outputs": [],
   "source": [
    "# pprint(a[1]._json)"
   ]
  },
  {
   "cell_type": "code",
   "execution_count": 22,
   "id": "b2d82f2c-a2d6-4d64-98df-babf4d27990a",
   "metadata": {},
   "outputs": [],
   "source": [
    "# tweet_object._json"
   ]
  },
  {
   "cell_type": "markdown",
   "id": "0d53b7ad-643d-4fe9-8223-4bd10f02d550",
   "metadata": {},
   "source": [
    "# Tweet collection using search function"
   ]
  },
  {
   "cell_type": "code",
   "execution_count": 111,
   "id": "ae00a433-c03f-45eb-808a-398f076666f7",
   "metadata": {},
   "outputs": [],
   "source": [
    "tweet_obj = []\n",
    "tweet_repo = []"
   ]
  },
  {
   "cell_type": "code",
   "execution_count": 127,
   "id": "ce98a40d-c0cb-4b60-bb77-dd605e018e73",
   "metadata": {},
   "outputs": [],
   "source": [
    "path3 = \"./tests/searched_tweets/\""
   ]
  },
  {
   "cell_type": "code",
   "execution_count": 113,
   "id": "612c312a-869d-4798-8d6a-41e54ca0b306",
   "metadata": {},
   "outputs": [],
   "source": [
    "query=\"crisis\""
   ]
  },
  {
   "cell_type": "code",
   "execution_count": 115,
   "id": "1bfd6dc3-ebda-4d87-b3a6-908e2b49f23a",
   "metadata": {},
   "outputs": [],
   "source": [
    "counter = 0\n",
    "while(True):\n",
    "    try:\n",
    "        tweet_obj = api.search(query, tweet_mode='extended')\n",
    "        counter += 1\n",
    "        for tweet in tweet_obj:\n",
    "            tweet = tweet._json\n",
    "            json.dump(tweet, open(path3 + tweet['id_str'] + \".json\", \"w\"))\n",
    "            tweet_repo.append(tweet)\n",
    "        if counter == 450:\n",
    "            time.sleep(900)\n",
    "            counter = 0\n",
    "    except:\n",
    "        break"
   ]
  },
  {
   "cell_type": "code",
   "execution_count": 116,
   "id": "082a924c-bb73-4e0b-bcef-4ddee91aeadf",
   "metadata": {},
   "outputs": [],
   "source": [
    "files = [i for i in os.listdir(path3) if os.path.isfile(path3+i)]\n",
    "retweets = []\n",
    "\n",
    "\n",
    "for file in files:\n",
    "    tw = json.load(open(path3+file))\n",
    "    if tw[\"retweeted\"]:\n",
    "        retweets.append(tw)"
   ]
  },
  {
   "cell_type": "code",
   "execution_count": 117,
   "id": "15a2ffe1-ce22-4e2d-afe6-9c1df17b627c",
   "metadata": {},
   "outputs": [
    {
     "data": {
      "text/plain": [
       "0"
      ]
     },
     "execution_count": 117,
     "metadata": {},
     "output_type": "execute_result"
    }
   ],
   "source": [
    "len(retweets)"
   ]
  },
  {
   "cell_type": "markdown",
   "id": "94b49539-c472-4002-bfbc-3263431b8e72",
   "metadata": {},
   "source": [
    "# Testing collected tweets"
   ]
  },
  {
   "cell_type": "code",
   "execution_count": 11,
   "id": "41da93cd-fd9f-47d6-8134-8ad32621718b",
   "metadata": {},
   "outputs": [],
   "source": [
    "twifex = Twifex()"
   ]
  },
  {
   "cell_type": "code",
   "execution_count": 12,
   "id": "07a0d15a-5321-4773-baf8-b5d7ca55a562",
   "metadata": {},
   "outputs": [],
   "source": [
    "Q = []\n",
    "twf = []\n",
    "for file in os.listdir(path2):\n",
    "    Q.append(json.load(open(path2+file)))\n",
    "    twf.append(twifex.single_tweet(path2+file))"
   ]
  },
  {
   "cell_type": "code",
   "execution_count": 13,
   "id": "ffd08a43-ab7f-4294-a21f-09ec05c801ba",
   "metadata": {},
   "outputs": [],
   "source": [
    "f1, f2, f3, f4 = [], [], [], []\n",
    "twf1, twf2, twf3, twf4 = [], [], [], []"
   ]
  },
  {
   "cell_type": "code",
   "execution_count": 14,
   "id": "0c8a9d7f-2f20-4a8b-905e-7881bc0b7716",
   "metadata": {},
   "outputs": [
    {
     "data": {
      "text/plain": [
       "305"
      ]
     },
     "execution_count": 14,
     "metadata": {},
     "output_type": "execute_result"
    }
   ],
   "source": [
    "len(Q)"
   ]
  },
  {
   "cell_type": "code",
   "execution_count": 15,
   "id": "eb6145da-6fde-467a-bff4-c0deac2c6044",
   "metadata": {},
   "outputs": [
    {
     "name": "stderr",
     "output_type": "stream",
     "text": [
      "100%|████████████████████████████████████████████████████████████████████████████| 305/305 [00:00<00:00, 305605.05it/s]\n",
      "100%|████████████████████████████████████████████████████████████████████████████| 305/305 [00:00<00:00, 305022.11it/s]\n"
     ]
    }
   ],
   "source": [
    "for tweet in tqdm(Q):\n",
    "    if 'retweeted_status' in tweet.keys():\n",
    "        if 'quoted_status' in tweet['retweeted_status'].keys():\n",
    "            f4.append(tweet)\n",
    "        else:\n",
    "            f2.append(tweet)\n",
    "    elif 'quoted_status' in tweet.keys():\n",
    "        f3.append(tweet)\n",
    "    else:\n",
    "        f1.append(tweet)\n",
    "        \n",
    "        \n",
    "        \n",
    "for tweet in tqdm(twf):\n",
    "    if tweet.is_retweeted():\n",
    "        if tweet.get_retweeted().is_quoted():\n",
    "            twf4.append(tweet)\n",
    "        else:\n",
    "            twf2.append(tweet)\n",
    "    elif tweet.is_quoted():\n",
    "        twf3.append(tweet)\n",
    "    else:\n",
    "        twf1.append(tweet)"
   ]
  },
  {
   "cell_type": "code",
   "execution_count": 16,
   "id": "fa151293-ce42-4ad9-a562-2b8317d211b1",
   "metadata": {},
   "outputs": [
    {
     "name": "stdout",
     "output_type": "stream",
     "text": [
      "120 124 29 32\n"
     ]
    }
   ],
   "source": [
    "print(len(f1), len(f2), len(f3), len(f4))"
   ]
  },
  {
   "cell_type": "code",
   "execution_count": 17,
   "id": "d61f4583-6b3e-4a59-bcec-f3d7148e815b",
   "metadata": {},
   "outputs": [
    {
     "data": {
      "text/plain": [
       "305"
      ]
     },
     "execution_count": 17,
     "metadata": {},
     "output_type": "execute_result"
    }
   ],
   "source": [
    "len(_tweets)"
   ]
  },
  {
   "cell_type": "code",
   "execution_count": null,
   "id": "82153d2e-bd14-42d2-b0ac-c31798b912f2",
   "metadata": {},
   "outputs": [],
   "source": []
  },
  {
   "cell_type": "code",
   "execution_count": 18,
   "id": "298cbe1f-518c-40f4-8c57-43f027958b3d",
   "metadata": {},
   "outputs": [],
   "source": [
    "f1_dict = {}\n",
    "for item in f1:\n",
    "    for key in item.keys():\n",
    "        f1_dict[key] = f1_dict.get(key, 0) + 1\n",
    "f1_set = set(f1_dict.keys())\n",
    "        \n",
    "        \n",
    "f2_dict = {}\n",
    "for item in f2:\n",
    "    for key in item.keys():\n",
    "        f2_dict[key] = f2_dict.get(key, 0) + 1\n",
    "f2_set = set(f2_dict.keys())\n",
    "        \n",
    "        \n",
    "f3_dict = {}\n",
    "for item in f3:\n",
    "    for key in item.keys():\n",
    "        f3_dict[key] = f3_dict.get(key, 0) + 1\n",
    "f3_set = set(f3_dict.keys())\n",
    "        \n",
    "\n",
    "f4_dict = {}\n",
    "for item in f4:\n",
    "    for key in item.keys():\n",
    "        f4_dict[key] = f4_dict.get(key, 0) + 1\n",
    "f4_set = set(f4_dict.keys())"
   ]
  },
  {
   "cell_type": "code",
   "execution_count": 19,
   "id": "90a46ebe-ea0b-4f68-b5e3-0468b904a9ab",
   "metadata": {},
   "outputs": [],
   "source": [
    "key_union = f1_set.union(f2_set, f3_set, f4_set)\n",
    "key_list = list(key_union)"
   ]
  },
  {
   "cell_type": "code",
   "execution_count": 20,
   "id": "2b3aa5bf-2fd3-497e-82bc-9654a9b92f8d",
   "metadata": {},
   "outputs": [],
   "source": [
    "grand_list = {}\n",
    "for i in key_list:\n",
    "    if i in f1_dict.keys():\n",
    "        grand_list[i] = grand_list.get(i, []) + [f1_dict[i]]\n",
    "    else:\n",
    "        grand_list[i] = grand_list.get(i, []) + [0]\n",
    "        \n",
    "    if i in f2_dict.keys():\n",
    "        grand_list[i] = grand_list.get(i, []) + [f2_dict[i]]\n",
    "    else:\n",
    "        grand_list[i] = grand_list.get(i, []) + [0]    \n",
    "        \n",
    "    if i in f3_dict.keys():\n",
    "        grand_list[i] = grand_list.get(i, []) + [f3_dict[i]]\n",
    "    else:\n",
    "        grand_list[i] = grand_list.get(i, []) + [0]   \n",
    "        \n",
    "    if i in f4_dict.keys():\n",
    "        grand_list[i] = grand_list.get(i, []) + [f4_dict[i]]\n",
    "    else:\n",
    "        grand_list[i] = grand_list.get(i, []) + [0]"
   ]
  },
  {
   "cell_type": "code",
   "execution_count": 21,
   "id": "7fc68502-7870-4e31-8c40-25cfbcaed40b",
   "metadata": {},
   "outputs": [
    {
     "name": "stdout",
     "output_type": "stream",
     "text": [
      "29 27 31 29\n"
     ]
    }
   ],
   "source": [
    "print(len(f1_dict.keys()), len(f2_dict.keys()), len(f3_dict.keys()), len(f4_dict.keys()))"
   ]
  },
  {
   "cell_type": "code",
   "execution_count": 22,
   "id": "f7f9944a-ef37-47a0-af83-19e0f996cd34",
   "metadata": {},
   "outputs": [
    {
     "data": {
      "text/plain": [
       "{'retweeted_status': [0, 124, 0, 32],\n",
       " 'in_reply_to_screen_name': [120, 124, 29, 32],\n",
       " 'favorited': [120, 124, 29, 32],\n",
       " 'contributors': [120, 124, 29, 32],\n",
       " 'retweeted': [120, 124, 29, 32],\n",
       " 'possibly_sensitive_appealable': [0, 0, 2, 0],\n",
       " 'in_reply_to_user_id_str': [120, 124, 29, 32],\n",
       " 'geo': [120, 124, 29, 32],\n",
       " 'favorite_count': [120, 124, 29, 32],\n",
       " 'full_text': [120, 124, 29, 32],\n",
       " 'retweet_count': [120, 124, 29, 32],\n",
       " 'created_at': [120, 124, 29, 32],\n",
       " 'id_str': [120, 124, 29, 32],\n",
       " 'place': [120, 124, 29, 32],\n",
       " 'in_reply_to_status_id': [120, 124, 29, 32],\n",
       " 'possibly_sensitive': [50, 22, 29, 2],\n",
       " 'source': [120, 124, 29, 32],\n",
       " 'quoted_status_id_str': [2, 0, 29, 32],\n",
       " 'quoted_status_id': [2, 0, 29, 32],\n",
       " 'coordinates': [120, 124, 29, 32],\n",
       " 'display_text_range': [120, 124, 29, 32],\n",
       " 'id': [120, 124, 29, 32],\n",
       " 'in_reply_to_user_id': [120, 124, 29, 32],\n",
       " 'quoted_status': [0, 0, 29, 0],\n",
       " 'entities': [120, 124, 29, 32],\n",
       " 'quoted_status_permalink': [2, 0, 29, 32],\n",
       " 'user': [120, 124, 29, 32],\n",
       " 'in_reply_to_status_id_str': [120, 124, 29, 32],\n",
       " 'extended_entities': [28, 10, 1, 0],\n",
       " 'lang': [120, 124, 29, 32],\n",
       " 'truncated': [120, 124, 29, 32],\n",
       " 'is_quote_status': [120, 124, 29, 32]}"
      ]
     },
     "execution_count": 22,
     "metadata": {},
     "output_type": "execute_result"
    }
   ],
   "source": [
    "grand_list"
   ]
  },
  {
   "cell_type": "code",
   "execution_count": 23,
   "id": "62dd2b85-3df4-4391-9166-56cb9f0efe13",
   "metadata": {},
   "outputs": [],
   "source": [
    "df = pd.DataFrame.from_dict(grand_list, orient='index')"
   ]
  },
  {
   "cell_type": "code",
   "execution_count": null,
   "id": "4552783a-efab-4734-b091-37a8ca71b955",
   "metadata": {},
   "outputs": [],
   "source": []
  },
  {
   "cell_type": "code",
   "execution_count": 24,
   "id": "5fa18ad3-5fa3-435f-b0c1-74c6a34df70c",
   "metadata": {},
   "outputs": [
    {
     "data": {
      "text/plain": [
       "<AxesSubplot:>"
      ]
     },
     "execution_count": 24,
     "metadata": {},
     "output_type": "execute_result"
    },
    {
     "data": {
      "image/png": "[encoded data removed]",
      "text/plain": [
       "<Figure size 1728x432 with 1 Axes>"
      ]
     },
     "metadata": {
      "needs_background": "light"
     },
     "output_type": "display_data"
    }
   ],
   "source": [
    "df.plot(kind='bar', figsize=(24,6))"
   ]
  },
  {
   "cell_type": "code",
   "execution_count": 25,
   "id": "9e925091-3d72-4dea-aa39-a6f1b10dce98",
   "metadata": {},
   "outputs": [
    {
     "data": {
      "text/plain": [
       "31"
      ]
     },
     "execution_count": 25,
     "metadata": {},
     "output_type": "execute_result"
    }
   ],
   "source": [
    "len(twf3)"
   ]
  },
  {
   "cell_type": "code",
   "execution_count": 26,
   "id": "0b66c980-47f9-458f-ad11-684ff381c715",
   "metadata": {},
   "outputs": [
    {
     "data": {
      "text/plain": [
       "305"
      ]
     },
     "execution_count": 26,
     "metadata": {},
     "output_type": "execute_result"
    }
   ],
   "source": [
    "len(Q)"
   ]
  },
  {
   "cell_type": "code",
   "execution_count": 27,
   "id": "0d2bec1a-44c2-4198-b2ff-518105d2f915",
   "metadata": {},
   "outputs": [],
   "source": [
    "t = []"
   ]
  },
  {
   "cell_type": "code",
   "execution_count": 28,
   "id": "c5221d34-ab77-478e-9f0a-f84415e262e8",
   "metadata": {},
   "outputs": [],
   "source": [
    "for i in twf:\n",
    "    if i.get_id() == 1308539697711415296:\n",
    "        t.append(i)"
   ]
  },
  {
   "cell_type": "code",
   "execution_count": 29,
   "id": "54fba082-304e-4f58-b219-74b1c848b377",
   "metadata": {},
   "outputs": [
    {
     "data": {
      "text/plain": [
       "True"
      ]
     },
     "execution_count": 29,
     "metadata": {},
     "output_type": "execute_result"
    }
   ],
   "source": [
    "t[0].is_quoted()"
   ]
  },
  {
   "cell_type": "code",
   "execution_count": 30,
   "id": "51faa25a-5051-4823-b78c-a59f31937d4d",
   "metadata": {},
   "outputs": [],
   "source": [
    "s= t[0].get_text()"
   ]
  },
  {
   "cell_type": "code",
   "execution_count": 31,
   "id": "ac622438-7c5e-4f0d-bb27-6921ed6aac0d",
   "metadata": {},
   "outputs": [
    {
     "data": {
      "text/plain": [
       "'I finished interacting with a \"prestigious\" journal in the #urban space about my paper\\'s handling. The overall experience of receiving destructive comments, raising a concern, and getting more demeaning comments back, has not surprised me. \\n\\nSo a thread on peer review ⬇️ https://t.co/t5unsnKYEj'"
      ]
     },
     "execution_count": 31,
     "metadata": {},
     "output_type": "execute_result"
    }
   ],
   "source": [
    "s"
   ]
  },
  {
   "cell_type": "code",
   "execution_count": 204,
   "id": "0ce58da6-e32f-42d8-8300-748904373b4a",
   "metadata": {},
   "outputs": [
    {
     "data": {
      "text/plain": [
       "True"
      ]
     },
     "execution_count": 32,
     "metadata": {},
     "output_type": "execute_result"
    }
   ],
   "source": [
    "t[0].get_tweet()[\"is_quote_status\"]"
   ]
  },
  {
   "cell_type": "code",
   "execution_count": 205,
   "id": "ec40951e-fd7b-4d7e-b647-cf965c700834",
   "metadata": {},
   "outputs": [
    {
     "data": {
      "text/plain": [
       "True"
      ]
     },
     "execution_count": 33,
     "metadata": {},
     "output_type": "execute_result"
    }
   ],
   "source": [
    "t[0].is_quoted()"
   ]
  },
  {
   "cell_type": "code",
   "execution_count": 35,
   "id": "ba5523ae-40c6-42bc-8f43-878f6aca64ad",
   "metadata": {},
   "outputs": [
    {
     "data": {
      "text/plain": [
       "False"
      ]
     },
     "execution_count": 35,
     "metadata": {},
     "output_type": "execute_result"
    }
   ],
   "source": [
    "t[0].is_quote_available()"
   ]
  },
  {
   "cell_type": "code",
   "execution_count": 196,
   "id": "2c4bcef1-3ff9-4b6b-a017-e289be17dc69",
   "metadata": {},
   "outputs": [
    {
     "name": "stdout",
     "output_type": "stream",
     "text": [
      "{'contributors': None,\n",
      " 'coordinates': None,\n",
      " 'created_at': 'Tue Sep 22 22:52:30 +0000 2020',\n",
      " 'display_text_range': [0, 140],\n",
      " 'entities': {'hashtags': [{'indices': [72, 78], 'text': 'urban'}],\n",
      "              'symbols': [],\n",
      "              'urls': [],\n",
      "              'user_mentions': [{'id': 1049255245031854080,\n",
      "                                 'id_str': '1049255245031854080',\n",
      "                                 'indices': [3, 11],\n",
      "                                 'name': 'Trivik Verma',\n",
      "                                 'screen_name': 'TrivikV'}]},\n",
      " 'favorite_count': 0,\n",
      " 'favorited': True,\n",
      " 'full_text': 'RT @TrivikV: I finished interacting with a \"prestigious\" '\n",
      "              \"journal in the #urban space about my paper's handling. The \"\n",
      "              'overall experience of r…',\n",
      " 'geo': None,\n",
      " 'id': 1308539697711415296,\n",
      " 'id_str': '1308539697711415296',\n",
      " 'in_reply_to_screen_name': None,\n",
      " 'in_reply_to_status_id': None,\n",
      " 'in_reply_to_status_id_str': None,\n",
      " 'in_reply_to_user_id': None,\n",
      " 'in_reply_to_user_id_str': None,\n",
      " 'is_quote_status': True,\n",
      " 'lang': 'en',\n",
      " 'place': None,\n",
      " 'quoted_status_id': 1297999847669338112,\n",
      " 'quoted_status_id_str': '1297999847669338112',\n",
      " 'quoted_status_permalink': {'display': 'twitter.com/TrivikV/status…',\n",
      "                             'expanded': 'https://twitter.com/TrivikV/status/1297999847669338112',\n",
      "                             'url': 'https://t.co/t5unsnKYEj'},\n",
      " 'retweet_count': 5,\n",
      " 'retweeted': True,\n",
      " 'retweeted_status': {'contributors': None,\n",
      "                      'coordinates': None,\n",
      "                      'created_at': 'Tue Sep 22 22:38:53 +0000 2020',\n",
      "                      'display_text_range': [0, 271],\n",
      "                      'entities': {'hashtags': [{'indices': [59, 65],\n",
      "                                                 'text': 'urban'}],\n",
      "                                   'symbols': [],\n",
      "                                   'urls': [{'display_url': 'twitter.com/TrivikV/status…',\n",
      "                                             'expanded_url': 'https://twitter.com/TrivikV/status/1297999847669338112',\n",
      "                                             'indices': [272, 295],\n",
      "                                             'url': 'https://t.co/t5unsnKYEj'}],\n",
      "                                   'user_mentions': []},\n",
      "                      'favorite_count': 12,\n",
      "                      'favorited': True,\n",
      "                      'full_text': 'I finished interacting with a '\n",
      "                                   '\"prestigious\" journal in the #urban space '\n",
      "                                   \"about my paper's handling. The overall \"\n",
      "                                   'experience of receiving destructive '\n",
      "                                   'comments, raising a concern, and getting '\n",
      "                                   'more demeaning comments back, has not '\n",
      "                                   'surprised me. \\n'\n",
      "                                   '\\n'\n",
      "                                   'So a thread on peer review ⬇️ '\n",
      "                                   'https://t.co/t5unsnKYEj',\n",
      "                      'geo': None,\n",
      "                      'id': 1308536274106683399,\n",
      "                      'id_str': '1308536274106683399',\n",
      "                      'in_reply_to_screen_name': None,\n",
      "                      'in_reply_to_status_id': None,\n",
      "                      'in_reply_to_status_id_str': None,\n",
      "                      'in_reply_to_user_id': None,\n",
      "                      'in_reply_to_user_id_str': None,\n",
      "                      'is_quote_status': True,\n",
      "                      'lang': 'en',\n",
      "                      'place': None,\n",
      "                      'possibly_sensitive': False,\n",
      "                      'quoted_status': {'contributors': None,\n",
      "                                        'coordinates': None,\n",
      "                                        'created_at': 'Mon Aug 24 20:50:54 '\n",
      "                                                      '+0000 2020',\n",
      "                                        'display_text_range': [0, 181],\n",
      "                                        'entities': {'hashtags': [{'indices': [136,\n",
      "                                                                               152],\n",
      "                                                                   'text': 'AcademicChatter'}],\n",
      "                                                     'media': [{'display_url': 'pic.twitter.com/eBJ1HGL7hF',\n",
      "                                                                'expanded_url': 'https://twitter.com/TrivikV/status/1297999847669338112/photo/1',\n",
      "                                                                'id': 1297999840228646915,\n",
      "                                                                'id_str': '1297999840228646915',\n",
      "                                                                'indices': [182,\n",
      "                                                                            205],\n",
      "                                                                'media_url': 'http://pbs.twimg.com/tweet_video_thumb/EgNr-kNXoAM3Z1u.jpg',\n",
      "                                                                'media_url_https': 'https://pbs.twimg.com/tweet_video_thumb/EgNr-kNXoAM3Z1u.jpg',\n",
      "                                                                'sizes': {'large': {'h': 242,\n",
      "                                                                                    'resize': 'fit',\n",
      "                                                                                    'w': 500},\n",
      "                                                                          'medium': {'h': 242,\n",
      "                                                                                     'resize': 'fit',\n",
      "                                                                                     'w': 500},\n",
      "                                                                          'small': {'h': 242,\n",
      "                                                                                    'resize': 'fit',\n",
      "                                                                                    'w': 500},\n",
      "                                                                          'thumb': {'h': 150,\n",
      "                                                                                    'resize': 'crop',\n",
      "                                                                                    'w': 150}},\n",
      "                                                                'type': 'photo',\n",
      "                                                                'url': 'https://t.co/eBJ1HGL7hF'}],\n",
      "                                                     'symbols': [],\n",
      "                                                     'urls': [],\n",
      "                                                     'user_mentions': []},\n",
      "                                        'extended_entities': {'media': [{'display_url': 'pic.twitter.com/eBJ1HGL7hF',\n",
      "                                                                         'expanded_url': 'https://twitter.com/TrivikV/status/1297999847669338112/photo/1',\n",
      "                                                                         'id': 1297999840228646915,\n",
      "                                                                         'id_str': '1297999840228646915',\n",
      "                                                                         'indices': [182,\n",
      "                                                                                     205],\n",
      "                                                                         'media_url': 'http://pbs.twimg.com/tweet_video_thumb/EgNr-kNXoAM3Z1u.jpg',\n",
      "                                                                         'media_url_https': 'https://pbs.twimg.com/tweet_video_thumb/EgNr-kNXoAM3Z1u.jpg',\n",
      "                                                                         'sizes': {'large': {'h': 242,\n",
      "                                                                                             'resize': 'fit',\n",
      "                                                                                             'w': 500},\n",
      "                                                                                   'medium': {'h': 242,\n",
      "                                                                                              'resize': 'fit',\n",
      "                                                                                              'w': 500},\n",
      "                                                                                   'small': {'h': 242,\n",
      "                                                                                             'resize': 'fit',\n",
      "                                                                                             'w': 500},\n",
      "                                                                                   'thumb': {'h': 150,\n",
      "                                                                                             'resize': 'crop',\n",
      "                                                                                             'w': 150}},\n",
      "                                                                         'type': 'animated_gif',\n",
      "                                                                         'url': 'https://t.co/eBJ1HGL7hF',\n",
      "                                                                         'video_info': {'aspect_ratio': [250,\n",
      "                                                                                                         121],\n",
      "                                                                                        'variants': [{'bitrate': 0,\n",
      "                                                                                                      'content_type': 'video/mp4',\n",
      "                                                                                                      'url': 'https://video.twimg.com/tweet_video/EgNr-kNXoAM3Z1u.mp4'}]}}]},\n",
      "                                        'favorite_count': 13,\n",
      "                                        'favorited': False,\n",
      "                                        'full_text': 'Reviewer 1 literally '\n",
      "                                                     'said paper is shit in 4 '\n",
      "                                                     'lines. No comments for '\n",
      "                                                     'improvement. No other '\n",
      "                                                     'reviewers present. We '\n",
      "                                                     'put in 2 years of work. '\n",
      "                                                     '#AcademicChatter you got '\n",
      "                                                     'any words of wisdom? '\n",
      "                                                     'https://t.co/eBJ1HGL7hF',\n",
      "                                        'geo': None,\n",
      "                                        'id': 1297999847669338112,\n",
      "                                        'id_str': '1297999847669338112',\n",
      "                                        'in_reply_to_screen_name': None,\n",
      "                                        'in_reply_to_status_id': None,\n",
      "                                        'in_reply_to_status_id_str': None,\n",
      "                                        'in_reply_to_user_id': None,\n",
      "                                        'in_reply_to_user_id_str': None,\n",
      "                                        'is_quote_status': False,\n",
      "                                        'lang': 'en',\n",
      "                                        'place': None,\n",
      "                                        'possibly_sensitive': False,\n",
      "                                        'retweet_count': 0,\n",
      "                                        'retweeted': False,\n",
      "                                        'source': '<a '\n",
      "                                                  'href=\"http://twitter.com/download/android\" '\n",
      "                                                  'rel=\"nofollow\">Twitter for '\n",
      "                                                  'Android</a>',\n",
      "                                        'truncated': False,\n",
      "                                        'user': {'contributors_enabled': False,\n",
      "                                                 'created_at': 'Mon Oct 08 '\n",
      "                                                               '11:08:39 +0000 '\n",
      "                                                               '2018',\n",
      "                                                 'default_profile': False,\n",
      "                                                 'default_profile_image': False,\n",
      "                                                 'description': 'Assistant '\n",
      "                                                                'Professor in '\n",
      "                                                                'Urban Science '\n",
      "                                                                '& Policy | '\n",
      "                                                                'NatGeo '\n",
      "                                                                'Expeditions | '\n",
      "                                                                '#cities '\n",
      "                                                                '#urban '\n",
      "                                                                '#inequalities '\n",
      "                                                                '#visualisation '\n",
      "                                                                '#complexity '\n",
      "                                                                '#spatialdatascience',\n",
      "                                                 'entities': {'description': {'urls': []},\n",
      "                                                              'url': {'urls': [{'display_url': 'cusp.tbm.tudelft.nl',\n",
      "                                                                                'expanded_url': 'https://cusp.tbm.tudelft.nl',\n",
      "                                                                                'indices': [0,\n",
      "                                                                                            23],\n",
      "                                                                                'url': 'https://t.co/T0ndto04nM'}]}},\n",
      "                                                 'favourites_count': 2491,\n",
      "                                                 'follow_request_sent': False,\n",
      "                                                 'followers_count': 471,\n",
      "                                                 'following': True,\n",
      "                                                 'friends_count': 384,\n",
      "                                                 'geo_enabled': True,\n",
      "                                                 'has_extended_profile': False,\n",
      "                                                 'id': 1049255245031854080,\n",
      "                                                 'id_str': '1049255245031854080',\n",
      "                                                 'is_translation_enabled': False,\n",
      "                                                 'is_translator': False,\n",
      "                                                 'lang': None,\n",
      "                                                 'listed_count': 6,\n",
      "                                                 'location': 'Delft, Nederland',\n",
      "                                                 'name': 'Trivik Verma',\n",
      "                                                 'notifications': False,\n",
      "                                                 'profile_background_color': '000000',\n",
      "                                                 'profile_background_image_url': 'http://abs.twimg.com/images/themes/theme1/bg.png',\n",
      "                                                 'profile_background_image_url_https': 'https://abs.twimg.com/images/themes/theme1/bg.png',\n",
      "                                                 'profile_background_tile': False,\n",
      "                                                 'profile_banner_url': 'https://pbs.twimg.com/profile_banners/1049255245031854080/1618048771',\n",
      "                                                 'profile_image_url': 'http://pbs.twimg.com/profile_images/1222877439501750272/YD7aTMqQ_normal.jpg',\n",
      "                                                 'profile_image_url_https': 'https://pbs.twimg.com/profile_images/1222877439501750272/YD7aTMqQ_normal.jpg',\n",
      "                                                 'profile_link_color': '1B95E0',\n",
      "                                                 'profile_sidebar_border_color': '000000',\n",
      "                                                 'profile_sidebar_fill_color': '000000',\n",
      "                                                 'profile_text_color': '000000',\n",
      "                                                 'profile_use_background_image': False,\n",
      "                                                 'protected': False,\n",
      "                                                 'screen_name': 'TrivikV',\n",
      "                                                 'statuses_count': 1714,\n",
      "                                                 'time_zone': None,\n",
      "                                                 'translator_type': 'none',\n",
      "                                                 'url': 'https://t.co/T0ndto04nM',\n",
      "                                                 'utc_offset': None,\n",
      "                                                 'verified': False,\n",
      "                                                 'withheld_in_countries': []}},\n",
      "                      'quoted_status_id': 1297999847669338112,\n",
      "                      'quoted_status_id_str': '1297999847669338112',\n",
      "                      'quoted_status_permalink': {'display': 'twitter.com/TrivikV/status…',\n",
      "                                                  'expanded': 'https://twitter.com/TrivikV/status/1297999847669338112',\n",
      "                                                  'url': 'https://t.co/t5unsnKYEj'},\n",
      "                      'retweet_count': 5,\n",
      "                      'retweeted': True,\n",
      "                      'source': '<a href=\"http://twitter.com/download/android\" '\n",
      "                                'rel=\"nofollow\">Twitter for Android</a>',\n",
      "                      'truncated': False,\n",
      "                      'user': {'contributors_enabled': False,\n",
      "                               'created_at': 'Mon Oct 08 11:08:39 +0000 2018',\n",
      "                               'default_profile': False,\n",
      "                               'default_profile_image': False,\n",
      "                               'description': 'Assistant Professor in Urban '\n",
      "                                              'Science & Policy | NatGeo '\n",
      "                                              'Expeditions | #cities #urban '\n",
      "                                              '#inequalities #visualisation '\n",
      "                                              '#complexity #spatialdatascience',\n",
      "                               'entities': {'description': {'urls': []},\n",
      "                                            'url': {'urls': [{'display_url': 'cusp.tbm.tudelft.nl',\n",
      "                                                              'expanded_url': 'https://cusp.tbm.tudelft.nl',\n",
      "                                                              'indices': [0,\n",
      "                                                                          23],\n",
      "                                                              'url': 'https://t.co/T0ndto04nM'}]}},\n",
      "                               'favourites_count': 2491,\n",
      "                               'follow_request_sent': False,\n",
      "                               'followers_count': 471,\n",
      "                               'following': True,\n",
      "                               'friends_count': 384,\n",
      "                               'geo_enabled': True,\n",
      "                               'has_extended_profile': False,\n",
      "                               'id': 1049255245031854080,\n",
      "                               'id_str': '1049255245031854080',\n",
      "                               'is_translation_enabled': False,\n",
      "                               'is_translator': False,\n",
      "                               'lang': None,\n",
      "                               'listed_count': 6,\n",
      "                               'location': 'Delft, Nederland',\n",
      "                               'name': 'Trivik Verma',\n",
      "                               'notifications': False,\n",
      "                               'profile_background_color': '000000',\n",
      "                               'profile_background_image_url': 'http://abs.twimg.com/images/themes/theme1/bg.png',\n",
      "                               'profile_background_image_url_https': 'https://abs.twimg.com/images/themes/theme1/bg.png',\n",
      "                               'profile_background_tile': False,\n",
      "                               'profile_banner_url': 'https://pbs.twimg.com/profile_banners/1049255245031854080/1618048771',\n",
      "                               'profile_image_url': 'http://pbs.twimg.com/profile_images/1222877439501750272/YD7aTMqQ_normal.jpg',\n",
      "                               'profile_image_url_https': 'https://pbs.twimg.com/profile_images/1222877439501750272/YD7aTMqQ_normal.jpg',\n",
      "                               'profile_link_color': '1B95E0',\n",
      "                               'profile_sidebar_border_color': '000000',\n",
      "                               'profile_sidebar_fill_color': '000000',\n",
      "                               'profile_text_color': '000000',\n",
      "                               'profile_use_background_image': False,\n",
      "                               'protected': False,\n",
      "                               'screen_name': 'TrivikV',\n",
      "                               'statuses_count': 1714,\n",
      "                               'time_zone': None,\n",
      "                               'translator_type': 'none',\n",
      "                               'url': 'https://t.co/T0ndto04nM',\n",
      "                               'utc_offset': None,\n",
      "                               'verified': False,\n",
      "                               'withheld_in_countries': []}},\n",
      " 'source': '<a href=\"https://mobile.twitter.com\" rel=\"nofollow\">Twitter Web '\n",
      "           'App</a>',\n",
      " 'truncated': False,\n",
      " 'user': {'contributors_enabled': False,\n",
      "          'created_at': 'Mon Jun 22 15:39:24 +0000 2015',\n",
      "          'default_profile': False,\n",
      "          'default_profile_image': False,\n",
      "          'description': 'Postdoc researcher on XAI and NLP. Studied rumour '\n",
      "                         'confrontation in social media. TU Delft PhD '\n",
      "                         'graduate.',\n",
      "          'entities': {'description': {'urls': []}},\n",
      "          'favourites_count': 3332,\n",
      "          'follow_request_sent': False,\n",
      "          'followers_count': 325,\n",
      "          'following': False,\n",
      "          'friends_count': 1917,\n",
      "          'geo_enabled': False,\n",
      "          'has_extended_profile': False,\n",
      "          'id': 3341529021,\n",
      "          'id_str': '3341529021',\n",
      "          'is_translation_enabled': False,\n",
      "          'is_translator': False,\n",
      "          'lang': None,\n",
      "          'listed_count': 0,\n",
      "          'location': 'Maastricht',\n",
      "          'name': 'Amir',\n",
      "          'notifications': False,\n",
      "          'profile_background_color': '000000',\n",
      "          'profile_background_image_url': 'http://abs.twimg.com/images/themes/theme1/bg.png',\n",
      "          'profile_background_image_url_https': 'https://abs.twimg.com/images/themes/theme1/bg.png',\n",
      "          'profile_background_tile': False,\n",
      "          'profile_banner_url': 'https://pbs.twimg.com/profile_banners/3341529021/1465235333',\n",
      "          'profile_image_url': 'http://pbs.twimg.com/profile_images/1441350603947618305/9Fughm7u_normal.jpg',\n",
      "          'profile_image_url_https': 'https://pbs.twimg.com/profile_images/1441350603947618305/9Fughm7u_normal.jpg',\n",
      "          'profile_link_color': '19CF86',\n",
      "          'profile_sidebar_border_color': '000000',\n",
      "          'profile_sidebar_fill_color': '000000',\n",
      "          'profile_text_color': '000000',\n",
      "          'profile_use_background_image': False,\n",
      "          'protected': False,\n",
      "          'screen_name': 'amiref_1991',\n",
      "          'statuses_count': 553,\n",
      "          'time_zone': None,\n",
      "          'translator_type': 'none',\n",
      "          'url': None,\n",
      "          'utc_offset': None,\n",
      "          'verified': False,\n",
      "          'withheld_in_countries': []}}\n"
     ]
    }
   ],
   "source": [
    "pprint(t[0].get_tweet())"
   ]
  },
  {
   "cell_type": "code",
   "execution_count": null,
   "id": "c33ccd8d-7b43-489c-aca6-b7c6677f82c1",
   "metadata": {},
   "outputs": [],
   "source": []
  }
 ],
 "metadata": {
  "kernelspec": {
   "display_name": "Python 3 (ipykernel)",
   "language": "python",
   "name": "python3"
  },
  "language_info": {
   "codemirror_mode": {
    "name": "ipython",
    "version": 3
   },
   "file_extension": ".py",
   "mimetype": "text/x-python",
   "name": "python",
   "nbconvert_exporter": "python",
   "pygments_lexer": "ipython3",
   "version": "3.9.7"
  }
 },
 "nbformat": 4,
 "nbformat_minor": 5
}
