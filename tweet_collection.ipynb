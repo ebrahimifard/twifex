{
 "cells": [
  {
   "cell_type": "code",
   "execution_count": 16,
   "id": "8d3ea179-ca7a-4c30-bec4-a36d7c4ad3fe",
   "metadata": {},
   "outputs": [],
   "source": [
    "import tweepy\n",
    "import json\n",
    "import random\n",
    "import os\n",
    "import pandas as pd\n",
    "import time\n",
    "from tqdm import tqdm\n",
    "from pprint import pprint\n",
    "import matplotlib.pyplot as plt\n",
    "import re\n",
    "from bs4 import BeautifulSoup\n",
    "from twifex import *"
   ]
  },
  {
   "cell_type": "code",
   "execution_count": 17,
   "id": "1c0190c4-087d-4f56-8cd3-1a1037383da8",
   "metadata": {},
   "outputs": [],
   "source": [
    "twifex = Twifex()"
   ]
  },
  {
   "cell_type": "code",
   "execution_count": 18,
   "id": "4755b347-ecc8-4533-a424-787d7f6804e8",
   "metadata": {},
   "outputs": [],
   "source": [
    "consumer_key = \"aPp14u2pIZo1nzwbNIHRTgsMR\"\n",
    "consumer_secret = \"R20ioXz0eY2wsiShdgnamAjeZ0pzl6kMCptLcCgRvbIAw5SdnB\"\n",
    "access_token = \"3341529021-f9xFmfjPrY2ETpkt8MFE1mYVth7EVJyLOoRpJ73\"\n",
    "access_token_secret = \"KFKUjpEmydy3gi6vYNB9PZr0gAwALwDbegV6EW2xyVpAA\""
   ]
  },
  {
   "cell_type": "code",
   "execution_count": 19,
   "id": "64211d0e-fd22-4f4f-b2fa-1a4843da83bf",
   "metadata": {},
   "outputs": [],
   "source": [
    "auth = tweepy.OAuthHandler(consumer_key, consumer_secret)\n",
    "auth.set_access_token(access_token, access_token_secret)\n",
    "\n",
    "api = tweepy.API(auth)"
   ]
  },
  {
   "cell_type": "code",
   "execution_count": 20,
   "id": "beaaa694-f7aa-49b4-85ef-e97de184a414",
   "metadata": {},
   "outputs": [],
   "source": [
    "path1 = \"./tests/new_tweets/\"\n",
    "path2 = \"./tests/people_timeline/\"\n",
    "path3 = \"./tests/modified_tweets/\""
   ]
  },
  {
   "cell_type": "code",
   "execution_count": 22,
   "id": "86a814f0-ad5f-4677-929b-27023c221850",
   "metadata": {},
   "outputs": [
    {
     "name": "stderr",
     "output_type": "stream",
     "text": [
      "100%|████████████████████████████████████████████████████████████████████████████| 1687/1687 [00:00<00:00, 4456.39it/s]\n",
      "100%|██████████████████████████████████████████████████████████████████████████████| 220/220 [00:00<00:00, 4034.96it/s]\n",
      "100%|██████████████████████████████████████████████████████████████████████████████████| 7/7 [00:00<00:00, 3673.23it/s]\n"
     ]
    }
   ],
   "source": [
    "new_tweets = []\n",
    "for file in tqdm([i for i in os.listdir(path1) if os.path.isfile(path1+i)]):\n",
    "    if \".json\" in file:\n",
    "        new_tweets.append(twifex.single_tweet(path1+file))\n",
    "    else:\n",
    "        pass\n",
    "\n",
    "timeline_tweets = []\n",
    "for file in tqdm([i for i in os.listdir(path2) if os.path.isfile(path2+i)]):\n",
    "    if \".json\" in file:\n",
    "        timeline_tweets.append(twifex.single_tweet(path2+file))\n",
    "    else:\n",
    "        pass\n",
    "\n",
    "modified_tweets = []\n",
    "for file in tqdm([i for i in os.listdir(path3) if os.path.isfile(path3+i)]):\n",
    "    if \".json\" in file:\n",
    "        modified_tweets.append(twifex.single_tweet(path3+file))\n",
    "    else:\n",
    "        pass"
   ]
  },
  {
   "cell_type": "code",
   "execution_count": 23,
   "id": "14f8f948-c16d-43d2-8ec5-846f58488599",
   "metadata": {},
   "outputs": [],
   "source": [
    "_tweets = timeline_tweets"
   ]
  },
  {
   "cell_type": "code",
   "execution_count": 10,
   "id": "a877e4bb-9efa-4a23-bd24-4bf13a3cef52",
   "metadata": {},
   "outputs": [],
   "source": [
    "# df = pd.read_csv(\"./tests/new_tweets/vaccine_tweet_data.csv\").sort_index(ascending=False)"
   ]
  },
  {
   "cell_type": "code",
   "execution_count": 19,
   "id": "41316880-fde6-4112-8972-fe78e593e408",
   "metadata": {},
   "outputs": [],
   "source": [
    "# pd.read_csv(\"./tests/new_tweets/vaccine_tweet_data.csv\")"
   ]
  },
  {
   "cell_type": "code",
   "execution_count": null,
   "id": "73d5881d-ebc3-4639-b234-8263ea2248a4",
   "metadata": {},
   "outputs": [],
   "source": [
    "for i in df[\"id\"]:\n",
    "    try:\n",
    "        tweet_obj = api.get_status(i, tweet_mode='extended')._json\n",
    "        json.dump(tweet_obj, open(path1 + tweet_obj['id_str'] + \".json\", \"w\"))\n",
    "    except:\n",
    "        print(str(i)+\" does not exist\")"
   ]
  },
  {
   "cell_type": "markdown",
   "id": "90a535ab-1681-4d88-8710-c1a615bb4441",
   "metadata": {},
   "source": [
    "# Collecting my timeline tweets"
   ]
  },
  {
   "cell_type": "code",
   "execution_count": 6,
   "id": "223183e7-7bc1-484e-b246-1c290810a00f",
   "metadata": {},
   "outputs": [],
   "source": []
  },
  {
   "cell_type": "code",
   "execution_count": 178,
   "id": "8dacbdd5-2c1f-45f6-acb4-eda0228e9411",
   "metadata": {},
   "outputs": [],
   "source": [
    "public_tweets = api.user_timeline(screen_name=\"Elinor_Carmi\", tweet_mode='extended')\n",
    "for tweet in public_tweets:\n",
    "    tweet_obj = tweet._json\n",
    "    json.dump(tweet_obj, open(path2 + tweet_obj['id_str'] + \".json\", \"w\"))"
   ]
  },
  {
   "cell_type": "code",
   "execution_count": 179,
   "id": "73a9caf2-beed-4afa-a84f-0d59e43c6b35",
   "metadata": {},
   "outputs": [],
   "source": [
    "for e in public_tweets:\n",
    "    if e._json[\"retweeted\"]:\n",
    "        print(\"hi\")"
   ]
  },
  {
   "cell_type": "code",
   "execution_count": null,
   "id": "75aca2ec-2979-4872-8925-b748c6ee4d1a",
   "metadata": {},
   "outputs": [],
   "source": []
  },
  {
   "cell_type": "code",
   "execution_count": null,
   "id": "4d53298d-30d1-44f6-b8af-de1f950094cd",
   "metadata": {},
   "outputs": [],
   "source": []
  },
  {
   "cell_type": "markdown",
   "id": "5dcd8f98-5fa9-4801-9268-baba3266ccfe",
   "metadata": {},
   "source": [
    "# Collecting a single tweet"
   ]
  },
  {
   "cell_type": "code",
   "execution_count": 224,
   "id": "41af8ded-77dc-40a3-81a4-31c9857343e4",
   "metadata": {},
   "outputs": [],
   "source": [
    "tweet_object = api.get_status(\"1450108026262806533\", tweet_mode='extended')"
   ]
  },
  {
   "cell_type": "code",
   "execution_count": 6,
   "id": "6f46a245-2d06-4604-b2c1-43fcf0226f87",
   "metadata": {},
   "outputs": [],
   "source": [
    "# pprint(tweet_object._json)"
   ]
  },
  {
   "cell_type": "code",
   "execution_count": 22,
   "id": "b2d82f2c-a2d6-4d64-98df-babf4d27990a",
   "metadata": {},
   "outputs": [],
   "source": [
    "# tweet_object._json"
   ]
  },
  {
   "cell_type": "markdown",
   "id": "0d53b7ad-643d-4fe9-8223-4bd10f02d550",
   "metadata": {},
   "source": [
    "# Tweet collection using search function"
   ]
  },
  {
   "cell_type": "code",
   "execution_count": 111,
   "id": "ae00a433-c03f-45eb-808a-398f076666f7",
   "metadata": {},
   "outputs": [],
   "source": [
    "tweet_obj = []\n",
    "tweet_repo = []"
   ]
  },
  {
   "cell_type": "code",
   "execution_count": 127,
   "id": "ce98a40d-c0cb-4b60-bb77-dd605e018e73",
   "metadata": {},
   "outputs": [],
   "source": [
    "path3 = \"./tests/searched_tweets/\""
   ]
  },
  {
   "cell_type": "code",
   "execution_count": 113,
   "id": "612c312a-869d-4798-8d6a-41e54ca0b306",
   "metadata": {},
   "outputs": [],
   "source": [
    "query=\"crisis\""
   ]
  },
  {
   "cell_type": "code",
   "execution_count": 115,
   "id": "1bfd6dc3-ebda-4d87-b3a6-908e2b49f23a",
   "metadata": {},
   "outputs": [],
   "source": [
    "counter = 0\n",
    "while(True):\n",
    "    try:\n",
    "        tweet_obj = api.search(query, tweet_mode='extended')\n",
    "        counter += 1\n",
    "        for tweet in tweet_obj:\n",
    "            tweet = tweet._json\n",
    "            json.dump(tweet, open(path3 + tweet['id_str'] + \".json\", \"w\"))\n",
    "            tweet_repo.append(tweet)\n",
    "        if counter == 450:\n",
    "            time.sleep(900)\n",
    "            counter = 0\n",
    "    except:\n",
    "        break"
   ]
  },
  {
   "cell_type": "code",
   "execution_count": 116,
   "id": "082a924c-bb73-4e0b-bcef-4ddee91aeadf",
   "metadata": {},
   "outputs": [],
   "source": [
    "files = [i for i in os.listdir(path3) if os.path.isfile(path3+i)]\n",
    "retweets = []\n",
    "\n",
    "\n",
    "for file in files:\n",
    "    tw = json.load(open(path3+file))\n",
    "    if tw[\"retweeted\"]:\n",
    "        retweets.append(tw)"
   ]
  },
  {
   "cell_type": "code",
   "execution_count": 117,
   "id": "15a2ffe1-ce22-4e2d-afe6-9c1df17b627c",
   "metadata": {},
   "outputs": [
    {
     "data": {
      "text/plain": [
       "0"
      ]
     },
     "execution_count": 117,
     "metadata": {},
     "output_type": "execute_result"
    }
   ],
   "source": [
    "len(retweets)"
   ]
  },
  {
   "cell_type": "markdown",
   "id": "94b49539-c472-4002-bfbc-3263431b8e72",
   "metadata": {},
   "source": [
    "# Testing collected tweets"
   ]
  },
  {
   "cell_type": "code",
   "execution_count": 24,
   "id": "07a0d15a-5321-4773-baf8-b5d7ca55a562",
   "metadata": {},
   "outputs": [],
   "source": [
    "Q = []\n",
    "for file in os.listdir(path2):\n",
    "    Q.append(json.load(open(path2+file)))"
   ]
  },
  {
   "cell_type": "code",
   "execution_count": 25,
   "id": "ffd08a43-ab7f-4294-a21f-09ec05c801ba",
   "metadata": {},
   "outputs": [],
   "source": [
    "f1, f2, f3, f4 = [], [], [], []"
   ]
  },
  {
   "cell_type": "code",
   "execution_count": 31,
   "id": "0c8a9d7f-2f20-4a8b-905e-7881bc0b7716",
   "metadata": {},
   "outputs": [
    {
     "data": {
      "text/plain": [
       "220"
      ]
     },
     "execution_count": 31,
     "metadata": {},
     "output_type": "execute_result"
    }
   ],
   "source": [
    "len(Q)"
   ]
  },
  {
   "cell_type": "code",
   "execution_count": 27,
   "id": "eb6145da-6fde-467a-bff4-c0deac2c6044",
   "metadata": {},
   "outputs": [
    {
     "name": "stderr",
     "output_type": "stream",
     "text": [
      "100%|████████████████████████████████████████████████████████████████████████████████████████| 220/220 [00:00<?, ?it/s]\n"
     ]
    }
   ],
   "source": [
    "for tweet in tqdm(Q):\n",
    "    if 'retweeted_status' in tweet.keys():\n",
    "        if 'quoted_status' in tweet['retweeted_status'].keys():\n",
    "            f4.append(tweet)\n",
    "        else:\n",
    "            f2.append(tweet)\n",
    "    elif 'quoted_status' in tweet.keys():\n",
    "        f3.append(tweet)\n",
    "    else:\n",
    "        f1.append(tweet)"
   ]
  },
  {
   "cell_type": "code",
   "execution_count": 28,
   "id": "fa151293-ce42-4ad9-a562-2b8317d211b1",
   "metadata": {},
   "outputs": [
    {
     "name": "stdout",
     "output_type": "stream",
     "text": [
      "76 99 19 26\n"
     ]
    }
   ],
   "source": [
    "print(len(f1), len(f2), len(f3), len(f4))"
   ]
  },
  {
   "cell_type": "code",
   "execution_count": 32,
   "id": "d61f4583-6b3e-4a59-bcec-f3d7148e815b",
   "metadata": {},
   "outputs": [
    {
     "data": {
      "text/plain": [
       "220"
      ]
     },
     "execution_count": 32,
     "metadata": {},
     "output_type": "execute_result"
    }
   ],
   "source": [
    "len(_tweets)"
   ]
  },
  {
   "cell_type": "code",
   "execution_count": null,
   "id": "82153d2e-bd14-42d2-b0ac-c31798b912f2",
   "metadata": {},
   "outputs": [],
   "source": []
  },
  {
   "cell_type": "code",
   "execution_count": 11,
   "id": "298cbe1f-518c-40f4-8c57-43f027958b3d",
   "metadata": {},
   "outputs": [],
   "source": [
    "f1_dict = {}\n",
    "for item in f1:\n",
    "    for key in item.keys():\n",
    "        f1_dict[key] = f1_dict.get(key, 0) + 1\n",
    "f1_set = set(f1_dict.keys())\n",
    "        \n",
    "        \n",
    "f2_dict = {}\n",
    "for item in f2:\n",
    "    for key in item.keys():\n",
    "        f2_dict[key] = f2_dict.get(key, 0) + 1\n",
    "f2_set = set(f2_dict.keys())\n",
    "        \n",
    "        \n",
    "f3_dict = {}\n",
    "for item in f3:\n",
    "    for key in item.keys():\n",
    "        f3_dict[key] = f3_dict.get(key, 0) + 1\n",
    "f3_set = set(f3_dict.keys())\n",
    "        \n",
    "\n",
    "f4_dict = {}\n",
    "for item in f4:\n",
    "    for key in item.keys():\n",
    "        f4_dict[key] = f4_dict.get(key, 0) + 1\n",
    "f4_set = set(f4_dict.keys())"
   ]
  },
  {
   "cell_type": "code",
   "execution_count": 12,
   "id": "90a46ebe-ea0b-4f68-b5e3-0468b904a9ab",
   "metadata": {},
   "outputs": [],
   "source": [
    "key_union = f1_set.union(f2_set, f3_set, f4_set)\n",
    "key_list = list(key_union)"
   ]
  },
  {
   "cell_type": "code",
   "execution_count": 13,
   "id": "2b3aa5bf-2fd3-497e-82bc-9654a9b92f8d",
   "metadata": {},
   "outputs": [],
   "source": [
    "grand_list = {}\n",
    "for i in key_list:\n",
    "    if i in f1_dict.keys():\n",
    "        grand_list[i] = grand_list.get(i, []) + [f1_dict[i]]\n",
    "    else:\n",
    "        grand_list[i] = grand_list.get(i, []) + [0]\n",
    "        \n",
    "    if i in f2_dict.keys():\n",
    "        grand_list[i] = grand_list.get(i, []) + [f2_dict[i]]\n",
    "    else:\n",
    "        grand_list[i] = grand_list.get(i, []) + [0]    \n",
    "        \n",
    "    if i in f3_dict.keys():\n",
    "        grand_list[i] = grand_list.get(i, []) + [f3_dict[i]]\n",
    "    else:\n",
    "        grand_list[i] = grand_list.get(i, []) + [0]   \n",
    "        \n",
    "    if i in f4_dict.keys():\n",
    "        grand_list[i] = grand_list.get(i, []) + [f4_dict[i]]\n",
    "    else:\n",
    "        grand_list[i] = grand_list.get(i, []) + [0]"
   ]
  },
  {
   "cell_type": "code",
   "execution_count": 14,
   "id": "7fc68502-7870-4e31-8c40-25cfbcaed40b",
   "metadata": {},
   "outputs": [
    {
     "name": "stdout",
     "output_type": "stream",
     "text": [
      "29 27 29 29\n"
     ]
    }
   ],
   "source": [
    "print(len(f1_dict.keys()), len(f2_dict.keys()), len(f3_dict.keys()), len(f4_dict.keys()))"
   ]
  },
  {
   "cell_type": "code",
   "execution_count": 15,
   "id": "f7f9944a-ef37-47a0-af83-19e0f996cd34",
   "metadata": {},
   "outputs": [
    {
     "data": {
      "text/plain": [
       "{'favorite_count': [76, 99, 19, 26],\n",
       " 'geo': [76, 99, 19, 26],\n",
       " 'retweeted_status': [0, 99, 0, 26],\n",
       " 'extended_entities': [20, 6, 0, 0],\n",
       " 'contributors': [76, 99, 19, 26],\n",
       " 'quoted_status_id': [2, 0, 19, 26],\n",
       " 'id': [76, 99, 19, 26],\n",
       " 'id_str': [76, 99, 19, 26],\n",
       " 'quoted_status_permalink': [2, 0, 19, 26],\n",
       " 'source': [76, 99, 19, 26],\n",
       " 'in_reply_to_user_id': [76, 99, 19, 26],\n",
       " 'display_text_range': [76, 99, 19, 26],\n",
       " 'place': [76, 99, 19, 26],\n",
       " 'lang': [76, 99, 19, 26],\n",
       " 'truncated': [76, 99, 19, 26],\n",
       " 'quoted_status_id_str': [2, 0, 19, 26],\n",
       " 'retweeted': [76, 99, 19, 26],\n",
       " 'entities': [76, 99, 19, 26],\n",
       " 'in_reply_to_status_id_str': [76, 99, 19, 26],\n",
       " 'favorited': [76, 99, 19, 26],\n",
       " 'coordinates': [76, 99, 19, 26],\n",
       " 'possibly_sensitive': [39, 18, 19, 2],\n",
       " 'created_at': [76, 99, 19, 26],\n",
       " 'full_text': [76, 99, 19, 26],\n",
       " 'in_reply_to_screen_name': [76, 99, 19, 26],\n",
       " 'retweet_count': [76, 99, 19, 26],\n",
       " 'user': [76, 99, 19, 26],\n",
       " 'is_quote_status': [76, 99, 19, 26],\n",
       " 'quoted_status': [0, 0, 19, 0],\n",
       " 'in_reply_to_user_id_str': [76, 99, 19, 26],\n",
       " 'in_reply_to_status_id': [76, 99, 19, 26]}"
      ]
     },
     "execution_count": 15,
     "metadata": {},
     "output_type": "execute_result"
    }
   ],
   "source": [
    "grand_list"
   ]
  },
  {
   "cell_type": "code",
   "execution_count": 16,
   "id": "62dd2b85-3df4-4391-9166-56cb9f0efe13",
   "metadata": {},
   "outputs": [],
   "source": [
    "df = pd.DataFrame.from_dict(grand_list, orient='index')"
   ]
  },
  {
   "cell_type": "code",
   "execution_count": 17,
   "id": "5fa18ad3-5fa3-435f-b0c1-74c6a34df70c",
   "metadata": {},
   "outputs": [
    {
     "data": {
      "text/plain": [
       "<AxesSubplot:>"
      ]
     },
     "execution_count": 17,
     "metadata": {},
     "output_type": "execute_result"
    },
    {
     "data": {
      "image/png": "[encoded data removed]",
      "text/plain": [
       "<Figure size 1728x432 with 1 Axes>"
      ]
     },
     "metadata": {
      "needs_background": "light"
     },
     "output_type": "display_data"
    }
   ],
   "source": [
    "df.plot(kind='bar', figsize=(24,6))"
   ]
  },
  {
   "cell_type": "code",
   "execution_count": 18,
   "id": "dd9fd100-b4fe-4664-beec-289eaaf7c68e",
   "metadata": {},
   "outputs": [],
   "source": [
    "for i in f3:\n",
    "    if not (\"full_text\" in i[\"quoted_status\"]):\n",
    "            print(i)"
   ]
  },
  {
   "cell_type": "code",
   "execution_count": 22,
   "id": "8dd1faea-e9ac-48d7-9eb4-07bf9bd11e4d",
   "metadata": {},
   "outputs": [
    {
     "data": {
      "text/plain": [
       "{'created_at': 'Mon May 20 13:47:01 +0000 2019',\n",
       " 'id': 1130469980447924224,\n",
       " 'id_str': '1130469980447924224',\n",
       " 'full_text': 'RT @TechAtBloomberg: Today at FLAIRS-32 (3:15 PM), NLP Architect @astent will present research about stock return predictions co-authored b…',\n",
       " 'truncated': False,\n",
       " 'display_text_range': [0, 140],\n",
       " 'entities': {'hashtags': [],\n",
       "  'symbols': [],\n",
       "  'user_mentions': [{'screen_name': 'TechAtBloomberg',\n",
       "    'name': 'Tech At Bloomberg',\n",
       "    'id': 2735003034,\n",
       "    'id_str': '2735003034',\n",
       "    'indices': [3, 19]},\n",
       "   {'screen_name': 'astent',\n",
       "    'name': 'Amanda Stent',\n",
       "    'id': 132574639,\n",
       "    'id_str': '132574639',\n",
       "    'indices': [65, 72]}],\n",
       "  'urls': []},\n",
       " 'source': '<a href=\"http://twitter.com/download/iphone\" rel=\"nofollow\">Twitter for iPhone</a>',\n",
       " 'in_reply_to_status_id': None,\n",
       " 'in_reply_to_status_id_str': None,\n",
       " 'in_reply_to_user_id': None,\n",
       " 'in_reply_to_user_id_str': None,\n",
       " 'in_reply_to_screen_name': None,\n",
       " 'user': {'id': 9585432,\n",
       "  'id_str': '9585432',\n",
       "  'name': 'David Rosenberg',\n",
       "  'screen_name': 'drosen',\n",
       "  'location': 'New York City',\n",
       "  'description': 'Machine learning specialist in the Office of the CTO at Bloomberg; Adjunct Assoc Prof at NYU Center for Data Science; views expressed here are my own',\n",
       "  'url': 'https://t.co/RCfOKSMIeA',\n",
       "  'entities': {'url': {'urls': [{'url': 'https://t.co/RCfOKSMIeA',\n",
       "      'expanded_url': 'https://www.linkedin.com/pub/david-rosenberg/4/241/598',\n",
       "      'display_url': 'linkedin.com/pub/david-rose…',\n",
       "      'indices': [0, 23]}]},\n",
       "   'description': {'urls': []}},\n",
       "  'protected': False,\n",
       "  'followers_count': 940,\n",
       "  'friends_count': 431,\n",
       "  'listed_count': 22,\n",
       "  'created_at': 'Sun Oct 21 21:06:31 +0000 2007',\n",
       "  'favourites_count': 654,\n",
       "  'utc_offset': None,\n",
       "  'time_zone': None,\n",
       "  'geo_enabled': True,\n",
       "  'verified': False,\n",
       "  'statuses_count': 277,\n",
       "  'lang': None,\n",
       "  'contributors_enabled': False,\n",
       "  'is_translator': False,\n",
       "  'is_translation_enabled': False,\n",
       "  'profile_background_color': 'C0DEED',\n",
       "  'profile_background_image_url': 'http://abs.twimg.com/images/themes/theme1/bg.png',\n",
       "  'profile_background_image_url_https': 'https://abs.twimg.com/images/themes/theme1/bg.png',\n",
       "  'profile_background_tile': False,\n",
       "  'profile_image_url': 'http://pbs.twimg.com/profile_images/783846343815077888/k-FPWdre_normal.jpg',\n",
       "  'profile_image_url_https': 'https://pbs.twimg.com/profile_images/783846343815077888/k-FPWdre_normal.jpg',\n",
       "  'profile_link_color': '1DA1F2',\n",
       "  'profile_sidebar_border_color': 'C0DEED',\n",
       "  'profile_sidebar_fill_color': 'DDEEF6',\n",
       "  'profile_text_color': '333333',\n",
       "  'profile_use_background_image': True,\n",
       "  'has_extended_profile': False,\n",
       "  'default_profile': True,\n",
       "  'default_profile_image': False,\n",
       "  'following': True,\n",
       "  'follow_request_sent': False,\n",
       "  'notifications': False,\n",
       "  'translator_type': 'none',\n",
       "  'withheld_in_countries': []},\n",
       " 'geo': None,\n",
       " 'coordinates': None,\n",
       " 'place': None,\n",
       " 'contributors': None,\n",
       " 'retweeted_status': {'created_at': 'Mon May 20 13:45:06 +0000 2019',\n",
       "  'id': 1130469498056781825,\n",
       "  'id_str': '1130469498056781825',\n",
       "  'full_text': 'Today at FLAIRS-32 (3:15 PM), NLP Architect @astent will present research about stock return predictions co-authored by former interns Ran Zhao &amp; Yuntian Deng, CTO Office colleagues @mdredze &amp; @drosen + our Head of Quant Research Solutions, @ArunVermaQuant https://t.co/ntQ8SPXdCn https://t.co/muuvWmgVAZ',\n",
       "  'truncated': False,\n",
       "  'display_text_range': [0, 288],\n",
       "  'entities': {'hashtags': [],\n",
       "   'symbols': [],\n",
       "   'user_mentions': [{'screen_name': 'astent',\n",
       "     'name': 'Amanda Stent',\n",
       "     'id': 132574639,\n",
       "     'id_str': '132574639',\n",
       "     'indices': [44, 51]},\n",
       "    {'screen_name': 'mdredze',\n",
       "     'name': 'Mark Dredze',\n",
       "     'id': 757339410,\n",
       "     'id_str': '757339410',\n",
       "     'indices': [186, 194]},\n",
       "    {'screen_name': 'drosen',\n",
       "     'name': 'David Rosenberg',\n",
       "     'id': 9585432,\n",
       "     'id_str': '9585432',\n",
       "     'indices': [201, 208]},\n",
       "    {'screen_name': 'ArunVermaQuant',\n",
       "     'name': 'Arun Verma',\n",
       "     'id': 863571493980176384,\n",
       "     'id_str': '863571493980176384',\n",
       "     'indices': [249, 264]}],\n",
       "   'urls': [{'url': 'https://t.co/ntQ8SPXdCn',\n",
       "     'expanded_url': 'https://bloom.bg/2HtGedd',\n",
       "     'display_url': 'bloom.bg/2HtGedd',\n",
       "     'indices': [265, 288]}],\n",
       "   'media': [{'id': 1130469495670267904,\n",
       "     'id_str': '1130469495670267904',\n",
       "     'indices': [289, 312],\n",
       "     'media_url': 'http://pbs.twimg.com/media/D7A8BE7XYAAADYb.jpg',\n",
       "     'media_url_https': 'https://pbs.twimg.com/media/D7A8BE7XYAAADYb.jpg',\n",
       "     'url': 'https://t.co/muuvWmgVAZ',\n",
       "     'display_url': 'pic.twitter.com/muuvWmgVAZ',\n",
       "     'expanded_url': 'https://twitter.com/TechAtBloomberg/status/1130469498056781825/photo/1',\n",
       "     'type': 'photo',\n",
       "     'sizes': {'thumb': {'w': 150, 'h': 150, 'resize': 'crop'},\n",
       "      'large': {'w': 625, 'h': 419, 'resize': 'fit'},\n",
       "      'medium': {'w': 625, 'h': 419, 'resize': 'fit'},\n",
       "      'small': {'w': 625, 'h': 419, 'resize': 'fit'}}}]},\n",
       "  'extended_entities': {'media': [{'id': 1130469495670267904,\n",
       "     'id_str': '1130469495670267904',\n",
       "     'indices': [289, 312],\n",
       "     'media_url': 'http://pbs.twimg.com/media/D7A8BE7XYAAADYb.jpg',\n",
       "     'media_url_https': 'https://pbs.twimg.com/media/D7A8BE7XYAAADYb.jpg',\n",
       "     'url': 'https://t.co/muuvWmgVAZ',\n",
       "     'display_url': 'pic.twitter.com/muuvWmgVAZ',\n",
       "     'expanded_url': 'https://twitter.com/TechAtBloomberg/status/1130469498056781825/photo/1',\n",
       "     'type': 'photo',\n",
       "     'sizes': {'thumb': {'w': 150, 'h': 150, 'resize': 'crop'},\n",
       "      'large': {'w': 625, 'h': 419, 'resize': 'fit'},\n",
       "      'medium': {'w': 625, 'h': 419, 'resize': 'fit'},\n",
       "      'small': {'w': 625, 'h': 419, 'resize': 'fit'}}}]},\n",
       "  'source': '<a href=\"https://www.spredfast.com\" rel=\"nofollow\">Khoros Publishing App</a>',\n",
       "  'in_reply_to_status_id': None,\n",
       "  'in_reply_to_status_id_str': None,\n",
       "  'in_reply_to_user_id': None,\n",
       "  'in_reply_to_user_id_str': None,\n",
       "  'in_reply_to_screen_name': None,\n",
       "  'user': {'id': 2735003034,\n",
       "   'id_str': '2735003034',\n",
       "   'name': 'Tech At Bloomberg',\n",
       "   'screen_name': 'TechAtBloomberg',\n",
       "   'location': '',\n",
       "   'description': 'We are engineers and designers, builders and makers delivering unrivaled products and services every day. We have a lot to share and a lot to learn. Join us.',\n",
       "   'url': 'https://t.co/yQTMn1DhKm',\n",
       "   'entities': {'url': {'urls': [{'url': 'https://t.co/yQTMn1DhKm',\n",
       "       'expanded_url': 'http://techatbloomberg.com',\n",
       "       'display_url': 'techatbloomberg.com',\n",
       "       'indices': [0, 23]}]},\n",
       "    'description': {'urls': []}},\n",
       "   'protected': False,\n",
       "   'followers_count': 14884,\n",
       "   'friends_count': 303,\n",
       "   'listed_count': 444,\n",
       "   'created_at': 'Fri Aug 15 17:34:09 +0000 2014',\n",
       "   'favourites_count': 3455,\n",
       "   'utc_offset': None,\n",
       "   'time_zone': None,\n",
       "   'geo_enabled': True,\n",
       "   'verified': True,\n",
       "   'statuses_count': 4688,\n",
       "   'lang': None,\n",
       "   'contributors_enabled': False,\n",
       "   'is_translator': False,\n",
       "   'is_translation_enabled': False,\n",
       "   'profile_background_color': 'C0DEED',\n",
       "   'profile_background_image_url': 'http://abs.twimg.com/images/themes/theme1/bg.png',\n",
       "   'profile_background_image_url_https': 'https://abs.twimg.com/images/themes/theme1/bg.png',\n",
       "   'profile_background_tile': False,\n",
       "   'profile_image_url': 'http://pbs.twimg.com/profile_images/824275307339411457/PA6kOz6w_normal.jpg',\n",
       "   'profile_image_url_https': 'https://pbs.twimg.com/profile_images/824275307339411457/PA6kOz6w_normal.jpg',\n",
       "   'profile_banner_url': 'https://pbs.twimg.com/profile_banners/2735003034/1485357541',\n",
       "   'profile_link_color': '1DA1F2',\n",
       "   'profile_sidebar_border_color': 'C0DEED',\n",
       "   'profile_sidebar_fill_color': 'DDEEF6',\n",
       "   'profile_text_color': '333333',\n",
       "   'profile_use_background_image': True,\n",
       "   'has_extended_profile': False,\n",
       "   'default_profile': True,\n",
       "   'default_profile_image': False,\n",
       "   'following': False,\n",
       "   'follow_request_sent': False,\n",
       "   'notifications': False,\n",
       "   'translator_type': 'none',\n",
       "   'withheld_in_countries': []},\n",
       "  'geo': None,\n",
       "  'coordinates': None,\n",
       "  'place': None,\n",
       "  'contributors': None,\n",
       "  'is_quote_status': False,\n",
       "  'retweet_count': 6,\n",
       "  'favorite_count': 13,\n",
       "  'favorited': False,\n",
       "  'retweeted': False,\n",
       "  'possibly_sensitive': False,\n",
       "  'lang': 'en'},\n",
       " 'is_quote_status': False,\n",
       " 'retweet_count': 6,\n",
       " 'favorite_count': 0,\n",
       " 'favorited': False,\n",
       " 'retweeted': False,\n",
       " 'lang': 'en'}"
      ]
     },
     "execution_count": 22,
     "metadata": {},
     "output_type": "execute_result"
    }
   ],
   "source": [
    "f2[5]"
   ]
  },
  {
   "cell_type": "code",
   "execution_count": 20,
   "id": "e8c4811d-66d2-44ac-ae81-11a7f134c5d5",
   "metadata": {},
   "outputs": [
    {
     "name": "stderr",
     "output_type": "stream",
     "text": [
      "100%|████████████████████████████████████████████████████████████████████████████| 220/220 [00:00<00:00, 440031.89it/s]\n"
     ]
    }
   ],
   "source": [
    "geos = []\n",
    "for t in tqdm(Q):\n",
    "    if t[\"place\"] is not None:\n",
    "        geos.append(t)\n",
    "    elif t['coordinates'] is not None:\n",
    "        geos.append(t)"
   ]
  },
  {
   "cell_type": "code",
   "execution_count": 21,
   "id": "156932f1-1130-426e-a6ea-6c201e1542e6",
   "metadata": {},
   "outputs": [
    {
     "data": {
      "text/plain": [
       "[]"
      ]
     },
     "execution_count": 21,
     "metadata": {},
     "output_type": "execute_result"
    }
   ],
   "source": [
    "geos"
   ]
  },
  {
   "cell_type": "code",
   "execution_count": null,
   "id": "1512f2d4-363b-4963-91ee-e714f791d48e",
   "metadata": {},
   "outputs": [],
   "source": []
  }
 ],
 "metadata": {
  "kernelspec": {
   "display_name": "Python 3 (ipykernel)",
   "language": "python",
   "name": "python3"
  },
  "language_info": {
   "codemirror_mode": {
    "name": "ipython",
    "version": 3
   },
   "file_extension": ".py",
   "mimetype": "text/x-python",
   "name": "python",
   "nbconvert_exporter": "python",
   "pygments_lexer": "ipython3",
   "version": "3.9.7"
  }
 },
 "nbformat": 4,
 "nbformat_minor": 5
}
