{
 "cells": [
  {
   "cell_type": "code",
   "execution_count": 1,
   "metadata": {},
   "outputs": [],
   "source": [
    "from twifex import *"
   ]
  },
  {
   "cell_type": "code",
   "execution_count": 2,
   "metadata": {},
   "outputs": [],
   "source": [
    "twix = Twix()"
   ]
  },
  {
   "cell_type": "code",
   "execution_count": 3,
   "metadata": {},
   "outputs": [],
   "source": [
    "sample = twix.single_tweet(\"./tests/test_case/28.json\")"
   ]
  },
  {
   "cell_type": "code",
   "execution_count": 4,
   "metadata": {},
   "outputs": [
    {
     "output_type": "execute_result",
     "data": {
      "text/plain": [
       "[{'screen_name': 'realDonaldTrump',\n",
       "  'name': 'Donald J. Trump',\n",
       "  'id': 25073877,\n",
       "  'id_str': '25073877',\n",
       "  'indices': [0, 16]},\n",
       " {'screen_name': 'LouDobbs',\n",
       "  'name': 'Lou Dobbs',\n",
       "  'id': 26487169,\n",
       "  'id_str': '26487169',\n",
       "  'indices': [17, 26]}]"
      ]
     },
     "metadata": {},
     "execution_count": 4
    }
   ],
   "source": [
    "sample.exclamation_mark_count()\n",
    "sample.get_text()\n",
    "sample.get_mentions()"
   ]
  },
  {
   "cell_type": "code",
   "execution_count": 5,
   "metadata": {},
   "outputs": [],
   "source": [
    "from tqdm import tqdm"
   ]
  },
  {
   "cell_type": "code",
   "execution_count": 6,
   "metadata": {},
   "outputs": [
    {
     "output_type": "stream",
     "name": "stderr",
     "text": [
      "100%|██████████| 10/10 [00:00<00:00, 1665.33it/s]\n"
     ]
    }
   ],
   "source": [
    "############ Tests ###########\n",
    "\n",
    "tweets = []\n",
    "for file in tqdm([i for i in os.listdir(\"./tests/data/\") if os.path.isfile(\"./tests/data/\"+i)]):\n",
    "    tweets.append(twix.single_tweet(\"./tests/data/\"+file))\n",
    "\n",
    "\n",
    "#\n",
    "# g = temporalFeatures(tweets).tweets_in_periods()\n",
    "# s = twix.collective_tweets(tweets).mass_based_features().time_dependent_features().time_dependent_location_independent_mass_features().tweet_features().\n",
    "# print(\"#\")"
   ]
  },
  {
   "cell_type": "code",
   "execution_count": 7,
   "metadata": {},
   "outputs": [],
   "source": [
    "a = twix.collective_tweets(tweets)"
   ]
  },
  {
   "cell_type": "code",
   "execution_count": 8,
   "metadata": {},
   "outputs": [],
   "source": [
    "b = a.mass_based_features()"
   ]
  },
  {
   "cell_type": "code",
   "execution_count": 9,
   "metadata": {},
   "outputs": [],
   "source": [
    "c = b.time_dependent_features()"
   ]
  },
  {
   "cell_type": "code",
   "execution_count": 10,
   "metadata": {},
   "outputs": [],
   "source": [
    "d = c.time_dependent_location_dependent_mass_features()"
   ]
  },
  {
   "cell_type": "code",
   "execution_count": 11,
   "metadata": {},
   "outputs": [],
   "source": [
    "e = d.tweet_features()"
   ]
  },
  {
   "cell_type": "code",
   "execution_count": 12,
   "metadata": {},
   "outputs": [],
   "source": [
    "f = e.countries_with_tweets()"
   ]
  },
  {
   "cell_type": "code",
   "execution_count": null,
   "metadata": {},
   "outputs": [],
   "source": []
  },
  {
   "cell_type": "code",
   "execution_count": 13,
   "metadata": {},
   "outputs": [],
   "source": [
    "g = a.topology_based_features()"
   ]
  },
  {
   "cell_type": "code",
   "execution_count": 14,
   "metadata": {},
   "outputs": [],
   "source": [
    "h = g.time_independent_features()"
   ]
  },
  {
   "cell_type": "code",
   "execution_count": 15,
   "metadata": {},
   "outputs": [],
   "source": [
    "i = h.time_independent_location_dependent_network_features()"
   ]
  },
  {
   "cell_type": "code",
   "execution_count": 16,
   "metadata": {},
   "outputs": [],
   "source": [
    "ii = retweetNetwork(a)"
   ]
  },
  {
   "cell_type": "code",
   "execution_count": 17,
   "metadata": {},
   "outputs": [],
   "source": [
    "u = c.time_dependent_location_independent_mass_features()"
   ]
  },
  {
   "cell_type": "code",
   "execution_count": 18,
   "metadata": {},
   "outputs": [],
   "source": [
    "v = u.tweet_features()"
   ]
  },
  {
   "cell_type": "code",
   "execution_count": 19,
   "metadata": {},
   "outputs": [],
   "source": [
    "nodes = v.tweets_in_periods()"
   ]
  },
  {
   "cell_type": "code",
   "execution_count": 20,
   "metadata": {},
   "outputs": [
    {
     "output_type": "execute_result",
     "data": {
      "text/plain": [
       "{datetime.datetime(2018, 9, 12, 12, 13, 1): {'average': 5.9687939011260465,\n",
       "  'max': 7.166666666666667,\n",
       "  'min': 4.282608695652174,\n",
       "  'stdev': 0.902957418719165,\n",
       "  'median': 5.78888888888889}}"
      ]
     },
     "metadata": {},
     "execution_count": 20
    }
   ],
   "source": [
    "v.tweet_complexity_change(nodes)"
   ]
  },
  {
   "cell_type": "code",
   "execution_count": 21,
   "metadata": {},
   "outputs": [
    {
     "output_type": "execute_result",
     "data": {
      "text/plain": [
       "dict"
      ]
     },
     "metadata": {},
     "execution_count": 21
    }
   ],
   "source": [
    "type(a.tweets)"
   ]
  },
  {
   "cell_type": "code",
   "execution_count": 22,
   "metadata": {},
   "outputs": [
    {
     "output_type": "error",
     "ename": "KeyError",
     "evalue": "1040097219683254272",
     "traceback": [
      "\u001b[1;31m---------------------------------------------------------------------------\u001b[0m",
      "\u001b[1;31mKeyError\u001b[0m                                  Traceback (most recent call last)",
      "\u001b[1;32m<ipython-input-22-2132858b56d1>\u001b[0m in \u001b[0;36m<module>\u001b[1;34m\u001b[0m\n\u001b[1;32m----> 1\u001b[1;33m \u001b[0ma\u001b[0m\u001b[1;33m.\u001b[0m\u001b[0mtweets\u001b[0m\u001b[1;33m[\u001b[0m\u001b[1;36m1040097219683254272\u001b[0m\u001b[1;33m]\u001b[0m\u001b[1;33m\u001b[0m\u001b[1;33m\u001b[0m\u001b[0m\n\u001b[0m",
      "\u001b[1;31mKeyError\u001b[0m: 1040097219683254272"
     ]
    }
   ],
   "source": [
    "a.tweets[1040097219683254272]"
   ]
  },
  {
   "cell_type": "code",
   "execution_count": null,
   "metadata": {},
   "outputs": [],
   "source": [
    "zz = tweetTopologyFeatures(a.tweets)"
   ]
  },
  {
   "cell_type": "code",
   "execution_count": null,
   "metadata": {},
   "outputs": [],
   "source": [
    "bb = zz.retweet_network()"
   ]
  },
  {
   "cell_type": "code",
   "execution_count": 25,
   "metadata": {},
   "outputs": [],
   "source": [
    "cc = bb.building_network()"
   ]
  },
  {
   "cell_type": "code",
   "execution_count": 26,
   "metadata": {},
   "outputs": [
    {
     "output_type": "execute_result",
     "data": {
      "text/plain": [
       "<networkx.classes.digraph.DiGraph at 0x1d43a3673c8>"
      ]
     },
     "metadata": {},
     "execution_count": 26
    }
   ],
   "source": [
    "bb.network"
   ]
  },
  {
   "cell_type": "code",
   "execution_count": 27,
   "metadata": {},
   "outputs": [],
   "source": [
    "import matplotlib.pyplot as plt"
   ]
  },
  {
   "cell_type": "code",
   "execution_count": 28,
   "metadata": {},
   "outputs": [
    {
     "output_type": "display_data",
     "data": {
      "text/plain": "<Figure size 432x288 with 1 Axes>",
      "image/svg+xml": "<?xml version=\"1.0\" encoding=\"utf-8\" standalone=\"no\"?>\r\n<!DOCTYPE svg PUBLIC \"-//W3C//DTD SVG 1.1//EN\"\r\n  \"http://www.w3.org/Graphics/SVG/1.1/DTD/svg11.dtd\">\r\n<!-- Created with matplotlib (https://matplotlib.org/) -->\r\n<svg height=\"302.4pt\" version=\"1.1\" viewBox=\"0 0 446.4 302.4\" width=\"446.4pt\" xmlns=\"http://www.w3.org/2000/svg\" xmlns:xlink=\"http://www.w3.org/1999/xlink\">\r\n <metadata>\r\n  <rdf:RDF xmlns:cc=\"http://creativecommons.org/ns#\" xmlns:dc=\"http://purl.org/dc/elements/1.1/\" xmlns:rdf=\"http://www.w3.org/1999/02/22-rdf-syntax-ns#\">\r\n   <cc:Work>\r\n    <dc:type rdf:resource=\"http://purl.org/dc/dcmitype/StillImage\"/>\r\n    <dc:date>2020-12-18T12:43:05.132608</dc:date>\r\n    <dc:format>image/svg+xml</dc:format>\r\n    <dc:creator>\r\n     <cc:Agent>\r\n      <dc:title>Matplotlib v3.3.3, https://matplotlib.org/</dc:title>\r\n     </cc:Agent>\r\n    </dc:creator>\r\n   </cc:Work>\r\n  </rdf:RDF>\r\n </metadata>\r\n <defs>\r\n  <style type=\"text/css\">*{stroke-linecap:butt;stroke-linejoin:round;}</style>\r\n </defs>\r\n <g id=\"figure_1\">\r\n  <g id=\"patch_1\">\r\n   <path d=\"M 0 302.4 \r\nL 446.4 302.4 \r\nL 446.4 0 \r\nL 0 0 \r\nz\r\n\" style=\"fill:#ffffff;\"/>\r\n  </g>\r\n  <g id=\"axes_1\">\r\n   <g id=\"patch_2\">\r\n    <path clip-path=\"url(#pdae50be403)\" d=\"M 205.141334 94.82563 \r\nQ 273.040997 74.229256 339.870766 53.957419 \r\n\" style=\"fill:none;stroke:#000000;stroke-linecap:round;\"/>\r\n    <path clip-path=\"url(#pdae50be403)\" d=\"M 335.462443 53.204632 \r\nL 339.870766 53.957419 \r\nL 336.623542 57.032405 \r\nL 335.462443 53.204632 \r\nz\r\n\" style=\"stroke:#000000;stroke-linecap:round;\"/>\r\n   </g>\r\n   <g id=\"patch_3\">\r\n    <path clip-path=\"url(#pdae50be403)\" d=\"M 188.561061 99.856455 \r\nQ 120.766929 120.4326 54.04264 140.684038 \r\n\" style=\"fill:none;stroke:#000000;stroke-linecap:round;\"/>\r\n    <path clip-path=\"url(#pdae50be403)\" d=\"M 58.451083 141.436123 \r\nL 54.04264 140.684038 \r\nL 57.289374 137.608535 \r\nL 58.451083 141.436123 \r\nz\r\n\" style=\"stroke:#000000;stroke-linecap:round;\"/>\r\n   </g>\r\n   <g id=\"patch_4\">\r\n    <path clip-path=\"url(#pdae50be403)\" d=\"M 382.282528 149.220062 \r\nQ 382.408145 149.120996 381.655878 149.714259 \r\n\" style=\"fill:none;stroke:#000000;stroke-linecap:round;\"/>\r\n    <path clip-path=\"url(#pdae50be403)\" d=\"M 377.276588 150.620802 \r\nL 381.655878 149.714259 \r\nL 379.753539 153.761617 \r\nL 377.276588 150.620802 \r\nz\r\n\" style=\"stroke:#000000;stroke-linecap:round;\"/>\r\n   </g>\r\n   <g id=\"patch_5\">\r\n    <path clip-path=\"url(#pdae50be403)\" d=\"M 230.592922 242.062479 \r\nQ 229.658969 241.440541 229.655598 241.438295 \r\n\" style=\"fill:none;stroke:#000000;stroke-linecap:round;\"/>\r\n    <path clip-path=\"url(#pdae50be403)\" d=\"M 231.876404 245.32005 \r\nL 229.655598 241.438295 \r\nL 234.093485 241.990704 \r\nL 231.876404 245.32005 \r\nz\r\n\" style=\"stroke:#000000;stroke-linecap:round;\"/>\r\n   </g>\r\n   <g id=\"patch_6\">\r\n    <path clip-path=\"url(#pdae50be403)\" d=\"M 128.271974 257.785148 \r\nQ 128.620251 260.890482 128.843917 262.884748 \r\n\" style=\"fill:none;stroke:#000000;stroke-linecap:round;\"/>\r\n    <path clip-path=\"url(#pdae50be403)\" d=\"M 130.385633 258.686759 \r\nL 128.843917 262.884748 \r\nL 126.410555 259.132582 \r\nL 130.385633 258.686759 \r\nz\r\n\" style=\"stroke:#000000;stroke-linecap:round;\"/>\r\n   </g>\r\n   <g id=\"patch_7\">\r\n    <path clip-path=\"url(#pdae50be403)\" d=\"M 354.419971 119.089267 \r\nQ 373.922612 113.171366 392.35539 107.578104 \r\n\" style=\"fill:none;stroke:#000000;stroke-linecap:round;\"/>\r\n    <path clip-path=\"url(#pdae50be403)\" d=\"M 387.946994 106.825743 \r\nL 392.35539 107.578104 \r\nL 389.108463 110.653404 \r\nL 387.946994 106.825743 \r\nz\r\n\" style=\"stroke:#000000;stroke-linecap:round;\"/>\r\n   </g>\r\n   <g id=\"PathCollection_1\">\r\n    <defs>\r\n     <path d=\"M 0 8.660254 \r\nC 2.296726 8.660254 4.499694 7.747755 6.123724 6.123724 \r\nC 7.747755 4.499694 8.660254 2.296726 8.660254 0 \r\nC 8.660254 -2.296726 7.747755 -4.499694 6.123724 -6.123724 \r\nC 4.499694 -7.747755 2.296726 -8.660254 0 -8.660254 \r\nC -2.296726 -8.660254 -4.499694 -7.747755 -6.123724 -6.123724 \r\nC -7.747755 -4.499694 -8.660254 -2.296726 -8.660254 0 \r\nC -8.660254 2.296726 -7.747755 4.499694 -6.123724 6.123724 \r\nC -4.499694 7.747755 -2.296726 8.660254 0 8.660254 \r\nz\r\n\" id=\"m8cc3ee3fc2\" style=\"stroke:#1f78b4;\"/>\r\n    </defs>\r\n    <g clip-path=\"url(#pdae50be403)\">\r\n     <use style=\"fill:#1f78b4;stroke:#1f78b4;\" x=\"279.993268\" xlink:href=\"#m8cc3ee3fc2\" y=\"20.290909\"/>\r\n     <use style=\"fill:#1f78b4;stroke:#1f78b4;\" x=\"196.849933\" xlink:href=\"#m8cc3ee3fc2\" y=\"97.340706\"/>\r\n     <use style=\"fill:#1f78b4;stroke:#1f78b4;\" x=\"349.229419\" xlink:href=\"#m8cc3ee3fc2\" y=\"51.118608\"/>\r\n     <use style=\"fill:#1f78b4;stroke:#1f78b4;\" x=\"44.687603\" xlink:href=\"#m8cc3ee3fc2\" y=\"143.523378\"/>\r\n     <use style=\"fill:#1f78b4;stroke:#1f78b4;\" x=\"375.484348\" xlink:href=\"#m8cc3ee3fc2\" y=\"154.581332\"/>\r\n     <use style=\"fill:#1f78b4;stroke:#1f78b4;\" x=\"389.330864\" xlink:href=\"#m8cc3ee3fc2\" y=\"143.66151\"/>\r\n     <use style=\"fill:#1f78b4;stroke:#1f78b4;\" x=\"237.800327\" xlink:href=\"#m8cc3ee3fc2\" y=\"246.862041\"/>\r\n     <use style=\"fill:#1f78b4;stroke:#1f78b4;\" x=\"221.517076\" xlink:href=\"#m8cc3ee3fc2\" y=\"236.018684\"/>\r\n     <use style=\"fill:#1f78b4;stroke:#1f78b4;\" x=\"185.465767\" xlink:href=\"#m8cc3ee3fc2\" y=\"22.943168\"/>\r\n     <use style=\"fill:#1f78b4;stroke:#1f78b4;\" x=\"127.306859\" xlink:href=\"#m8cc3ee3fc2\" y=\"249.179919\"/>\r\n     <use style=\"fill:#1f78b4;stroke:#1f78b4;\" x=\"128.968528\" xlink:href=\"#m8cc3ee3fc2\" y=\"263.995816\"/>\r\n     <use style=\"fill:#1f78b4;stroke:#1f78b4;\" x=\"200.813379\" xlink:href=\"#m8cc3ee3fc2\" y=\"282.109091\"/>\r\n     <use style=\"fill:#1f78b4;stroke:#1f78b4;\" x=\"346.132517\" xlink:href=\"#m8cc3ee3fc2\" y=\"121.604021\"/>\r\n     <use style=\"fill:#1f78b4;stroke:#1f78b4;\" x=\"401.712397\" xlink:href=\"#m8cc3ee3fc2\" y=\"104.738805\"/>\r\n     <use style=\"fill:#1f78b4;stroke:#1f78b4;\" x=\"91.579396\" xlink:href=\"#m8cc3ee3fc2\" y=\"74.386267\"/>\r\n    </g>\r\n   </g>\r\n  </g>\r\n </g>\r\n <defs>\r\n  <clipPath id=\"pdae50be403\">\r\n   <rect height=\"288\" width=\"432\" x=\"7.2\" y=\"7.2\"/>\r\n  </clipPath>\r\n </defs>\r\n</svg>\r\n",
      "image/png": "[encoded data removed]"
     },
     "metadata": {}
    }
   ],
   "source": [
    "nx.draw(bb.network)"
   ]
  },
  {
   "cell_type": "code",
   "execution_count": 29,
   "metadata": {},
   "outputs": [],
   "source": [
    "bb.sentence_count_layer()"
   ]
  },
  {
   "cell_type": "code",
   "execution_count": 30,
   "metadata": {},
   "outputs": [],
   "source": [
    "bb.sentence_count_layer()"
   ]
  },
  {
   "cell_type": "code",
   "execution_count": 31,
   "metadata": {},
   "outputs": [
    {
     "output_type": "execute_result",
     "data": {
      "text/plain": [
       "NodeView((1039857737973354498, 1040610473895489536, 1041037185544273920, 1041037247980732418, 1039878902099992579, 1039882877108797440, 1039888633975787521, 1039889424929239043, 1039912170924924928, 1039784395052216320, 1040244271230672896, 1039849359637209089, 1039575538204123137, 1039855002376921088, 1040244705424891906))"
      ]
     },
     "metadata": {},
     "execution_count": 31
    }
   ],
   "source": [
    "bb.network.nodes"
   ]
  },
  {
   "cell_type": "code",
   "execution_count": 32,
   "metadata": {},
   "outputs": [
    {
     "output_type": "execute_result",
     "data": {
      "text/plain": [
       "{'character_count': 4}"
      ]
     },
     "metadata": {},
     "execution_count": 32
    }
   ],
   "source": [
    "bb.network.nodes[1039575538204123137]"
   ]
  },
  {
   "cell_type": "code",
   "execution_count": null,
   "metadata": {},
   "outputs": [],
   "source": []
  }
 ],
 "metadata": {
  "kernelspec": {
   "name": "python3",
   "display_name": "Python 3.6.12 64-bit ('twifex': conda)",
   "metadata": {
    "interpreter": {
     "hash": "eeb568aa7dfface375e39c371e1050f91a3c0e6f35177b18d15a2dfa017ec7ae"
    }
   }
  }
 },
 "nbformat": 4,
 "nbformat_minor": 4
}