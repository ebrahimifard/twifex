{
 "cells": [
  {
   "cell_type": "code",
   "execution_count": 1,
   "id": "852d50fd-c949-40bb-bf6d-8923f5203fdb",
   "metadata": {},
   "outputs": [],
   "source": [
    "from twifex import *\n",
    "import os\n",
    "from tqdm import tqdm"
   ]
  },
  {
   "cell_type": "code",
   "execution_count": 2,
   "id": "e1006b29-820b-4b2e-96e7-8820f00d64ec",
   "metadata": {},
   "outputs": [],
   "source": [
    "twix = Twix()"
   ]
  },
  {
   "cell_type": "code",
   "execution_count": 3,
   "id": "a01ddea7-a188-418c-b215-158f8f49d53c",
   "metadata": {},
   "outputs": [],
   "source": [
    "# os.listdir(\"./tests/test_case\")"
   ]
  },
  {
   "cell_type": "code",
   "execution_count": 4,
   "id": "39d3ec14-423a-4ce2-bf23-506667f368ca",
   "metadata": {},
   "outputs": [],
   "source": [
    "sample = twix.single_tweet(\"./tests/test_case/10000.json\")"
   ]
  },
  {
   "cell_type": "code",
   "execution_count": 5,
   "id": "1cc7fade-c6f4-4cc0-acd9-d63241f21e36",
   "metadata": {},
   "outputs": [
    {
     "data": {
      "text/plain": [
       "<twifex.singleTweet at 0x14ccc15aac0>"
      ]
     },
     "execution_count": 5,
     "metadata": {},
     "output_type": "execute_result"
    }
   ],
   "source": [
    "sample"
   ]
  },
  {
   "cell_type": "code",
   "execution_count": 6,
   "id": "bd0b02f5-32f9-47c9-aa6c-fc702e965ef8",
   "metadata": {},
   "outputs": [
    {
     "name": "stderr",
     "output_type": "stream",
     "text": [
      "100%|█████████████████████████████████████████████████████████████████████████████████| 22/22 [00:00<00:00, 982.19it/s]\n"
     ]
    }
   ],
   "source": [
    "tests = []\n",
    "for file in tqdm([i for i in os.listdir(\"./tests/new_tweets/\") if os.path.isfile(\"./tests/new_tweets/\"+i)]):\n",
    "    tests.append(twix.single_tweet(\"./tests/new_tweets/\"+file))\n",
    "    "
   ]
  },
  {
   "cell_type": "code",
   "execution_count": 19,
   "id": "d59db142-a7a6-4992-bba8-d24e730ac3c5",
   "metadata": {},
   "outputs": [],
   "source": [
    "u = twix.collective_tweets(tests).mass_based_features().time_dependent_features().time_dependent_location_independent_mass_features().tweet_features()"
   ]
  },
  {
   "cell_type": "code",
   "execution_count": 20,
   "id": "44f288e7-fe00-410a-b0ca-566976310a31",
   "metadata": {},
   "outputs": [],
   "source": [
    "temporal = u.tweets_in_periods()"
   ]
  },
  {
   "cell_type": "code",
   "execution_count": 21,
   "id": "cd794d78-d231-41a7-b30a-a4ead668f283",
   "metadata": {},
   "outputs": [
    {
     "data": {
      "text/plain": [
       "{datetime.datetime(2018, 9, 12, 12, 13, 1): 10}"
      ]
     },
     "execution_count": 21,
     "metadata": {},
     "output_type": "execute_result"
    }
   ],
   "source": [
    "u.tweet_count_change(temporal)"
   ]
  }
 ],
 "metadata": {
  "kernelspec": {
   "display_name": "Python 3 (ipykernel)",
   "language": "python",
   "name": "python3"
  },
  "language_info": {
   "codemirror_mode": {
    "name": "ipython",
    "version": 3
   },
   "file_extension": ".py",
   "mimetype": "text/x-python",
   "name": "python",
   "nbconvert_exporter": "python",
   "pygments_lexer": "ipython3",
   "version": "3.9.7"
  }
 },
 "nbformat": 4,
 "nbformat_minor": 5
}
